{
 "cells": [
  {
   "cell_type": "markdown",
   "id": "e0ef08ad",
   "metadata": {},
   "source": [
    "# 🧩 Notebook 03: Histograms, Density, and Heatmaps in Plotly"
   ]
  },
  {
   "cell_type": "code",
   "execution_count": 1,
   "id": "f522c1fb",
   "metadata": {},
   "outputs": [
    {
     "name": "stdout",
     "output_type": "stream",
     "text": [
      "✅ Plotly Project Utils Loaded\n"
     ]
    }
   ],
   "source": [
    "# 📦 Setup & Imports\n",
    "import pandas as pd\n",
    "import sys\n",
    "from pathlib import Path\n",
    "import plotly.io as pio\n",
    "\n",
    "# ✅ Setup path to use utils\n",
    "PROJECT_ROOT = Path.cwd().parent\n",
    "UTILS_DIR = PROJECT_ROOT / \"utils\"\n",
    "if str(UTILS_DIR) not in sys.path:\n",
    "    sys.path.insert(0, str(UTILS_DIR))\n",
    "\n",
    "# 🧰 Custom utilities\n",
    "from plot_utils import (\n",
    "    histogram_plot,\n",
    "    density_heatmap,\n",
    "    density_contour,\n",
    "    save_fig_as_html,\n",
    "    save_fig_as_png\n",
    ")\n",
    "\n",
    "# 🎨 Apply project-wide theme\n",
    "pio.templates.default = \"plotly_white\"\n",
    "\n",
    "NOTEBOOK_ID = \"03_hist_density_heatmap\"\n",
    "\n",
    "# 📁 Ensure export folders exist for this notebook\n",
    "EXPORT_BASE = PROJECT_ROOT / \"exports\"\n",
    "EXPORT_HTML = EXPORT_BASE / \"html\" / NOTEBOOK_ID\n",
    "EXPORT_IMG = EXPORT_BASE / \"images\" / NOTEBOOK_ID\n",
    "\n",
    "EXPORT_HTML.mkdir(parents=True, exist_ok=True)\n",
    "EXPORT_IMG.mkdir(parents=True, exist_ok=True)\n",
    "\n",
    "print(\"✅ Plotly Project Utils Loaded\")\n"
   ]
  },
  {
   "cell_type": "code",
   "execution_count": 2,
   "id": "ed61b5a2",
   "metadata": {},
   "outputs": [
    {
     "data": {
      "text/html": [
       "<div>\n",
       "<style scoped>\n",
       "    .dataframe tbody tr th:only-of-type {\n",
       "        vertical-align: middle;\n",
       "    }\n",
       "\n",
       "    .dataframe tbody tr th {\n",
       "        vertical-align: top;\n",
       "    }\n",
       "\n",
       "    .dataframe thead th {\n",
       "        text-align: right;\n",
       "    }\n",
       "</style>\n",
       "<table border=\"1\" class=\"dataframe\">\n",
       "  <thead>\n",
       "    <tr style=\"text-align: right;\">\n",
       "      <th></th>\n",
       "      <th>OrderID</th>\n",
       "      <th>OrderDate</th>\n",
       "      <th>Category</th>\n",
       "      <th>SubCategory</th>\n",
       "      <th>Region</th>\n",
       "      <th>Sales</th>\n",
       "      <th>Profit</th>\n",
       "    </tr>\n",
       "  </thead>\n",
       "  <tbody>\n",
       "    <tr>\n",
       "      <th>0</th>\n",
       "      <td>56bf2d38-cc21-4993-b86a-6715422b9b46</td>\n",
       "      <td>2024-11-05</td>\n",
       "      <td>Technology</td>\n",
       "      <td>Phones</td>\n",
       "      <td>East</td>\n",
       "      <td>744.13</td>\n",
       "      <td>-2.04</td>\n",
       "    </tr>\n",
       "    <tr>\n",
       "      <th>1</th>\n",
       "      <td>8dd59406-ef89-4f24-a639-9a1634c23673</td>\n",
       "      <td>2025-01-30</td>\n",
       "      <td>Furniture</td>\n",
       "      <td>Bookcases</td>\n",
       "      <td>East</td>\n",
       "      <td>679.93</td>\n",
       "      <td>256.87</td>\n",
       "    </tr>\n",
       "    <tr>\n",
       "      <th>2</th>\n",
       "      <td>4a444c57-04f3-417e-b016-f32e17731401</td>\n",
       "      <td>2024-12-21</td>\n",
       "      <td>Furniture</td>\n",
       "      <td>Bookcases</td>\n",
       "      <td>South</td>\n",
       "      <td>41.46</td>\n",
       "      <td>-62.52</td>\n",
       "    </tr>\n",
       "    <tr>\n",
       "      <th>3</th>\n",
       "      <td>3eab8292-a2e8-4bf9-9e1d-45fd2e608a12</td>\n",
       "      <td>2024-09-25</td>\n",
       "      <td>Furniture</td>\n",
       "      <td>Bookcases</td>\n",
       "      <td>East</td>\n",
       "      <td>565.63</td>\n",
       "      <td>186.41</td>\n",
       "    </tr>\n",
       "    <tr>\n",
       "      <th>4</th>\n",
       "      <td>a8e906c3-07c6-4109-a477-9bbae9de08cc</td>\n",
       "      <td>2025-05-19</td>\n",
       "      <td>Technology</td>\n",
       "      <td>Accessories</td>\n",
       "      <td>South</td>\n",
       "      <td>228.24</td>\n",
       "      <td>135.71</td>\n",
       "    </tr>\n",
       "  </tbody>\n",
       "</table>\n",
       "</div>"
      ],
      "text/plain": [
       "                                OrderID   OrderDate    Category  SubCategory  \\\n",
       "0  56bf2d38-cc21-4993-b86a-6715422b9b46  2024-11-05  Technology       Phones   \n",
       "1  8dd59406-ef89-4f24-a639-9a1634c23673  2025-01-30   Furniture    Bookcases   \n",
       "2  4a444c57-04f3-417e-b016-f32e17731401  2024-12-21   Furniture    Bookcases   \n",
       "3  3eab8292-a2e8-4bf9-9e1d-45fd2e608a12  2024-09-25   Furniture    Bookcases   \n",
       "4  a8e906c3-07c6-4109-a477-9bbae9de08cc  2025-05-19  Technology  Accessories   \n",
       "\n",
       "  Region   Sales  Profit  \n",
       "0   East  744.13   -2.04  \n",
       "1   East  679.93  256.87  \n",
       "2  South   41.46  -62.52  \n",
       "3   East  565.63  186.41  \n",
       "4  South  228.24  135.71  "
      ]
     },
     "execution_count": 2,
     "metadata": {},
     "output_type": "execute_result"
    }
   ],
   "source": [
    "# 📊 Load Dataset\n",
    "\n",
    "df = pd.read_csv(PROJECT_ROOT / \"datasets/superstore.csv\")\n",
    "df.head()"
   ]
  },
  {
   "cell_type": "code",
   "execution_count": 3,
   "id": "539f09dc",
   "metadata": {},
   "outputs": [
    {
     "data": {
      "application/vnd.plotly.v1+json": {
       "config": {
        "plotlyServerURL": "https://plot.ly"
       },
       "data": [
        {
         "bingroup": "x",
         "hovertemplate": "Profit=%{x}<br>count=%{y}<extra></extra>",
         "legendgroup": "",
         "marker": {
          "color": "#636efa",
          "opacity": 0.5,
          "pattern": {
           "shape": ""
          }
         },
         "name": "",
         "nbinsx": 50,
         "orientation": "v",
         "showlegend": false,
         "type": "histogram",
         "x": {
          "bdata": "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",
          "dtype": "f8"
         },
         "xaxis": "x",
         "yaxis": "y"
        }
       ],
       "layout": {
        "barmode": "overlay",
        "legend": {
         "tracegroupgap": 0
        },
        "template": {
         "data": {
          "bar": [
           {
            "error_x": {
             "color": "#2a3f5f"
            },
            "error_y": {
             "color": "#2a3f5f"
            },
            "marker": {
             "line": {
              "color": "white",
              "width": 0.5
             },
             "pattern": {
              "fillmode": "overlay",
              "size": 10,
              "solidity": 0.2
             }
            },
            "type": "bar"
           }
          ],
          "barpolar": [
           {
            "marker": {
             "line": {
              "color": "white",
              "width": 0.5
             },
             "pattern": {
              "fillmode": "overlay",
              "size": 10,
              "solidity": 0.2
             }
            },
            "type": "barpolar"
           }
          ],
          "carpet": [
           {
            "aaxis": {
             "endlinecolor": "#2a3f5f",
             "gridcolor": "#C8D4E3",
             "linecolor": "#C8D4E3",
             "minorgridcolor": "#C8D4E3",
             "startlinecolor": "#2a3f5f"
            },
            "baxis": {
             "endlinecolor": "#2a3f5f",
             "gridcolor": "#C8D4E3",
             "linecolor": "#C8D4E3",
             "minorgridcolor": "#C8D4E3",
             "startlinecolor": "#2a3f5f"
            },
            "type": "carpet"
           }
          ],
          "choropleth": [
           {
            "colorbar": {
             "outlinewidth": 0,
             "ticks": ""
            },
            "type": "choropleth"
           }
          ],
          "contour": [
           {
            "colorbar": {
             "outlinewidth": 0,
             "ticks": ""
            },
            "colorscale": [
             [
              0,
              "#0d0887"
             ],
             [
              0.1111111111111111,
              "#46039f"
             ],
             [
              0.2222222222222222,
              "#7201a8"
             ],
             [
              0.3333333333333333,
              "#9c179e"
             ],
             [
              0.4444444444444444,
              "#bd3786"
             ],
             [
              0.5555555555555556,
              "#d8576b"
             ],
             [
              0.6666666666666666,
              "#ed7953"
             ],
             [
              0.7777777777777778,
              "#fb9f3a"
             ],
             [
              0.8888888888888888,
              "#fdca26"
             ],
             [
              1,
              "#f0f921"
             ]
            ],
            "type": "contour"
           }
          ],
          "contourcarpet": [
           {
            "colorbar": {
             "outlinewidth": 0,
             "ticks": ""
            },
            "type": "contourcarpet"
           }
          ],
          "heatmap": [
           {
            "colorbar": {
             "outlinewidth": 0,
             "ticks": ""
            },
            "colorscale": [
             [
              0,
              "#0d0887"
             ],
             [
              0.1111111111111111,
              "#46039f"
             ],
             [
              0.2222222222222222,
              "#7201a8"
             ],
             [
              0.3333333333333333,
              "#9c179e"
             ],
             [
              0.4444444444444444,
              "#bd3786"
             ],
             [
              0.5555555555555556,
              "#d8576b"
             ],
             [
              0.6666666666666666,
              "#ed7953"
             ],
             [
              0.7777777777777778,
              "#fb9f3a"
             ],
             [
              0.8888888888888888,
              "#fdca26"
             ],
             [
              1,
              "#f0f921"
             ]
            ],
            "type": "heatmap"
           }
          ],
          "histogram": [
           {
            "marker": {
             "pattern": {
              "fillmode": "overlay",
              "size": 10,
              "solidity": 0.2
             }
            },
            "type": "histogram"
           }
          ],
          "histogram2d": [
           {
            "colorbar": {
             "outlinewidth": 0,
             "ticks": ""
            },
            "colorscale": [
             [
              0,
              "#0d0887"
             ],
             [
              0.1111111111111111,
              "#46039f"
             ],
             [
              0.2222222222222222,
              "#7201a8"
             ],
             [
              0.3333333333333333,
              "#9c179e"
             ],
             [
              0.4444444444444444,
              "#bd3786"
             ],
             [
              0.5555555555555556,
              "#d8576b"
             ],
             [
              0.6666666666666666,
              "#ed7953"
             ],
             [
              0.7777777777777778,
              "#fb9f3a"
             ],
             [
              0.8888888888888888,
              "#fdca26"
             ],
             [
              1,
              "#f0f921"
             ]
            ],
            "type": "histogram2d"
           }
          ],
          "histogram2dcontour": [
           {
            "colorbar": {
             "outlinewidth": 0,
             "ticks": ""
            },
            "colorscale": [
             [
              0,
              "#0d0887"
             ],
             [
              0.1111111111111111,
              "#46039f"
             ],
             [
              0.2222222222222222,
              "#7201a8"
             ],
             [
              0.3333333333333333,
              "#9c179e"
             ],
             [
              0.4444444444444444,
              "#bd3786"
             ],
             [
              0.5555555555555556,
              "#d8576b"
             ],
             [
              0.6666666666666666,
              "#ed7953"
             ],
             [
              0.7777777777777778,
              "#fb9f3a"
             ],
             [
              0.8888888888888888,
              "#fdca26"
             ],
             [
              1,
              "#f0f921"
             ]
            ],
            "type": "histogram2dcontour"
           }
          ],
          "mesh3d": [
           {
            "colorbar": {
             "outlinewidth": 0,
             "ticks": ""
            },
            "type": "mesh3d"
           }
          ],
          "parcoords": [
           {
            "line": {
             "colorbar": {
              "outlinewidth": 0,
              "ticks": ""
             }
            },
            "type": "parcoords"
           }
          ],
          "pie": [
           {
            "automargin": true,
            "type": "pie"
           }
          ],
          "scatter": [
           {
            "fillpattern": {
             "fillmode": "overlay",
             "size": 10,
             "solidity": 0.2
            },
            "type": "scatter"
           }
          ],
          "scatter3d": [
           {
            "line": {
             "colorbar": {
              "outlinewidth": 0,
              "ticks": ""
             }
            },
            "marker": {
             "colorbar": {
              "outlinewidth": 0,
              "ticks": ""
             }
            },
            "type": "scatter3d"
           }
          ],
          "scattercarpet": [
           {
            "marker": {
             "colorbar": {
              "outlinewidth": 0,
              "ticks": ""
             }
            },
            "type": "scattercarpet"
           }
          ],
          "scattergeo": [
           {
            "marker": {
             "colorbar": {
              "outlinewidth": 0,
              "ticks": ""
             }
            },
            "type": "scattergeo"
           }
          ],
          "scattergl": [
           {
            "marker": {
             "colorbar": {
              "outlinewidth": 0,
              "ticks": ""
             }
            },
            "type": "scattergl"
           }
          ],
          "scattermap": [
           {
            "marker": {
             "colorbar": {
              "outlinewidth": 0,
              "ticks": ""
             }
            },
            "type": "scattermap"
           }
          ],
          "scattermapbox": [
           {
            "marker": {
             "colorbar": {
              "outlinewidth": 0,
              "ticks": ""
             }
            },
            "type": "scattermapbox"
           }
          ],
          "scatterpolar": [
           {
            "marker": {
             "colorbar": {
              "outlinewidth": 0,
              "ticks": ""
             }
            },
            "type": "scatterpolar"
           }
          ],
          "scatterpolargl": [
           {
            "marker": {
             "colorbar": {
              "outlinewidth": 0,
              "ticks": ""
             }
            },
            "type": "scatterpolargl"
           }
          ],
          "scatterternary": [
           {
            "marker": {
             "colorbar": {
              "outlinewidth": 0,
              "ticks": ""
             }
            },
            "type": "scatterternary"
           }
          ],
          "surface": [
           {
            "colorbar": {
             "outlinewidth": 0,
             "ticks": ""
            },
            "colorscale": [
             [
              0,
              "#0d0887"
             ],
             [
              0.1111111111111111,
              "#46039f"
             ],
             [
              0.2222222222222222,
              "#7201a8"
             ],
             [
              0.3333333333333333,
              "#9c179e"
             ],
             [
              0.4444444444444444,
              "#bd3786"
             ],
             [
              0.5555555555555556,
              "#d8576b"
             ],
             [
              0.6666666666666666,
              "#ed7953"
             ],
             [
              0.7777777777777778,
              "#fb9f3a"
             ],
             [
              0.8888888888888888,
              "#fdca26"
             ],
             [
              1,
              "#f0f921"
             ]
            ],
            "type": "surface"
           }
          ],
          "table": [
           {
            "cells": {
             "fill": {
              "color": "#EBF0F8"
             },
             "line": {
              "color": "white"
             }
            },
            "header": {
             "fill": {
              "color": "#C8D4E3"
             },
             "line": {
              "color": "white"
             }
            },
            "type": "table"
           }
          ]
         },
         "layout": {
          "annotationdefaults": {
           "arrowcolor": "#2a3f5f",
           "arrowhead": 0,
           "arrowwidth": 1
          },
          "autotypenumbers": "strict",
          "coloraxis": {
           "colorbar": {
            "outlinewidth": 0,
            "ticks": ""
           }
          },
          "colorscale": {
           "diverging": [
            [
             0,
             "#8e0152"
            ],
            [
             0.1,
             "#c51b7d"
            ],
            [
             0.2,
             "#de77ae"
            ],
            [
             0.3,
             "#f1b6da"
            ],
            [
             0.4,
             "#fde0ef"
            ],
            [
             0.5,
             "#f7f7f7"
            ],
            [
             0.6,
             "#e6f5d0"
            ],
            [
             0.7,
             "#b8e186"
            ],
            [
             0.8,
             "#7fbc41"
            ],
            [
             0.9,
             "#4d9221"
            ],
            [
             1,
             "#276419"
            ]
           ],
           "sequential": [
            [
             0,
             "#0d0887"
            ],
            [
             0.1111111111111111,
             "#46039f"
            ],
            [
             0.2222222222222222,
             "#7201a8"
            ],
            [
             0.3333333333333333,
             "#9c179e"
            ],
            [
             0.4444444444444444,
             "#bd3786"
            ],
            [
             0.5555555555555556,
             "#d8576b"
            ],
            [
             0.6666666666666666,
             "#ed7953"
            ],
            [
             0.7777777777777778,
             "#fb9f3a"
            ],
            [
             0.8888888888888888,
             "#fdca26"
            ],
            [
             1,
             "#f0f921"
            ]
           ],
           "sequentialminus": [
            [
             0,
             "#0d0887"
            ],
            [
             0.1111111111111111,
             "#46039f"
            ],
            [
             0.2222222222222222,
             "#7201a8"
            ],
            [
             0.3333333333333333,
             "#9c179e"
            ],
            [
             0.4444444444444444,
             "#bd3786"
            ],
            [
             0.5555555555555556,
             "#d8576b"
            ],
            [
             0.6666666666666666,
             "#ed7953"
            ],
            [
             0.7777777777777778,
             "#fb9f3a"
            ],
            [
             0.8888888888888888,
             "#fdca26"
            ],
            [
             1,
             "#f0f921"
            ]
           ]
          },
          "colorway": [
           "#636efa",
           "#EF553B",
           "#00cc96",
           "#ab63fa",
           "#FFA15A",
           "#19d3f3",
           "#FF6692",
           "#B6E880",
           "#FF97FF",
           "#FECB52"
          ],
          "font": {
           "color": "#2a3f5f"
          },
          "geo": {
           "bgcolor": "white",
           "lakecolor": "white",
           "landcolor": "white",
           "showlakes": true,
           "showland": true,
           "subunitcolor": "#C8D4E3"
          },
          "hoverlabel": {
           "align": "left"
          },
          "hovermode": "closest",
          "mapbox": {
           "style": "light"
          },
          "paper_bgcolor": "white",
          "plot_bgcolor": "white",
          "polar": {
           "angularaxis": {
            "gridcolor": "#EBF0F8",
            "linecolor": "#EBF0F8",
            "ticks": ""
           },
           "bgcolor": "white",
           "radialaxis": {
            "gridcolor": "#EBF0F8",
            "linecolor": "#EBF0F8",
            "ticks": ""
           }
          },
          "scene": {
           "xaxis": {
            "backgroundcolor": "white",
            "gridcolor": "#DFE8F3",
            "gridwidth": 2,
            "linecolor": "#EBF0F8",
            "showbackground": true,
            "ticks": "",
            "zerolinecolor": "#EBF0F8"
           },
           "yaxis": {
            "backgroundcolor": "white",
            "gridcolor": "#DFE8F3",
            "gridwidth": 2,
            "linecolor": "#EBF0F8",
            "showbackground": true,
            "ticks": "",
            "zerolinecolor": "#EBF0F8"
           },
           "zaxis": {
            "backgroundcolor": "white",
            "gridcolor": "#DFE8F3",
            "gridwidth": 2,
            "linecolor": "#EBF0F8",
            "showbackground": true,
            "ticks": "",
            "zerolinecolor": "#EBF0F8"
           }
          },
          "shapedefaults": {
           "line": {
            "color": "#2a3f5f"
           }
          },
          "ternary": {
           "aaxis": {
            "gridcolor": "#DFE8F3",
            "linecolor": "#A2B1C6",
            "ticks": ""
           },
           "baxis": {
            "gridcolor": "#DFE8F3",
            "linecolor": "#A2B1C6",
            "ticks": ""
           },
           "bgcolor": "white",
           "caxis": {
            "gridcolor": "#DFE8F3",
            "linecolor": "#A2B1C6",
            "ticks": ""
           }
          },
          "title": {
           "x": 0.05
          },
          "xaxis": {
           "automargin": true,
           "gridcolor": "#EBF0F8",
           "linecolor": "#EBF0F8",
           "ticks": "",
           "title": {
            "standoff": 15
           },
           "zerolinecolor": "#EBF0F8",
           "zerolinewidth": 2
          },
          "yaxis": {
           "automargin": true,
           "gridcolor": "#EBF0F8",
           "linecolor": "#EBF0F8",
           "ticks": "",
           "title": {
            "standoff": 15
           },
           "zerolinecolor": "#EBF0F8",
           "zerolinewidth": 2
          }
         }
        },
        "title": {
         "text": "Profit Distribution"
        },
        "xaxis": {
         "anchor": "y",
         "domain": [
          0,
          1
         ],
         "title": {
          "text": "Profit"
         }
        },
        "yaxis": {
         "anchor": "x",
         "domain": [
          0,
          1
         ],
         "title": {
          "text": "count"
         }
        }
       }
      }
     },
     "metadata": {},
     "output_type": "display_data"
    }
   ],
   "source": [
    "# 📘 Histogram – Profit Distribution\n",
    "\n",
    "fig1 = histogram_plot(\n",
    "    df,\n",
    "    x=\"Profit\",\n",
    "    nbins=50,\n",
    "    title=\"Profit Distribution\"\n",
    ")\n",
    "fig1.show()"
   ]
  },
  {
   "cell_type": "code",
   "execution_count": 4,
   "id": "731e2d67",
   "metadata": {},
   "outputs": [
    {
     "data": {
      "application/vnd.plotly.v1+json": {
       "config": {
        "plotlyServerURL": "https://plot.ly"
       },
       "data": [
        {
         "bingroup": "x",
         "hovertemplate": "Category=Technology<br>Profit=%{x}<br>count=%{y}<extra></extra>",
         "legendgroup": "Technology",
         "marker": {
          "color": "#636efa",
          "opacity": 0.5,
          "pattern": {
           "shape": ""
          }
         },
         "name": "Technology",
         "nbinsx": 50,
         "orientation": "v",
         "showlegend": true,
         "type": "histogram",
         "x": {
          "bdata": "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",
          "dtype": "f8"
         },
         "xaxis": "x",
         "yaxis": "y"
        },
        {
         "bingroup": "x",
         "hovertemplate": "Category=Furniture<br>Profit=%{x}<br>count=%{y}<extra></extra>",
         "legendgroup": "Furniture",
         "marker": {
          "color": "#EF553B",
          "opacity": 0.5,
          "pattern": {
           "shape": ""
          }
         },
         "name": "Furniture",
         "nbinsx": 50,
         "orientation": "v",
         "showlegend": true,
         "type": "histogram",
         "x": {
          "bdata": "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",
          "dtype": "f8"
         },
         "xaxis": "x",
         "yaxis": "y"
        },
        {
         "bingroup": "x",
         "hovertemplate": "Category=Office Supplies<br>Profit=%{x}<br>count=%{y}<extra></extra>",
         "legendgroup": "Office Supplies",
         "marker": {
          "color": "#00cc96",
          "opacity": 0.5,
          "pattern": {
           "shape": ""
          }
         },
         "name": "Office Supplies",
         "nbinsx": 50,
         "orientation": "v",
         "showlegend": true,
         "type": "histogram",
         "x": {
          "bdata": "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",
          "dtype": "f8"
         },
         "xaxis": "x",
         "yaxis": "y"
        }
       ],
       "layout": {
        "barmode": "overlay",
        "legend": {
         "title": {
          "text": "Category"
         },
         "tracegroupgap": 0
        },
        "template": {
         "data": {
          "bar": [
           {
            "error_x": {
             "color": "#2a3f5f"
            },
            "error_y": {
             "color": "#2a3f5f"
            },
            "marker": {
             "line": {
              "color": "white",
              "width": 0.5
             },
             "pattern": {
              "fillmode": "overlay",
              "size": 10,
              "solidity": 0.2
             }
            },
            "type": "bar"
           }
          ],
          "barpolar": [
           {
            "marker": {
             "line": {
              "color": "white",
              "width": 0.5
             },
             "pattern": {
              "fillmode": "overlay",
              "size": 10,
              "solidity": 0.2
             }
            },
            "type": "barpolar"
           }
          ],
          "carpet": [
           {
            "aaxis": {
             "endlinecolor": "#2a3f5f",
             "gridcolor": "#C8D4E3",
             "linecolor": "#C8D4E3",
             "minorgridcolor": "#C8D4E3",
             "startlinecolor": "#2a3f5f"
            },
            "baxis": {
             "endlinecolor": "#2a3f5f",
             "gridcolor": "#C8D4E3",
             "linecolor": "#C8D4E3",
             "minorgridcolor": "#C8D4E3",
             "startlinecolor": "#2a3f5f"
            },
            "type": "carpet"
           }
          ],
          "choropleth": [
           {
            "colorbar": {
             "outlinewidth": 0,
             "ticks": ""
            },
            "type": "choropleth"
           }
          ],
          "contour": [
           {
            "colorbar": {
             "outlinewidth": 0,
             "ticks": ""
            },
            "colorscale": [
             [
              0,
              "#0d0887"
             ],
             [
              0.1111111111111111,
              "#46039f"
             ],
             [
              0.2222222222222222,
              "#7201a8"
             ],
             [
              0.3333333333333333,
              "#9c179e"
             ],
             [
              0.4444444444444444,
              "#bd3786"
             ],
             [
              0.5555555555555556,
              "#d8576b"
             ],
             [
              0.6666666666666666,
              "#ed7953"
             ],
             [
              0.7777777777777778,
              "#fb9f3a"
             ],
             [
              0.8888888888888888,
              "#fdca26"
             ],
             [
              1,
              "#f0f921"
             ]
            ],
            "type": "contour"
           }
          ],
          "contourcarpet": [
           {
            "colorbar": {
             "outlinewidth": 0,
             "ticks": ""
            },
            "type": "contourcarpet"
           }
          ],
          "heatmap": [
           {
            "colorbar": {
             "outlinewidth": 0,
             "ticks": ""
            },
            "colorscale": [
             [
              0,
              "#0d0887"
             ],
             [
              0.1111111111111111,
              "#46039f"
             ],
             [
              0.2222222222222222,
              "#7201a8"
             ],
             [
              0.3333333333333333,
              "#9c179e"
             ],
             [
              0.4444444444444444,
              "#bd3786"
             ],
             [
              0.5555555555555556,
              "#d8576b"
             ],
             [
              0.6666666666666666,
              "#ed7953"
             ],
             [
              0.7777777777777778,
              "#fb9f3a"
             ],
             [
              0.8888888888888888,
              "#fdca26"
             ],
             [
              1,
              "#f0f921"
             ]
            ],
            "type": "heatmap"
           }
          ],
          "histogram": [
           {
            "marker": {
             "pattern": {
              "fillmode": "overlay",
              "size": 10,
              "solidity": 0.2
             }
            },
            "type": "histogram"
           }
          ],
          "histogram2d": [
           {
            "colorbar": {
             "outlinewidth": 0,
             "ticks": ""
            },
            "colorscale": [
             [
              0,
              "#0d0887"
             ],
             [
              0.1111111111111111,
              "#46039f"
             ],
             [
              0.2222222222222222,
              "#7201a8"
             ],
             [
              0.3333333333333333,
              "#9c179e"
             ],
             [
              0.4444444444444444,
              "#bd3786"
             ],
             [
              0.5555555555555556,
              "#d8576b"
             ],
             [
              0.6666666666666666,
              "#ed7953"
             ],
             [
              0.7777777777777778,
              "#fb9f3a"
             ],
             [
              0.8888888888888888,
              "#fdca26"
             ],
             [
              1,
              "#f0f921"
             ]
            ],
            "type": "histogram2d"
           }
          ],
          "histogram2dcontour": [
           {
            "colorbar": {
             "outlinewidth": 0,
             "ticks": ""
            },
            "colorscale": [
             [
              0,
              "#0d0887"
             ],
             [
              0.1111111111111111,
              "#46039f"
             ],
             [
              0.2222222222222222,
              "#7201a8"
             ],
             [
              0.3333333333333333,
              "#9c179e"
             ],
             [
              0.4444444444444444,
              "#bd3786"
             ],
             [
              0.5555555555555556,
              "#d8576b"
             ],
             [
              0.6666666666666666,
              "#ed7953"
             ],
             [
              0.7777777777777778,
              "#fb9f3a"
             ],
             [
              0.8888888888888888,
              "#fdca26"
             ],
             [
              1,
              "#f0f921"
             ]
            ],
            "type": "histogram2dcontour"
           }
          ],
          "mesh3d": [
           {
            "colorbar": {
             "outlinewidth": 0,
             "ticks": ""
            },
            "type": "mesh3d"
           }
          ],
          "parcoords": [
           {
            "line": {
             "colorbar": {
              "outlinewidth": 0,
              "ticks": ""
             }
            },
            "type": "parcoords"
           }
          ],
          "pie": [
           {
            "automargin": true,
            "type": "pie"
           }
          ],
          "scatter": [
           {
            "fillpattern": {
             "fillmode": "overlay",
             "size": 10,
             "solidity": 0.2
            },
            "type": "scatter"
           }
          ],
          "scatter3d": [
           {
            "line": {
             "colorbar": {
              "outlinewidth": 0,
              "ticks": ""
             }
            },
            "marker": {
             "colorbar": {
              "outlinewidth": 0,
              "ticks": ""
             }
            },
            "type": "scatter3d"
           }
          ],
          "scattercarpet": [
           {
            "marker": {
             "colorbar": {
              "outlinewidth": 0,
              "ticks": ""
             }
            },
            "type": "scattercarpet"
           }
          ],
          "scattergeo": [
           {
            "marker": {
             "colorbar": {
              "outlinewidth": 0,
              "ticks": ""
             }
            },
            "type": "scattergeo"
           }
          ],
          "scattergl": [
           {
            "marker": {
             "colorbar": {
              "outlinewidth": 0,
              "ticks": ""
             }
            },
            "type": "scattergl"
           }
          ],
          "scattermap": [
           {
            "marker": {
             "colorbar": {
              "outlinewidth": 0,
              "ticks": ""
             }
            },
            "type": "scattermap"
           }
          ],
          "scattermapbox": [
           {
            "marker": {
             "colorbar": {
              "outlinewidth": 0,
              "ticks": ""
             }
            },
            "type": "scattermapbox"
           }
          ],
          "scatterpolar": [
           {
            "marker": {
             "colorbar": {
              "outlinewidth": 0,
              "ticks": ""
             }
            },
            "type": "scatterpolar"
           }
          ],
          "scatterpolargl": [
           {
            "marker": {
             "colorbar": {
              "outlinewidth": 0,
              "ticks": ""
             }
            },
            "type": "scatterpolargl"
           }
          ],
          "scatterternary": [
           {
            "marker": {
             "colorbar": {
              "outlinewidth": 0,
              "ticks": ""
             }
            },
            "type": "scatterternary"
           }
          ],
          "surface": [
           {
            "colorbar": {
             "outlinewidth": 0,
             "ticks": ""
            },
            "colorscale": [
             [
              0,
              "#0d0887"
             ],
             [
              0.1111111111111111,
              "#46039f"
             ],
             [
              0.2222222222222222,
              "#7201a8"
             ],
             [
              0.3333333333333333,
              "#9c179e"
             ],
             [
              0.4444444444444444,
              "#bd3786"
             ],
             [
              0.5555555555555556,
              "#d8576b"
             ],
             [
              0.6666666666666666,
              "#ed7953"
             ],
             [
              0.7777777777777778,
              "#fb9f3a"
             ],
             [
              0.8888888888888888,
              "#fdca26"
             ],
             [
              1,
              "#f0f921"
             ]
            ],
            "type": "surface"
           }
          ],
          "table": [
           {
            "cells": {
             "fill": {
              "color": "#EBF0F8"
             },
             "line": {
              "color": "white"
             }
            },
            "header": {
             "fill": {
              "color": "#C8D4E3"
             },
             "line": {
              "color": "white"
             }
            },
            "type": "table"
           }
          ]
         },
         "layout": {
          "annotationdefaults": {
           "arrowcolor": "#2a3f5f",
           "arrowhead": 0,
           "arrowwidth": 1
          },
          "autotypenumbers": "strict",
          "coloraxis": {
           "colorbar": {
            "outlinewidth": 0,
            "ticks": ""
           }
          },
          "colorscale": {
           "diverging": [
            [
             0,
             "#8e0152"
            ],
            [
             0.1,
             "#c51b7d"
            ],
            [
             0.2,
             "#de77ae"
            ],
            [
             0.3,
             "#f1b6da"
            ],
            [
             0.4,
             "#fde0ef"
            ],
            [
             0.5,
             "#f7f7f7"
            ],
            [
             0.6,
             "#e6f5d0"
            ],
            [
             0.7,
             "#b8e186"
            ],
            [
             0.8,
             "#7fbc41"
            ],
            [
             0.9,
             "#4d9221"
            ],
            [
             1,
             "#276419"
            ]
           ],
           "sequential": [
            [
             0,
             "#0d0887"
            ],
            [
             0.1111111111111111,
             "#46039f"
            ],
            [
             0.2222222222222222,
             "#7201a8"
            ],
            [
             0.3333333333333333,
             "#9c179e"
            ],
            [
             0.4444444444444444,
             "#bd3786"
            ],
            [
             0.5555555555555556,
             "#d8576b"
            ],
            [
             0.6666666666666666,
             "#ed7953"
            ],
            [
             0.7777777777777778,
             "#fb9f3a"
            ],
            [
             0.8888888888888888,
             "#fdca26"
            ],
            [
             1,
             "#f0f921"
            ]
           ],
           "sequentialminus": [
            [
             0,
             "#0d0887"
            ],
            [
             0.1111111111111111,
             "#46039f"
            ],
            [
             0.2222222222222222,
             "#7201a8"
            ],
            [
             0.3333333333333333,
             "#9c179e"
            ],
            [
             0.4444444444444444,
             "#bd3786"
            ],
            [
             0.5555555555555556,
             "#d8576b"
            ],
            [
             0.6666666666666666,
             "#ed7953"
            ],
            [
             0.7777777777777778,
             "#fb9f3a"
            ],
            [
             0.8888888888888888,
             "#fdca26"
            ],
            [
             1,
             "#f0f921"
            ]
           ]
          },
          "colorway": [
           "#636efa",
           "#EF553B",
           "#00cc96",
           "#ab63fa",
           "#FFA15A",
           "#19d3f3",
           "#FF6692",
           "#B6E880",
           "#FF97FF",
           "#FECB52"
          ],
          "font": {
           "color": "#2a3f5f"
          },
          "geo": {
           "bgcolor": "white",
           "lakecolor": "white",
           "landcolor": "white",
           "showlakes": true,
           "showland": true,
           "subunitcolor": "#C8D4E3"
          },
          "hoverlabel": {
           "align": "left"
          },
          "hovermode": "closest",
          "mapbox": {
           "style": "light"
          },
          "paper_bgcolor": "white",
          "plot_bgcolor": "white",
          "polar": {
           "angularaxis": {
            "gridcolor": "#EBF0F8",
            "linecolor": "#EBF0F8",
            "ticks": ""
           },
           "bgcolor": "white",
           "radialaxis": {
            "gridcolor": "#EBF0F8",
            "linecolor": "#EBF0F8",
            "ticks": ""
           }
          },
          "scene": {
           "xaxis": {
            "backgroundcolor": "white",
            "gridcolor": "#DFE8F3",
            "gridwidth": 2,
            "linecolor": "#EBF0F8",
            "showbackground": true,
            "ticks": "",
            "zerolinecolor": "#EBF0F8"
           },
           "yaxis": {
            "backgroundcolor": "white",
            "gridcolor": "#DFE8F3",
            "gridwidth": 2,
            "linecolor": "#EBF0F8",
            "showbackground": true,
            "ticks": "",
            "zerolinecolor": "#EBF0F8"
           },
           "zaxis": {
            "backgroundcolor": "white",
            "gridcolor": "#DFE8F3",
            "gridwidth": 2,
            "linecolor": "#EBF0F8",
            "showbackground": true,
            "ticks": "",
            "zerolinecolor": "#EBF0F8"
           }
          },
          "shapedefaults": {
           "line": {
            "color": "#2a3f5f"
           }
          },
          "ternary": {
           "aaxis": {
            "gridcolor": "#DFE8F3",
            "linecolor": "#A2B1C6",
            "ticks": ""
           },
           "baxis": {
            "gridcolor": "#DFE8F3",
            "linecolor": "#A2B1C6",
            "ticks": ""
           },
           "bgcolor": "white",
           "caxis": {
            "gridcolor": "#DFE8F3",
            "linecolor": "#A2B1C6",
            "ticks": ""
           }
          },
          "title": {
           "x": 0.05
          },
          "xaxis": {
           "automargin": true,
           "gridcolor": "#EBF0F8",
           "linecolor": "#EBF0F8",
           "ticks": "",
           "title": {
            "standoff": 15
           },
           "zerolinecolor": "#EBF0F8",
           "zerolinewidth": 2
          },
          "yaxis": {
           "automargin": true,
           "gridcolor": "#EBF0F8",
           "linecolor": "#EBF0F8",
           "ticks": "",
           "title": {
            "standoff": 15
           },
           "zerolinecolor": "#EBF0F8",
           "zerolinewidth": 2
          }
         }
        },
        "title": {
         "text": "Profit Distribution by Category"
        },
        "xaxis": {
         "anchor": "y",
         "domain": [
          0,
          1
         ],
         "title": {
          "text": "Profit"
         }
        },
        "yaxis": {
         "anchor": "x",
         "domain": [
          0,
          1
         ],
         "title": {
          "text": "count"
         }
        }
       }
      }
     },
     "metadata": {},
     "output_type": "display_data"
    }
   ],
   "source": [
    "# 📘 Histogram – Profit by Category (Overlayed)\n",
    "\n",
    "fig2 = histogram_plot(\n",
    "    df,\n",
    "    x=\"Profit\",\n",
    "    color=\"Category\",\n",
    "    nbins=50,\n",
    "    barmode=\"overlay\",\n",
    "    title=\"Profit Distribution by Category\"\n",
    ")\n",
    "fig2.show()"
   ]
  },
  {
   "cell_type": "code",
   "execution_count": 5,
   "id": "3d600552",
   "metadata": {},
   "outputs": [
    {
     "data": {
      "application/vnd.plotly.v1+json": {
       "config": {
        "plotlyServerURL": "https://plot.ly"
       },
       "data": [
        {
         "coloraxis": "coloraxis",
         "hovertemplate": "Sales=%{x}<br>Profit=%{y}<br>count=%{z}<extra></extra>",
         "name": "",
         "type": "histogram2d",
         "x": {
          "bdata": "16NwPQpBh0A9CtejcD+FQHsUrkfhukRA16NwPQqtgUBI4XoUrodsQJqZmZmZrXVArkfhehQieEAUrkfhekiJQHE9CtejAFZAcT0K16MsgkAfhetRuDqIQNejcD0K03FA7FG4HoWbdkC4HoXrUSiDQArXo3A9On1AXI/C9Sh+hUAAAAAAADiJQAAAAAAAkGtASOF6FK4DcUC4HoXrUWyHQFyPwvUoZGxA9ihcj8Kxh0DhehSuR9GIQD0K16Nwv4JApHA9CtdbhUBcj8L1KBxeQI/C9ShcYY5AAAAAAABaikCF61G4HueHQOxRuB6F235AZmZmZmbWUEB7FK5H4Y6JQDMzMzMzuYRA9ihcj8IljkDD9Shcj16GQOxRuB6Fu3tAKVyPwvVYUkAfhetRuB4xQClcj8L1UoxA16NwPQrbcUAK16NwPVJvQD0K16NwfVpAmpmZmZkJi0BxPQrXo4BRQFK4HoXryWhAAAAAAABAfUAK16NwPQpOQM3MzMzM1GVASOF6FK6fZUBmZmZmZkZyQAAAAAAAaGRAAAAAAAB0h0CkcD0K15NQQEjhehSuM4VA16NwPQo5gkB7FK5H4TqNQI/C9ShcD3FAuB6F61EwdECamZmZmYeDQOF6FK5H7X9A4XoUrkd9d0AUrkfhejyDQD0K16Nw+YRAhetRuB79cEBSuB6F63lxQClcj8L1lIVACtejcD1SjEBmZmZmZviJQNejcD0KP2VAcT0K16MwXkAAAAAAACKKQBSuR+F6tElAAAAAAABqhUDNzMzMzHCOQM3MzMzMlItASOF6FK4hiUAAAAAAAKyIQMP1KFyP8mlArkfhehTWbEBI4XoUrg2LQPYoXI/CVYVAXI/C9Shyi0AUrkfhelRdQDMzMzMzEYNAexSuR+FicEDhehSuRyl3QAAAAAAA1oRA9ihcj8LxhEA9CtejcP1oQHsUrkfhWoNAcT0K16NgckA9CtejcGV9QGZmZmZm3ohAMzMzMzMvckBSuB6F66GJQAAAAAAARIlA4XoUrkc5g0DhehSuR4mGQAAAAAAAnIRAXI/C9SgEZ0BxPQrXo46BQDMzMzMzG4lAuB6F61G0jUCuR+F6FAKKQIXrUbgeeXxApHA9Ctezg0DNzMzMzERuQArXo3A96mNA9ihcj8JlUkApXI/C9ehRQOF6FK5H0YpAFK5H4Xp6jUCamZmZmdV+QLgehetRbHVAzczMzMxQikB7FK5H4V6MQMP1KFyPMoRAzczMzMy4cEApXI/C9dyHQJqZmZmZuX1AhetRuB5thEApXI/C9bCNQIXrUbgexW5ArkfhehRmfUCuR+F6FGCIQM3MzMzMDI1Aj8L1KFxPVUD2KFyPwuGFQK5H4XoU8ohA4XoUrkfHhEBxPQrXo5iKQKRwPQrX+YNAXI/C9SgMZ0BI4XoUrmN9QJqZmZmZqYpAPQrXo3Btb0AUrkfhenB1QAAAAAAAgGtApHA9CteBgUApXI/C9ZaGQOxRuB6FS4RAXI/C9SisbEAUrkfheuh9QHE9CtejZHZAZmZmZmYuYEBcj8L1KPRoQEjhehSupY5AzczMzMx0Z0BI4XoUrodLQFK4HoXrC4RAMzMzMzOrfUAzMzMzM22NQPYoXI/C1VRACtejcD1oiUBSuB6F65OBQOxRuB6FT4hA4XoUrkeFc0B7FK5H4aCNQEjhehSur2RAexSuR+HmeUCF61G4HuVtQK5H4XoUlIVACtejcD3uekB7FK5H4eKJQFyPwvUozHtAAAAAAAB6jUAUrkfhetCCQK5H4XoUzkFAcT0K16M8j0CkcD0K1+uHQOF6FK5Hp4xAexSuR+FKjkA9CtejcAuFQD0K16NwdXJA7FG4HoVLWEBxPQrXo6iEQAAAAAAAWoBAhetRuB7Th0BI4XoUrrt7QD0K16NwRYZAUrgeheuRWUCkcD0K11mEQD0K16NwVXpAAAAAAABegUCF61G4HguLQB+F61G4solAexSuR+EUi0AzMzMzM2OBQPYoXI/Cp45AexSuR+GaSkAK16NwPeSOQD0K16NwKY5AmpmZmZlbi0D2KFyPwqmGQM3MzMzMrH1AH4XrUbhqhEDNzMzMzNSNQArXo3A9aoNAZmZmZmZqh0CkcD0K1xN8QD0K16Nw8YhAuB6F61F4b0AK16NwPepmQNejcD0Ka39A7FG4HoUPfUBI4XoUrsdUQOF6FK5Hq4VAZmZmZma2ikAUrkfhehiCQKRwPQrXm3FArkfhehR8jEBSuB6F61lsQPYoXI/Cv4NA9ihcj8K1iEAfhetRuM5YQOF6FK5HGWpAj8L1KFwBikDsUbgehTGJQLgehetR7IpAmpmZmZnZWECkcD0K18N8QOxRuB6FwYlAXI/C9SjMfUA9CtejcFmEQAAAAAAAZoRA9ihcj8Ifj0Bcj8L1KKx4QPYoXI/Ce4JAexSuR+EaikAzMzMzMyNsQClcj8L1qI5Aw/UoXI9CeUCF61G4HtGEQD0K16Nwp4hAexSuR+F6U0CPwvUoXHeJQAAAAAAAyHFACtejcD0EiUDD9Shcj8p2QAAAAAAA0GZASOF6FK5hh0CkcD0K15d8QI/C9Shc93xAXI/C9SgAe0Bcj8L1KCKMQLgehetRpHFAmpmZmZkxeEBcj8L1KAxbQLgehetRPHtApHA9CtdLeUBI4XoUruOEQD0K16NwHVNAhetRuB5Zh0DNzMzMzHSCQDMzMzMzC3pASOF6FK5FjkD2KFyPwmVkQI/C9Shc715AMzMzMzMng0DsUbgehZNnQArXo3A9CjBAKVyPwvW4U0B7FK5H4eZ3QNejcD0Ko4ZArkfhehSki0CuR+F6FHZxQHE9CtejQHpA9ihcj8I5e0DhehSuR52AQFyPwvUonDFAzczMzMyIckCuR+F6FP5mQGZmZmZmVlRAw/UoXI8SfUCPwvUoXA2CQEjhehSur3lASOF6FK4NikBcj8L1KFxvQMP1KFyPPotASOF6FK5nVUB7FK5H4VaMQIXrUbgefW5AexSuR+HUh0ApXI/C9VR9QM3MzMzMDItASOF6FK6jfUAfhetRuGZ2QBSuR+F6lFBAexSuR+FWg0CkcD0K13N8QEjhehSuB4NAexSuR+FmiUAAAAAAAGBIQFyPwvUoJHdAexSuR+FQhUAAAAAAANBSQEjhehSuN3BAXI/C9SisVkCF61G4HjVhQBSuR+F6OIRAFK5H4XpMhEAUrkfherxzQClcj8L1SG1AexSuR+EEgEAUrkfhesqEQB+F61G4VmRA9ihcj8KfhkCF61G4Hk+OQI/C9Shc1YBAXI/C9ShMhUAfhetRuGKIQAAAAAAAGolA16NwPQpbi0CPwvUoXENyQFK4HoXrBYpAj8L1KFwZjUA9CtejcG1uQAAAAAAAWHRA9ihcj8LLiEAAAAAAAMqHQI/C9ShczzxAFK5H4XoEXkBSuB6F68FuQAAAAAAA8F1AhetRuB7dg0AzMzMzMy97QK5H4XoUbmhAKVyPwvXOjUDNzMzMzMh4QPYoXI/CUXBAexSuR+H8hkDD9Shcj8JhQHE9CtejAIpA16NwPQpriUDD9ShcjzJqQKRwPQrXQYBAAAAAAAAgR0CF61G4HhmLQB+F61G41ItApHA9CtdTf0AUrkfhes6GQAAAAAAAgHRAj8L1KFw3fEAUrkfhemB2QClcj8L1nHFAexSuR+Ead0AzMzMzM+tiQKRwPQrXI1NA9ihcj8KvjUAfhetRuKqNQI/C9ShcsYBA4XoUrkcHjkDhehSuR5OMQD0K16NwzWtAhetRuB5tYEC4HoXrUSqPQJqZmZmZQ4ZA7FG4HoVVhkCPwvUoXA2AQPYoXI/Cw4hASOF6FK6LfUD2KFyPwsVSQOxRuB6Fk4BA4XoUrkdljkCamZmZmSFhQM3MzMzMEIhAj8L1KFxXgEApXI/C9Qh2QHsUrkfhimlACtejcD1Sg0BI4XoUrm9mQKRwPQrX14lAKVyPwvV0hEApXI/C9XB/QFK4HoXrgX5AXI/C9SiwfEDD9Shcj5Z+QClcj8L19opAFK5H4XrYh0ApXI/C9Xx9QM3MzMzMDE5AFK5H4XoYjkCuR+F6FL5oQArXo3A9gotAXI/C9Sg4jkBxPQrXowhyQArXo3A9TnJA16NwPQqdi0DhehSuR2l5QDMzMzMzs1RAXI/C9SgsYUCPwvUoXKuHQM3MzMzMbEtAZmZmZmauY0Bcj8L1KFxlQFK4HoXrAYBACtejcD0CfkDNzMzMzKCOQOxRuB6Fx4JA7FG4HoWhhkCamZmZmYljQFyPwvUo3GhAzczMzMyshUD2KFyPwiWGQPYoXI/CkYBAFK5H4Xo2gUCkcD0K1y+DQKRwPQrXE21AH4XrUbiqhUDD9Shcj25yQOxRuB6FoYlAAAAAAABsckApXI/C9W6HQM3MzMzMPGJA4XoUrkchTkBcj8L1KPxOQNejcD0KY4VAexSuR+GChEDNzMzMzLKHQHsUrkfhZoxAzczMzMyQjEBxPQrXo7CIQOxRuB6FKzNAKVyPwvW8fEBmZmZmZqSKQKRwPQrXW2VAcT0K16PwN0BI4XoUrvdmQEjhehSu91dAUrgeheuldEC4HoXrUUR8QNejcD0Kz3BApHA9CtdrfUCF61G4HquFQK5H4XoUXmxA16NwPQpbekBSuB6F6+GHQIXrUbgep4BAUrgehevziUAUrkfhepxlQAAAAAAAfoZAZmZmZmaufEBI4XoUrpmBQKRwPQrXH3lA7FG4HoVrS0BSuB6F6zmNQBSuR+F67HlA7FG4HoXLd0DNzMzMzFxWQM3MzMzM3F9AcT0K16PUhkBSuB6F60V9QNejcD0KyYlAMzMzMzOTaEBcj8L1KFaDQEjhehSuJ1NA4XoUrkeJb0AfhetRuKaHQArXo3A9Om5AKVyPwvWQbkAfhetRuDZ6QKRwPQrXrYNAj8L1KFxxjUB7FK5H4eJ5QFK4HoXrEW9AH4XrUbicjEAUrkfheqh4QAAAAAAA2IxAw/UoXI+CTkDXo3A9CleLQJqZmZmZSX5ArkfhehR2a0BmZmZmZpqMQKRwPQrXn4xAFK5H4XrSgEA9CtejcHV9QOxRuB6FmYxAH4XrUbg+h0CkcD0K1+NyQClcj8L1hH9ApHA9Ctfth0DsUbgehSN9QHsUrkfhmIZAmpmZmZmFgECamZmZmfWHQM3MzMzMMIZAZmZmZmZ2UUBSuB6F65E5QClcj8L1sIBAexSuR+FAiUBSuB6F6xFvQFK4HoXr54hAcT0K16PyjkAUrkfheqRZQNejcD0KA4RASOF6FK5DhEDXo3A9Cq9tQK5H4XoUZnFAUrgehetxZ0CkcD0K15WHQMP1KFyPWmVAXI/C9ShgeEAUrkfhepx/QArXo3A9+m1ApHA9CtdJjkAzMzMzM/t+QDMzMzMzV4VAw/UoXI8AiUAzMzMzMyN4QFyPwvUoOHRAhetRuB7ldkAfhetRuEp7QAAAAAAAAEJAcT0K16MIi0DNzMzMzLyGQEjhehSug4VA16NwPQojf0AAAAAAACxzQOxRuB6FnYZAmpmZmZn5XEC4HoXrUTCJQHsUrkfhNnNAcT0K16MQdEAfhetRuECOQHE9CtejkolAZmZmZmaigkD2KFyPwsuNQEjhehSu/YhA4XoUrkd5YkBxPQrXo3CGQI/C9ShcU4JAFK5H4XrGiEBSuB6F65FdQArXo3A9VIRAhetRuB45jkBI4XoUrudaQIXrUbgeNXxAuB6F61H4dUAfhetRuMqMQLgehetR7HNAhetRuB4tdkDsUbgehVt0QOxRuB6FlYpAcT0K16NGgEDXo3A9CveNQHE9CtejUGhA4XoUrkdxfECPwvUoXLdqQK5H4XoUDIlA7FG4HoXvfEAAAAAAAMiCQOxRuB6FZ3ZAAAAAAAC8jEDsUbgehatfQPYoXI/CHYBAKVyPwvXMekB7FK5H4XqBQMP1KFyPXIpAPQrXo3AlYkBxPQrXo/B5QMP1KFyP8mVAmpmZmZmhcUCkcD0K11GBQClcj8L1FIFA16NwPQrvjkAUrkfhemCLQHsUrkfhyntA7FG4HoXzikAAAAAAAJiIQEjhehSux4BA16NwPQqHckCPwvUoXAdiQNejcD0KI4tACtejcD1ShkAAAAAAANhiQOxRuB6Fl3xArkfhehTOhUCF61G4HlGCQFK4HoXr84NAzczMzMw0bEAK16NwPZp0QKRwPQrX04FAPQrXo3C9S0CF61G4HhGNQJqZmZmZSWpAFK5H4XrsZEAK16NwPR5wQK5H4XoUJnlAPQrXo3CXhEAK16NwPcpVQHE9CtejMDNAH4XrUbgufkB7FK5H4QpcQKRwPQrXPYhAH4XrUbhuU0AzMzMzM9t7QJqZmZmZxYxA16NwPQoNjEC4HoXrUWB2QI/C9ShcQYRAPQrXo3BpiEDD9Shcj1SAQEjhehSuTYRASOF6FK5nXkCuR+F6FNiOQFyPwvUoPHdAUrgehet7gkDsUbgehamNQD0K16Nw1XpA16NwPQrLcUAK16NwPeiAQIXrUbge0XNAZmZmZmbWV0AzMzMzM8NzQArXo3A9ijZAUrgehevLjUBmZmZmZqJ3QPYoXI/CLYhAhetRuB7lcEBmZmZmZsp8QFyPwvUoYHdApHA9CteDbUDD9Shcj8JLQB+F61G4aoFAcT0K16MIbUBSuB6F692JQJqZmZmZcWdA9ihcj8Jxi0AUrkfhemyBQD0K16NwMYdAFK5H4Xouj0BSuB6F6+FjQHE9Ctej/INAH4XrUbjKh0AK16NwPTpcQMP1KFyPDI5AZmZmZmaGWUBSuB6F6/18QB+F61G4BoRArkfhehSKe0AzMzMzM6OKQK5H4XoUTnRAhetRuB5xiECF61G4HnF8QFK4HoXrJ45ASOF6FK6vikCkcD0K19trQPYoXI/CRY5AhetRuB65cECF61G4HoOBQHsUrkfhLolAhetRuB5tYUAAAAAAAFSCQHE9CtejuGlAmpmZmZlpYED2KFyPwruJQMP1KFyPomZAzczMzMw4fEAUrkfhelaEQPYoXI/CNVhAmpmZmZnTg0AK16NwPU5+QAAAAAAAqHhA4XoUrkeBQ0CF61G4HrGAQFyPwvUo7G9A4XoUrkfzh0DNzMzMzD6NQB+F61G4pIJAj8L1KFwThkCkcD0K17uBQJqZmZmZ+WZAexSuR+G6PUDXo3A9CkOJQHE9CtejsD9AmpmZmZkHjkAzMzMzM3N1QI/C9Shcz4hAexSuR+EwhkDXo3A9CueEQArXo3A9AmFAAAAAAACiikB7FK5H4fKCQMP1KFyPSo1APQrXo3AVdkDD9Shcj0J8QEjhehSuT3ZA4XoUrkeBeECamZmZmZeLQB+F61G4tohAuB6F61GMfEAUrkfhelh0QGZmZmZmyItAhetRuB6JdUBcj8L1KFB7QMP1KFyPgk9AUrgeheu/hEBmZmZmZgCCQI/C9ShcjytA9ihcj8L1aUC4HoXrUYqOQKRwPQrXw31AKVyPwvUgaED2KFyPwhVLQM3MzMzMxIFAZmZmZma2V0DD9Shcj3CBQFK4HoXrB4JAAAAAAAA+jEDD9ShcjyJgQNejcD0KU4lAzczMzMw8akDNzMzMzGh0QGZmZmZmhoFAUrgeheuvjEApXI/C9VheQD0K16Nw7YxAexSuR+F4i0DsUbgehYtHQFK4HoXrMUhAZmZmZmZmTUCkcD0K14d1QDMzMzMz3YpApHA9CtdzjkA9CtejcAeDQLgehetRPIdAPQrXo3C9UkAAAAAAAMBmQB+F61G4XkVApHA9CteTcUB7FK5H4WKFQFK4HoXrOWdAKVyPwvXsdUDsUbgehUNyQLgehetR1IpAw/UoXI94hEAzMzMzM4OMQFK4HoXrPXBAhetRuB7ZekApXI/C9UBsQIXrUbgeZYJApHA9CtcXc0DsUbgehSGEQI/C9Shcj2hAPQrXo3C/hEBSuB6F6yuPQHsUrkfhGodACtejcD3KhkBI4XoUrluMQKRwPQrXUYpAhetRuB7BfUCamZmZmZuNQEjhehSum3ZA7FG4HoWfd0BSuB6F65FPQAAAAAAA2H1AuB6F61G0gECkcD0K19N1QFyPwvUo/opA9ihcj8LVg0AUrkfheph8QHsUrkfh6n5AMzMzMzPpg0DNzMzMzKxHQArXo3A9uodAj8L1KFyzg0AUrkfhejRhQLgehetRqFJA4XoUrkd1e0DD9Shcj9p2QMP1KFyPAm1AZmZmZmaOgkDXo3A9Ctd3QKRwPQrXr4JAAAAAAADgTEAUrkfhej6BQPYoXI/CQXNAw/UoXI+Ug0CuR+F6FB5yQD0K16NwYYhAZmZmZmbmckDNzMzMzBR1QNejcD0KJ4pAcT0K16OyhkB7FK5H4eJ8QKRwPQrXM1tAcT0K16MciUCkcD0K16WKQFK4HoXr9XRAZmZmZmaud0DsUbgehRWOQDMzMzMzD4lASOF6FK7ZhUB7FK5H4YCMQGZmZmZmrmdAmpmZmZn/ikDsUbgehcmMQM3MzMzMLFJAKVyPwvWQjkC4HoXrUWh7QD0K16NwpWNASOF6FK43hEBI4XoUrgdVQM3MzMzM7E1APQrXo3CXiUApXI/C9UhYQLgehetRXodAFK5H4XqMgUBI4XoUrtmLQM3MzMzMto1AZmZmZmYqdUAAAAAAAHaGQNejcD0Kv3VAcT0K16MIhkApXI/C9byJQFK4HoXrNYNAFK5H4XrSiUCF61G4HgVMQI/C9ShcM4hA9ihcj8IhjkA9CtejcEOKQOxRuB6F6YZAhetRuB7Rf0D2KFyPwo1xQJqZmZmZWWJAhetRuB5likBcj8L1KBxqQKRwPQrXz4xAmpmZmZnNf0CPwvUoXNmHQAAAAAAALIVA9ihcj8JRiUCkcD0K10NPQBSuR+F6dIVAH4XrUbh+akCamZmZmV+DQNejcD0Kp25A9ihcj8L5jEDXo3A9Ctc2QClcj8L1goxAhetRuB5TiEApXI/C9byOQHsUrkfh9ndACtejcD0qZUAfhetRuESGQI/C9ShcP4hArkfhehTAiECF61G4HpGAQLgehetRXHpAFK5H4Xqki0C4HoXrUUhsQBSuR+F65F5AFK5H4Xr6jUC4HoXrUYB4QI/C9ShcOYBAZmZmZmYajEDXo3A9CvdlQOF6FK5HtYNAFK5H4XoqikDNzMzMzFCEQMP1KFyPwkBAPQrXo3DdT0DXo3A9Cn+MQNejcD0Ka3tArkfhehQohEApXI/C9f6FQFyPwvUoqIhAmpmZmZk5eEDXo3A9CtGAQArXo3A9BI5Aw/UoXI/ujUCuR+F6FK5JQArXo3A9enNAFK5H4XooekDNzMzMzARoQOF6FK5HsWdApHA9CtdBhECuR+F6FM5aQPYoXI/CHWFAKVyPwvUojEBcj8L1KMSFQMP1KFyP+I1AcT0K16NYhkAK16NwPVaFQGZmZmZm0nZAzczMzMxIhECamZmZmelwQD0K16Nw6YtArkfhehQciEAK16NwPSCBQMP1KFyPQndA4XoUrkfRYUBmZmZmZrJ/QNejcD0KvYdAFK5H4XoUh0B7FK5H4d6HQHE9CtejMEpA9ihcj8K1jEBcj8L1KAxcQM3MzMzMNoJACtejcD06d0CF61G4Hul3QBSuR+F6mIlAhetRuB6tf0AzMzMzMzuAQJqZmZmZCXdA7FG4HoVHekBI4XoUrkN+QI/C9ShcZ29AAAAAAADKg0D2KFyPwtVlQPYoXI/CfYtAj8L1KFxrfEAUrkfhegCKQOF6FK5HAWZAcT0K16OwbUCkcD0K13uAQEjhehSuC4NApHA9Ctd3i0BmZmZmZraEQMP1KFyPdoBArkfhehSmbUBI4XoUrvN6QBSuR+F60oJAFK5H4XpAhkAUrkfhemSAQFyPwvUo7HlA16NwPQrLcEDXo3A9Cv+OQPYoXI/CXWdAKVyPwvUugkCamZmZmcOKQArXo3A9iohA9ihcj8KhiEBcj8L1KCRlQDMzMzMzz31AmpmZmZmxbEDXo3A9ChuNQFK4HoXrU4ZA4XoUrkfJe0CamZmZmVlpQLgehetRWINAhetRuB5/jkD2KFyPwgeFQBSuR+F6HIdA16NwPQrHhkAzMzMzMx2OQI/C9ShcE41AexSuR+Hyf0BmZmZmZpyNQAAAAAAAyoVAMzMzMzO/h0AUrkfhegyMQLgehetROFNA4XoUrkcRiUAUrkfhev6FQEjhehSuJ4VAcT0K16McfkAzMzMzM52NQLgehetRUG5ASOF6FK5XakAzMzMzM2mIQOxRuB6FTYNASOF6FK6Xd0DhehSuR+FnQKRwPQrXu2xAcT0K16M4fkBmZmZmZu6KQKRwPQrXJ3RAmpmZmZlJgkBxPQrXo0iBQFyPwvUoRHdAexSuR+E2d0CkcD0K15uOQGZmZmZmMIlAuB6F61EQiUApXI/C9bR6QKRwPQrXm4hAH4XrUbhGeUC4HoXrURx+QB+F61G4snBApHA9CtejPUAfhetRuCiCQClcj8L1mHZAUrgehevVi0BxPQrXoyyLQOF6FK5Hk4pAmpmZmZkFdEBxPQrXo2hxQJqZmZmZPXpAMzMzMzPLhEDXo3A9Ck9rQJqZmZmZR4FAKVyPwvU4XEAUrkfhesRzQB+F61G4fmFAXI/C9SjuikAUrkfhekiBQI/C9Shcl4JApHA9CteBgEA=",
          "dtype": "f8"
         },
         "xaxis": "x",
         "xbingroup": "x",
         "y": {
          "bdata": "UrgehetRAMBSuB6F6w1wQMP1KFyPQk/AhetRuB5NZ0AfhetRuPZgQEjhehSu50LA7FG4HoXLRUAUrkfhevxnQIXrUbgeRTFAw/UoXI+6ZkA9CtejcGFyQHE9CtejSGNACtejcD0CZUAK16NwPYo/wOxRuB6F6x9AFK5H4XqkbUBcj8L1KDxOQFyPwvUo7FhAmpmZmZmZ9b9I4XoUrtdRQLgehetRsHJArkfhehSObkDXo3A9CjdRQK5H4XoUzlVA16NwPQoXS8AK16NwPXpSQClcj8L1mGlAFK5H4XrEWUAAAAAAAPBcQAAAAAAAoEvAZmZmZmZmb0DXo3A9CjNyQKRwPQrXa3FAhetRuB75cEDNzMzMzMxNQFK4HoXrwVpA9ihcj8LlVsAUrkfheuRmQDMzMzMze25AexSuR+GKV0Bcj8L1KExWQHsUrkfhGlJAhetRuB6VU8DhehSuR+lnQM3MzMzM3FNA4XoUrkc5b0CPwvUoXLtyQHE9CtejkFdAKVyPwvXIWMAUrkfhelRmQK5H4XoUrjJAuB6F61FIU8C4HoXrUchZQK5H4XoUrhfAZmZmZmYGVcDNzMzMzEwywDMzMzMz00fAAAAAAAAYaUDNzMzMzExfQMP1KFyPgkfAMzMzMzNzQsAK16NwPW5yQPYoXI/CdV5AFK5H4Xr8b0D2KFyPwr1hQD0K16NwJW5ArkfhehTObUBI4XoUrpdUwB+F61G4LlNAuB6F61FgcUAAAAAAAKBgQK5H4XoU7kZAcT0K16PYZEDhehSuR/loQPYoXI/ChVbAXI/C9Si0bkDhehSuR2FMwK5H4XoUtnBAuB6F61GAZEBcj8L1KOxxQB+F61G4rm1A9ihcj8L1EUCF61G4HnVSQBSuR+F6JFpAuB6F61HwZkBxPQrXowBSwDMzMzMzE0nAuB6F61F4PkDXo3A9Cr9kQOF6FK5HYTRAPQrXo3D9UUDXo3A9CjdTQHsUrkfhvnFA4XoUrkexZEAfhetRuA5pQEjhehSuh0TAzczMzMzsaUDsUbgehctKQFK4HoXrcVjA16NwPQqzcUCkcD0K169wQClcj8L14GRAhetRuB4JcECamZmZmcldQB+F61G4FmlArkfhehSuI0DsUbgehStBQHsUrkfhmkpAhetRuB6FT0CF61G4HiVtQEjhehSux2lAMzMzMzNzM0DXo3A9ClciQIXrUbgedWVAhetRuB69cEC4HoXrURhhQFyPwvUo3EbAcT0K16PwPkAzMzMzM9NJQOxRuB6F82hASOF6FK6PakDD9Shcj0I0wHsUrkfhWlZAAAAAAAAABEAfhetRuD5BwArXo3A9SmBAAAAAAAAIZkDhehSuR6E0QEjhehSul19AexSuR+EaUsD2KFyPwp1sQI/C9Shc72xAzczMzMwsW0DhehSuR8lsQOF6FK5HCW1AuB6F61F4VUCuR+F6FG5YQFyPwvUoZGtAmpmZmZmpWkDsUbgehdtXQIXrUbgeFVhAH4XrUbgWZkBI4XoUrhdcQAAAAAAAYFRAuB6F61H4NsCuR+F6FG5oQJqZmZmZIW1A9ihcj8KVV8Bcj8L1KIxTwKRwPQrXI2lAXI/C9SgMU0D2KFyPwsVWQClcj8L1+GJAZmZmZmZ6cUCuR+F6FJ5QQDMzMzMzE0pAhetRuB6NYkDhehSuR+EwwLgehetReD7AAAAAAAD4ZUApXI/C9dhmQClcj8L12HBAFK5H4Xp0XUBcj8L1KNxRwB+F61G43lVAXI/C9SgMWUBxPQrXo/hvQFyPwvUo3CDAhetRuB4dZUDsUbgehes9wGZmZmZmZjvAAAAAAAAAVkB7FK5H4WJuQOF6FK5HYXFAuB6F61G47j/D9Shcj0JdQJqZmZmZoWJAFK5H4XqUMsCamZmZmWlmQM3MzMzMTDhAZmZmZmaOckAUrkfhejRDwAAAAAAAQFdA16NwPQq3SkAAAAAAAAAlQEjhehSuRypASOF6FK6nU0BI4XoUrlddQOxRuB6F6xHAXI/C9Si8aEAfhetRuB5rQAAAAAAAwEjASOF6FK4HU0AfhetRuP5PQHsUrkfh+nFAH4XrUbgWbkDXo3A9CtdiQFyPwvUoXBjA9ihcj8JlUkAzMzMzMzNmQJqZmZmZWTFAFK5H4Xo0UECamZmZmflhQLgehetRqGBASOF6FK7XZEA9CtejcGFxQB+F61G4rlRA7FG4HoWrTMDhehSuR5FyQEjhehSul19ACtejcD3CaEAzMzMzM/M3wPYoXI/CVXBAmpmZmZmpVcAK16NwPQoyQOxRuB6F02pAUrgehetRBkCF61G4HtVVQK5H4XoUtmdACtejcD3qTEBcj8L1KCRlQFK4HoXrQXFACtejcD16YkCF61G4HkVjQArXo3A9qkrAZmZmZmbGSsAzMzMzMzNIQBSuR+F61GdAuB6F61FIYkC4HoXrUXhTQNejcD0Kd0dAFK5H4XoUOMD2KFyPwpVjQI/C9ShcjwTAUrgehevBaUAzMzMzMzMbwPYoXI/CWXJApHA9CtcDTMCkcD0K1+tqQMP1KFyPwlPAAAAAAACgVkDD9Shcj8ImwPYoXI/C2XFAKVyPwvVoTMDXo3A9Ctc8QI/C9ShcJ2NAH4XrUbheYUAfhetRuJZmQEjhehSu529AMzMzMzP7Z0Bcj8L1KNxIQB+F61G4Fm1ASOF6FK6HSEC4HoXrUShfQK5H4XoULm9AhetRuB6FYUC4HoXrUThXQFyPwvUo3CZAXI/C9ShkZEDD9Shcj6JmQGZmZmZm/m5AFK5H4XqMaEA9CtejcF1UQI/C9ShcV2pAw/UoXI/iQsApXI/C9ZhkQArXo3A9iivAmpmZmZmZKkAfhetRuF43QFK4HoXrkTRA4XoUrkcBSsAK16NwPQpKQB+F61G4lm5AZmZmZmY2UcCamZmZmflmQEjhehSu53FAw/UoXI++cECamZmZmfFgQArXo3A9ymhA4XoUrkcpY0AAAAAAAOBDQPYoXI/CtUTAZmZmZmZGZECPwvUoXF9fQBSuR+F63GJAmpmZmZkRY0AUrkfhepRRwPYoXI/CFW1AhetRuB61WUD2KFyPwv1rQDMzMzMzI1lAZmZmZmZebUCamZmZmeFmQB+F61G4snBAMzMzMzPDU8CamZmZmRlPwFyPwvUoFG5ArkfhehSuZEApXI/C9fBmQKRwPQrXYz9A16NwPQpXUUDsUbgehYdxQFyPwvUofEbACtejcD36XEBSuB6F61FvQClcj8L1qDvA4XoUrkehVMBI4XoUrgdiQArXo3A9yjdAPQrXo3AFYEAK16NwPUpZQFK4HoXrUUbAFK5H4Xp0XkAAAAAAAKhpQEjhehSup0/APQrXo3B9UEApXI/C9ZxyQI/C9ShcL07AexSuR+F6RsApXI/C9ehVQHsUrkfheivAexSuR+F6LkDD9Shcj3JjQClcj8L1YHBAcT0K16NAYEA9CtejcD1iQOF6FK5H6WRAuB6F61FoXUAzMzMzMwNWQAAAAAAAYFfAmpmZmZnpYkD2KFyPwnVEQKRwPQrXu2VAcT0K16OwUsCuR+F6FA5rQGZmZmZmenJAuB6F61HYY0DD9Shcj2JAQArXo3A9qmhAcT0K16PAWEDsUbgehRtRwK5H4XoU/lDACtejcD1iZ0CkcD0K18NUwFyPwvUoQHJArkfhehSOa0ApXI/C9eBhQIXrUbgebWpAMzMzMzPDVcBI4XoUrmdIQHsUrkfhmk1AuB6F61FoVsAzMzMzM3NKwAAAAAAAGGJAXI/C9SgkbkAfhetRuAZsQAAAAAAAAF5AexSuR+HucEB7FK5H4bpJwI/C9ShcX1bAMzMzMzNTckDhehSuR6FNQD0K16Nw9WlArkfhehSeY0CkcD0K1/NsQFK4HoXrMUjAZmZmZmamNUD2KFyPwkVxQHE9CtejqHFAcT0K16NQT8DhehSuR7liQJqZmZmZKVbAKVyPwvXYaUCkcD0K19tiQFyPwvUovGtAZmZmZmbuZUCkcD0K12MywHsUrkfhujtAj8L1KFx/WkD2KFyPwvUbQGZmZmZmYnFAH4XrUbhOcEDhehSuRyFCwM3MzMzMvFhA4XoUrkfhK8C4HoXrUWBhQB+F61G4LljAAAAAAADgZ0DsUbgehQNgQM3MzMzMbFlACtejcD2qTsDhehSuR2E0wLgehetRmEbAAAAAAAAUcEAAAAAAAIRyQClcj8L1+FlAZmZmZmZWV8CPwvUoXK9gQNejcD0K1xhAhetRuB6tYEDhehSuR4llQHsUrkfhGlNAmpmZmZkJUECuR+F6FN5aQAAAAAAAgDlAMzMzMzNLZUDXo3A9Chc3wMP1KFyPEnJAZmZmZmbmV0AUrkfheixgQD0K16NwnXFAhetRuB41Z0BSuB6F69EswHE9CtejSGJAhetRuB5hcEAUrkfhelRQQOF6FK5HgUbAuB6F61GIb0DNzMzMzMwtQK5H4XoUDlDAuB6F61H4PcB7FK5H4Xo5wOxRuB6Fy19AcT0K16OQY0A9CtejcM1VQBSuR+F65FRA7FG4HoVrQUAfhetRuE5uQGZmZmZm9mRA9ihcj8L16L8zMzMzMzMbQClcj8L16EVArkfhehQOQsCPwvUoXG9jQClcj8L1SEfAXI/C9SjsXUAUrkfheoRlQHsUrkfhWkZAw/UoXI9ScEDhehSuRzluQFK4HoXr4VdAMzMzMzNTWkDsUbgehSNlQMP1KFyPUmxASOF6FK7nQkApXI/C9RhSwHsUrkfh8mlAFK5H4XoIcEDD9Shcj9pxQArXo3A9knJA16NwPQrXJcAUrkfhenRnQAAAAAAAAPC/w/UoXI9Cb0AAAAAAAChxQMP1KFyPMmFApHA9CteTVMD2KFyPwk1qQClcj8L1qHBAAAAAAABQb0AfhetRuB4kQLgehetRuFFA4XoUrkcRZUD2KFyPwvUzQLgehetRuCPAzczMzMw8X0AAAAAAAAAAQDMzMzMz221Aj8L1KFxvSUB7FK5H4bo4wOF6FK5H+W5APQrXo3D9N8AAAAAAAEhmQIXrUbgeNV5AmpmZmZnZRUBcj8L1KKRrQKRwPQrXI0hAcT0K16NgV8CF61G4HoU1wHsUrkfhOmRAzczMzMzcV0DsUbgehSNoQIXrUbge1VdAXI/C9Sh0bUA9CtejcD1QQPYoXI/CFVjAexSuR+FiY0C4HoXrUThcQM3MzMzMzCNAw/UoXI9+cECF61G4Hn1iQClcj8L1GFHAUrgehetRI8B7FK5H4dpJQBSuR+F6pGZA4XoUrkdBQEBcj8L1KEhwQMP1KFyP2nBAPQrXo3AFbkDD9ShcjyJnQHsUrkfheg7AzczMzMx8aEBI4XoUrhtyQPYoXI/CZVHAzczMzMyMPkApXI/C9ShFQHE9CtejiGRASOF6FK4nZ0BSuB6F67FqQHE9CtejsEzApHA9CtejH0DD9Shcj7JeQClcj8L1yERApHA9CtfDV8CkcD0K1/NeQJqZmZmZGUDAXI/C9SisUsAK16NwPaJqQBSuR+F6lFhAXI/C9SjcNUBSuB6F69E/QClcj8L1qGFA4XoUrkfdcUDhehSuR5lqQPYoXI/ClUxAAAAAAACQXUCamZmZmSlVQLgehetREG1A4XoUrkchNUBcj8L1KPRqQAAAAAAAcFxASOF6FK7nRUC4HoXrUbjmv1K4HoXrkVTAUrgehetRQEBmZmZmZmYmwJqZmZmZOUxAexSuR+GKVsAK16NwPWpQwLgehetRiFRAmpmZmZl5TsBcj8L1KBw0QK5H4XoU5mNAcT0K16MwXkAK16NwPQodwD0K16NwXWRAFK5H4Xr0UUD2KFyPwh1pQHE9CtejsFxAw/UoXI/CE0BxPQrXoxBiQClcj8L1yFRACtejcD0CYUBmZmZmZiY2QDMzMzMz01BAexSuR+GqV0DXo3A9CvdXQLgehetReGJAexSuR+FCbEBcj8L1KCxYQArXo3A9il9Aw/UoXI/CXEBcj8L1KFxLwB+F61G4VmlApHA9CteDTcDXo3A9CsdVwOF6FK5HmXJAMzMzMzMDYkCF61G4Hi1sQEjhehSuV2FAw/UoXI/CG0DhehSuRwFpQB+F61G4nkjAFK5H4XrsbEAfhetRuB5jQGZmZmZmLmNA9ihcj8Jdb0BSuB6F6/FuQD0K16NwXWZA16NwPQr3UUDhehSuR+EqQClcj8L1iFdA16NwPQrPYkBI4XoUrmdCwK5H4XoU7mVAPQrXo3ARcUAfhetRuF5IQDMzMzMzMzZAj8L1KFyvZkDXo3A9Ci9hQEjhehSuR2ZA16NwPQrXIMDD9Shcj4JHQLgehetRKGlAFK5H4XpUX0DXo3A9Cp9nQPYoXI/CTWJAH4XrUbj+RcBxPQrXo/BRQFyPwvUoXOe/rkfhehQGZkCkcD0K1/NZQHE9CtejsGpAhetRuB71WECF61G4HhlxQPYoXI/CpWVAH4XrUbieV8C4HoXrUZhNQBSuR+F6dE5A9ihcj8L1N0CF61G4HiVMQI/C9Shcv1JAw/UoXI9yUkD2KFyPwpVoQI/C9Shcj0bAzczMzMxMW0CF61G4Hv1oQHE9CtejEFbAuB6F61EgckBmZmZmZgZGQGZmZmZmZgBAUrgehevhWUDsUbgehctGQOF6FK5HmXBAFK5H4XoU5r/sUbgehRNgQEjhehSut2tAhetRuB7NbkCkcD0K1zNYwMP1KFyPwgfAMzMzMzNLakCPwvUoXA9xQFyPwvUoLGZA4XoUrkdBSUDsUbgehftbQLgehetREHJAXI/C9SjIcECF61G4HuVoQB+F61G43kxA16NwPQrbcUAfhetRuOZwQI/C9ShcjyFAXI/C9Si8YEBcj8L1KJw5QDMzMzMz8zDACtejcD3qT8Bcj8L1KFRuQAAAAAAAQE1AuB6F61GEckAzMzMzMwNeQArXo3A9CkbA16NwPQqvbEA9CtejcD0MQBSuR+F6zGNAw/UoXI9OcUAAAAAAAABNQLgehetROCzAZmZmZmZGRMCkcD0K1+NYQHsUrkfhmkpApHA9Cteba0AK16NwPZJqQFK4HoXrETzAKVyPwvUIbEBI4XoUrtdpQFK4HoXrUQzAUrgehetxcUBSuB6F64lyQI/C9Shcz2tA9ihcj8JVRED2KFyPwrU4wKRwPQrXM1XAzczMzMzMVkBmZmZmZiZCQBSuR+F61GBAuB6F61G4SEAK16NwPQo9QFyPwvUoxHFAw/UoXI8yX0ApXI/C9ThsQClcj8L18GdAw/UoXI8KakAfhetRuMZwQB+F61G43kXAj8L1KFzPO0BSuB6F61EYQFK4HoXr2WpAKVyPwvUgaEAfhetRuD5EQNejcD0KZ2BA9ihcj8J1a0DD9Shcj4pxQFK4HoXr0UHA9ihcj8JhckBmZmZmZi5kQLgehetROEBA9ihcj8L1MkCuR+F6FH5tQM3MzMzMPFDAPQrXo3BtVsDsUbgehVtWQDMzMzMzH3BAZmZmZmbGb0CamZmZmflSQGZmZmZmxkPAw/UoXI/CQkAK16NwPYptQPYoXI/C9RbA16NwPQo3Z0Bcj8L1KFxpQKRwPQrXw0jAKVyPwvWgbEB7FK5H4dpnQBSuR+F6NF5AMzMzMzPDV8BSuB6F6xFEwBSuR+F6RF9AmpmZmZmZFkDXo3A9ClckQMP1KFyP+m9A9ihcj8KFVkAfhetRuC5rQK5H4XoUvmVAj8L1KFxPU0DD9ShcjxJQwJqZmZmZeWlAw/UoXI/6ZkAK16NwPUJvQFK4HoXr8VPAzczMzMysbEDD9Shcj8IJwK5H4XoUBm9AUrgehethbUBxPQrXo1BLQGZmZmZm3mNApHA9CtdTWkBmZmZmZt5jQClcj8L1wGtA7FG4HoVLSUBcj8L1KNw0QKRwPQrXQ1jA4XoUrkdhTMAzMzMzM5NuQHsUrkfhulpAmpmZmZmJZUApXI/C9SgOQB+F61G4pmBAmpmZmZkZJsAAAAAAABhlQDMzMzMzU29ApHA9CteLaEA9CtejcD1wQPYoXI/CtWhAj8L1KFzHYEC4HoXrUThjQK5H4XoULjbAj8L1KFxPUECuR+F6FG5yQFyPwvUo3DvAhetRuB5FPcAAAAAAAEAwwPYoXI/CrWlArkfhehSuTkB7FK5H4To0wArXo3A9GlxAFK5H4XoU3r/2KFyPwrVKQD0K16NwbVTAH4XrUbjWZUDhehSuR6E4wDMzMzMzX3JAFK5H4Xo0QMBcj8L1KIRjQBSuR+F6NFTA16NwPQrXSsBxPQrXo3BWQD0K16NwlWRA4XoUrkeJZkDNzMzMzLxqQDMzMzMzE21Aj8L1KFwPVcCamZmZmblYwOxRuB6F82RAPQrXo3C9TcAfhetRuC5yQB+F61G4Hj7AFK5H4XoUOUBSuB6F6wFwQClcj8L1HHBA7FG4HoWLQkD2KFyPwnUhQOF6FK5H8WNAw/UoXI8iU8AUrkfhekRXQDMzMzMz80lAj8L1KFx/b0AK16NwPWpLwEjhehSuP2RArkfhehT+ZECF61G4HtVnQMP1KFyP0mxAPQrXo3CdQsAK16NwPSpYQNejcD0K1yXArkfhehQeUcC4HoXrUdhYQClcj8L1OFfA7FG4HoX7WMDsUbgehTtfQOxRuB6Fq0ZA16NwPQrfaUBSuB6F6zFLwGZmZmZm/mxAXI/C9ShsVMAAAAAAAKBoQHsUrkfh+jjAhetRuB7FN8CamZmZmSljQM3MzMzMDFRAcT0K16OQWMB7FK5H4UpXQDMzMzMzU0jAj8L1KFzvSkDXo3A9CtdxQLgehetRoGFASOF6FK7HXUA9CtejcLViQNejcD0Kd0fA16NwPQo3ZkAK16NwPTpfQM3MzMzMGHBA9ihcj8JFW0DXo3A9CldTwNejcD0Kt0TArkfhehQeXUAfhetRuEZlQNejcD0Kt2pAw/UoXI+CS0BI4XoUrkfhPzMzMzMzu2ZA7FG4HoXbcUA9CtejcI1RwJqZmZmZ2VFAhetRuB7NbUAK16NwPQpDwM3MzMzMxGJApHA9CtcDXkDNzMzMzKxxQKRwPQrXs1xAw/UoXI+qZEBSuB6F6yFpQDMzMzMzM0NAcT0K16OgZUD2KFyPwgVdQI/C9Shc31lAAAAAAAAAN8Bcj8L1KKhxQOF6FK5HYS/AhetRuB7FMcBmZmZmZj5xQAAAAAAAWGdArkfhehQ2a0BmZmZmZoZPQI/C9ShcT1fAexSuR+FqYkA9CtejcL1RwArXo3A9ijRAMzMzMzObbECamZmZmblGwI/C9ShcL0XAw/UoXI/iV8B7FK5H4SJgQArXo3A96mhApHA9CtfLY0AAAAAAAFhiQOxRuB6Fe2tAj8L1KFyvUcBI4XoUrsdnQK5H4XoURmRAXI/C9SgcO0CF61G4HoVDwIXrUbgeRUDAexSuR+GKY0BxPQrXo1BAQHE9CtejMDZAPQrXo3DNUMApXI/C9dBvQMP1KFyP+m1AzczMzMzMLcCkcD0K17dyQFyPwvUoXCXAzczMzMwcWUAK16NwPaJkQM3MzMzM7EXAmpmZmZlZV0AzMzMzMzMdwArXo3A9SjHApHA9CteTb0CuR+F6FPZxQFK4HoXrAWBAw/UoXI8qZEBmZmZmZm5wQOF6FK5HAUNAFK5H4Xo0RsCkcD0K16MoQD0K16NwXWdA7FG4HoULQEAK16NwPQphQM3MzMzMbEjAFK5H4XoUVcBI4XoUrs9wQK5H4XoU5mdA9ihcj8KRckB7FK5H4YphQEjhehSux2VA16NwPQoXS0CkcD0K13twQEjhehSuBz3AFK5H4XokXEBxPQrXo0xwQDMzMzMzE0hAPQrXo3Cda0D2KFyPwvX8P4/C9ShcX11AcT0K16P4akDhehSuRwFJQI/C9Shcr0zAXI/C9SicXEA9CtejcH1NQClcj8L16F5A9ihcj8I1akAfhetRuHZkQDMzMzMze3FAexSuR+GKa0DhehSuR91xQDMzMzMzg2FAH4XrUbj+UMDhehSuRyFOQEjhehSuX2FAUrgehetRM8DD9Shcj7JqQOxRuB6FM2VAcT0K16NQUMDXo3A9ChdPQDMzMzMzI1LAmpmZmZnpXkAzMzMzMzMlQB+F61G4PmBAzczMzMzcXkD2KFyPwqVrQB+F61G45nFAAAAAAADIcUBSuB6F65luQB+F61G4LmNArkfhehQ+UEBcj8L1KFwVQPYoXI/CjWxA9ihcj8K1REBI4XoUrqdlQHE9CtejcAnAuB6F61G4vr9mZmZmZgZKwGZmZmZmtmlA7FG4HoUrOkBmZmZmZrZpQD0K16NwVWBApHA9CtcTXUDsUbgehUtqQLgehetRKFjA7FG4HoUrPkCPwvUoXI8UwHE9Ctej4FhAH4XrUbgeTkDNzMzMzMxlQClcj8L1iF5APQrXo3BtaEB7FK5H4RpHwMP1KFyPAjRA16NwPQoHZkCuR+F6FP5iQI/C9ShcD0ZA4XoUrkfBScBmZmZmZv5jQClcj8L1KGVA16NwPQo3SkCPwvUoXIdjQD0K16Nw3VHAH4XrUbgmZEA9CtejcH1TQDMzMzMzczrAH4XrUbhCcUApXI/C9WhNQM3MzMzMXFbASOF6FK5nYkCkcD0K16Pwv4XrUbgebW1AFK5H4XoUPkCamZmZmflGwEjhehSup1RAUrgehet5Y0A=",
          "dtype": "f8"
         },
         "yaxis": "y",
         "ybingroup": "y"
        }
       ],
       "layout": {
        "coloraxis": {
         "colorbar": {
          "title": {
           "text": "count"
          }
         },
         "colorscale": [
          [
           0,
           "#440154"
          ],
          [
           0.1111111111111111,
           "#482878"
          ],
          [
           0.2222222222222222,
           "#3e4989"
          ],
          [
           0.3333333333333333,
           "#31688e"
          ],
          [
           0.4444444444444444,
           "#26828e"
          ],
          [
           0.5555555555555556,
           "#1f9e89"
          ],
          [
           0.6666666666666666,
           "#35b779"
          ],
          [
           0.7777777777777778,
           "#6ece58"
          ],
          [
           0.8888888888888888,
           "#b5de2b"
          ],
          [
           1,
           "#fde725"
          ]
         ]
        },
        "legend": {
         "tracegroupgap": 0
        },
        "template": {
         "data": {
          "bar": [
           {
            "error_x": {
             "color": "#2a3f5f"
            },
            "error_y": {
             "color": "#2a3f5f"
            },
            "marker": {
             "line": {
              "color": "white",
              "width": 0.5
             },
             "pattern": {
              "fillmode": "overlay",
              "size": 10,
              "solidity": 0.2
             }
            },
            "type": "bar"
           }
          ],
          "barpolar": [
           {
            "marker": {
             "line": {
              "color": "white",
              "width": 0.5
             },
             "pattern": {
              "fillmode": "overlay",
              "size": 10,
              "solidity": 0.2
             }
            },
            "type": "barpolar"
           }
          ],
          "carpet": [
           {
            "aaxis": {
             "endlinecolor": "#2a3f5f",
             "gridcolor": "#C8D4E3",
             "linecolor": "#C8D4E3",
             "minorgridcolor": "#C8D4E3",
             "startlinecolor": "#2a3f5f"
            },
            "baxis": {
             "endlinecolor": "#2a3f5f",
             "gridcolor": "#C8D4E3",
             "linecolor": "#C8D4E3",
             "minorgridcolor": "#C8D4E3",
             "startlinecolor": "#2a3f5f"
            },
            "type": "carpet"
           }
          ],
          "choropleth": [
           {
            "colorbar": {
             "outlinewidth": 0,
             "ticks": ""
            },
            "type": "choropleth"
           }
          ],
          "contour": [
           {
            "colorbar": {
             "outlinewidth": 0,
             "ticks": ""
            },
            "colorscale": [
             [
              0,
              "#0d0887"
             ],
             [
              0.1111111111111111,
              "#46039f"
             ],
             [
              0.2222222222222222,
              "#7201a8"
             ],
             [
              0.3333333333333333,
              "#9c179e"
             ],
             [
              0.4444444444444444,
              "#bd3786"
             ],
             [
              0.5555555555555556,
              "#d8576b"
             ],
             [
              0.6666666666666666,
              "#ed7953"
             ],
             [
              0.7777777777777778,
              "#fb9f3a"
             ],
             [
              0.8888888888888888,
              "#fdca26"
             ],
             [
              1,
              "#f0f921"
             ]
            ],
            "type": "contour"
           }
          ],
          "contourcarpet": [
           {
            "colorbar": {
             "outlinewidth": 0,
             "ticks": ""
            },
            "type": "contourcarpet"
           }
          ],
          "heatmap": [
           {
            "colorbar": {
             "outlinewidth": 0,
             "ticks": ""
            },
            "colorscale": [
             [
              0,
              "#0d0887"
             ],
             [
              0.1111111111111111,
              "#46039f"
             ],
             [
              0.2222222222222222,
              "#7201a8"
             ],
             [
              0.3333333333333333,
              "#9c179e"
             ],
             [
              0.4444444444444444,
              "#bd3786"
             ],
             [
              0.5555555555555556,
              "#d8576b"
             ],
             [
              0.6666666666666666,
              "#ed7953"
             ],
             [
              0.7777777777777778,
              "#fb9f3a"
             ],
             [
              0.8888888888888888,
              "#fdca26"
             ],
             [
              1,
              "#f0f921"
             ]
            ],
            "type": "heatmap"
           }
          ],
          "histogram": [
           {
            "marker": {
             "pattern": {
              "fillmode": "overlay",
              "size": 10,
              "solidity": 0.2
             }
            },
            "type": "histogram"
           }
          ],
          "histogram2d": [
           {
            "colorbar": {
             "outlinewidth": 0,
             "ticks": ""
            },
            "colorscale": [
             [
              0,
              "#0d0887"
             ],
             [
              0.1111111111111111,
              "#46039f"
             ],
             [
              0.2222222222222222,
              "#7201a8"
             ],
             [
              0.3333333333333333,
              "#9c179e"
             ],
             [
              0.4444444444444444,
              "#bd3786"
             ],
             [
              0.5555555555555556,
              "#d8576b"
             ],
             [
              0.6666666666666666,
              "#ed7953"
             ],
             [
              0.7777777777777778,
              "#fb9f3a"
             ],
             [
              0.8888888888888888,
              "#fdca26"
             ],
             [
              1,
              "#f0f921"
             ]
            ],
            "type": "histogram2d"
           }
          ],
          "histogram2dcontour": [
           {
            "colorbar": {
             "outlinewidth": 0,
             "ticks": ""
            },
            "colorscale": [
             [
              0,
              "#0d0887"
             ],
             [
              0.1111111111111111,
              "#46039f"
             ],
             [
              0.2222222222222222,
              "#7201a8"
             ],
             [
              0.3333333333333333,
              "#9c179e"
             ],
             [
              0.4444444444444444,
              "#bd3786"
             ],
             [
              0.5555555555555556,
              "#d8576b"
             ],
             [
              0.6666666666666666,
              "#ed7953"
             ],
             [
              0.7777777777777778,
              "#fb9f3a"
             ],
             [
              0.8888888888888888,
              "#fdca26"
             ],
             [
              1,
              "#f0f921"
             ]
            ],
            "type": "histogram2dcontour"
           }
          ],
          "mesh3d": [
           {
            "colorbar": {
             "outlinewidth": 0,
             "ticks": ""
            },
            "type": "mesh3d"
           }
          ],
          "parcoords": [
           {
            "line": {
             "colorbar": {
              "outlinewidth": 0,
              "ticks": ""
             }
            },
            "type": "parcoords"
           }
          ],
          "pie": [
           {
            "automargin": true,
            "type": "pie"
           }
          ],
          "scatter": [
           {
            "fillpattern": {
             "fillmode": "overlay",
             "size": 10,
             "solidity": 0.2
            },
            "type": "scatter"
           }
          ],
          "scatter3d": [
           {
            "line": {
             "colorbar": {
              "outlinewidth": 0,
              "ticks": ""
             }
            },
            "marker": {
             "colorbar": {
              "outlinewidth": 0,
              "ticks": ""
             }
            },
            "type": "scatter3d"
           }
          ],
          "scattercarpet": [
           {
            "marker": {
             "colorbar": {
              "outlinewidth": 0,
              "ticks": ""
             }
            },
            "type": "scattercarpet"
           }
          ],
          "scattergeo": [
           {
            "marker": {
             "colorbar": {
              "outlinewidth": 0,
              "ticks": ""
             }
            },
            "type": "scattergeo"
           }
          ],
          "scattergl": [
           {
            "marker": {
             "colorbar": {
              "outlinewidth": 0,
              "ticks": ""
             }
            },
            "type": "scattergl"
           }
          ],
          "scattermap": [
           {
            "marker": {
             "colorbar": {
              "outlinewidth": 0,
              "ticks": ""
             }
            },
            "type": "scattermap"
           }
          ],
          "scattermapbox": [
           {
            "marker": {
             "colorbar": {
              "outlinewidth": 0,
              "ticks": ""
             }
            },
            "type": "scattermapbox"
           }
          ],
          "scatterpolar": [
           {
            "marker": {
             "colorbar": {
              "outlinewidth": 0,
              "ticks": ""
             }
            },
            "type": "scatterpolar"
           }
          ],
          "scatterpolargl": [
           {
            "marker": {
             "colorbar": {
              "outlinewidth": 0,
              "ticks": ""
             }
            },
            "type": "scatterpolargl"
           }
          ],
          "scatterternary": [
           {
            "marker": {
             "colorbar": {
              "outlinewidth": 0,
              "ticks": ""
             }
            },
            "type": "scatterternary"
           }
          ],
          "surface": [
           {
            "colorbar": {
             "outlinewidth": 0,
             "ticks": ""
            },
            "colorscale": [
             [
              0,
              "#0d0887"
             ],
             [
              0.1111111111111111,
              "#46039f"
             ],
             [
              0.2222222222222222,
              "#7201a8"
             ],
             [
              0.3333333333333333,
              "#9c179e"
             ],
             [
              0.4444444444444444,
              "#bd3786"
             ],
             [
              0.5555555555555556,
              "#d8576b"
             ],
             [
              0.6666666666666666,
              "#ed7953"
             ],
             [
              0.7777777777777778,
              "#fb9f3a"
             ],
             [
              0.8888888888888888,
              "#fdca26"
             ],
             [
              1,
              "#f0f921"
             ]
            ],
            "type": "surface"
           }
          ],
          "table": [
           {
            "cells": {
             "fill": {
              "color": "#EBF0F8"
             },
             "line": {
              "color": "white"
             }
            },
            "header": {
             "fill": {
              "color": "#C8D4E3"
             },
             "line": {
              "color": "white"
             }
            },
            "type": "table"
           }
          ]
         },
         "layout": {
          "annotationdefaults": {
           "arrowcolor": "#2a3f5f",
           "arrowhead": 0,
           "arrowwidth": 1
          },
          "autotypenumbers": "strict",
          "coloraxis": {
           "colorbar": {
            "outlinewidth": 0,
            "ticks": ""
           }
          },
          "colorscale": {
           "diverging": [
            [
             0,
             "#8e0152"
            ],
            [
             0.1,
             "#c51b7d"
            ],
            [
             0.2,
             "#de77ae"
            ],
            [
             0.3,
             "#f1b6da"
            ],
            [
             0.4,
             "#fde0ef"
            ],
            [
             0.5,
             "#f7f7f7"
            ],
            [
             0.6,
             "#e6f5d0"
            ],
            [
             0.7,
             "#b8e186"
            ],
            [
             0.8,
             "#7fbc41"
            ],
            [
             0.9,
             "#4d9221"
            ],
            [
             1,
             "#276419"
            ]
           ],
           "sequential": [
            [
             0,
             "#0d0887"
            ],
            [
             0.1111111111111111,
             "#46039f"
            ],
            [
             0.2222222222222222,
             "#7201a8"
            ],
            [
             0.3333333333333333,
             "#9c179e"
            ],
            [
             0.4444444444444444,
             "#bd3786"
            ],
            [
             0.5555555555555556,
             "#d8576b"
            ],
            [
             0.6666666666666666,
             "#ed7953"
            ],
            [
             0.7777777777777778,
             "#fb9f3a"
            ],
            [
             0.8888888888888888,
             "#fdca26"
            ],
            [
             1,
             "#f0f921"
            ]
           ],
           "sequentialminus": [
            [
             0,
             "#0d0887"
            ],
            [
             0.1111111111111111,
             "#46039f"
            ],
            [
             0.2222222222222222,
             "#7201a8"
            ],
            [
             0.3333333333333333,
             "#9c179e"
            ],
            [
             0.4444444444444444,
             "#bd3786"
            ],
            [
             0.5555555555555556,
             "#d8576b"
            ],
            [
             0.6666666666666666,
             "#ed7953"
            ],
            [
             0.7777777777777778,
             "#fb9f3a"
            ],
            [
             0.8888888888888888,
             "#fdca26"
            ],
            [
             1,
             "#f0f921"
            ]
           ]
          },
          "colorway": [
           "#636efa",
           "#EF553B",
           "#00cc96",
           "#ab63fa",
           "#FFA15A",
           "#19d3f3",
           "#FF6692",
           "#B6E880",
           "#FF97FF",
           "#FECB52"
          ],
          "font": {
           "color": "#2a3f5f"
          },
          "geo": {
           "bgcolor": "white",
           "lakecolor": "white",
           "landcolor": "white",
           "showlakes": true,
           "showland": true,
           "subunitcolor": "#C8D4E3"
          },
          "hoverlabel": {
           "align": "left"
          },
          "hovermode": "closest",
          "mapbox": {
           "style": "light"
          },
          "paper_bgcolor": "white",
          "plot_bgcolor": "white",
          "polar": {
           "angularaxis": {
            "gridcolor": "#EBF0F8",
            "linecolor": "#EBF0F8",
            "ticks": ""
           },
           "bgcolor": "white",
           "radialaxis": {
            "gridcolor": "#EBF0F8",
            "linecolor": "#EBF0F8",
            "ticks": ""
           }
          },
          "scene": {
           "xaxis": {
            "backgroundcolor": "white",
            "gridcolor": "#DFE8F3",
            "gridwidth": 2,
            "linecolor": "#EBF0F8",
            "showbackground": true,
            "ticks": "",
            "zerolinecolor": "#EBF0F8"
           },
           "yaxis": {
            "backgroundcolor": "white",
            "gridcolor": "#DFE8F3",
            "gridwidth": 2,
            "linecolor": "#EBF0F8",
            "showbackground": true,
            "ticks": "",
            "zerolinecolor": "#EBF0F8"
           },
           "zaxis": {
            "backgroundcolor": "white",
            "gridcolor": "#DFE8F3",
            "gridwidth": 2,
            "linecolor": "#EBF0F8",
            "showbackground": true,
            "ticks": "",
            "zerolinecolor": "#EBF0F8"
           }
          },
          "shapedefaults": {
           "line": {
            "color": "#2a3f5f"
           }
          },
          "ternary": {
           "aaxis": {
            "gridcolor": "#DFE8F3",
            "linecolor": "#A2B1C6",
            "ticks": ""
           },
           "baxis": {
            "gridcolor": "#DFE8F3",
            "linecolor": "#A2B1C6",
            "ticks": ""
           },
           "bgcolor": "white",
           "caxis": {
            "gridcolor": "#DFE8F3",
            "linecolor": "#A2B1C6",
            "ticks": ""
           }
          },
          "title": {
           "x": 0.05
          },
          "xaxis": {
           "automargin": true,
           "gridcolor": "#EBF0F8",
           "linecolor": "#EBF0F8",
           "ticks": "",
           "title": {
            "standoff": 15
           },
           "zerolinecolor": "#EBF0F8",
           "zerolinewidth": 2
          },
          "yaxis": {
           "automargin": true,
           "gridcolor": "#EBF0F8",
           "linecolor": "#EBF0F8",
           "ticks": "",
           "title": {
            "standoff": 15
           },
           "zerolinecolor": "#EBF0F8",
           "zerolinewidth": 2
          }
         }
        },
        "title": {
         "text": "Sales vs Profit Density Heatmap"
        },
        "xaxis": {
         "anchor": "y",
         "domain": [
          0,
          1
         ],
         "title": {
          "text": "Sales"
         }
        },
        "yaxis": {
         "anchor": "x",
         "domain": [
          0,
          1
         ],
         "title": {
          "text": "Profit"
         }
        }
       }
      }
     },
     "metadata": {},
     "output_type": "display_data"
    }
   ],
   "source": [
    "# 🌡️ Density Heatmap – Sales vs Profit\n",
    "\n",
    "fig3 = density_heatmap(\n",
    "    df,\n",
    "    x=\"Sales\",\n",
    "    y=\"Profit\",\n",
    "    title=\"Sales vs Profit Density Heatmap\"\n",
    ")\n",
    "fig3.show()"
   ]
  },
  {
   "cell_type": "code",
   "execution_count": 6,
   "id": "6df04c03",
   "metadata": {},
   "outputs": [
    {
     "data": {
      "application/vnd.plotly.v1+json": {
       "config": {
        "plotlyServerURL": "https://plot.ly"
       },
       "data": [
        {
         "contours": {
          "coloring": "none"
         },
         "hovertemplate": "Sales=%{x}<br>Profit=%{y}<br>count=%{z}<extra></extra>",
         "legendgroup": "",
         "line": {
          "color": "#636efa"
         },
         "name": "",
         "showlegend": false,
         "type": "histogram2dcontour",
         "x": {
          "bdata": "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",
          "dtype": "f8"
         },
         "xaxis": "x",
         "xbingroup": "x",
         "y": {
          "bdata": "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",
          "dtype": "f8"
         },
         "yaxis": "y",
         "ybingroup": "y"
        }
       ],
       "layout": {
        "legend": {
         "tracegroupgap": 0
        },
        "template": {
         "data": {
          "bar": [
           {
            "error_x": {
             "color": "#2a3f5f"
            },
            "error_y": {
             "color": "#2a3f5f"
            },
            "marker": {
             "line": {
              "color": "white",
              "width": 0.5
             },
             "pattern": {
              "fillmode": "overlay",
              "size": 10,
              "solidity": 0.2
             }
            },
            "type": "bar"
           }
          ],
          "barpolar": [
           {
            "marker": {
             "line": {
              "color": "white",
              "width": 0.5
             },
             "pattern": {
              "fillmode": "overlay",
              "size": 10,
              "solidity": 0.2
             }
            },
            "type": "barpolar"
           }
          ],
          "carpet": [
           {
            "aaxis": {
             "endlinecolor": "#2a3f5f",
             "gridcolor": "#C8D4E3",
             "linecolor": "#C8D4E3",
             "minorgridcolor": "#C8D4E3",
             "startlinecolor": "#2a3f5f"
            },
            "baxis": {
             "endlinecolor": "#2a3f5f",
             "gridcolor": "#C8D4E3",
             "linecolor": "#C8D4E3",
             "minorgridcolor": "#C8D4E3",
             "startlinecolor": "#2a3f5f"
            },
            "type": "carpet"
           }
          ],
          "choropleth": [
           {
            "colorbar": {
             "outlinewidth": 0,
             "ticks": ""
            },
            "type": "choropleth"
           }
          ],
          "contour": [
           {
            "colorbar": {
             "outlinewidth": 0,
             "ticks": ""
            },
            "colorscale": [
             [
              0,
              "#0d0887"
             ],
             [
              0.1111111111111111,
              "#46039f"
             ],
             [
              0.2222222222222222,
              "#7201a8"
             ],
             [
              0.3333333333333333,
              "#9c179e"
             ],
             [
              0.4444444444444444,
              "#bd3786"
             ],
             [
              0.5555555555555556,
              "#d8576b"
             ],
             [
              0.6666666666666666,
              "#ed7953"
             ],
             [
              0.7777777777777778,
              "#fb9f3a"
             ],
             [
              0.8888888888888888,
              "#fdca26"
             ],
             [
              1,
              "#f0f921"
             ]
            ],
            "type": "contour"
           }
          ],
          "contourcarpet": [
           {
            "colorbar": {
             "outlinewidth": 0,
             "ticks": ""
            },
            "type": "contourcarpet"
           }
          ],
          "heatmap": [
           {
            "colorbar": {
             "outlinewidth": 0,
             "ticks": ""
            },
            "colorscale": [
             [
              0,
              "#0d0887"
             ],
             [
              0.1111111111111111,
              "#46039f"
             ],
             [
              0.2222222222222222,
              "#7201a8"
             ],
             [
              0.3333333333333333,
              "#9c179e"
             ],
             [
              0.4444444444444444,
              "#bd3786"
             ],
             [
              0.5555555555555556,
              "#d8576b"
             ],
             [
              0.6666666666666666,
              "#ed7953"
             ],
             [
              0.7777777777777778,
              "#fb9f3a"
             ],
             [
              0.8888888888888888,
              "#fdca26"
             ],
             [
              1,
              "#f0f921"
             ]
            ],
            "type": "heatmap"
           }
          ],
          "histogram": [
           {
            "marker": {
             "pattern": {
              "fillmode": "overlay",
              "size": 10,
              "solidity": 0.2
             }
            },
            "type": "histogram"
           }
          ],
          "histogram2d": [
           {
            "colorbar": {
             "outlinewidth": 0,
             "ticks": ""
            },
            "colorscale": [
             [
              0,
              "#0d0887"
             ],
             [
              0.1111111111111111,
              "#46039f"
             ],
             [
              0.2222222222222222,
              "#7201a8"
             ],
             [
              0.3333333333333333,
              "#9c179e"
             ],
             [
              0.4444444444444444,
              "#bd3786"
             ],
             [
              0.5555555555555556,
              "#d8576b"
             ],
             [
              0.6666666666666666,
              "#ed7953"
             ],
             [
              0.7777777777777778,
              "#fb9f3a"
             ],
             [
              0.8888888888888888,
              "#fdca26"
             ],
             [
              1,
              "#f0f921"
             ]
            ],
            "type": "histogram2d"
           }
          ],
          "histogram2dcontour": [
           {
            "colorbar": {
             "outlinewidth": 0,
             "ticks": ""
            },
            "colorscale": [
             [
              0,
              "#0d0887"
             ],
             [
              0.1111111111111111,
              "#46039f"
             ],
             [
              0.2222222222222222,
              "#7201a8"
             ],
             [
              0.3333333333333333,
              "#9c179e"
             ],
             [
              0.4444444444444444,
              "#bd3786"
             ],
             [
              0.5555555555555556,
              "#d8576b"
             ],
             [
              0.6666666666666666,
              "#ed7953"
             ],
             [
              0.7777777777777778,
              "#fb9f3a"
             ],
             [
              0.8888888888888888,
              "#fdca26"
             ],
             [
              1,
              "#f0f921"
             ]
            ],
            "type": "histogram2dcontour"
           }
          ],
          "mesh3d": [
           {
            "colorbar": {
             "outlinewidth": 0,
             "ticks": ""
            },
            "type": "mesh3d"
           }
          ],
          "parcoords": [
           {
            "line": {
             "colorbar": {
              "outlinewidth": 0,
              "ticks": ""
             }
            },
            "type": "parcoords"
           }
          ],
          "pie": [
           {
            "automargin": true,
            "type": "pie"
           }
          ],
          "scatter": [
           {
            "fillpattern": {
             "fillmode": "overlay",
             "size": 10,
             "solidity": 0.2
            },
            "type": "scatter"
           }
          ],
          "scatter3d": [
           {
            "line": {
             "colorbar": {
              "outlinewidth": 0,
              "ticks": ""
             }
            },
            "marker": {
             "colorbar": {
              "outlinewidth": 0,
              "ticks": ""
             }
            },
            "type": "scatter3d"
           }
          ],
          "scattercarpet": [
           {
            "marker": {
             "colorbar": {
              "outlinewidth": 0,
              "ticks": ""
             }
            },
            "type": "scattercarpet"
           }
          ],
          "scattergeo": [
           {
            "marker": {
             "colorbar": {
              "outlinewidth": 0,
              "ticks": ""
             }
            },
            "type": "scattergeo"
           }
          ],
          "scattergl": [
           {
            "marker": {
             "colorbar": {
              "outlinewidth": 0,
              "ticks": ""
             }
            },
            "type": "scattergl"
           }
          ],
          "scattermap": [
           {
            "marker": {
             "colorbar": {
              "outlinewidth": 0,
              "ticks": ""
             }
            },
            "type": "scattermap"
           }
          ],
          "scattermapbox": [
           {
            "marker": {
             "colorbar": {
              "outlinewidth": 0,
              "ticks": ""
             }
            },
            "type": "scattermapbox"
           }
          ],
          "scatterpolar": [
           {
            "marker": {
             "colorbar": {
              "outlinewidth": 0,
              "ticks": ""
             }
            },
            "type": "scatterpolar"
           }
          ],
          "scatterpolargl": [
           {
            "marker": {
             "colorbar": {
              "outlinewidth": 0,
              "ticks": ""
             }
            },
            "type": "scatterpolargl"
           }
          ],
          "scatterternary": [
           {
            "marker": {
             "colorbar": {
              "outlinewidth": 0,
              "ticks": ""
             }
            },
            "type": "scatterternary"
           }
          ],
          "surface": [
           {
            "colorbar": {
             "outlinewidth": 0,
             "ticks": ""
            },
            "colorscale": [
             [
              0,
              "#0d0887"
             ],
             [
              0.1111111111111111,
              "#46039f"
             ],
             [
              0.2222222222222222,
              "#7201a8"
             ],
             [
              0.3333333333333333,
              "#9c179e"
             ],
             [
              0.4444444444444444,
              "#bd3786"
             ],
             [
              0.5555555555555556,
              "#d8576b"
             ],
             [
              0.6666666666666666,
              "#ed7953"
             ],
             [
              0.7777777777777778,
              "#fb9f3a"
             ],
             [
              0.8888888888888888,
              "#fdca26"
             ],
             [
              1,
              "#f0f921"
             ]
            ],
            "type": "surface"
           }
          ],
          "table": [
           {
            "cells": {
             "fill": {
              "color": "#EBF0F8"
             },
             "line": {
              "color": "white"
             }
            },
            "header": {
             "fill": {
              "color": "#C8D4E3"
             },
             "line": {
              "color": "white"
             }
            },
            "type": "table"
           }
          ]
         },
         "layout": {
          "annotationdefaults": {
           "arrowcolor": "#2a3f5f",
           "arrowhead": 0,
           "arrowwidth": 1
          },
          "autotypenumbers": "strict",
          "coloraxis": {
           "colorbar": {
            "outlinewidth": 0,
            "ticks": ""
           }
          },
          "colorscale": {
           "diverging": [
            [
             0,
             "#8e0152"
            ],
            [
             0.1,
             "#c51b7d"
            ],
            [
             0.2,
             "#de77ae"
            ],
            [
             0.3,
             "#f1b6da"
            ],
            [
             0.4,
             "#fde0ef"
            ],
            [
             0.5,
             "#f7f7f7"
            ],
            [
             0.6,
             "#e6f5d0"
            ],
            [
             0.7,
             "#b8e186"
            ],
            [
             0.8,
             "#7fbc41"
            ],
            [
             0.9,
             "#4d9221"
            ],
            [
             1,
             "#276419"
            ]
           ],
           "sequential": [
            [
             0,
             "#0d0887"
            ],
            [
             0.1111111111111111,
             "#46039f"
            ],
            [
             0.2222222222222222,
             "#7201a8"
            ],
            [
             0.3333333333333333,
             "#9c179e"
            ],
            [
             0.4444444444444444,
             "#bd3786"
            ],
            [
             0.5555555555555556,
             "#d8576b"
            ],
            [
             0.6666666666666666,
             "#ed7953"
            ],
            [
             0.7777777777777778,
             "#fb9f3a"
            ],
            [
             0.8888888888888888,
             "#fdca26"
            ],
            [
             1,
             "#f0f921"
            ]
           ],
           "sequentialminus": [
            [
             0,
             "#0d0887"
            ],
            [
             0.1111111111111111,
             "#46039f"
            ],
            [
             0.2222222222222222,
             "#7201a8"
            ],
            [
             0.3333333333333333,
             "#9c179e"
            ],
            [
             0.4444444444444444,
             "#bd3786"
            ],
            [
             0.5555555555555556,
             "#d8576b"
            ],
            [
             0.6666666666666666,
             "#ed7953"
            ],
            [
             0.7777777777777778,
             "#fb9f3a"
            ],
            [
             0.8888888888888888,
             "#fdca26"
            ],
            [
             1,
             "#f0f921"
            ]
           ]
          },
          "colorway": [
           "#636efa",
           "#EF553B",
           "#00cc96",
           "#ab63fa",
           "#FFA15A",
           "#19d3f3",
           "#FF6692",
           "#B6E880",
           "#FF97FF",
           "#FECB52"
          ],
          "font": {
           "color": "#2a3f5f"
          },
          "geo": {
           "bgcolor": "white",
           "lakecolor": "white",
           "landcolor": "white",
           "showlakes": true,
           "showland": true,
           "subunitcolor": "#C8D4E3"
          },
          "hoverlabel": {
           "align": "left"
          },
          "hovermode": "closest",
          "mapbox": {
           "style": "light"
          },
          "paper_bgcolor": "white",
          "plot_bgcolor": "white",
          "polar": {
           "angularaxis": {
            "gridcolor": "#EBF0F8",
            "linecolor": "#EBF0F8",
            "ticks": ""
           },
           "bgcolor": "white",
           "radialaxis": {
            "gridcolor": "#EBF0F8",
            "linecolor": "#EBF0F8",
            "ticks": ""
           }
          },
          "scene": {
           "xaxis": {
            "backgroundcolor": "white",
            "gridcolor": "#DFE8F3",
            "gridwidth": 2,
            "linecolor": "#EBF0F8",
            "showbackground": true,
            "ticks": "",
            "zerolinecolor": "#EBF0F8"
           },
           "yaxis": {
            "backgroundcolor": "white",
            "gridcolor": "#DFE8F3",
            "gridwidth": 2,
            "linecolor": "#EBF0F8",
            "showbackground": true,
            "ticks": "",
            "zerolinecolor": "#EBF0F8"
           },
           "zaxis": {
            "backgroundcolor": "white",
            "gridcolor": "#DFE8F3",
            "gridwidth": 2,
            "linecolor": "#EBF0F8",
            "showbackground": true,
            "ticks": "",
            "zerolinecolor": "#EBF0F8"
           }
          },
          "shapedefaults": {
           "line": {
            "color": "#2a3f5f"
           }
          },
          "ternary": {
           "aaxis": {
            "gridcolor": "#DFE8F3",
            "linecolor": "#A2B1C6",
            "ticks": ""
           },
           "baxis": {
            "gridcolor": "#DFE8F3",
            "linecolor": "#A2B1C6",
            "ticks": ""
           },
           "bgcolor": "white",
           "caxis": {
            "gridcolor": "#DFE8F3",
            "linecolor": "#A2B1C6",
            "ticks": ""
           }
          },
          "title": {
           "x": 0.05
          },
          "xaxis": {
           "automargin": true,
           "gridcolor": "#EBF0F8",
           "linecolor": "#EBF0F8",
           "ticks": "",
           "title": {
            "standoff": 15
           },
           "zerolinecolor": "#EBF0F8",
           "zerolinewidth": 2
          },
          "yaxis": {
           "automargin": true,
           "gridcolor": "#EBF0F8",
           "linecolor": "#EBF0F8",
           "ticks": "",
           "title": {
            "standoff": 15
           },
           "zerolinecolor": "#EBF0F8",
           "zerolinewidth": 2
          }
         }
        },
        "title": {
         "text": "Sales vs Profit Density Contour"
        },
        "xaxis": {
         "anchor": "y",
         "domain": [
          0,
          1
         ],
         "title": {
          "text": "Sales"
         }
        },
        "yaxis": {
         "anchor": "x",
         "domain": [
          0,
          1
         ],
         "title": {
          "text": "Profit"
         }
        }
       }
      }
     },
     "metadata": {},
     "output_type": "display_data"
    }
   ],
   "source": [
    "# 📈 KDE-style Density Contour – Sales vs Profit\n",
    "\n",
    "fig4 = density_contour(\n",
    "    df,\n",
    "    x=\"Sales\",\n",
    "    y=\"Profit\",\n",
    "    title=\"Sales vs Profit Density Contour\"\n",
    ")\n",
    "fig4.show()"
   ]
  },
  {
   "cell_type": "code",
   "execution_count": 7,
   "id": "9d076ae6",
   "metadata": {},
   "outputs": [
    {
     "name": "stdout",
     "output_type": "stream",
     "text": [
      "✅ HTML saved to: /Users/satvikpraveen/Desktop/Libraries/PlotlyVizPro/exports/html/03_hist_density_heatmap/profit_histogram.html\n",
      "✅ PNG saved to: /Users/satvikpraveen/Desktop/Libraries/PlotlyVizPro/exports/images/03_hist_density_heatmap/profit_histogram.png\n",
      "✅ HTML saved to: /Users/satvikpraveen/Desktop/Libraries/PlotlyVizPro/exports/html/03_hist_density_heatmap/profit_hist_by_category.html\n",
      "✅ PNG saved to: /Users/satvikpraveen/Desktop/Libraries/PlotlyVizPro/exports/images/03_hist_density_heatmap/profit_hist_by_category.png\n",
      "✅ HTML saved to: /Users/satvikpraveen/Desktop/Libraries/PlotlyVizPro/exports/html/03_hist_density_heatmap/sales_profit_density_heatmap.html\n",
      "✅ PNG saved to: /Users/satvikpraveen/Desktop/Libraries/PlotlyVizPro/exports/images/03_hist_density_heatmap/sales_profit_density_heatmap.png\n",
      "✅ HTML saved to: /Users/satvikpraveen/Desktop/Libraries/PlotlyVizPro/exports/html/03_hist_density_heatmap/sales_profit_density_contour.html\n",
      "✅ PNG saved to: /Users/satvikpraveen/Desktop/Libraries/PlotlyVizPro/exports/images/03_hist_density_heatmap/sales_profit_density_contour.png\n"
     ]
    }
   ],
   "source": [
    "# 💾 Save All Plots\n",
    "\n",
    "save_fig_as_html(fig1, \"profit_histogram.html\", notebook_name=NOTEBOOK_ID)\n",
    "save_fig_as_png(fig1, \"profit_histogram.png\", notebook_name=NOTEBOOK_ID)\n",
    "\n",
    "save_fig_as_html(fig2, \"profit_hist_by_category.html\", notebook_name=NOTEBOOK_ID)\n",
    "save_fig_as_png(fig2, \"profit_hist_by_category.png\", notebook_name=NOTEBOOK_ID)\n",
    "\n",
    "save_fig_as_html(fig3, \"sales_profit_density_heatmap.html\", notebook_name=NOTEBOOK_ID)\n",
    "save_fig_as_png(fig3, \"sales_profit_density_heatmap.png\", notebook_name=NOTEBOOK_ID)\n",
    "\n",
    "save_fig_as_html(fig4, \"sales_profit_density_contour.html\", notebook_name=NOTEBOOK_ID)\n",
    "save_fig_as_png(fig4, \"sales_profit_density_contour.png\", notebook_name=NOTEBOOK_ID)"
   ]
  },
  {
   "cell_type": "markdown",
   "id": "a1d7860b",
   "metadata": {},
   "source": [
    "## ✅ Summary:\n",
    "- Applied Plotly theme globally using `pio.templates.default`  \n",
    "- Loaded the `superstore.csv` dataset  \n",
    "- Plotted histogram, density heatmap, and KDE-style density contour using utility functions  \n",
    "- Saved plots directly to the project’s `exports/html/03_hist_density_heatmap/` and `exports/images/03_hist_density_heatmap/` folders  \n",
    "\n",
    "All future notebooks will follow the same pattern for modularity and clarity.\n"
   ]
  }
 ],
 "metadata": {
  "kernelspec": {
   "display_name": "plotly_env",
   "language": "python",
   "name": "python3"
  },
  "language_info": {
   "codemirror_mode": {
    "name": "ipython",
    "version": 3
   },
   "file_extension": ".py",
   "mimetype": "text/x-python",
   "name": "python",
   "nbconvert_exporter": "python",
   "pygments_lexer": "ipython3",
   "version": "3.11.11"
  }
 },
 "nbformat": 4,
 "nbformat_minor": 5
}
