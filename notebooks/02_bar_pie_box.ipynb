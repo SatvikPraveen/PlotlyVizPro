{
 "cells": [
  {
   "cell_type": "markdown",
   "id": "d72e0433",
   "metadata": {},
   "source": [
    "# 🧩 Notebook 02: Bar, Pie, and Box Plots in Plotly"
   ]
  },
  {
   "cell_type": "code",
   "execution_count": 1,
   "id": "cb029357",
   "metadata": {},
   "outputs": [
    {
     "name": "stdout",
     "output_type": "stream",
     "text": [
      "✅ Plotly Project Utils Loaded\n"
     ]
    }
   ],
   "source": [
    "# 🧩 Notebook 02: Bar, Pie, and Box Plots in Plotly\n",
    "\n",
    "# 📦 Setup & Imports\n",
    "import pandas as pd\n",
    "import sys\n",
    "from pathlib import Path\n",
    "import plotly.io as pio\n",
    "\n",
    "# ✅ Setup path to use utils\n",
    "PROJECT_ROOT = Path.cwd().parent\n",
    "UTILS_DIR = PROJECT_ROOT / \"utils\"\n",
    "if str(UTILS_DIR) not in sys.path:\n",
    "    sys.path.insert(0, str(UTILS_DIR))\n",
    "\n",
    "# 🧰 Custom utilities\n",
    "from plot_utils import (\n",
    "    bar_plot,\n",
    "    pie_chart,\n",
    "    box_plot,\n",
    "    save_fig_as_html,\n",
    "    save_fig_as_png\n",
    ")\n",
    "\n",
    "# 🎨 Apply project-wide theme\n",
    "pio.templates.default = \"plotly_white\"\n",
    "\n",
    "NOTEBOOK_ID = \"02_bar_pie_box\"\n",
    "\n",
    "# 📁 Ensure export folders exist for this notebook\n",
    "EXPORT_BASE = PROJECT_ROOT / \"exports\"\n",
    "EXPORT_HTML = EXPORT_BASE / \"html\" / NOTEBOOK_ID\n",
    "EXPORT_IMG = EXPORT_BASE / \"images\" / NOTEBOOK_ID\n",
    "\n",
    "EXPORT_HTML.mkdir(parents=True, exist_ok=True)\n",
    "EXPORT_IMG.mkdir(parents=True, exist_ok=True)\n",
    "\n",
    "print(\"✅ Plotly Project Utils Loaded\")\n"
   ]
  },
  {
   "cell_type": "code",
   "execution_count": 2,
   "id": "9d2e1afe",
   "metadata": {},
   "outputs": [
    {
     "data": {
      "text/html": [
       "<div>\n",
       "<style scoped>\n",
       "    .dataframe tbody tr th:only-of-type {\n",
       "        vertical-align: middle;\n",
       "    }\n",
       "\n",
       "    .dataframe tbody tr th {\n",
       "        vertical-align: top;\n",
       "    }\n",
       "\n",
       "    .dataframe thead th {\n",
       "        text-align: right;\n",
       "    }\n",
       "</style>\n",
       "<table border=\"1\" class=\"dataframe\">\n",
       "  <thead>\n",
       "    <tr style=\"text-align: right;\">\n",
       "      <th></th>\n",
       "      <th>OrderID</th>\n",
       "      <th>OrderDate</th>\n",
       "      <th>Category</th>\n",
       "      <th>SubCategory</th>\n",
       "      <th>Region</th>\n",
       "      <th>Sales</th>\n",
       "      <th>Profit</th>\n",
       "    </tr>\n",
       "  </thead>\n",
       "  <tbody>\n",
       "    <tr>\n",
       "      <th>0</th>\n",
       "      <td>56bf2d38-cc21-4993-b86a-6715422b9b46</td>\n",
       "      <td>2024-11-05</td>\n",
       "      <td>Technology</td>\n",
       "      <td>Phones</td>\n",
       "      <td>East</td>\n",
       "      <td>744.13</td>\n",
       "      <td>-2.04</td>\n",
       "    </tr>\n",
       "    <tr>\n",
       "      <th>1</th>\n",
       "      <td>8dd59406-ef89-4f24-a639-9a1634c23673</td>\n",
       "      <td>2025-01-30</td>\n",
       "      <td>Furniture</td>\n",
       "      <td>Bookcases</td>\n",
       "      <td>East</td>\n",
       "      <td>679.93</td>\n",
       "      <td>256.87</td>\n",
       "    </tr>\n",
       "    <tr>\n",
       "      <th>2</th>\n",
       "      <td>4a444c57-04f3-417e-b016-f32e17731401</td>\n",
       "      <td>2024-12-21</td>\n",
       "      <td>Furniture</td>\n",
       "      <td>Bookcases</td>\n",
       "      <td>South</td>\n",
       "      <td>41.46</td>\n",
       "      <td>-62.52</td>\n",
       "    </tr>\n",
       "    <tr>\n",
       "      <th>3</th>\n",
       "      <td>3eab8292-a2e8-4bf9-9e1d-45fd2e608a12</td>\n",
       "      <td>2024-09-25</td>\n",
       "      <td>Furniture</td>\n",
       "      <td>Bookcases</td>\n",
       "      <td>East</td>\n",
       "      <td>565.63</td>\n",
       "      <td>186.41</td>\n",
       "    </tr>\n",
       "    <tr>\n",
       "      <th>4</th>\n",
       "      <td>a8e906c3-07c6-4109-a477-9bbae9de08cc</td>\n",
       "      <td>2025-05-19</td>\n",
       "      <td>Technology</td>\n",
       "      <td>Accessories</td>\n",
       "      <td>South</td>\n",
       "      <td>228.24</td>\n",
       "      <td>135.71</td>\n",
       "    </tr>\n",
       "  </tbody>\n",
       "</table>\n",
       "</div>"
      ],
      "text/plain": [
       "                                OrderID   OrderDate    Category  SubCategory  \\\n",
       "0  56bf2d38-cc21-4993-b86a-6715422b9b46  2024-11-05  Technology       Phones   \n",
       "1  8dd59406-ef89-4f24-a639-9a1634c23673  2025-01-30   Furniture    Bookcases   \n",
       "2  4a444c57-04f3-417e-b016-f32e17731401  2024-12-21   Furniture    Bookcases   \n",
       "3  3eab8292-a2e8-4bf9-9e1d-45fd2e608a12  2024-09-25   Furniture    Bookcases   \n",
       "4  a8e906c3-07c6-4109-a477-9bbae9de08cc  2025-05-19  Technology  Accessories   \n",
       "\n",
       "  Region   Sales  Profit  \n",
       "0   East  744.13   -2.04  \n",
       "1   East  679.93  256.87  \n",
       "2  South   41.46  -62.52  \n",
       "3   East  565.63  186.41  \n",
       "4  South  228.24  135.71  "
      ]
     },
     "execution_count": 2,
     "metadata": {},
     "output_type": "execute_result"
    }
   ],
   "source": [
    "# 📊 Load Dataset\n",
    "\n",
    "df = pd.read_csv(PROJECT_ROOT / \"datasets/superstore.csv\")\n",
    "df.head()"
   ]
  },
  {
   "cell_type": "code",
   "execution_count": 3,
   "id": "6bd4064e",
   "metadata": {},
   "outputs": [
    {
     "data": {
      "application/vnd.plotly.v1+json": {
       "config": {
        "plotlyServerURL": "https://plot.ly"
       },
       "data": [
        {
         "alignmentgroup": "True",
         "hovertemplate": "Category=%{x}<br>Sales=%{y}<extra></extra>",
         "legendgroup": "",
         "marker": {
          "color": "#636efa",
          "pattern": {
           "shape": ""
          }
         },
         "name": "",
         "offsetgroup": "",
         "orientation": "v",
         "showlegend": false,
         "textposition": "auto",
         "type": "bar",
         "x": [
          "Furniture",
          "Office Supplies",
          "Technology"
         ],
         "xaxis": "x",
         "y": {
          "bdata": "16NwPVxcA0HhehSuGdsDQfYoXI8OAghB",
          "dtype": "f8"
         },
         "yaxis": "y"
        }
       ],
       "layout": {
        "barmode": "group",
        "legend": {
         "tracegroupgap": 0
        },
        "template": {
         "data": {
          "bar": [
           {
            "error_x": {
             "color": "#2a3f5f"
            },
            "error_y": {
             "color": "#2a3f5f"
            },
            "marker": {
             "line": {
              "color": "white",
              "width": 0.5
             },
             "pattern": {
              "fillmode": "overlay",
              "size": 10,
              "solidity": 0.2
             }
            },
            "type": "bar"
           }
          ],
          "barpolar": [
           {
            "marker": {
             "line": {
              "color": "white",
              "width": 0.5
             },
             "pattern": {
              "fillmode": "overlay",
              "size": 10,
              "solidity": 0.2
             }
            },
            "type": "barpolar"
           }
          ],
          "carpet": [
           {
            "aaxis": {
             "endlinecolor": "#2a3f5f",
             "gridcolor": "#C8D4E3",
             "linecolor": "#C8D4E3",
             "minorgridcolor": "#C8D4E3",
             "startlinecolor": "#2a3f5f"
            },
            "baxis": {
             "endlinecolor": "#2a3f5f",
             "gridcolor": "#C8D4E3",
             "linecolor": "#C8D4E3",
             "minorgridcolor": "#C8D4E3",
             "startlinecolor": "#2a3f5f"
            },
            "type": "carpet"
           }
          ],
          "choropleth": [
           {
            "colorbar": {
             "outlinewidth": 0,
             "ticks": ""
            },
            "type": "choropleth"
           }
          ],
          "contour": [
           {
            "colorbar": {
             "outlinewidth": 0,
             "ticks": ""
            },
            "colorscale": [
             [
              0,
              "#0d0887"
             ],
             [
              0.1111111111111111,
              "#46039f"
             ],
             [
              0.2222222222222222,
              "#7201a8"
             ],
             [
              0.3333333333333333,
              "#9c179e"
             ],
             [
              0.4444444444444444,
              "#bd3786"
             ],
             [
              0.5555555555555556,
              "#d8576b"
             ],
             [
              0.6666666666666666,
              "#ed7953"
             ],
             [
              0.7777777777777778,
              "#fb9f3a"
             ],
             [
              0.8888888888888888,
              "#fdca26"
             ],
             [
              1,
              "#f0f921"
             ]
            ],
            "type": "contour"
           }
          ],
          "contourcarpet": [
           {
            "colorbar": {
             "outlinewidth": 0,
             "ticks": ""
            },
            "type": "contourcarpet"
           }
          ],
          "heatmap": [
           {
            "colorbar": {
             "outlinewidth": 0,
             "ticks": ""
            },
            "colorscale": [
             [
              0,
              "#0d0887"
             ],
             [
              0.1111111111111111,
              "#46039f"
             ],
             [
              0.2222222222222222,
              "#7201a8"
             ],
             [
              0.3333333333333333,
              "#9c179e"
             ],
             [
              0.4444444444444444,
              "#bd3786"
             ],
             [
              0.5555555555555556,
              "#d8576b"
             ],
             [
              0.6666666666666666,
              "#ed7953"
             ],
             [
              0.7777777777777778,
              "#fb9f3a"
             ],
             [
              0.8888888888888888,
              "#fdca26"
             ],
             [
              1,
              "#f0f921"
             ]
            ],
            "type": "heatmap"
           }
          ],
          "histogram": [
           {
            "marker": {
             "pattern": {
              "fillmode": "overlay",
              "size": 10,
              "solidity": 0.2
             }
            },
            "type": "histogram"
           }
          ],
          "histogram2d": [
           {
            "colorbar": {
             "outlinewidth": 0,
             "ticks": ""
            },
            "colorscale": [
             [
              0,
              "#0d0887"
             ],
             [
              0.1111111111111111,
              "#46039f"
             ],
             [
              0.2222222222222222,
              "#7201a8"
             ],
             [
              0.3333333333333333,
              "#9c179e"
             ],
             [
              0.4444444444444444,
              "#bd3786"
             ],
             [
              0.5555555555555556,
              "#d8576b"
             ],
             [
              0.6666666666666666,
              "#ed7953"
             ],
             [
              0.7777777777777778,
              "#fb9f3a"
             ],
             [
              0.8888888888888888,
              "#fdca26"
             ],
             [
              1,
              "#f0f921"
             ]
            ],
            "type": "histogram2d"
           }
          ],
          "histogram2dcontour": [
           {
            "colorbar": {
             "outlinewidth": 0,
             "ticks": ""
            },
            "colorscale": [
             [
              0,
              "#0d0887"
             ],
             [
              0.1111111111111111,
              "#46039f"
             ],
             [
              0.2222222222222222,
              "#7201a8"
             ],
             [
              0.3333333333333333,
              "#9c179e"
             ],
             [
              0.4444444444444444,
              "#bd3786"
             ],
             [
              0.5555555555555556,
              "#d8576b"
             ],
             [
              0.6666666666666666,
              "#ed7953"
             ],
             [
              0.7777777777777778,
              "#fb9f3a"
             ],
             [
              0.8888888888888888,
              "#fdca26"
             ],
             [
              1,
              "#f0f921"
             ]
            ],
            "type": "histogram2dcontour"
           }
          ],
          "mesh3d": [
           {
            "colorbar": {
             "outlinewidth": 0,
             "ticks": ""
            },
            "type": "mesh3d"
           }
          ],
          "parcoords": [
           {
            "line": {
             "colorbar": {
              "outlinewidth": 0,
              "ticks": ""
             }
            },
            "type": "parcoords"
           }
          ],
          "pie": [
           {
            "automargin": true,
            "type": "pie"
           }
          ],
          "scatter": [
           {
            "fillpattern": {
             "fillmode": "overlay",
             "size": 10,
             "solidity": 0.2
            },
            "type": "scatter"
           }
          ],
          "scatter3d": [
           {
            "line": {
             "colorbar": {
              "outlinewidth": 0,
              "ticks": ""
             }
            },
            "marker": {
             "colorbar": {
              "outlinewidth": 0,
              "ticks": ""
             }
            },
            "type": "scatter3d"
           }
          ],
          "scattercarpet": [
           {
            "marker": {
             "colorbar": {
              "outlinewidth": 0,
              "ticks": ""
             }
            },
            "type": "scattercarpet"
           }
          ],
          "scattergeo": [
           {
            "marker": {
             "colorbar": {
              "outlinewidth": 0,
              "ticks": ""
             }
            },
            "type": "scattergeo"
           }
          ],
          "scattergl": [
           {
            "marker": {
             "colorbar": {
              "outlinewidth": 0,
              "ticks": ""
             }
            },
            "type": "scattergl"
           }
          ],
          "scattermap": [
           {
            "marker": {
             "colorbar": {
              "outlinewidth": 0,
              "ticks": ""
             }
            },
            "type": "scattermap"
           }
          ],
          "scattermapbox": [
           {
            "marker": {
             "colorbar": {
              "outlinewidth": 0,
              "ticks": ""
             }
            },
            "type": "scattermapbox"
           }
          ],
          "scatterpolar": [
           {
            "marker": {
             "colorbar": {
              "outlinewidth": 0,
              "ticks": ""
             }
            },
            "type": "scatterpolar"
           }
          ],
          "scatterpolargl": [
           {
            "marker": {
             "colorbar": {
              "outlinewidth": 0,
              "ticks": ""
             }
            },
            "type": "scatterpolargl"
           }
          ],
          "scatterternary": [
           {
            "marker": {
             "colorbar": {
              "outlinewidth": 0,
              "ticks": ""
             }
            },
            "type": "scatterternary"
           }
          ],
          "surface": [
           {
            "colorbar": {
             "outlinewidth": 0,
             "ticks": ""
            },
            "colorscale": [
             [
              0,
              "#0d0887"
             ],
             [
              0.1111111111111111,
              "#46039f"
             ],
             [
              0.2222222222222222,
              "#7201a8"
             ],
             [
              0.3333333333333333,
              "#9c179e"
             ],
             [
              0.4444444444444444,
              "#bd3786"
             ],
             [
              0.5555555555555556,
              "#d8576b"
             ],
             [
              0.6666666666666666,
              "#ed7953"
             ],
             [
              0.7777777777777778,
              "#fb9f3a"
             ],
             [
              0.8888888888888888,
              "#fdca26"
             ],
             [
              1,
              "#f0f921"
             ]
            ],
            "type": "surface"
           }
          ],
          "table": [
           {
            "cells": {
             "fill": {
              "color": "#EBF0F8"
             },
             "line": {
              "color": "white"
             }
            },
            "header": {
             "fill": {
              "color": "#C8D4E3"
             },
             "line": {
              "color": "white"
             }
            },
            "type": "table"
           }
          ]
         },
         "layout": {
          "annotationdefaults": {
           "arrowcolor": "#2a3f5f",
           "arrowhead": 0,
           "arrowwidth": 1
          },
          "autotypenumbers": "strict",
          "coloraxis": {
           "colorbar": {
            "outlinewidth": 0,
            "ticks": ""
           }
          },
          "colorscale": {
           "diverging": [
            [
             0,
             "#8e0152"
            ],
            [
             0.1,
             "#c51b7d"
            ],
            [
             0.2,
             "#de77ae"
            ],
            [
             0.3,
             "#f1b6da"
            ],
            [
             0.4,
             "#fde0ef"
            ],
            [
             0.5,
             "#f7f7f7"
            ],
            [
             0.6,
             "#e6f5d0"
            ],
            [
             0.7,
             "#b8e186"
            ],
            [
             0.8,
             "#7fbc41"
            ],
            [
             0.9,
             "#4d9221"
            ],
            [
             1,
             "#276419"
            ]
           ],
           "sequential": [
            [
             0,
             "#0d0887"
            ],
            [
             0.1111111111111111,
             "#46039f"
            ],
            [
             0.2222222222222222,
             "#7201a8"
            ],
            [
             0.3333333333333333,
             "#9c179e"
            ],
            [
             0.4444444444444444,
             "#bd3786"
            ],
            [
             0.5555555555555556,
             "#d8576b"
            ],
            [
             0.6666666666666666,
             "#ed7953"
            ],
            [
             0.7777777777777778,
             "#fb9f3a"
            ],
            [
             0.8888888888888888,
             "#fdca26"
            ],
            [
             1,
             "#f0f921"
            ]
           ],
           "sequentialminus": [
            [
             0,
             "#0d0887"
            ],
            [
             0.1111111111111111,
             "#46039f"
            ],
            [
             0.2222222222222222,
             "#7201a8"
            ],
            [
             0.3333333333333333,
             "#9c179e"
            ],
            [
             0.4444444444444444,
             "#bd3786"
            ],
            [
             0.5555555555555556,
             "#d8576b"
            ],
            [
             0.6666666666666666,
             "#ed7953"
            ],
            [
             0.7777777777777778,
             "#fb9f3a"
            ],
            [
             0.8888888888888888,
             "#fdca26"
            ],
            [
             1,
             "#f0f921"
            ]
           ]
          },
          "colorway": [
           "#636efa",
           "#EF553B",
           "#00cc96",
           "#ab63fa",
           "#FFA15A",
           "#19d3f3",
           "#FF6692",
           "#B6E880",
           "#FF97FF",
           "#FECB52"
          ],
          "font": {
           "color": "#2a3f5f"
          },
          "geo": {
           "bgcolor": "white",
           "lakecolor": "white",
           "landcolor": "white",
           "showlakes": true,
           "showland": true,
           "subunitcolor": "#C8D4E3"
          },
          "hoverlabel": {
           "align": "left"
          },
          "hovermode": "closest",
          "mapbox": {
           "style": "light"
          },
          "paper_bgcolor": "white",
          "plot_bgcolor": "white",
          "polar": {
           "angularaxis": {
            "gridcolor": "#EBF0F8",
            "linecolor": "#EBF0F8",
            "ticks": ""
           },
           "bgcolor": "white",
           "radialaxis": {
            "gridcolor": "#EBF0F8",
            "linecolor": "#EBF0F8",
            "ticks": ""
           }
          },
          "scene": {
           "xaxis": {
            "backgroundcolor": "white",
            "gridcolor": "#DFE8F3",
            "gridwidth": 2,
            "linecolor": "#EBF0F8",
            "showbackground": true,
            "ticks": "",
            "zerolinecolor": "#EBF0F8"
           },
           "yaxis": {
            "backgroundcolor": "white",
            "gridcolor": "#DFE8F3",
            "gridwidth": 2,
            "linecolor": "#EBF0F8",
            "showbackground": true,
            "ticks": "",
            "zerolinecolor": "#EBF0F8"
           },
           "zaxis": {
            "backgroundcolor": "white",
            "gridcolor": "#DFE8F3",
            "gridwidth": 2,
            "linecolor": "#EBF0F8",
            "showbackground": true,
            "ticks": "",
            "zerolinecolor": "#EBF0F8"
           }
          },
          "shapedefaults": {
           "line": {
            "color": "#2a3f5f"
           }
          },
          "ternary": {
           "aaxis": {
            "gridcolor": "#DFE8F3",
            "linecolor": "#A2B1C6",
            "ticks": ""
           },
           "baxis": {
            "gridcolor": "#DFE8F3",
            "linecolor": "#A2B1C6",
            "ticks": ""
           },
           "bgcolor": "white",
           "caxis": {
            "gridcolor": "#DFE8F3",
            "linecolor": "#A2B1C6",
            "ticks": ""
           }
          },
          "title": {
           "x": 0.05
          },
          "xaxis": {
           "automargin": true,
           "gridcolor": "#EBF0F8",
           "linecolor": "#EBF0F8",
           "ticks": "",
           "title": {
            "standoff": 15
           },
           "zerolinecolor": "#EBF0F8",
           "zerolinewidth": 2
          },
          "yaxis": {
           "automargin": true,
           "gridcolor": "#EBF0F8",
           "linecolor": "#EBF0F8",
           "ticks": "",
           "title": {
            "standoff": 15
           },
           "zerolinecolor": "#EBF0F8",
           "zerolinewidth": 2
          }
         }
        },
        "title": {
         "text": "Total Sales by Category"
        },
        "xaxis": {
         "anchor": "y",
         "domain": [
          0,
          1
         ],
         "title": {
          "text": "Category"
         }
        },
        "yaxis": {
         "anchor": "x",
         "domain": [
          0,
          1
         ],
         "title": {
          "text": "Sales"
         }
        }
       }
      }
     },
     "metadata": {},
     "output_type": "display_data"
    }
   ],
   "source": [
    "# 📘 Bar Plot – Sales by Category\n",
    "\n",
    "bar_df = df.groupby(\"Category\")[\"Sales\"].sum().reset_index()\n",
    "fig1 = bar_plot(bar_df, x=\"Category\", y=\"Sales\", title=\"Total Sales by Category\")\n",
    "fig1.show()"
   ]
  },
  {
   "cell_type": "code",
   "execution_count": 4,
   "id": "3a391230",
   "metadata": {},
   "outputs": [
    {
     "data": {
      "application/vnd.plotly.v1+json": {
       "config": {
        "plotlyServerURL": "https://plot.ly"
       },
       "data": [
        {
         "alignmentgroup": "True",
         "hovertemplate": "Region=Central<br>SubCategory=%{x}<br>Sales=%{y}<extra></extra>",
         "legendgroup": "Central",
         "marker": {
          "color": "#636efa",
          "pattern": {
           "shape": ""
          }
         },
         "name": "Central",
         "offsetgroup": "Central",
         "orientation": "v",
         "showlegend": true,
         "textposition": "auto",
         "type": "bar",
         "x": [
          "Accessories",
          "Binders",
          "Bookcases",
          "Chairs",
          "Laptops",
          "Paper",
          "Pens",
          "Phones",
          "Tables"
         ],
         "xaxis": "x",
         "y": {
          "bdata": "9ihcj0JvyEDC9Shc71/IQK5H4Xo0ZshACtejcF2hyEBmZmZm9iXRQKRwPQqnb9BAcT0K10PqzECPwvUoHLPIQJqZmZn5mc5A",
          "dtype": "f8"
         },
         "yaxis": "y"
        },
        {
         "alignmentgroup": "True",
         "hovertemplate": "Region=East<br>SubCategory=%{x}<br>Sales=%{y}<extra></extra>",
         "legendgroup": "East",
         "marker": {
          "color": "#EF553B",
          "pattern": {
           "shape": ""
          }
         },
         "name": "East",
         "offsetgroup": "East",
         "orientation": "v",
         "showlegend": true,
         "textposition": "auto",
         "type": "bar",
         "x": [
          "Accessories",
          "Binders",
          "Bookcases",
          "Chairs",
          "Laptops",
          "Paper",
          "Pens",
          "Phones",
          "Tables"
         ],
         "xaxis": "x",
         "y": {
          "bdata": "SOF6FB6u00CF61G4/sjCQJqZmZm5R8hAAAAAAICpvkCkcD0KB33SQEjhehTuzsJACtejcH3E0UCkcD0Kx2nQQMP1KFwP+MhA",
          "dtype": "f8"
         },
         "yaxis": "y"
        },
        {
         "alignmentgroup": "True",
         "hovertemplate": "Region=South<br>SubCategory=%{x}<br>Sales=%{y}<extra></extra>",
         "legendgroup": "South",
         "marker": {
          "color": "#00cc96",
          "pattern": {
           "shape": ""
          }
         },
         "name": "South",
         "offsetgroup": "South",
         "orientation": "v",
         "showlegend": true,
         "textposition": "auto",
         "type": "bar",
         "x": [
          "Accessories",
          "Binders",
          "Bookcases",
          "Chairs",
          "Laptops",
          "Paper",
          "Pens",
          "Phones",
          "Tables"
         ],
         "xaxis": "x",
         "y": {
          "bdata": "UrgehatCzkCkcD0KN+zKQMP1KFyvcslAexSuR8GZyEAzMzMz0y7NQML1KFyvNsdAZmZmZgaTy0CPwvUoXNrRQClcj8LFr9BA",
          "dtype": "f8"
         },
         "yaxis": "y"
        },
        {
         "alignmentgroup": "True",
         "hovertemplate": "Region=West<br>SubCategory=%{x}<br>Sales=%{y}<extra></extra>",
         "legendgroup": "West",
         "marker": {
          "color": "#ab63fa",
          "pattern": {
           "shape": ""
          }
         },
         "name": "West",
         "offsetgroup": "West",
         "orientation": "v",
         "showlegend": true,
         "textposition": "auto",
         "type": "bar",
         "x": [
          "Accessories",
          "Binders",
          "Bookcases",
          "Chairs",
          "Laptops",
          "Paper",
          "Pens",
          "Phones",
          "Tables"
         ],
         "xaxis": "x",
         "y": {
          "bdata": "PgrXo/AE00CF61G4XkbLQEjhehQuUslAAAAAAEAg0UAK16Nw7RvTQOF6FK7ngc1AhetRuP7ox0C4HoXr0SDEQOtRuB4FkcZA",
          "dtype": "f8"
         },
         "yaxis": "y"
        }
       ],
       "layout": {
        "barmode": "group",
        "legend": {
         "title": {
          "text": "Region"
         },
         "tracegroupgap": 0
        },
        "template": {
         "data": {
          "bar": [
           {
            "error_x": {
             "color": "#2a3f5f"
            },
            "error_y": {
             "color": "#2a3f5f"
            },
            "marker": {
             "line": {
              "color": "white",
              "width": 0.5
             },
             "pattern": {
              "fillmode": "overlay",
              "size": 10,
              "solidity": 0.2
             }
            },
            "type": "bar"
           }
          ],
          "barpolar": [
           {
            "marker": {
             "line": {
              "color": "white",
              "width": 0.5
             },
             "pattern": {
              "fillmode": "overlay",
              "size": 10,
              "solidity": 0.2
             }
            },
            "type": "barpolar"
           }
          ],
          "carpet": [
           {
            "aaxis": {
             "endlinecolor": "#2a3f5f",
             "gridcolor": "#C8D4E3",
             "linecolor": "#C8D4E3",
             "minorgridcolor": "#C8D4E3",
             "startlinecolor": "#2a3f5f"
            },
            "baxis": {
             "endlinecolor": "#2a3f5f",
             "gridcolor": "#C8D4E3",
             "linecolor": "#C8D4E3",
             "minorgridcolor": "#C8D4E3",
             "startlinecolor": "#2a3f5f"
            },
            "type": "carpet"
           }
          ],
          "choropleth": [
           {
            "colorbar": {
             "outlinewidth": 0,
             "ticks": ""
            },
            "type": "choropleth"
           }
          ],
          "contour": [
           {
            "colorbar": {
             "outlinewidth": 0,
             "ticks": ""
            },
            "colorscale": [
             [
              0,
              "#0d0887"
             ],
             [
              0.1111111111111111,
              "#46039f"
             ],
             [
              0.2222222222222222,
              "#7201a8"
             ],
             [
              0.3333333333333333,
              "#9c179e"
             ],
             [
              0.4444444444444444,
              "#bd3786"
             ],
             [
              0.5555555555555556,
              "#d8576b"
             ],
             [
              0.6666666666666666,
              "#ed7953"
             ],
             [
              0.7777777777777778,
              "#fb9f3a"
             ],
             [
              0.8888888888888888,
              "#fdca26"
             ],
             [
              1,
              "#f0f921"
             ]
            ],
            "type": "contour"
           }
          ],
          "contourcarpet": [
           {
            "colorbar": {
             "outlinewidth": 0,
             "ticks": ""
            },
            "type": "contourcarpet"
           }
          ],
          "heatmap": [
           {
            "colorbar": {
             "outlinewidth": 0,
             "ticks": ""
            },
            "colorscale": [
             [
              0,
              "#0d0887"
             ],
             [
              0.1111111111111111,
              "#46039f"
             ],
             [
              0.2222222222222222,
              "#7201a8"
             ],
             [
              0.3333333333333333,
              "#9c179e"
             ],
             [
              0.4444444444444444,
              "#bd3786"
             ],
             [
              0.5555555555555556,
              "#d8576b"
             ],
             [
              0.6666666666666666,
              "#ed7953"
             ],
             [
              0.7777777777777778,
              "#fb9f3a"
             ],
             [
              0.8888888888888888,
              "#fdca26"
             ],
             [
              1,
              "#f0f921"
             ]
            ],
            "type": "heatmap"
           }
          ],
          "histogram": [
           {
            "marker": {
             "pattern": {
              "fillmode": "overlay",
              "size": 10,
              "solidity": 0.2
             }
            },
            "type": "histogram"
           }
          ],
          "histogram2d": [
           {
            "colorbar": {
             "outlinewidth": 0,
             "ticks": ""
            },
            "colorscale": [
             [
              0,
              "#0d0887"
             ],
             [
              0.1111111111111111,
              "#46039f"
             ],
             [
              0.2222222222222222,
              "#7201a8"
             ],
             [
              0.3333333333333333,
              "#9c179e"
             ],
             [
              0.4444444444444444,
              "#bd3786"
             ],
             [
              0.5555555555555556,
              "#d8576b"
             ],
             [
              0.6666666666666666,
              "#ed7953"
             ],
             [
              0.7777777777777778,
              "#fb9f3a"
             ],
             [
              0.8888888888888888,
              "#fdca26"
             ],
             [
              1,
              "#f0f921"
             ]
            ],
            "type": "histogram2d"
           }
          ],
          "histogram2dcontour": [
           {
            "colorbar": {
             "outlinewidth": 0,
             "ticks": ""
            },
            "colorscale": [
             [
              0,
              "#0d0887"
             ],
             [
              0.1111111111111111,
              "#46039f"
             ],
             [
              0.2222222222222222,
              "#7201a8"
             ],
             [
              0.3333333333333333,
              "#9c179e"
             ],
             [
              0.4444444444444444,
              "#bd3786"
             ],
             [
              0.5555555555555556,
              "#d8576b"
             ],
             [
              0.6666666666666666,
              "#ed7953"
             ],
             [
              0.7777777777777778,
              "#fb9f3a"
             ],
             [
              0.8888888888888888,
              "#fdca26"
             ],
             [
              1,
              "#f0f921"
             ]
            ],
            "type": "histogram2dcontour"
           }
          ],
          "mesh3d": [
           {
            "colorbar": {
             "outlinewidth": 0,
             "ticks": ""
            },
            "type": "mesh3d"
           }
          ],
          "parcoords": [
           {
            "line": {
             "colorbar": {
              "outlinewidth": 0,
              "ticks": ""
             }
            },
            "type": "parcoords"
           }
          ],
          "pie": [
           {
            "automargin": true,
            "type": "pie"
           }
          ],
          "scatter": [
           {
            "fillpattern": {
             "fillmode": "overlay",
             "size": 10,
             "solidity": 0.2
            },
            "type": "scatter"
           }
          ],
          "scatter3d": [
           {
            "line": {
             "colorbar": {
              "outlinewidth": 0,
              "ticks": ""
             }
            },
            "marker": {
             "colorbar": {
              "outlinewidth": 0,
              "ticks": ""
             }
            },
            "type": "scatter3d"
           }
          ],
          "scattercarpet": [
           {
            "marker": {
             "colorbar": {
              "outlinewidth": 0,
              "ticks": ""
             }
            },
            "type": "scattercarpet"
           }
          ],
          "scattergeo": [
           {
            "marker": {
             "colorbar": {
              "outlinewidth": 0,
              "ticks": ""
             }
            },
            "type": "scattergeo"
           }
          ],
          "scattergl": [
           {
            "marker": {
             "colorbar": {
              "outlinewidth": 0,
              "ticks": ""
             }
            },
            "type": "scattergl"
           }
          ],
          "scattermap": [
           {
            "marker": {
             "colorbar": {
              "outlinewidth": 0,
              "ticks": ""
             }
            },
            "type": "scattermap"
           }
          ],
          "scattermapbox": [
           {
            "marker": {
             "colorbar": {
              "outlinewidth": 0,
              "ticks": ""
             }
            },
            "type": "scattermapbox"
           }
          ],
          "scatterpolar": [
           {
            "marker": {
             "colorbar": {
              "outlinewidth": 0,
              "ticks": ""
             }
            },
            "type": "scatterpolar"
           }
          ],
          "scatterpolargl": [
           {
            "marker": {
             "colorbar": {
              "outlinewidth": 0,
              "ticks": ""
             }
            },
            "type": "scatterpolargl"
           }
          ],
          "scatterternary": [
           {
            "marker": {
             "colorbar": {
              "outlinewidth": 0,
              "ticks": ""
             }
            },
            "type": "scatterternary"
           }
          ],
          "surface": [
           {
            "colorbar": {
             "outlinewidth": 0,
             "ticks": ""
            },
            "colorscale": [
             [
              0,
              "#0d0887"
             ],
             [
              0.1111111111111111,
              "#46039f"
             ],
             [
              0.2222222222222222,
              "#7201a8"
             ],
             [
              0.3333333333333333,
              "#9c179e"
             ],
             [
              0.4444444444444444,
              "#bd3786"
             ],
             [
              0.5555555555555556,
              "#d8576b"
             ],
             [
              0.6666666666666666,
              "#ed7953"
             ],
             [
              0.7777777777777778,
              "#fb9f3a"
             ],
             [
              0.8888888888888888,
              "#fdca26"
             ],
             [
              1,
              "#f0f921"
             ]
            ],
            "type": "surface"
           }
          ],
          "table": [
           {
            "cells": {
             "fill": {
              "color": "#EBF0F8"
             },
             "line": {
              "color": "white"
             }
            },
            "header": {
             "fill": {
              "color": "#C8D4E3"
             },
             "line": {
              "color": "white"
             }
            },
            "type": "table"
           }
          ]
         },
         "layout": {
          "annotationdefaults": {
           "arrowcolor": "#2a3f5f",
           "arrowhead": 0,
           "arrowwidth": 1
          },
          "autotypenumbers": "strict",
          "coloraxis": {
           "colorbar": {
            "outlinewidth": 0,
            "ticks": ""
           }
          },
          "colorscale": {
           "diverging": [
            [
             0,
             "#8e0152"
            ],
            [
             0.1,
             "#c51b7d"
            ],
            [
             0.2,
             "#de77ae"
            ],
            [
             0.3,
             "#f1b6da"
            ],
            [
             0.4,
             "#fde0ef"
            ],
            [
             0.5,
             "#f7f7f7"
            ],
            [
             0.6,
             "#e6f5d0"
            ],
            [
             0.7,
             "#b8e186"
            ],
            [
             0.8,
             "#7fbc41"
            ],
            [
             0.9,
             "#4d9221"
            ],
            [
             1,
             "#276419"
            ]
           ],
           "sequential": [
            [
             0,
             "#0d0887"
            ],
            [
             0.1111111111111111,
             "#46039f"
            ],
            [
             0.2222222222222222,
             "#7201a8"
            ],
            [
             0.3333333333333333,
             "#9c179e"
            ],
            [
             0.4444444444444444,
             "#bd3786"
            ],
            [
             0.5555555555555556,
             "#d8576b"
            ],
            [
             0.6666666666666666,
             "#ed7953"
            ],
            [
             0.7777777777777778,
             "#fb9f3a"
            ],
            [
             0.8888888888888888,
             "#fdca26"
            ],
            [
             1,
             "#f0f921"
            ]
           ],
           "sequentialminus": [
            [
             0,
             "#0d0887"
            ],
            [
             0.1111111111111111,
             "#46039f"
            ],
            [
             0.2222222222222222,
             "#7201a8"
            ],
            [
             0.3333333333333333,
             "#9c179e"
            ],
            [
             0.4444444444444444,
             "#bd3786"
            ],
            [
             0.5555555555555556,
             "#d8576b"
            ],
            [
             0.6666666666666666,
             "#ed7953"
            ],
            [
             0.7777777777777778,
             "#fb9f3a"
            ],
            [
             0.8888888888888888,
             "#fdca26"
            ],
            [
             1,
             "#f0f921"
            ]
           ]
          },
          "colorway": [
           "#636efa",
           "#EF553B",
           "#00cc96",
           "#ab63fa",
           "#FFA15A",
           "#19d3f3",
           "#FF6692",
           "#B6E880",
           "#FF97FF",
           "#FECB52"
          ],
          "font": {
           "color": "#2a3f5f"
          },
          "geo": {
           "bgcolor": "white",
           "lakecolor": "white",
           "landcolor": "white",
           "showlakes": true,
           "showland": true,
           "subunitcolor": "#C8D4E3"
          },
          "hoverlabel": {
           "align": "left"
          },
          "hovermode": "closest",
          "mapbox": {
           "style": "light"
          },
          "paper_bgcolor": "white",
          "plot_bgcolor": "white",
          "polar": {
           "angularaxis": {
            "gridcolor": "#EBF0F8",
            "linecolor": "#EBF0F8",
            "ticks": ""
           },
           "bgcolor": "white",
           "radialaxis": {
            "gridcolor": "#EBF0F8",
            "linecolor": "#EBF0F8",
            "ticks": ""
           }
          },
          "scene": {
           "xaxis": {
            "backgroundcolor": "white",
            "gridcolor": "#DFE8F3",
            "gridwidth": 2,
            "linecolor": "#EBF0F8",
            "showbackground": true,
            "ticks": "",
            "zerolinecolor": "#EBF0F8"
           },
           "yaxis": {
            "backgroundcolor": "white",
            "gridcolor": "#DFE8F3",
            "gridwidth": 2,
            "linecolor": "#EBF0F8",
            "showbackground": true,
            "ticks": "",
            "zerolinecolor": "#EBF0F8"
           },
           "zaxis": {
            "backgroundcolor": "white",
            "gridcolor": "#DFE8F3",
            "gridwidth": 2,
            "linecolor": "#EBF0F8",
            "showbackground": true,
            "ticks": "",
            "zerolinecolor": "#EBF0F8"
           }
          },
          "shapedefaults": {
           "line": {
            "color": "#2a3f5f"
           }
          },
          "ternary": {
           "aaxis": {
            "gridcolor": "#DFE8F3",
            "linecolor": "#A2B1C6",
            "ticks": ""
           },
           "baxis": {
            "gridcolor": "#DFE8F3",
            "linecolor": "#A2B1C6",
            "ticks": ""
           },
           "bgcolor": "white",
           "caxis": {
            "gridcolor": "#DFE8F3",
            "linecolor": "#A2B1C6",
            "ticks": ""
           }
          },
          "title": {
           "x": 0.05
          },
          "xaxis": {
           "automargin": true,
           "gridcolor": "#EBF0F8",
           "linecolor": "#EBF0F8",
           "ticks": "",
           "title": {
            "standoff": 15
           },
           "zerolinecolor": "#EBF0F8",
           "zerolinewidth": 2
          },
          "yaxis": {
           "automargin": true,
           "gridcolor": "#EBF0F8",
           "linecolor": "#EBF0F8",
           "ticks": "",
           "title": {
            "standoff": 15
           },
           "zerolinecolor": "#EBF0F8",
           "zerolinewidth": 2
          }
         }
        },
        "title": {
         "text": "SubCategory Sales by Region"
        },
        "xaxis": {
         "anchor": "y",
         "domain": [
          0,
          1
         ],
         "title": {
          "text": "SubCategory"
         }
        },
        "yaxis": {
         "anchor": "x",
         "domain": [
          0,
          1
         ],
         "title": {
          "text": "Sales"
         }
        }
       }
      }
     },
     "metadata": {},
     "output_type": "display_data"
    }
   ],
   "source": [
    "# 📘 Bar Plot – Sales by SubCategory & Region (Grouped)\n",
    "\n",
    "group_df = df.groupby([\"SubCategory\", \"Region\"])[\"Sales\"].sum().reset_index()\n",
    "fig2 = bar_plot(group_df, x=\"SubCategory\", y=\"Sales\", color=\"Region\", barmode=\"group\", title=\"SubCategory Sales by Region\")\n",
    "fig2.show()"
   ]
  },
  {
   "cell_type": "code",
   "execution_count": 5,
   "id": "551633b5",
   "metadata": {},
   "outputs": [
    {
     "data": {
      "application/vnd.plotly.v1+json": {
       "config": {
        "plotlyServerURL": "https://plot.ly"
       },
       "data": [
        {
         "hovertemplate": "Region=Central<br>SubCategory=%{x}<br>Sales=%{y}<extra></extra>",
         "legendgroup": "Central",
         "marker": {
          "color": "#636efa",
          "pattern": {
           "shape": ""
          }
         },
         "name": "Central",
         "orientation": "v",
         "showlegend": true,
         "textposition": "auto",
         "type": "bar",
         "x": [
          "Accessories",
          "Binders",
          "Bookcases",
          "Chairs",
          "Laptops",
          "Paper",
          "Pens",
          "Phones",
          "Tables"
         ],
         "xaxis": "x",
         "y": {
          "bdata": "9ihcj0JvyEDC9Shc71/IQK5H4Xo0ZshACtejcF2hyEBmZmZm9iXRQKRwPQqnb9BAcT0K10PqzECPwvUoHLPIQJqZmZn5mc5A",
          "dtype": "f8"
         },
         "yaxis": "y"
        },
        {
         "hovertemplate": "Region=East<br>SubCategory=%{x}<br>Sales=%{y}<extra></extra>",
         "legendgroup": "East",
         "marker": {
          "color": "#EF553B",
          "pattern": {
           "shape": ""
          }
         },
         "name": "East",
         "orientation": "v",
         "showlegend": true,
         "textposition": "auto",
         "type": "bar",
         "x": [
          "Accessories",
          "Binders",
          "Bookcases",
          "Chairs",
          "Laptops",
          "Paper",
          "Pens",
          "Phones",
          "Tables"
         ],
         "xaxis": "x",
         "y": {
          "bdata": "SOF6FB6u00CF61G4/sjCQJqZmZm5R8hAAAAAAICpvkCkcD0KB33SQEjhehTuzsJACtejcH3E0UCkcD0Kx2nQQMP1KFwP+MhA",
          "dtype": "f8"
         },
         "yaxis": "y"
        },
        {
         "hovertemplate": "Region=South<br>SubCategory=%{x}<br>Sales=%{y}<extra></extra>",
         "legendgroup": "South",
         "marker": {
          "color": "#00cc96",
          "pattern": {
           "shape": ""
          }
         },
         "name": "South",
         "orientation": "v",
         "showlegend": true,
         "textposition": "auto",
         "type": "bar",
         "x": [
          "Accessories",
          "Binders",
          "Bookcases",
          "Chairs",
          "Laptops",
          "Paper",
          "Pens",
          "Phones",
          "Tables"
         ],
         "xaxis": "x",
         "y": {
          "bdata": "UrgehatCzkCkcD0KN+zKQMP1KFyvcslAexSuR8GZyEAzMzMz0y7NQML1KFyvNsdAZmZmZgaTy0CPwvUoXNrRQClcj8LFr9BA",
          "dtype": "f8"
         },
         "yaxis": "y"
        },
        {
         "hovertemplate": "Region=West<br>SubCategory=%{x}<br>Sales=%{y}<extra></extra>",
         "legendgroup": "West",
         "marker": {
          "color": "#ab63fa",
          "pattern": {
           "shape": ""
          }
         },
         "name": "West",
         "orientation": "v",
         "showlegend": true,
         "textposition": "auto",
         "type": "bar",
         "x": [
          "Accessories",
          "Binders",
          "Bookcases",
          "Chairs",
          "Laptops",
          "Paper",
          "Pens",
          "Phones",
          "Tables"
         ],
         "xaxis": "x",
         "y": {
          "bdata": "PgrXo/AE00CF61G4XkbLQEjhehQuUslAAAAAAEAg0UAK16Nw7RvTQOF6FK7ngc1AhetRuP7ox0C4HoXr0SDEQOtRuB4FkcZA",
          "dtype": "f8"
         },
         "yaxis": "y"
        }
       ],
       "layout": {
        "barmode": "stack",
        "legend": {
         "title": {
          "text": "Region"
         },
         "tracegroupgap": 0
        },
        "template": {
         "data": {
          "bar": [
           {
            "error_x": {
             "color": "#2a3f5f"
            },
            "error_y": {
             "color": "#2a3f5f"
            },
            "marker": {
             "line": {
              "color": "white",
              "width": 0.5
             },
             "pattern": {
              "fillmode": "overlay",
              "size": 10,
              "solidity": 0.2
             }
            },
            "type": "bar"
           }
          ],
          "barpolar": [
           {
            "marker": {
             "line": {
              "color": "white",
              "width": 0.5
             },
             "pattern": {
              "fillmode": "overlay",
              "size": 10,
              "solidity": 0.2
             }
            },
            "type": "barpolar"
           }
          ],
          "carpet": [
           {
            "aaxis": {
             "endlinecolor": "#2a3f5f",
             "gridcolor": "#C8D4E3",
             "linecolor": "#C8D4E3",
             "minorgridcolor": "#C8D4E3",
             "startlinecolor": "#2a3f5f"
            },
            "baxis": {
             "endlinecolor": "#2a3f5f",
             "gridcolor": "#C8D4E3",
             "linecolor": "#C8D4E3",
             "minorgridcolor": "#C8D4E3",
             "startlinecolor": "#2a3f5f"
            },
            "type": "carpet"
           }
          ],
          "choropleth": [
           {
            "colorbar": {
             "outlinewidth": 0,
             "ticks": ""
            },
            "type": "choropleth"
           }
          ],
          "contour": [
           {
            "colorbar": {
             "outlinewidth": 0,
             "ticks": ""
            },
            "colorscale": [
             [
              0,
              "#0d0887"
             ],
             [
              0.1111111111111111,
              "#46039f"
             ],
             [
              0.2222222222222222,
              "#7201a8"
             ],
             [
              0.3333333333333333,
              "#9c179e"
             ],
             [
              0.4444444444444444,
              "#bd3786"
             ],
             [
              0.5555555555555556,
              "#d8576b"
             ],
             [
              0.6666666666666666,
              "#ed7953"
             ],
             [
              0.7777777777777778,
              "#fb9f3a"
             ],
             [
              0.8888888888888888,
              "#fdca26"
             ],
             [
              1,
              "#f0f921"
             ]
            ],
            "type": "contour"
           }
          ],
          "contourcarpet": [
           {
            "colorbar": {
             "outlinewidth": 0,
             "ticks": ""
            },
            "type": "contourcarpet"
           }
          ],
          "heatmap": [
           {
            "colorbar": {
             "outlinewidth": 0,
             "ticks": ""
            },
            "colorscale": [
             [
              0,
              "#0d0887"
             ],
             [
              0.1111111111111111,
              "#46039f"
             ],
             [
              0.2222222222222222,
              "#7201a8"
             ],
             [
              0.3333333333333333,
              "#9c179e"
             ],
             [
              0.4444444444444444,
              "#bd3786"
             ],
             [
              0.5555555555555556,
              "#d8576b"
             ],
             [
              0.6666666666666666,
              "#ed7953"
             ],
             [
              0.7777777777777778,
              "#fb9f3a"
             ],
             [
              0.8888888888888888,
              "#fdca26"
             ],
             [
              1,
              "#f0f921"
             ]
            ],
            "type": "heatmap"
           }
          ],
          "histogram": [
           {
            "marker": {
             "pattern": {
              "fillmode": "overlay",
              "size": 10,
              "solidity": 0.2
             }
            },
            "type": "histogram"
           }
          ],
          "histogram2d": [
           {
            "colorbar": {
             "outlinewidth": 0,
             "ticks": ""
            },
            "colorscale": [
             [
              0,
              "#0d0887"
             ],
             [
              0.1111111111111111,
              "#46039f"
             ],
             [
              0.2222222222222222,
              "#7201a8"
             ],
             [
              0.3333333333333333,
              "#9c179e"
             ],
             [
              0.4444444444444444,
              "#bd3786"
             ],
             [
              0.5555555555555556,
              "#d8576b"
             ],
             [
              0.6666666666666666,
              "#ed7953"
             ],
             [
              0.7777777777777778,
              "#fb9f3a"
             ],
             [
              0.8888888888888888,
              "#fdca26"
             ],
             [
              1,
              "#f0f921"
             ]
            ],
            "type": "histogram2d"
           }
          ],
          "histogram2dcontour": [
           {
            "colorbar": {
             "outlinewidth": 0,
             "ticks": ""
            },
            "colorscale": [
             [
              0,
              "#0d0887"
             ],
             [
              0.1111111111111111,
              "#46039f"
             ],
             [
              0.2222222222222222,
              "#7201a8"
             ],
             [
              0.3333333333333333,
              "#9c179e"
             ],
             [
              0.4444444444444444,
              "#bd3786"
             ],
             [
              0.5555555555555556,
              "#d8576b"
             ],
             [
              0.6666666666666666,
              "#ed7953"
             ],
             [
              0.7777777777777778,
              "#fb9f3a"
             ],
             [
              0.8888888888888888,
              "#fdca26"
             ],
             [
              1,
              "#f0f921"
             ]
            ],
            "type": "histogram2dcontour"
           }
          ],
          "mesh3d": [
           {
            "colorbar": {
             "outlinewidth": 0,
             "ticks": ""
            },
            "type": "mesh3d"
           }
          ],
          "parcoords": [
           {
            "line": {
             "colorbar": {
              "outlinewidth": 0,
              "ticks": ""
             }
            },
            "type": "parcoords"
           }
          ],
          "pie": [
           {
            "automargin": true,
            "type": "pie"
           }
          ],
          "scatter": [
           {
            "fillpattern": {
             "fillmode": "overlay",
             "size": 10,
             "solidity": 0.2
            },
            "type": "scatter"
           }
          ],
          "scatter3d": [
           {
            "line": {
             "colorbar": {
              "outlinewidth": 0,
              "ticks": ""
             }
            },
            "marker": {
             "colorbar": {
              "outlinewidth": 0,
              "ticks": ""
             }
            },
            "type": "scatter3d"
           }
          ],
          "scattercarpet": [
           {
            "marker": {
             "colorbar": {
              "outlinewidth": 0,
              "ticks": ""
             }
            },
            "type": "scattercarpet"
           }
          ],
          "scattergeo": [
           {
            "marker": {
             "colorbar": {
              "outlinewidth": 0,
              "ticks": ""
             }
            },
            "type": "scattergeo"
           }
          ],
          "scattergl": [
           {
            "marker": {
             "colorbar": {
              "outlinewidth": 0,
              "ticks": ""
             }
            },
            "type": "scattergl"
           }
          ],
          "scattermap": [
           {
            "marker": {
             "colorbar": {
              "outlinewidth": 0,
              "ticks": ""
             }
            },
            "type": "scattermap"
           }
          ],
          "scattermapbox": [
           {
            "marker": {
             "colorbar": {
              "outlinewidth": 0,
              "ticks": ""
             }
            },
            "type": "scattermapbox"
           }
          ],
          "scatterpolar": [
           {
            "marker": {
             "colorbar": {
              "outlinewidth": 0,
              "ticks": ""
             }
            },
            "type": "scatterpolar"
           }
          ],
          "scatterpolargl": [
           {
            "marker": {
             "colorbar": {
              "outlinewidth": 0,
              "ticks": ""
             }
            },
            "type": "scatterpolargl"
           }
          ],
          "scatterternary": [
           {
            "marker": {
             "colorbar": {
              "outlinewidth": 0,
              "ticks": ""
             }
            },
            "type": "scatterternary"
           }
          ],
          "surface": [
           {
            "colorbar": {
             "outlinewidth": 0,
             "ticks": ""
            },
            "colorscale": [
             [
              0,
              "#0d0887"
             ],
             [
              0.1111111111111111,
              "#46039f"
             ],
             [
              0.2222222222222222,
              "#7201a8"
             ],
             [
              0.3333333333333333,
              "#9c179e"
             ],
             [
              0.4444444444444444,
              "#bd3786"
             ],
             [
              0.5555555555555556,
              "#d8576b"
             ],
             [
              0.6666666666666666,
              "#ed7953"
             ],
             [
              0.7777777777777778,
              "#fb9f3a"
             ],
             [
              0.8888888888888888,
              "#fdca26"
             ],
             [
              1,
              "#f0f921"
             ]
            ],
            "type": "surface"
           }
          ],
          "table": [
           {
            "cells": {
             "fill": {
              "color": "#EBF0F8"
             },
             "line": {
              "color": "white"
             }
            },
            "header": {
             "fill": {
              "color": "#C8D4E3"
             },
             "line": {
              "color": "white"
             }
            },
            "type": "table"
           }
          ]
         },
         "layout": {
          "annotationdefaults": {
           "arrowcolor": "#2a3f5f",
           "arrowhead": 0,
           "arrowwidth": 1
          },
          "autotypenumbers": "strict",
          "coloraxis": {
           "colorbar": {
            "outlinewidth": 0,
            "ticks": ""
           }
          },
          "colorscale": {
           "diverging": [
            [
             0,
             "#8e0152"
            ],
            [
             0.1,
             "#c51b7d"
            ],
            [
             0.2,
             "#de77ae"
            ],
            [
             0.3,
             "#f1b6da"
            ],
            [
             0.4,
             "#fde0ef"
            ],
            [
             0.5,
             "#f7f7f7"
            ],
            [
             0.6,
             "#e6f5d0"
            ],
            [
             0.7,
             "#b8e186"
            ],
            [
             0.8,
             "#7fbc41"
            ],
            [
             0.9,
             "#4d9221"
            ],
            [
             1,
             "#276419"
            ]
           ],
           "sequential": [
            [
             0,
             "#0d0887"
            ],
            [
             0.1111111111111111,
             "#46039f"
            ],
            [
             0.2222222222222222,
             "#7201a8"
            ],
            [
             0.3333333333333333,
             "#9c179e"
            ],
            [
             0.4444444444444444,
             "#bd3786"
            ],
            [
             0.5555555555555556,
             "#d8576b"
            ],
            [
             0.6666666666666666,
             "#ed7953"
            ],
            [
             0.7777777777777778,
             "#fb9f3a"
            ],
            [
             0.8888888888888888,
             "#fdca26"
            ],
            [
             1,
             "#f0f921"
            ]
           ],
           "sequentialminus": [
            [
             0,
             "#0d0887"
            ],
            [
             0.1111111111111111,
             "#46039f"
            ],
            [
             0.2222222222222222,
             "#7201a8"
            ],
            [
             0.3333333333333333,
             "#9c179e"
            ],
            [
             0.4444444444444444,
             "#bd3786"
            ],
            [
             0.5555555555555556,
             "#d8576b"
            ],
            [
             0.6666666666666666,
             "#ed7953"
            ],
            [
             0.7777777777777778,
             "#fb9f3a"
            ],
            [
             0.8888888888888888,
             "#fdca26"
            ],
            [
             1,
             "#f0f921"
            ]
           ]
          },
          "colorway": [
           "#636efa",
           "#EF553B",
           "#00cc96",
           "#ab63fa",
           "#FFA15A",
           "#19d3f3",
           "#FF6692",
           "#B6E880",
           "#FF97FF",
           "#FECB52"
          ],
          "font": {
           "color": "#2a3f5f"
          },
          "geo": {
           "bgcolor": "white",
           "lakecolor": "white",
           "landcolor": "white",
           "showlakes": true,
           "showland": true,
           "subunitcolor": "#C8D4E3"
          },
          "hoverlabel": {
           "align": "left"
          },
          "hovermode": "closest",
          "mapbox": {
           "style": "light"
          },
          "paper_bgcolor": "white",
          "plot_bgcolor": "white",
          "polar": {
           "angularaxis": {
            "gridcolor": "#EBF0F8",
            "linecolor": "#EBF0F8",
            "ticks": ""
           },
           "bgcolor": "white",
           "radialaxis": {
            "gridcolor": "#EBF0F8",
            "linecolor": "#EBF0F8",
            "ticks": ""
           }
          },
          "scene": {
           "xaxis": {
            "backgroundcolor": "white",
            "gridcolor": "#DFE8F3",
            "gridwidth": 2,
            "linecolor": "#EBF0F8",
            "showbackground": true,
            "ticks": "",
            "zerolinecolor": "#EBF0F8"
           },
           "yaxis": {
            "backgroundcolor": "white",
            "gridcolor": "#DFE8F3",
            "gridwidth": 2,
            "linecolor": "#EBF0F8",
            "showbackground": true,
            "ticks": "",
            "zerolinecolor": "#EBF0F8"
           },
           "zaxis": {
            "backgroundcolor": "white",
            "gridcolor": "#DFE8F3",
            "gridwidth": 2,
            "linecolor": "#EBF0F8",
            "showbackground": true,
            "ticks": "",
            "zerolinecolor": "#EBF0F8"
           }
          },
          "shapedefaults": {
           "line": {
            "color": "#2a3f5f"
           }
          },
          "ternary": {
           "aaxis": {
            "gridcolor": "#DFE8F3",
            "linecolor": "#A2B1C6",
            "ticks": ""
           },
           "baxis": {
            "gridcolor": "#DFE8F3",
            "linecolor": "#A2B1C6",
            "ticks": ""
           },
           "bgcolor": "white",
           "caxis": {
            "gridcolor": "#DFE8F3",
            "linecolor": "#A2B1C6",
            "ticks": ""
           }
          },
          "title": {
           "x": 0.05
          },
          "xaxis": {
           "automargin": true,
           "gridcolor": "#EBF0F8",
           "linecolor": "#EBF0F8",
           "ticks": "",
           "title": {
            "standoff": 15
           },
           "zerolinecolor": "#EBF0F8",
           "zerolinewidth": 2
          },
          "yaxis": {
           "automargin": true,
           "gridcolor": "#EBF0F8",
           "linecolor": "#EBF0F8",
           "ticks": "",
           "title": {
            "standoff": 15
           },
           "zerolinecolor": "#EBF0F8",
           "zerolinewidth": 2
          }
         }
        },
        "title": {
         "text": "Stacked Sales by Region"
        },
        "xaxis": {
         "anchor": "y",
         "domain": [
          0,
          1
         ],
         "title": {
          "text": "SubCategory"
         }
        },
        "yaxis": {
         "anchor": "x",
         "domain": [
          0,
          1
         ],
         "title": {
          "text": "Sales"
         }
        }
       }
      }
     },
     "metadata": {},
     "output_type": "display_data"
    }
   ],
   "source": [
    "# 📘 Bar Plot – Sales by SubCategory & Region (Stacked)\n",
    "\n",
    "fig3 = bar_plot(group_df, x=\"SubCategory\", y=\"Sales\", color=\"Region\", barmode=\"stack\", title=\"Stacked Sales by Region\")\n",
    "fig3.show()"
   ]
  },
  {
   "cell_type": "code",
   "execution_count": 6,
   "id": "bc735cca",
   "metadata": {},
   "outputs": [
    {
     "data": {
      "application/vnd.plotly.v1+json": {
       "config": {
        "plotlyServerURL": "https://plot.ly"
       },
       "data": [
        {
         "domain": {
          "x": [
           0,
           1
          ],
          "y": [
           0,
           1
          ]
         },
         "hole": 0,
         "hovertemplate": "Region=%{label}<br>Sales=%{value}<extra></extra>",
         "labels": [
          "Central",
          "East",
          "South",
          "West"
         ],
         "legendgroup": "",
         "name": "",
         "showlegend": true,
         "type": "pie",
         "values": {
          "bdata": "pHA9Cisn/0DrUbge6dv+QAAAAACCBABBZmZmZngzAEE=",
          "dtype": "f8"
         }
        }
       ],
       "layout": {
        "legend": {
         "tracegroupgap": 0
        },
        "template": {
         "data": {
          "bar": [
           {
            "error_x": {
             "color": "#2a3f5f"
            },
            "error_y": {
             "color": "#2a3f5f"
            },
            "marker": {
             "line": {
              "color": "white",
              "width": 0.5
             },
             "pattern": {
              "fillmode": "overlay",
              "size": 10,
              "solidity": 0.2
             }
            },
            "type": "bar"
           }
          ],
          "barpolar": [
           {
            "marker": {
             "line": {
              "color": "white",
              "width": 0.5
             },
             "pattern": {
              "fillmode": "overlay",
              "size": 10,
              "solidity": 0.2
             }
            },
            "type": "barpolar"
           }
          ],
          "carpet": [
           {
            "aaxis": {
             "endlinecolor": "#2a3f5f",
             "gridcolor": "#C8D4E3",
             "linecolor": "#C8D4E3",
             "minorgridcolor": "#C8D4E3",
             "startlinecolor": "#2a3f5f"
            },
            "baxis": {
             "endlinecolor": "#2a3f5f",
             "gridcolor": "#C8D4E3",
             "linecolor": "#C8D4E3",
             "minorgridcolor": "#C8D4E3",
             "startlinecolor": "#2a3f5f"
            },
            "type": "carpet"
           }
          ],
          "choropleth": [
           {
            "colorbar": {
             "outlinewidth": 0,
             "ticks": ""
            },
            "type": "choropleth"
           }
          ],
          "contour": [
           {
            "colorbar": {
             "outlinewidth": 0,
             "ticks": ""
            },
            "colorscale": [
             [
              0,
              "#0d0887"
             ],
             [
              0.1111111111111111,
              "#46039f"
             ],
             [
              0.2222222222222222,
              "#7201a8"
             ],
             [
              0.3333333333333333,
              "#9c179e"
             ],
             [
              0.4444444444444444,
              "#bd3786"
             ],
             [
              0.5555555555555556,
              "#d8576b"
             ],
             [
              0.6666666666666666,
              "#ed7953"
             ],
             [
              0.7777777777777778,
              "#fb9f3a"
             ],
             [
              0.8888888888888888,
              "#fdca26"
             ],
             [
              1,
              "#f0f921"
             ]
            ],
            "type": "contour"
           }
          ],
          "contourcarpet": [
           {
            "colorbar": {
             "outlinewidth": 0,
             "ticks": ""
            },
            "type": "contourcarpet"
           }
          ],
          "heatmap": [
           {
            "colorbar": {
             "outlinewidth": 0,
             "ticks": ""
            },
            "colorscale": [
             [
              0,
              "#0d0887"
             ],
             [
              0.1111111111111111,
              "#46039f"
             ],
             [
              0.2222222222222222,
              "#7201a8"
             ],
             [
              0.3333333333333333,
              "#9c179e"
             ],
             [
              0.4444444444444444,
              "#bd3786"
             ],
             [
              0.5555555555555556,
              "#d8576b"
             ],
             [
              0.6666666666666666,
              "#ed7953"
             ],
             [
              0.7777777777777778,
              "#fb9f3a"
             ],
             [
              0.8888888888888888,
              "#fdca26"
             ],
             [
              1,
              "#f0f921"
             ]
            ],
            "type": "heatmap"
           }
          ],
          "histogram": [
           {
            "marker": {
             "pattern": {
              "fillmode": "overlay",
              "size": 10,
              "solidity": 0.2
             }
            },
            "type": "histogram"
           }
          ],
          "histogram2d": [
           {
            "colorbar": {
             "outlinewidth": 0,
             "ticks": ""
            },
            "colorscale": [
             [
              0,
              "#0d0887"
             ],
             [
              0.1111111111111111,
              "#46039f"
             ],
             [
              0.2222222222222222,
              "#7201a8"
             ],
             [
              0.3333333333333333,
              "#9c179e"
             ],
             [
              0.4444444444444444,
              "#bd3786"
             ],
             [
              0.5555555555555556,
              "#d8576b"
             ],
             [
              0.6666666666666666,
              "#ed7953"
             ],
             [
              0.7777777777777778,
              "#fb9f3a"
             ],
             [
              0.8888888888888888,
              "#fdca26"
             ],
             [
              1,
              "#f0f921"
             ]
            ],
            "type": "histogram2d"
           }
          ],
          "histogram2dcontour": [
           {
            "colorbar": {
             "outlinewidth": 0,
             "ticks": ""
            },
            "colorscale": [
             [
              0,
              "#0d0887"
             ],
             [
              0.1111111111111111,
              "#46039f"
             ],
             [
              0.2222222222222222,
              "#7201a8"
             ],
             [
              0.3333333333333333,
              "#9c179e"
             ],
             [
              0.4444444444444444,
              "#bd3786"
             ],
             [
              0.5555555555555556,
              "#d8576b"
             ],
             [
              0.6666666666666666,
              "#ed7953"
             ],
             [
              0.7777777777777778,
              "#fb9f3a"
             ],
             [
              0.8888888888888888,
              "#fdca26"
             ],
             [
              1,
              "#f0f921"
             ]
            ],
            "type": "histogram2dcontour"
           }
          ],
          "mesh3d": [
           {
            "colorbar": {
             "outlinewidth": 0,
             "ticks": ""
            },
            "type": "mesh3d"
           }
          ],
          "parcoords": [
           {
            "line": {
             "colorbar": {
              "outlinewidth": 0,
              "ticks": ""
             }
            },
            "type": "parcoords"
           }
          ],
          "pie": [
           {
            "automargin": true,
            "type": "pie"
           }
          ],
          "scatter": [
           {
            "fillpattern": {
             "fillmode": "overlay",
             "size": 10,
             "solidity": 0.2
            },
            "type": "scatter"
           }
          ],
          "scatter3d": [
           {
            "line": {
             "colorbar": {
              "outlinewidth": 0,
              "ticks": ""
             }
            },
            "marker": {
             "colorbar": {
              "outlinewidth": 0,
              "ticks": ""
             }
            },
            "type": "scatter3d"
           }
          ],
          "scattercarpet": [
           {
            "marker": {
             "colorbar": {
              "outlinewidth": 0,
              "ticks": ""
             }
            },
            "type": "scattercarpet"
           }
          ],
          "scattergeo": [
           {
            "marker": {
             "colorbar": {
              "outlinewidth": 0,
              "ticks": ""
             }
            },
            "type": "scattergeo"
           }
          ],
          "scattergl": [
           {
            "marker": {
             "colorbar": {
              "outlinewidth": 0,
              "ticks": ""
             }
            },
            "type": "scattergl"
           }
          ],
          "scattermap": [
           {
            "marker": {
             "colorbar": {
              "outlinewidth": 0,
              "ticks": ""
             }
            },
            "type": "scattermap"
           }
          ],
          "scattermapbox": [
           {
            "marker": {
             "colorbar": {
              "outlinewidth": 0,
              "ticks": ""
             }
            },
            "type": "scattermapbox"
           }
          ],
          "scatterpolar": [
           {
            "marker": {
             "colorbar": {
              "outlinewidth": 0,
              "ticks": ""
             }
            },
            "type": "scatterpolar"
           }
          ],
          "scatterpolargl": [
           {
            "marker": {
             "colorbar": {
              "outlinewidth": 0,
              "ticks": ""
             }
            },
            "type": "scatterpolargl"
           }
          ],
          "scatterternary": [
           {
            "marker": {
             "colorbar": {
              "outlinewidth": 0,
              "ticks": ""
             }
            },
            "type": "scatterternary"
           }
          ],
          "surface": [
           {
            "colorbar": {
             "outlinewidth": 0,
             "ticks": ""
            },
            "colorscale": [
             [
              0,
              "#0d0887"
             ],
             [
              0.1111111111111111,
              "#46039f"
             ],
             [
              0.2222222222222222,
              "#7201a8"
             ],
             [
              0.3333333333333333,
              "#9c179e"
             ],
             [
              0.4444444444444444,
              "#bd3786"
             ],
             [
              0.5555555555555556,
              "#d8576b"
             ],
             [
              0.6666666666666666,
              "#ed7953"
             ],
             [
              0.7777777777777778,
              "#fb9f3a"
             ],
             [
              0.8888888888888888,
              "#fdca26"
             ],
             [
              1,
              "#f0f921"
             ]
            ],
            "type": "surface"
           }
          ],
          "table": [
           {
            "cells": {
             "fill": {
              "color": "#EBF0F8"
             },
             "line": {
              "color": "white"
             }
            },
            "header": {
             "fill": {
              "color": "#C8D4E3"
             },
             "line": {
              "color": "white"
             }
            },
            "type": "table"
           }
          ]
         },
         "layout": {
          "annotationdefaults": {
           "arrowcolor": "#2a3f5f",
           "arrowhead": 0,
           "arrowwidth": 1
          },
          "autotypenumbers": "strict",
          "coloraxis": {
           "colorbar": {
            "outlinewidth": 0,
            "ticks": ""
           }
          },
          "colorscale": {
           "diverging": [
            [
             0,
             "#8e0152"
            ],
            [
             0.1,
             "#c51b7d"
            ],
            [
             0.2,
             "#de77ae"
            ],
            [
             0.3,
             "#f1b6da"
            ],
            [
             0.4,
             "#fde0ef"
            ],
            [
             0.5,
             "#f7f7f7"
            ],
            [
             0.6,
             "#e6f5d0"
            ],
            [
             0.7,
             "#b8e186"
            ],
            [
             0.8,
             "#7fbc41"
            ],
            [
             0.9,
             "#4d9221"
            ],
            [
             1,
             "#276419"
            ]
           ],
           "sequential": [
            [
             0,
             "#0d0887"
            ],
            [
             0.1111111111111111,
             "#46039f"
            ],
            [
             0.2222222222222222,
             "#7201a8"
            ],
            [
             0.3333333333333333,
             "#9c179e"
            ],
            [
             0.4444444444444444,
             "#bd3786"
            ],
            [
             0.5555555555555556,
             "#d8576b"
            ],
            [
             0.6666666666666666,
             "#ed7953"
            ],
            [
             0.7777777777777778,
             "#fb9f3a"
            ],
            [
             0.8888888888888888,
             "#fdca26"
            ],
            [
             1,
             "#f0f921"
            ]
           ],
           "sequentialminus": [
            [
             0,
             "#0d0887"
            ],
            [
             0.1111111111111111,
             "#46039f"
            ],
            [
             0.2222222222222222,
             "#7201a8"
            ],
            [
             0.3333333333333333,
             "#9c179e"
            ],
            [
             0.4444444444444444,
             "#bd3786"
            ],
            [
             0.5555555555555556,
             "#d8576b"
            ],
            [
             0.6666666666666666,
             "#ed7953"
            ],
            [
             0.7777777777777778,
             "#fb9f3a"
            ],
            [
             0.8888888888888888,
             "#fdca26"
            ],
            [
             1,
             "#f0f921"
            ]
           ]
          },
          "colorway": [
           "#636efa",
           "#EF553B",
           "#00cc96",
           "#ab63fa",
           "#FFA15A",
           "#19d3f3",
           "#FF6692",
           "#B6E880",
           "#FF97FF",
           "#FECB52"
          ],
          "font": {
           "color": "#2a3f5f"
          },
          "geo": {
           "bgcolor": "white",
           "lakecolor": "white",
           "landcolor": "white",
           "showlakes": true,
           "showland": true,
           "subunitcolor": "#C8D4E3"
          },
          "hoverlabel": {
           "align": "left"
          },
          "hovermode": "closest",
          "mapbox": {
           "style": "light"
          },
          "paper_bgcolor": "white",
          "plot_bgcolor": "white",
          "polar": {
           "angularaxis": {
            "gridcolor": "#EBF0F8",
            "linecolor": "#EBF0F8",
            "ticks": ""
           },
           "bgcolor": "white",
           "radialaxis": {
            "gridcolor": "#EBF0F8",
            "linecolor": "#EBF0F8",
            "ticks": ""
           }
          },
          "scene": {
           "xaxis": {
            "backgroundcolor": "white",
            "gridcolor": "#DFE8F3",
            "gridwidth": 2,
            "linecolor": "#EBF0F8",
            "showbackground": true,
            "ticks": "",
            "zerolinecolor": "#EBF0F8"
           },
           "yaxis": {
            "backgroundcolor": "white",
            "gridcolor": "#DFE8F3",
            "gridwidth": 2,
            "linecolor": "#EBF0F8",
            "showbackground": true,
            "ticks": "",
            "zerolinecolor": "#EBF0F8"
           },
           "zaxis": {
            "backgroundcolor": "white",
            "gridcolor": "#DFE8F3",
            "gridwidth": 2,
            "linecolor": "#EBF0F8",
            "showbackground": true,
            "ticks": "",
            "zerolinecolor": "#EBF0F8"
           }
          },
          "shapedefaults": {
           "line": {
            "color": "#2a3f5f"
           }
          },
          "ternary": {
           "aaxis": {
            "gridcolor": "#DFE8F3",
            "linecolor": "#A2B1C6",
            "ticks": ""
           },
           "baxis": {
            "gridcolor": "#DFE8F3",
            "linecolor": "#A2B1C6",
            "ticks": ""
           },
           "bgcolor": "white",
           "caxis": {
            "gridcolor": "#DFE8F3",
            "linecolor": "#A2B1C6",
            "ticks": ""
           }
          },
          "title": {
           "x": 0.05
          },
          "xaxis": {
           "automargin": true,
           "gridcolor": "#EBF0F8",
           "linecolor": "#EBF0F8",
           "ticks": "",
           "title": {
            "standoff": 15
           },
           "zerolinecolor": "#EBF0F8",
           "zerolinewidth": 2
          },
          "yaxis": {
           "automargin": true,
           "gridcolor": "#EBF0F8",
           "linecolor": "#EBF0F8",
           "ticks": "",
           "title": {
            "standoff": 15
           },
           "zerolinecolor": "#EBF0F8",
           "zerolinewidth": 2
          }
         }
        },
        "title": {
         "text": "Sales Share by Region"
        }
       }
      }
     },
     "metadata": {},
     "output_type": "display_data"
    }
   ],
   "source": [
    "# 🥧 Pie Chart – Sales Share by Region\n",
    "\n",
    "pie_df = df.groupby(\"Region\")[\"Sales\"].sum().reset_index()\n",
    "fig4 = pie_chart(pie_df, names=\"Region\", values=\"Sales\", title=\"Sales Share by Region\")\n",
    "fig4.show()"
   ]
  },
  {
   "cell_type": "code",
   "execution_count": 7,
   "id": "ce5ef68c",
   "metadata": {},
   "outputs": [
    {
     "data": {
      "application/vnd.plotly.v1+json": {
       "config": {
        "plotlyServerURL": "https://plot.ly"
       },
       "data": [
        {
         "alignmentgroup": "True",
         "boxpoints": "outliers",
         "hovertemplate": "Category=%{x}<br>Profit=%{y}<extra></extra>",
         "legendgroup": "Technology",
         "marker": {
          "color": "#636efa"
         },
         "name": "Technology",
         "notched": false,
         "offsetgroup": "Technology",
         "orientation": "v",
         "showlegend": true,
         "type": "box",
         "x": [
          "Technology",
          "Technology",
          "Technology",
          "Technology",
          "Technology",
          "Technology",
          "Technology",
          "Technology",
          "Technology",
          "Technology",
          "Technology",
          "Technology",
          "Technology",
          "Technology",
          "Technology",
          "Technology",
          "Technology",
          "Technology",
          "Technology",
          "Technology",
          "Technology",
          "Technology",
          "Technology",
          "Technology",
          "Technology",
          "Technology",
          "Technology",
          "Technology",
          "Technology",
          "Technology",
          "Technology",
          "Technology",
          "Technology",
          "Technology",
          "Technology",
          "Technology",
          "Technology",
          "Technology",
          "Technology",
          "Technology",
          "Technology",
          "Technology",
          "Technology",
          "Technology",
          "Technology",
          "Technology",
          "Technology",
          "Technology",
          "Technology",
          "Technology",
          "Technology",
          "Technology",
          "Technology",
          "Technology",
          "Technology",
          "Technology",
          "Technology",
          "Technology",
          "Technology",
          "Technology",
          "Technology",
          "Technology",
          "Technology",
          "Technology",
          "Technology",
          "Technology",
          "Technology",
          "Technology",
          "Technology",
          "Technology",
          "Technology",
          "Technology",
          "Technology",
          "Technology",
          "Technology",
          "Technology",
          "Technology",
          "Technology",
          "Technology",
          "Technology",
          "Technology",
          "Technology",
          "Technology",
          "Technology",
          "Technology",
          "Technology",
          "Technology",
          "Technology",
          "Technology",
          "Technology",
          "Technology",
          "Technology",
          "Technology",
          "Technology",
          "Technology",
          "Technology",
          "Technology",
          "Technology",
          "Technology",
          "Technology",
          "Technology",
          "Technology",
          "Technology",
          "Technology",
          "Technology",
          "Technology",
          "Technology",
          "Technology",
          "Technology",
          "Technology",
          "Technology",
          "Technology",
          "Technology",
          "Technology",
          "Technology",
          "Technology",
          "Technology",
          "Technology",
          "Technology",
          "Technology",
          "Technology",
          "Technology",
          "Technology",
          "Technology",
          "Technology",
          "Technology",
          "Technology",
          "Technology",
          "Technology",
          "Technology",
          "Technology",
          "Technology",
          "Technology",
          "Technology",
          "Technology",
          "Technology",
          "Technology",
          "Technology",
          "Technology",
          "Technology",
          "Technology",
          "Technology",
          "Technology",
          "Technology",
          "Technology",
          "Technology",
          "Technology",
          "Technology",
          "Technology",
          "Technology",
          "Technology",
          "Technology",
          "Technology",
          "Technology",
          "Technology",
          "Technology",
          "Technology",
          "Technology",
          "Technology",
          "Technology",
          "Technology",
          "Technology",
          "Technology",
          "Technology",
          "Technology",
          "Technology",
          "Technology",
          "Technology",
          "Technology",
          "Technology",
          "Technology",
          "Technology",
          "Technology",
          "Technology",
          "Technology",
          "Technology",
          "Technology",
          "Technology",
          "Technology",
          "Technology",
          "Technology",
          "Technology",
          "Technology",
          "Technology",
          "Technology",
          "Technology",
          "Technology",
          "Technology",
          "Technology",
          "Technology",
          "Technology",
          "Technology",
          "Technology",
          "Technology",
          "Technology",
          "Technology",
          "Technology",
          "Technology",
          "Technology",
          "Technology",
          "Technology",
          "Technology",
          "Technology",
          "Technology",
          "Technology",
          "Technology",
          "Technology",
          "Technology",
          "Technology",
          "Technology",
          "Technology",
          "Technology",
          "Technology",
          "Technology",
          "Technology",
          "Technology",
          "Technology",
          "Technology",
          "Technology",
          "Technology",
          "Technology",
          "Technology",
          "Technology",
          "Technology",
          "Technology",
          "Technology",
          "Technology",
          "Technology",
          "Technology",
          "Technology",
          "Technology",
          "Technology",
          "Technology",
          "Technology",
          "Technology",
          "Technology",
          "Technology",
          "Technology",
          "Technology",
          "Technology",
          "Technology",
          "Technology",
          "Technology",
          "Technology",
          "Technology",
          "Technology",
          "Technology",
          "Technology",
          "Technology",
          "Technology",
          "Technology",
          "Technology",
          "Technology",
          "Technology",
          "Technology",
          "Technology",
          "Technology",
          "Technology",
          "Technology",
          "Technology",
          "Technology",
          "Technology",
          "Technology",
          "Technology",
          "Technology",
          "Technology",
          "Technology",
          "Technology",
          "Technology",
          "Technology",
          "Technology",
          "Technology",
          "Technology",
          "Technology",
          "Technology",
          "Technology",
          "Technology",
          "Technology",
          "Technology",
          "Technology",
          "Technology",
          "Technology",
          "Technology",
          "Technology",
          "Technology",
          "Technology",
          "Technology",
          "Technology",
          "Technology",
          "Technology",
          "Technology",
          "Technology",
          "Technology",
          "Technology",
          "Technology",
          "Technology",
          "Technology",
          "Technology",
          "Technology",
          "Technology",
          "Technology",
          "Technology",
          "Technology",
          "Technology",
          "Technology",
          "Technology",
          "Technology",
          "Technology",
          "Technology",
          "Technology",
          "Technology",
          "Technology",
          "Technology",
          "Technology",
          "Technology",
          "Technology",
          "Technology",
          "Technology",
          "Technology",
          "Technology",
          "Technology",
          "Technology",
          "Technology",
          "Technology",
          "Technology",
          "Technology",
          "Technology",
          "Technology",
          "Technology",
          "Technology",
          "Technology",
          "Technology",
          "Technology",
          "Technology",
          "Technology",
          "Technology",
          "Technology",
          "Technology",
          "Technology",
          "Technology",
          "Technology",
          "Technology",
          "Technology",
          "Technology",
          "Technology",
          "Technology",
          "Technology",
          "Technology",
          "Technology",
          "Technology",
          "Technology",
          "Technology",
          "Technology",
          "Technology",
          "Technology",
          "Technology",
          "Technology",
          "Technology",
          "Technology",
          "Technology",
          "Technology",
          "Technology",
          "Technology",
          "Technology",
          "Technology",
          "Technology",
          "Technology",
          "Technology",
          "Technology",
          "Technology",
          "Technology"
         ],
         "x0": " ",
         "xaxis": "x",
         "y": {
          "bdata": "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",
          "dtype": "f8"
         },
         "y0": " ",
         "yaxis": "y"
        },
        {
         "alignmentgroup": "True",
         "boxpoints": "outliers",
         "hovertemplate": "Category=%{x}<br>Profit=%{y}<extra></extra>",
         "legendgroup": "Furniture",
         "marker": {
          "color": "#EF553B"
         },
         "name": "Furniture",
         "notched": false,
         "offsetgroup": "Furniture",
         "orientation": "v",
         "showlegend": true,
         "type": "box",
         "x": [
          "Furniture",
          "Furniture",
          "Furniture",
          "Furniture",
          "Furniture",
          "Furniture",
          "Furniture",
          "Furniture",
          "Furniture",
          "Furniture",
          "Furniture",
          "Furniture",
          "Furniture",
          "Furniture",
          "Furniture",
          "Furniture",
          "Furniture",
          "Furniture",
          "Furniture",
          "Furniture",
          "Furniture",
          "Furniture",
          "Furniture",
          "Furniture",
          "Furniture",
          "Furniture",
          "Furniture",
          "Furniture",
          "Furniture",
          "Furniture",
          "Furniture",
          "Furniture",
          "Furniture",
          "Furniture",
          "Furniture",
          "Furniture",
          "Furniture",
          "Furniture",
          "Furniture",
          "Furniture",
          "Furniture",
          "Furniture",
          "Furniture",
          "Furniture",
          "Furniture",
          "Furniture",
          "Furniture",
          "Furniture",
          "Furniture",
          "Furniture",
          "Furniture",
          "Furniture",
          "Furniture",
          "Furniture",
          "Furniture",
          "Furniture",
          "Furniture",
          "Furniture",
          "Furniture",
          "Furniture",
          "Furniture",
          "Furniture",
          "Furniture",
          "Furniture",
          "Furniture",
          "Furniture",
          "Furniture",
          "Furniture",
          "Furniture",
          "Furniture",
          "Furniture",
          "Furniture",
          "Furniture",
          "Furniture",
          "Furniture",
          "Furniture",
          "Furniture",
          "Furniture",
          "Furniture",
          "Furniture",
          "Furniture",
          "Furniture",
          "Furniture",
          "Furniture",
          "Furniture",
          "Furniture",
          "Furniture",
          "Furniture",
          "Furniture",
          "Furniture",
          "Furniture",
          "Furniture",
          "Furniture",
          "Furniture",
          "Furniture",
          "Furniture",
          "Furniture",
          "Furniture",
          "Furniture",
          "Furniture",
          "Furniture",
          "Furniture",
          "Furniture",
          "Furniture",
          "Furniture",
          "Furniture",
          "Furniture",
          "Furniture",
          "Furniture",
          "Furniture",
          "Furniture",
          "Furniture",
          "Furniture",
          "Furniture",
          "Furniture",
          "Furniture",
          "Furniture",
          "Furniture",
          "Furniture",
          "Furniture",
          "Furniture",
          "Furniture",
          "Furniture",
          "Furniture",
          "Furniture",
          "Furniture",
          "Furniture",
          "Furniture",
          "Furniture",
          "Furniture",
          "Furniture",
          "Furniture",
          "Furniture",
          "Furniture",
          "Furniture",
          "Furniture",
          "Furniture",
          "Furniture",
          "Furniture",
          "Furniture",
          "Furniture",
          "Furniture",
          "Furniture",
          "Furniture",
          "Furniture",
          "Furniture",
          "Furniture",
          "Furniture",
          "Furniture",
          "Furniture",
          "Furniture",
          "Furniture",
          "Furniture",
          "Furniture",
          "Furniture",
          "Furniture",
          "Furniture",
          "Furniture",
          "Furniture",
          "Furniture",
          "Furniture",
          "Furniture",
          "Furniture",
          "Furniture",
          "Furniture",
          "Furniture",
          "Furniture",
          "Furniture",
          "Furniture",
          "Furniture",
          "Furniture",
          "Furniture",
          "Furniture",
          "Furniture",
          "Furniture",
          "Furniture",
          "Furniture",
          "Furniture",
          "Furniture",
          "Furniture",
          "Furniture",
          "Furniture",
          "Furniture",
          "Furniture",
          "Furniture",
          "Furniture",
          "Furniture",
          "Furniture",
          "Furniture",
          "Furniture",
          "Furniture",
          "Furniture",
          "Furniture",
          "Furniture",
          "Furniture",
          "Furniture",
          "Furniture",
          "Furniture",
          "Furniture",
          "Furniture",
          "Furniture",
          "Furniture",
          "Furniture",
          "Furniture",
          "Furniture",
          "Furniture",
          "Furniture",
          "Furniture",
          "Furniture",
          "Furniture",
          "Furniture",
          "Furniture",
          "Furniture",
          "Furniture",
          "Furniture",
          "Furniture",
          "Furniture",
          "Furniture",
          "Furniture",
          "Furniture",
          "Furniture",
          "Furniture",
          "Furniture",
          "Furniture",
          "Furniture",
          "Furniture",
          "Furniture",
          "Furniture",
          "Furniture",
          "Furniture",
          "Furniture",
          "Furniture",
          "Furniture",
          "Furniture",
          "Furniture",
          "Furniture",
          "Furniture",
          "Furniture",
          "Furniture",
          "Furniture",
          "Furniture",
          "Furniture",
          "Furniture",
          "Furniture",
          "Furniture",
          "Furniture",
          "Furniture",
          "Furniture",
          "Furniture",
          "Furniture",
          "Furniture",
          "Furniture",
          "Furniture",
          "Furniture",
          "Furniture",
          "Furniture",
          "Furniture",
          "Furniture",
          "Furniture",
          "Furniture",
          "Furniture",
          "Furniture",
          "Furniture",
          "Furniture",
          "Furniture",
          "Furniture",
          "Furniture",
          "Furniture",
          "Furniture",
          "Furniture",
          "Furniture",
          "Furniture",
          "Furniture",
          "Furniture",
          "Furniture",
          "Furniture",
          "Furniture",
          "Furniture",
          "Furniture",
          "Furniture",
          "Furniture",
          "Furniture",
          "Furniture",
          "Furniture",
          "Furniture",
          "Furniture",
          "Furniture",
          "Furniture",
          "Furniture",
          "Furniture",
          "Furniture",
          "Furniture",
          "Furniture",
          "Furniture",
          "Furniture",
          "Furniture",
          "Furniture",
          "Furniture",
          "Furniture",
          "Furniture",
          "Furniture",
          "Furniture",
          "Furniture",
          "Furniture",
          "Furniture",
          "Furniture",
          "Furniture",
          "Furniture",
          "Furniture",
          "Furniture",
          "Furniture",
          "Furniture"
         ],
         "x0": " ",
         "xaxis": "x",
         "y": {
          "bdata": "UrgehesNcEDD9Shcj0JPwIXrUbgeTWdASOF6FK7nQsA9CtejcGFyQHE9CtejSGNAXI/C9Sg8TkBcj8L1KOxYQNejcD0KN1FArkfhehTOVUAAAAAAAPBcQNejcD0KM3JAhetRuB75cED2KFyPwuVWwDMzMzMze25AexSuR+GKV0DNzMzMzNxTQI/C9Shcu3JAcT0K16OQV0ApXI/C9chYwLgehetRSFPArkfhehSuF8BmZmZmZgZVwM3MzMzMTDLAzczMzMxMX0DD9Shcj4JHwEjhehSul1TArkfhehTuRkBxPQrXo9hkQPYoXI/ChVbA4XoUrkdhTMCuR+F6FLZwQHE9CtejAFLAexSuR+G+cUDNzMzMzOxpQNejcD0Ks3FAKVyPwvXgZEAfhetRuBZpQOxRuB6FK0FAhetRuB6FT0BI4XoUro9qQHsUrkfhWlZAAAAAAAAABEB7FK5H4RpSwI/C9Shc72xAuB6F61F4VUDsUbgehdtXQIXrUbgeFVhAH4XrUbgWZkCuR+F6FG5oQFyPwvUoDFNA9ihcj8LFVkApXI/C9fhiQGZmZmZmenFArkfhehSeUEC4HoXrUXg+wAAAAAAA+GVAH4XrUbjeVUDD9Shcj0JdQM3MzMzMTDhAZmZmZmaOckAUrkfhejRDwDMzMzMzM2ZAmpmZmZlZMUBI4XoUrtdkQK5H4XoUtmdACtejcD16YkBmZmZmZsZKwDMzMzMzM0hA16NwPQp3R0D2KFyPwpVjQFK4HoXrwWlAMzMzMzMzG8D2KFyPwllyQKRwPQrXA0zApHA9CtfrakApXI/C9WhMwI/C9ShcJ2NAH4XrUbgWbUBI4XoUrodIQLgehetRKF9AXI/C9SjcJkBcj8L1KGRkQD0K16NwXVRAj8L1KFxXakBSuB6F65E0QOF6FK5HAUrAZmZmZmY2UcDD9Shcj75wQJqZmZmZ8WBA4XoUrkcpY0BmZmZmZkZkQI/C9ShcX19AmpmZmZkRY0CF61G4HrVZQGZmZmZmXm1ApHA9CtdjP0DXo3A9CldRQArXo3A9+lxAAAAAAACoaUA9CtejcH1QQHsUrkfhei5A4XoUrkfpZECamZmZmeliQGZmZmZmenJACtejcD2qaECkcD0K18NUwK5H4XoUjmtASOF6FK5nSEB7FK5H4ZpNQDMzMzMzc0rAj8L1KFxfVsDhehSuR6FNQPYoXI/CRXFAKVyPwvXYaUCkcD0K12MywPYoXI/C9RtAZmZmZmZicUDhehSuR+ErwAAAAAAA4GdAzczMzMxsWUAAAAAAAIRyQOF6FK5HiWVAexSuR+EaU0AzMzMzM0tlQMP1KFyPEnJAhetRuB41Z0AUrkfhelRQQHsUrkfhejnAcT0K16OQY0AUrkfheuRUQPYoXI/C9ei/rkfhehQOQsBcj8L1KOxdQOF6FK5HOW5AKVyPwvUYUsAUrkfhenRnQAAAAAAAKHFAw/UoXI8yYUApXI/C9ahwQLgehetRuCPAj8L1KFxvSUB7FK5H4TpkQD0K16NwPVBAhetRuB59YkDhehSuR0FAQFyPwvUoSHBAw/UoXI8iZ0D2KFyPwmVRwEjhehSuJ2dAUrgeheuxakBxPQrXo7BMwKRwPQrXox9Aw/UoXI+yXkCkcD0K18NXwJqZmZmZGUDAAAAAAACQXUDhehSuRyE1QAAAAAAAcFxACtejcD1qUMCamZmZmXlOwPYoXI/CHWlAcT0K16OwXEAK16NwPQJhQDMzMzMz01BAexSuR+GqV0C4HoXrUXhiQMP1KFyPwlxAXI/C9ShcS8AfhetRuFZpQDMzMzMzA2JASOF6FK5XYUDD9Shcj8IbQBSuR+F67GxA9ihcj8Jdb0DXo3A9CvdRQOF6FK5H4SpAPQrXo3ARcUDXo3A9Ci9hQNejcD0K1yDAw/UoXI+CR0AUrkfhelRfQHE9Ctej8FFAXI/C9Shc57+F61G4HvVYQPYoXI/CpWVAuB6F61GYTUDD9Shcj3JSQM3MzMzMTFtAUrgehevhWUDsUbgehctGQOF6FK5HmXBASOF6FK63a0CF61G4Hs1uQMP1KFyPwgfAXI/C9SgsZkDhehSuR0FJQLgehetREHJAXI/C9SjIcEAfhetRuOZwQFyPwvUovGBAXI/C9SicOUAzMzMzM/MwwAAAAAAAQE1AuB6F61GEckAzMzMzMwNeQArXo3A9CkbA16NwPQqvbEAUrkfhesxjQMP1KFyPTnFAAAAAAAAATUC4HoXrUTgswGZmZmZmRkTACtejcD2SakBSuB6F61EMwI/C9Shcz2tAzczMzMzMVkAUrkfhetRgQLgehetRuEhAXI/C9SjEcUBSuB6F69lqQB+F61G4PkRAw/UoXI+KcUBSuB6F69FBwPYoXI/CYXJA9ihcj8L1MkCuR+F6FH5tQM3MzMzMPFDA7FG4HoVbVkAzMzMzMx9wQKRwPQrXw0jAexSuR+HaZ0AUrkfhejReQJqZmZmZmRZAw/UoXI/6b0CPwvUoXE9TQFK4HoXr8VPAZmZmZmbeY0AzMzMzM5NuQJqZmZmZiWVApHA9CteLaECPwvUoXE9QQK5H4XoUbnJAhetRuB5FPcD2KFyPwq1pQK5H4XoUrk5AFK5H4XoU3r/hehSuR6E4wBSuR+F6NEDA16NwPQrXSsA9CtejcJVkQI/C9ShcD1XAPQrXo3C9TcAUrkfhehQ5QClcj8L1HHBA9ihcj8J1IUDD9ShcjyJTwBSuR+F6RFdArkfhehT+ZEDXo3A9CtclwOxRuB6FO19A16NwPQrfaUAAAAAAAKBoQNejcD0KV1PArkfhehQeXUCamZmZmdlRQArXo3A9CkPAzczMzMzEYkDNzMzMzKxxQMP1KFyPqmRAcT0K16OgZUCuR+F6FDZrQDMzMzMzm2xAmpmZmZm5RsCPwvUoXK9RwFyPwvUoHDtAw/UoXI/6bUCkcD0K17dyQArXo3A9omRAmpmZmZlZV0CuR+F6FPZxQGZmZmZmbnBApHA9CtejKEA9CtejcF1nQOxRuB6FC0BACtejcD0KYUCkcD0K13twQHE9CtejTHBAPQrXo3Cda0CPwvUoXF9dQI/C9Shcr0zAKVyPwvXoXkB7FK5H4YprQDMzMzMzg2FAH4XrUbj+UMDhehSuRyFOQFK4HoXrUTPAMzMzMzMjUsCamZmZmeleQK5H4XoUPlBA9ihcj8K1REBxPQrXo3AJwGZmZmZmtmlApHA9CtcTXUAfhetRuB5OQClcj8L1iF5ArkfhehT+YkAfhetRuCZkQB+F61G4QnFAzczMzMxcVsCkcD0K16PwvxSuR+F6FD5A",
          "dtype": "f8"
         },
         "y0": " ",
         "yaxis": "y"
        },
        {
         "alignmentgroup": "True",
         "boxpoints": "outliers",
         "hovertemplate": "Category=%{x}<br>Profit=%{y}<extra></extra>",
         "legendgroup": "Office Supplies",
         "marker": {
          "color": "#00cc96"
         },
         "name": "Office Supplies",
         "notched": false,
         "offsetgroup": "Office Supplies",
         "orientation": "v",
         "showlegend": true,
         "type": "box",
         "x": [
          "Office Supplies",
          "Office Supplies",
          "Office Supplies",
          "Office Supplies",
          "Office Supplies",
          "Office Supplies",
          "Office Supplies",
          "Office Supplies",
          "Office Supplies",
          "Office Supplies",
          "Office Supplies",
          "Office Supplies",
          "Office Supplies",
          "Office Supplies",
          "Office Supplies",
          "Office Supplies",
          "Office Supplies",
          "Office Supplies",
          "Office Supplies",
          "Office Supplies",
          "Office Supplies",
          "Office Supplies",
          "Office Supplies",
          "Office Supplies",
          "Office Supplies",
          "Office Supplies",
          "Office Supplies",
          "Office Supplies",
          "Office Supplies",
          "Office Supplies",
          "Office Supplies",
          "Office Supplies",
          "Office Supplies",
          "Office Supplies",
          "Office Supplies",
          "Office Supplies",
          "Office Supplies",
          "Office Supplies",
          "Office Supplies",
          "Office Supplies",
          "Office Supplies",
          "Office Supplies",
          "Office Supplies",
          "Office Supplies",
          "Office Supplies",
          "Office Supplies",
          "Office Supplies",
          "Office Supplies",
          "Office Supplies",
          "Office Supplies",
          "Office Supplies",
          "Office Supplies",
          "Office Supplies",
          "Office Supplies",
          "Office Supplies",
          "Office Supplies",
          "Office Supplies",
          "Office Supplies",
          "Office Supplies",
          "Office Supplies",
          "Office Supplies",
          "Office Supplies",
          "Office Supplies",
          "Office Supplies",
          "Office Supplies",
          "Office Supplies",
          "Office Supplies",
          "Office Supplies",
          "Office Supplies",
          "Office Supplies",
          "Office Supplies",
          "Office Supplies",
          "Office Supplies",
          "Office Supplies",
          "Office Supplies",
          "Office Supplies",
          "Office Supplies",
          "Office Supplies",
          "Office Supplies",
          "Office Supplies",
          "Office Supplies",
          "Office Supplies",
          "Office Supplies",
          "Office Supplies",
          "Office Supplies",
          "Office Supplies",
          "Office Supplies",
          "Office Supplies",
          "Office Supplies",
          "Office Supplies",
          "Office Supplies",
          "Office Supplies",
          "Office Supplies",
          "Office Supplies",
          "Office Supplies",
          "Office Supplies",
          "Office Supplies",
          "Office Supplies",
          "Office Supplies",
          "Office Supplies",
          "Office Supplies",
          "Office Supplies",
          "Office Supplies",
          "Office Supplies",
          "Office Supplies",
          "Office Supplies",
          "Office Supplies",
          "Office Supplies",
          "Office Supplies",
          "Office Supplies",
          "Office Supplies",
          "Office Supplies",
          "Office Supplies",
          "Office Supplies",
          "Office Supplies",
          "Office Supplies",
          "Office Supplies",
          "Office Supplies",
          "Office Supplies",
          "Office Supplies",
          "Office Supplies",
          "Office Supplies",
          "Office Supplies",
          "Office Supplies",
          "Office Supplies",
          "Office Supplies",
          "Office Supplies",
          "Office Supplies",
          "Office Supplies",
          "Office Supplies",
          "Office Supplies",
          "Office Supplies",
          "Office Supplies",
          "Office Supplies",
          "Office Supplies",
          "Office Supplies",
          "Office Supplies",
          "Office Supplies",
          "Office Supplies",
          "Office Supplies",
          "Office Supplies",
          "Office Supplies",
          "Office Supplies",
          "Office Supplies",
          "Office Supplies",
          "Office Supplies",
          "Office Supplies",
          "Office Supplies",
          "Office Supplies",
          "Office Supplies",
          "Office Supplies",
          "Office Supplies",
          "Office Supplies",
          "Office Supplies",
          "Office Supplies",
          "Office Supplies",
          "Office Supplies",
          "Office Supplies",
          "Office Supplies",
          "Office Supplies",
          "Office Supplies",
          "Office Supplies",
          "Office Supplies",
          "Office Supplies",
          "Office Supplies",
          "Office Supplies",
          "Office Supplies",
          "Office Supplies",
          "Office Supplies",
          "Office Supplies",
          "Office Supplies",
          "Office Supplies",
          "Office Supplies",
          "Office Supplies",
          "Office Supplies",
          "Office Supplies",
          "Office Supplies",
          "Office Supplies",
          "Office Supplies",
          "Office Supplies",
          "Office Supplies",
          "Office Supplies",
          "Office Supplies",
          "Office Supplies",
          "Office Supplies",
          "Office Supplies",
          "Office Supplies",
          "Office Supplies",
          "Office Supplies",
          "Office Supplies",
          "Office Supplies",
          "Office Supplies",
          "Office Supplies",
          "Office Supplies",
          "Office Supplies",
          "Office Supplies",
          "Office Supplies",
          "Office Supplies",
          "Office Supplies",
          "Office Supplies",
          "Office Supplies",
          "Office Supplies",
          "Office Supplies",
          "Office Supplies",
          "Office Supplies",
          "Office Supplies",
          "Office Supplies",
          "Office Supplies",
          "Office Supplies",
          "Office Supplies",
          "Office Supplies",
          "Office Supplies",
          "Office Supplies",
          "Office Supplies",
          "Office Supplies",
          "Office Supplies",
          "Office Supplies",
          "Office Supplies",
          "Office Supplies",
          "Office Supplies",
          "Office Supplies",
          "Office Supplies",
          "Office Supplies",
          "Office Supplies",
          "Office Supplies",
          "Office Supplies",
          "Office Supplies",
          "Office Supplies",
          "Office Supplies",
          "Office Supplies",
          "Office Supplies",
          "Office Supplies",
          "Office Supplies",
          "Office Supplies",
          "Office Supplies",
          "Office Supplies",
          "Office Supplies",
          "Office Supplies",
          "Office Supplies",
          "Office Supplies",
          "Office Supplies",
          "Office Supplies",
          "Office Supplies",
          "Office Supplies",
          "Office Supplies",
          "Office Supplies",
          "Office Supplies",
          "Office Supplies",
          "Office Supplies",
          "Office Supplies",
          "Office Supplies",
          "Office Supplies",
          "Office Supplies",
          "Office Supplies",
          "Office Supplies",
          "Office Supplies",
          "Office Supplies",
          "Office Supplies",
          "Office Supplies",
          "Office Supplies",
          "Office Supplies",
          "Office Supplies",
          "Office Supplies",
          "Office Supplies",
          "Office Supplies",
          "Office Supplies",
          "Office Supplies",
          "Office Supplies",
          "Office Supplies",
          "Office Supplies",
          "Office Supplies",
          "Office Supplies",
          "Office Supplies",
          "Office Supplies",
          "Office Supplies",
          "Office Supplies",
          "Office Supplies",
          "Office Supplies",
          "Office Supplies",
          "Office Supplies",
          "Office Supplies",
          "Office Supplies",
          "Office Supplies",
          "Office Supplies",
          "Office Supplies",
          "Office Supplies",
          "Office Supplies",
          "Office Supplies",
          "Office Supplies",
          "Office Supplies",
          "Office Supplies",
          "Office Supplies",
          "Office Supplies",
          "Office Supplies",
          "Office Supplies",
          "Office Supplies",
          "Office Supplies",
          "Office Supplies",
          "Office Supplies",
          "Office Supplies",
          "Office Supplies",
          "Office Supplies",
          "Office Supplies",
          "Office Supplies",
          "Office Supplies",
          "Office Supplies",
          "Office Supplies",
          "Office Supplies",
          "Office Supplies",
          "Office Supplies",
          "Office Supplies",
          "Office Supplies",
          "Office Supplies",
          "Office Supplies",
          "Office Supplies",
          "Office Supplies",
          "Office Supplies"
         ],
         "x0": " ",
         "xaxis": "x",
         "y": {
          "bdata": "7FG4HoXLRUAUrkfhevxnQArXo3A9AmVA16NwPQoXS8ApXI/C9ZhpQGZmZmZmZm9AexSuR+EaUkCF61G4HpVTwOF6FK5HOW9AFK5H4XpUZkAzMzMzM3NCwB+F61G4LlNA4XoUrkf5aEC4HoXrUYBkQFyPwvUo7HFAH4XrUbiubUD2KFyPwvURQLgehetR8GZAuB6F61F4PkDhehSuR2E0QOxRuB6Fy0pAUrgehetxWMBI4XoUrsdpQDMzMzMzczNA16NwPQpXIkCF61G4HnVlQIXrUbgevXBAcT0K16PwPkAzMzMzM9NJQOxRuB6F82hAH4XrUbg+QcAK16NwPUpgQAAAAAAACGZAXI/C9Shka0CamZmZmalaQEjhehSuF1xAAAAAAABgVEC4HoXrUfg2wJqZmZmZIW1A9ihcj8KVV8CkcD0K1yNpQIXrUbgejWJAKVyPwvXYZkBcj8L1KAxZQHE9Ctej+G9A7FG4HoXrPcB7FK5H4WJuQOF6FK5HYXFAmpmZmZmhYkAUrkfhepQywNejcD0Kt0pASOF6FK5HKkBI4XoUrqdTQEjhehSuV11A7FG4HoXrEcBcj8L1KLxoQB+F61G4Fm5AXI/C9ShcGMAUrkfhejRQQLgehetRqGBAPQrXo3BhcUDsUbgehatMwOF6FK5HkXJASOF6FK6XX0AzMzMzM/M3wPYoXI/CVXBACtejcD0KMkBSuB6F61EGQIXrUbge1VVACtejcD3qTEBcj8L1KCRlQArXo3A9qkrAuB6F61FIYkC4HoXrUXhTQMP1KFyPwibAH4XrUbiWZkAzMzMzM/tnQFyPwvUo3EhArkfhehQub0CF61G4HoVhQLgehetROFdAZmZmZmb+bkAK16NwPYorwArXo3A9CkpAmpmZmZn5ZkBI4XoUrudxQBSuR+F6lFHA9ihcj8IVbUD2KFyPwv1rQB+F61G4snBAMzMzMzPDU8ApXI/C9fBmQOxRuB6Fh3FAXI/C9Sh8RsBI4XoUrgdiQD0K16NwBWBACtejcD1KWUBSuB6F61FGwBSuR+F6dF5ASOF6FK6nT8ApXI/C9ZxyQI/C9ShcL07AKVyPwvXoVUDD9Shcj3JjQKRwPQrXu2VArkfhehQOa0DD9Shcj2JAQHE9CtejwFhAXI/C9ShAckCF61G4Hm1qQDMzMzMzw1XAAAAAAAAYYkAfhetRuAZsQAAAAAAAAF5AexSuR+HucECkcD0K1/NsQHE9CtejqHFAcT0K16NQT8CkcD0K19tiQFyPwvUovGtAj8L1KFx/WkDhehSuRyFCwLgehetRYGFA7FG4HoUDYEDhehSuR2E0wAAAAAAAFHBAZmZmZmZWV8CPwvUoXK9gQJqZmZmZCVBAZmZmZmbmV0AUrkfheixgQFK4HoXr0SzAzczMzMzMLUCuR+F6FA5QwOxRuB6Fa0FAH4XrUbhObkBmZmZmZvZkQDMzMzMzMxtAKVyPwvXoRUApXI/C9UhHwBSuR+F6hGVAUrgehevhV0DsUbgehSNlQMP1KFyPUmxAexSuR+HyaUDD9Shcj9pxQNejcD0K1yXAAAAAAAAA8L/D9Shcj0JvQKRwPQrXk1TA9ihcj8JNakDhehSuRxFlQAAAAAAAAABAMzMzMzPbbUA9CtejcP03wJqZmZmZ2UVAXI/C9Sika0BxPQrXo2BXwIXrUbge1VdAzczMzMzMI0DD9Shcj35wQClcj8L1GFHAUrgehetRI8B7FK5H4XoOwM3MzMzMfGhAcT0K16OIZECkcD0K1/NeQFyPwvUorFLACtejcD2iakAUrkfhepRYQFK4HoXr0T9AKVyPwvWoYUDhehSuR5lqQPYoXI/ClUxAXI/C9Sj0akBmZmZmZmYmwArXo3A9Ch3APQrXo3BdZEAUrkfhevRRQMP1KFyPwhNAcT0K16MQYkB7FK5H4UJsQOF6FK5HmXJAhetRuB4tbEAfhetRuJ5IwFK4HoXr8W5A16NwPQrPYkBI4XoUrmdCwK5H4XoU7mVAH4XrUbheSEC4HoXrUShpQB+F61G4/kXAH4XrUbieV8AUrkfhenROQPYoXI/ClWhAcT0K16MQVsC4HoXrUSByQGZmZmZmZgBApHA9CtczWMAzMzMzM0tqQI/C9ShcjyFACtejcD3qT8A9CtejcD0MQKRwPQrXm2tAUrgehesRPMApXI/C9QhsQEjhehSu12lApHA9CtczVcBmZmZmZiZCQClcj8L18GdA16NwPQpnYEBmZmZmZi5kQGZmZmZmxm9AmpmZmZn5UkBmZmZmZsZDwNejcD0KN2dAKVyPwvWgbEAzMzMzM8NXwPYoXI/ChVZAH4XrUbgua0CuR+F6FL5lQMP1KFyPElDAmpmZmZl5aUDD9Shcj/pmQArXo3A9Qm9AzczMzMysbECuR+F6FAZvQHE9CtejUEtA7FG4HoVLSUBcj8L1KNw0QHsUrkfhulpAH4XrUbimYECPwvUoXMdgQLgehetROGNAXI/C9SjcO8B7FK5H4To0wArXo3A9GlxAH4XrUbjWZUAzMzMzM19yQFyPwvUohGNAcT0K16NwVkDNzMzMzLxqQDMzMzMzE21AmpmZmZm5WMAfhetRuC5yQB+F61G4Hj7A4XoUrkfxY0CPwvUoXH9vQEjhehSuP2RAhetRuB7VZ0DD9Shcj9JsQArXo3A9KlhAuB6F61HYWEApXI/C9ThXwOxRuB6F+1jAXI/C9ShsVMB7FK5H4fo4wIXrUbgexTfAmpmZmZkpY0CPwvUoXO9KQLgehetRoGFAPQrXo3C1YkDXo3A9CndHwArXo3A9Ol9A16NwPQq3RMAfhetRuEZlQD0K16NwjVHAUrgeheshaUD2KFyPwgVdQI/C9Shc31lAAAAAAAAAN8CPwvUoXE9XwI/C9ShcL0XACtejcD3qaEDsUbgehXtrQK5H4XoURmRAhetRuB6FQ8B7FK5H4YpjQHE9CtejUEBAcT0K16MwNkApXI/C9dBvQFyPwvUoXCXAMzMzMzMzHcAK16NwPUoxwKRwPQrXk29Aw/UoXI8qZEAUrkfhejRGwPYoXI/CkXJAexSuR+GKYUDXo3A9ChdLQPYoXI/C9fw/cT0K16P4akBcj8L1KJxcQPYoXI/CNWpAH4XrUbh2ZEBxPQrXo1BQwNejcD0KF09AzczMzMzcXkAfhetRuOZxQFK4HoXrmW5AH4XrUbguY0Bcj8L1KFwVQPYoXI/CjWxAuB6F61G4vr+4HoXrUShYwHE9Ctej4FhAzczMzMzMZUA9CtejcG1oQHsUrkfhGkfAj8L1KFwPRkDXo3A9CjdKQI/C9Shch2NAPQrXo3DdUcAzMzMzM3M6wEjhehSuZ2JAhetRuB5tbUCamZmZmflGwA==",
          "dtype": "f8"
         },
         "y0": " ",
         "yaxis": "y"
        }
       ],
       "layout": {
        "boxmode": "overlay",
        "legend": {
         "title": {
          "text": "Category"
         },
         "tracegroupgap": 0
        },
        "template": {
         "data": {
          "bar": [
           {
            "error_x": {
             "color": "#2a3f5f"
            },
            "error_y": {
             "color": "#2a3f5f"
            },
            "marker": {
             "line": {
              "color": "white",
              "width": 0.5
             },
             "pattern": {
              "fillmode": "overlay",
              "size": 10,
              "solidity": 0.2
             }
            },
            "type": "bar"
           }
          ],
          "barpolar": [
           {
            "marker": {
             "line": {
              "color": "white",
              "width": 0.5
             },
             "pattern": {
              "fillmode": "overlay",
              "size": 10,
              "solidity": 0.2
             }
            },
            "type": "barpolar"
           }
          ],
          "carpet": [
           {
            "aaxis": {
             "endlinecolor": "#2a3f5f",
             "gridcolor": "#C8D4E3",
             "linecolor": "#C8D4E3",
             "minorgridcolor": "#C8D4E3",
             "startlinecolor": "#2a3f5f"
            },
            "baxis": {
             "endlinecolor": "#2a3f5f",
             "gridcolor": "#C8D4E3",
             "linecolor": "#C8D4E3",
             "minorgridcolor": "#C8D4E3",
             "startlinecolor": "#2a3f5f"
            },
            "type": "carpet"
           }
          ],
          "choropleth": [
           {
            "colorbar": {
             "outlinewidth": 0,
             "ticks": ""
            },
            "type": "choropleth"
           }
          ],
          "contour": [
           {
            "colorbar": {
             "outlinewidth": 0,
             "ticks": ""
            },
            "colorscale": [
             [
              0,
              "#0d0887"
             ],
             [
              0.1111111111111111,
              "#46039f"
             ],
             [
              0.2222222222222222,
              "#7201a8"
             ],
             [
              0.3333333333333333,
              "#9c179e"
             ],
             [
              0.4444444444444444,
              "#bd3786"
             ],
             [
              0.5555555555555556,
              "#d8576b"
             ],
             [
              0.6666666666666666,
              "#ed7953"
             ],
             [
              0.7777777777777778,
              "#fb9f3a"
             ],
             [
              0.8888888888888888,
              "#fdca26"
             ],
             [
              1,
              "#f0f921"
             ]
            ],
            "type": "contour"
           }
          ],
          "contourcarpet": [
           {
            "colorbar": {
             "outlinewidth": 0,
             "ticks": ""
            },
            "type": "contourcarpet"
           }
          ],
          "heatmap": [
           {
            "colorbar": {
             "outlinewidth": 0,
             "ticks": ""
            },
            "colorscale": [
             [
              0,
              "#0d0887"
             ],
             [
              0.1111111111111111,
              "#46039f"
             ],
             [
              0.2222222222222222,
              "#7201a8"
             ],
             [
              0.3333333333333333,
              "#9c179e"
             ],
             [
              0.4444444444444444,
              "#bd3786"
             ],
             [
              0.5555555555555556,
              "#d8576b"
             ],
             [
              0.6666666666666666,
              "#ed7953"
             ],
             [
              0.7777777777777778,
              "#fb9f3a"
             ],
             [
              0.8888888888888888,
              "#fdca26"
             ],
             [
              1,
              "#f0f921"
             ]
            ],
            "type": "heatmap"
           }
          ],
          "histogram": [
           {
            "marker": {
             "pattern": {
              "fillmode": "overlay",
              "size": 10,
              "solidity": 0.2
             }
            },
            "type": "histogram"
           }
          ],
          "histogram2d": [
           {
            "colorbar": {
             "outlinewidth": 0,
             "ticks": ""
            },
            "colorscale": [
             [
              0,
              "#0d0887"
             ],
             [
              0.1111111111111111,
              "#46039f"
             ],
             [
              0.2222222222222222,
              "#7201a8"
             ],
             [
              0.3333333333333333,
              "#9c179e"
             ],
             [
              0.4444444444444444,
              "#bd3786"
             ],
             [
              0.5555555555555556,
              "#d8576b"
             ],
             [
              0.6666666666666666,
              "#ed7953"
             ],
             [
              0.7777777777777778,
              "#fb9f3a"
             ],
             [
              0.8888888888888888,
              "#fdca26"
             ],
             [
              1,
              "#f0f921"
             ]
            ],
            "type": "histogram2d"
           }
          ],
          "histogram2dcontour": [
           {
            "colorbar": {
             "outlinewidth": 0,
             "ticks": ""
            },
            "colorscale": [
             [
              0,
              "#0d0887"
             ],
             [
              0.1111111111111111,
              "#46039f"
             ],
             [
              0.2222222222222222,
              "#7201a8"
             ],
             [
              0.3333333333333333,
              "#9c179e"
             ],
             [
              0.4444444444444444,
              "#bd3786"
             ],
             [
              0.5555555555555556,
              "#d8576b"
             ],
             [
              0.6666666666666666,
              "#ed7953"
             ],
             [
              0.7777777777777778,
              "#fb9f3a"
             ],
             [
              0.8888888888888888,
              "#fdca26"
             ],
             [
              1,
              "#f0f921"
             ]
            ],
            "type": "histogram2dcontour"
           }
          ],
          "mesh3d": [
           {
            "colorbar": {
             "outlinewidth": 0,
             "ticks": ""
            },
            "type": "mesh3d"
           }
          ],
          "parcoords": [
           {
            "line": {
             "colorbar": {
              "outlinewidth": 0,
              "ticks": ""
             }
            },
            "type": "parcoords"
           }
          ],
          "pie": [
           {
            "automargin": true,
            "type": "pie"
           }
          ],
          "scatter": [
           {
            "fillpattern": {
             "fillmode": "overlay",
             "size": 10,
             "solidity": 0.2
            },
            "type": "scatter"
           }
          ],
          "scatter3d": [
           {
            "line": {
             "colorbar": {
              "outlinewidth": 0,
              "ticks": ""
             }
            },
            "marker": {
             "colorbar": {
              "outlinewidth": 0,
              "ticks": ""
             }
            },
            "type": "scatter3d"
           }
          ],
          "scattercarpet": [
           {
            "marker": {
             "colorbar": {
              "outlinewidth": 0,
              "ticks": ""
             }
            },
            "type": "scattercarpet"
           }
          ],
          "scattergeo": [
           {
            "marker": {
             "colorbar": {
              "outlinewidth": 0,
              "ticks": ""
             }
            },
            "type": "scattergeo"
           }
          ],
          "scattergl": [
           {
            "marker": {
             "colorbar": {
              "outlinewidth": 0,
              "ticks": ""
             }
            },
            "type": "scattergl"
           }
          ],
          "scattermap": [
           {
            "marker": {
             "colorbar": {
              "outlinewidth": 0,
              "ticks": ""
             }
            },
            "type": "scattermap"
           }
          ],
          "scattermapbox": [
           {
            "marker": {
             "colorbar": {
              "outlinewidth": 0,
              "ticks": ""
             }
            },
            "type": "scattermapbox"
           }
          ],
          "scatterpolar": [
           {
            "marker": {
             "colorbar": {
              "outlinewidth": 0,
              "ticks": ""
             }
            },
            "type": "scatterpolar"
           }
          ],
          "scatterpolargl": [
           {
            "marker": {
             "colorbar": {
              "outlinewidth": 0,
              "ticks": ""
             }
            },
            "type": "scatterpolargl"
           }
          ],
          "scatterternary": [
           {
            "marker": {
             "colorbar": {
              "outlinewidth": 0,
              "ticks": ""
             }
            },
            "type": "scatterternary"
           }
          ],
          "surface": [
           {
            "colorbar": {
             "outlinewidth": 0,
             "ticks": ""
            },
            "colorscale": [
             [
              0,
              "#0d0887"
             ],
             [
              0.1111111111111111,
              "#46039f"
             ],
             [
              0.2222222222222222,
              "#7201a8"
             ],
             [
              0.3333333333333333,
              "#9c179e"
             ],
             [
              0.4444444444444444,
              "#bd3786"
             ],
             [
              0.5555555555555556,
              "#d8576b"
             ],
             [
              0.6666666666666666,
              "#ed7953"
             ],
             [
              0.7777777777777778,
              "#fb9f3a"
             ],
             [
              0.8888888888888888,
              "#fdca26"
             ],
             [
              1,
              "#f0f921"
             ]
            ],
            "type": "surface"
           }
          ],
          "table": [
           {
            "cells": {
             "fill": {
              "color": "#EBF0F8"
             },
             "line": {
              "color": "white"
             }
            },
            "header": {
             "fill": {
              "color": "#C8D4E3"
             },
             "line": {
              "color": "white"
             }
            },
            "type": "table"
           }
          ]
         },
         "layout": {
          "annotationdefaults": {
           "arrowcolor": "#2a3f5f",
           "arrowhead": 0,
           "arrowwidth": 1
          },
          "autotypenumbers": "strict",
          "coloraxis": {
           "colorbar": {
            "outlinewidth": 0,
            "ticks": ""
           }
          },
          "colorscale": {
           "diverging": [
            [
             0,
             "#8e0152"
            ],
            [
             0.1,
             "#c51b7d"
            ],
            [
             0.2,
             "#de77ae"
            ],
            [
             0.3,
             "#f1b6da"
            ],
            [
             0.4,
             "#fde0ef"
            ],
            [
             0.5,
             "#f7f7f7"
            ],
            [
             0.6,
             "#e6f5d0"
            ],
            [
             0.7,
             "#b8e186"
            ],
            [
             0.8,
             "#7fbc41"
            ],
            [
             0.9,
             "#4d9221"
            ],
            [
             1,
             "#276419"
            ]
           ],
           "sequential": [
            [
             0,
             "#0d0887"
            ],
            [
             0.1111111111111111,
             "#46039f"
            ],
            [
             0.2222222222222222,
             "#7201a8"
            ],
            [
             0.3333333333333333,
             "#9c179e"
            ],
            [
             0.4444444444444444,
             "#bd3786"
            ],
            [
             0.5555555555555556,
             "#d8576b"
            ],
            [
             0.6666666666666666,
             "#ed7953"
            ],
            [
             0.7777777777777778,
             "#fb9f3a"
            ],
            [
             0.8888888888888888,
             "#fdca26"
            ],
            [
             1,
             "#f0f921"
            ]
           ],
           "sequentialminus": [
            [
             0,
             "#0d0887"
            ],
            [
             0.1111111111111111,
             "#46039f"
            ],
            [
             0.2222222222222222,
             "#7201a8"
            ],
            [
             0.3333333333333333,
             "#9c179e"
            ],
            [
             0.4444444444444444,
             "#bd3786"
            ],
            [
             0.5555555555555556,
             "#d8576b"
            ],
            [
             0.6666666666666666,
             "#ed7953"
            ],
            [
             0.7777777777777778,
             "#fb9f3a"
            ],
            [
             0.8888888888888888,
             "#fdca26"
            ],
            [
             1,
             "#f0f921"
            ]
           ]
          },
          "colorway": [
           "#636efa",
           "#EF553B",
           "#00cc96",
           "#ab63fa",
           "#FFA15A",
           "#19d3f3",
           "#FF6692",
           "#B6E880",
           "#FF97FF",
           "#FECB52"
          ],
          "font": {
           "color": "#2a3f5f"
          },
          "geo": {
           "bgcolor": "white",
           "lakecolor": "white",
           "landcolor": "white",
           "showlakes": true,
           "showland": true,
           "subunitcolor": "#C8D4E3"
          },
          "hoverlabel": {
           "align": "left"
          },
          "hovermode": "closest",
          "mapbox": {
           "style": "light"
          },
          "paper_bgcolor": "white",
          "plot_bgcolor": "white",
          "polar": {
           "angularaxis": {
            "gridcolor": "#EBF0F8",
            "linecolor": "#EBF0F8",
            "ticks": ""
           },
           "bgcolor": "white",
           "radialaxis": {
            "gridcolor": "#EBF0F8",
            "linecolor": "#EBF0F8",
            "ticks": ""
           }
          },
          "scene": {
           "xaxis": {
            "backgroundcolor": "white",
            "gridcolor": "#DFE8F3",
            "gridwidth": 2,
            "linecolor": "#EBF0F8",
            "showbackground": true,
            "ticks": "",
            "zerolinecolor": "#EBF0F8"
           },
           "yaxis": {
            "backgroundcolor": "white",
            "gridcolor": "#DFE8F3",
            "gridwidth": 2,
            "linecolor": "#EBF0F8",
            "showbackground": true,
            "ticks": "",
            "zerolinecolor": "#EBF0F8"
           },
           "zaxis": {
            "backgroundcolor": "white",
            "gridcolor": "#DFE8F3",
            "gridwidth": 2,
            "linecolor": "#EBF0F8",
            "showbackground": true,
            "ticks": "",
            "zerolinecolor": "#EBF0F8"
           }
          },
          "shapedefaults": {
           "line": {
            "color": "#2a3f5f"
           }
          },
          "ternary": {
           "aaxis": {
            "gridcolor": "#DFE8F3",
            "linecolor": "#A2B1C6",
            "ticks": ""
           },
           "baxis": {
            "gridcolor": "#DFE8F3",
            "linecolor": "#A2B1C6",
            "ticks": ""
           },
           "bgcolor": "white",
           "caxis": {
            "gridcolor": "#DFE8F3",
            "linecolor": "#A2B1C6",
            "ticks": ""
           }
          },
          "title": {
           "x": 0.05
          },
          "xaxis": {
           "automargin": true,
           "gridcolor": "#EBF0F8",
           "linecolor": "#EBF0F8",
           "ticks": "",
           "title": {
            "standoff": 15
           },
           "zerolinecolor": "#EBF0F8",
           "zerolinewidth": 2
          },
          "yaxis": {
           "automargin": true,
           "gridcolor": "#EBF0F8",
           "linecolor": "#EBF0F8",
           "ticks": "",
           "title": {
            "standoff": 15
           },
           "zerolinecolor": "#EBF0F8",
           "zerolinewidth": 2
          }
         }
        },
        "title": {
         "text": "Profit Distribution by Category"
        },
        "xaxis": {
         "anchor": "y",
         "categoryarray": [
          "Technology",
          "Furniture",
          "Office Supplies"
         ],
         "categoryorder": "array",
         "domain": [
          0,
          1
         ],
         "title": {
          "text": "Category"
         }
        },
        "yaxis": {
         "anchor": "x",
         "domain": [
          0,
          1
         ],
         "title": {
          "text": "Profit"
         }
        }
       }
      }
     },
     "metadata": {},
     "output_type": "display_data"
    }
   ],
   "source": [
    "# 📦 Box Plot – Profit Distribution by Category\n",
    "\n",
    "fig5 = box_plot(df, x=\"Category\", y=\"Profit\", color=\"Category\", title=\"Profit Distribution by Category\")\n",
    "fig5.show()"
   ]
  },
  {
   "cell_type": "code",
   "execution_count": 8,
   "id": "ceb6033b",
   "metadata": {},
   "outputs": [
    {
     "name": "stdout",
     "output_type": "stream",
     "text": [
      "✅ HTML saved to: /Users/satvikpraveen/Desktop/Libraries/PlotlyVizPro/exports/html/02_bar_pie_box/sales_by_category.html\n",
      "✅ PNG saved to: /Users/satvikpraveen/Desktop/Libraries/PlotlyVizPro/exports/images/02_bar_pie_box/sales_by_category.png\n",
      "✅ HTML saved to: /Users/satvikpraveen/Desktop/Libraries/PlotlyVizPro/exports/html/02_bar_pie_box/subcat_sales_by_region_grouped.html\n",
      "✅ PNG saved to: /Users/satvikpraveen/Desktop/Libraries/PlotlyVizPro/exports/images/02_bar_pie_box/subcat_sales_by_region_grouped.png\n",
      "✅ HTML saved to: /Users/satvikpraveen/Desktop/Libraries/PlotlyVizPro/exports/html/02_bar_pie_box/subcat_sales_by_region_stacked.html\n",
      "✅ PNG saved to: /Users/satvikpraveen/Desktop/Libraries/PlotlyVizPro/exports/images/02_bar_pie_box/subcat_sales_by_region_stacked.png\n",
      "✅ HTML saved to: /Users/satvikpraveen/Desktop/Libraries/PlotlyVizPro/exports/html/02_bar_pie_box/sales_share_pie_region.html\n",
      "✅ PNG saved to: /Users/satvikpraveen/Desktop/Libraries/PlotlyVizPro/exports/images/02_bar_pie_box/sales_share_pie_region.png\n",
      "✅ HTML saved to: /Users/satvikpraveen/Desktop/Libraries/PlotlyVizPro/exports/html/02_bar_pie_box/profit_boxplot_by_category.html\n",
      "✅ PNG saved to: /Users/satvikpraveen/Desktop/Libraries/PlotlyVizPro/exports/images/02_bar_pie_box/profit_boxplot_by_category.png\n"
     ]
    }
   ],
   "source": [
    "# 💾 Save all plots in both HTML and PNG formats\n",
    "save_fig_as_html(fig1, \"sales_by_category.html\", notebook_name=NOTEBOOK_ID)\n",
    "save_fig_as_png(fig1, \"sales_by_category.png\", notebook_name=NOTEBOOK_ID)\n",
    "\n",
    "save_fig_as_html(fig2, \"subcat_sales_by_region_grouped.html\", notebook_name=NOTEBOOK_ID)\n",
    "save_fig_as_png(fig2, \"subcat_sales_by_region_grouped.png\", notebook_name=NOTEBOOK_ID)\n",
    "\n",
    "save_fig_as_html(fig3, \"subcat_sales_by_region_stacked.html\", notebook_name=NOTEBOOK_ID)\n",
    "save_fig_as_png(fig3, \"subcat_sales_by_region_stacked.png\", notebook_name=NOTEBOOK_ID)\n",
    "\n",
    "save_fig_as_html(fig4, \"sales_share_pie_region.html\", notebook_name=NOTEBOOK_ID)\n",
    "save_fig_as_png(fig4, \"sales_share_pie_region.png\", notebook_name=NOTEBOOK_ID)\n",
    "\n",
    "save_fig_as_html(fig5, \"profit_boxplot_by_category.html\", notebook_name=NOTEBOOK_ID)\n",
    "save_fig_as_png(fig5, \"profit_boxplot_by_category.png\", notebook_name=NOTEBOOK_ID)\n"
   ]
  },
  {
   "cell_type": "markdown",
   "id": "55e8b66a",
   "metadata": {},
   "source": [
    "## ✅ Summary:\n",
    "- Applied Plotly theme globally using `pio.templates.default`  \n",
    "- Loaded the `superstore.csv` dataset  \n",
    "- Plotted bar charts, pie chart, and box plot using utility functions  \n",
    "- Saved plots directly to the project’s `exports/html/02_bar_pie_box/` and `exports/images/02_bar_pie_box/` folders  \n",
    "\n",
    "All future notebooks will follow the same pattern for modularity and clarity."
   ]
  }
 ],
 "metadata": {
  "kernelspec": {
   "display_name": "plotly_env",
   "language": "python",
   "name": "python3"
  },
  "language_info": {
   "codemirror_mode": {
    "name": "ipython",
    "version": 3
   },
   "file_extension": ".py",
   "mimetype": "text/x-python",
   "name": "python",
   "nbconvert_exporter": "python",
   "pygments_lexer": "ipython3",
   "version": "3.11.11"
  }
 },
 "nbformat": 4,
 "nbformat_minor": 5
}
