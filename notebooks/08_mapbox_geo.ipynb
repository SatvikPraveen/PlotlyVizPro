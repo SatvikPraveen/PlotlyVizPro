{
 "cells": [
  {
   "cell_type": "markdown",
   "id": "6a9175dd",
   "metadata": {},
   "source": [
    "# 🧩 Notebook 08: Mapbox & Geo Projections in Plotly"
   ]
  },
  {
   "cell_type": "code",
   "execution_count": null,
   "id": "511ada7a",
   "metadata": {},
   "outputs": [
    {
     "name": "stdout",
     "output_type": "stream",
     "text": [
      "✅ Plotly Project Utils Loaded\n"
     ]
    }
   ],
   "source": [
    "# 📦 Setup & Imports\n",
    "import pandas as pd\n",
    "import sys\n",
    "from pathlib import Path\n",
    "import plotly.io as pio\n",
    "\n",
    "# ✅ Setup path to use utils\n",
    "PROJECT_ROOT = Path.cwd().parent\n",
    "UTILS_DIR = PROJECT_ROOT / \"utils\"\n",
    "if str(UTILS_DIR) not in sys.path:\n",
    "    sys.path.insert(0, str(UTILS_DIR))\n",
    "\n",
    "# 🧰 Custom utilities\n",
    "from plot_utils import (\n",
    "    scatter_mapbox,\n",
    "    save_fig_as_html,\n",
    "    save_fig_as_png\n",
    ")\n",
    "\n",
    "# 🎨 Apply project-wide theme\n",
    "pio.templates.default = \"plotly_white\"\n",
    "\n",
    "NOTEBOOK_ID = \"08_mapbox_geo\"\n",
    "\n",
    "# 📁 Ensure export folders exist for this notebook\n",
    "EXPORT_BASE = PROJECT_ROOT / \"exports\"\n",
    "EXPORT_HTML = EXPORT_BASE / \"html\" / NOTEBOOK_ID\n",
    "EXPORT_IMG = EXPORT_BASE / \"images\" / NOTEBOOK_ID\n",
    "\n",
    "EXPORT_HTML.mkdir(parents=True, exist_ok=True)\n",
    "EXPORT_IMG.mkdir(parents=True, exist_ok=True)\n",
    "\n",
    "print(\"✅ Plotly Project Utils Loaded\")"
   ]
  },
  {
   "cell_type": "code",
   "execution_count": 2,
   "id": "1c8de704",
   "metadata": {},
   "outputs": [
    {
     "data": {
      "text/html": [
       "<div>\n",
       "<style scoped>\n",
       "    .dataframe tbody tr th:only-of-type {\n",
       "        vertical-align: middle;\n",
       "    }\n",
       "\n",
       "    .dataframe tbody tr th {\n",
       "        vertical-align: top;\n",
       "    }\n",
       "\n",
       "    .dataframe thead th {\n",
       "        text-align: right;\n",
       "    }\n",
       "</style>\n",
       "<table border=\"1\" class=\"dataframe\">\n",
       "  <thead>\n",
       "    <tr style=\"text-align: right;\">\n",
       "      <th></th>\n",
       "      <th>City</th>\n",
       "      <th>Latitude</th>\n",
       "      <th>Longitude</th>\n",
       "      <th>Score</th>\n",
       "    </tr>\n",
       "  </thead>\n",
       "  <tbody>\n",
       "    <tr>\n",
       "      <th>0</th>\n",
       "      <td>Lake Kimberly</td>\n",
       "      <td>-8.721602</td>\n",
       "      <td>-136.999060</td>\n",
       "      <td>11.09</td>\n",
       "    </tr>\n",
       "    <tr>\n",
       "      <th>1</th>\n",
       "      <td>Bestland</td>\n",
       "      <td>88.048957</td>\n",
       "      <td>100.845382</td>\n",
       "      <td>27.73</td>\n",
       "    </tr>\n",
       "    <tr>\n",
       "      <th>2</th>\n",
       "      <td>South Jacob</td>\n",
       "      <td>-52.341175</td>\n",
       "      <td>21.763809</td>\n",
       "      <td>50.03</td>\n",
       "    </tr>\n",
       "    <tr>\n",
       "      <th>3</th>\n",
       "      <td>North Jennifer</td>\n",
       "      <td>-26.798792</td>\n",
       "      <td>101.696182</td>\n",
       "      <td>17.05</td>\n",
       "    </tr>\n",
       "    <tr>\n",
       "      <th>4</th>\n",
       "      <td>Port Herberthaven</td>\n",
       "      <td>21.715919</td>\n",
       "      <td>-174.290589</td>\n",
       "      <td>19.38</td>\n",
       "    </tr>\n",
       "  </tbody>\n",
       "</table>\n",
       "</div>"
      ],
      "text/plain": [
       "                City   Latitude   Longitude  Score\n",
       "0      Lake Kimberly  -8.721602 -136.999060  11.09\n",
       "1           Bestland  88.048957  100.845382  27.73\n",
       "2        South Jacob -52.341175   21.763809  50.03\n",
       "3     North Jennifer -26.798792  101.696182  17.05\n",
       "4  Port Herberthaven  21.715919 -174.290589  19.38"
      ]
     },
     "execution_count": 2,
     "metadata": {},
     "output_type": "execute_result"
    }
   ],
   "source": [
    "# 🗺️ Load Dataset\n",
    "\n",
    "df = pd.read_csv(PROJECT_ROOT / \"datasets/map_data.csv\")\n",
    "df.head()"
   ]
  },
  {
   "cell_type": "code",
   "execution_count": 3,
   "id": "4da83394",
   "metadata": {},
   "outputs": [
    {
     "data": {
      "application/vnd.plotly.v1+json": {
       "config": {
        "plotlyServerURL": "https://plot.ly"
       },
       "data": [
        {
         "hovertemplate": "<b>%{hovertext}</b><br><br>Score=%{marker.color}<br>Latitude=%{lat}<br>Longitude=%{lon}<extra></extra>",
         "hovertext": [
          "Lake Kimberly",
          "Bestland",
          "South Jacob",
          "North Jennifer",
          "Port Herberthaven",
          "East Angelamouth",
          "Harveyshire",
          "East Sandra",
          "North Jessicastad",
          "East Sarah",
          "North Robertberg",
          "Powersside",
          "Brianside",
          "Smithburgh",
          "Christinatown",
          "Port Stevenhaven",
          "West Kennethville",
          "New Vanessa",
          "Dennischester",
          "Mistyton",
          "North Jennifer",
          "South Andrewville",
          "Lake Jamesbury",
          "Shawtown",
          "North Anitaport",
          "Gibsonfurt",
          "Gibsonland",
          "Sarahberg",
          "New Peterton",
          "Lake Timothy",
          "South Vanessa",
          "Millerville",
          "Brianport",
          "Port Kennethside",
          "Baileytown",
          "Matthewtown",
          "North Meganside",
          "East Debbie",
          "South Tammy",
          "Christopherstad",
          "Lake Sandra",
          "Lake Patrick",
          "Gregoryland",
          "New Joseshire",
          "Nathanielville",
          "Dakotabury",
          "Lake Dale",
          "New Veronica",
          "South Michaela",
          "Denniston",
          "Markberg",
          "Royfort",
          "Port Kyle",
          "Port Michellebury",
          "Kingbury",
          "Morganshire",
          "East Heathershire",
          "South Kaitlynport",
          "West Joseland",
          "South Christianshire",
          "West Samuelmouth",
          "West Victormouth",
          "Ramseyhaven",
          "Jacquelineview",
          "South Michealview",
          "Jonesview",
          "Port Ericside",
          "West Jonathan",
          "Michaelland",
          "East Lisa",
          "Jacksonland",
          "Jennifershire",
          "Kevinbury",
          "Lake Patrickberg",
          "Williamshire",
          "Port Nicole",
          "Port Rickyton",
          "East Markside",
          "East Kenneth",
          "Nicoletown",
          "West Lauraberg",
          "Nicolefurt",
          "Scottport",
          "Petermouth",
          "Lake Miranda",
          "South Kevinshire",
          "Lake Dorothymouth",
          "North Deborah",
          "South Scottfurt",
          "Trevinoview",
          "North Jasonfurt",
          "West Kathleenshire",
          "Tracyport",
          "Landryberg",
          "Christinetown",
          "New Lindseybury",
          "Jessicachester",
          "Davidtown",
          "Alexanderton",
          "Schultzborough"
         ],
         "lat": {
          "bdata": "dmwE4nVxIcBOm3EaIgNWQD2bVZ+rK0rAck7soX3MOsDElbN3Rrc1QH7Er1jDUkVAtDukGCDvUcBblNkgkwg8wDV6NUDpYFDAzSIUW0FVVkBZFHZR9Jw6wH/cfvlkGkBAvoQKDi+QHkAUWWsotcMuQN1AgXfy5k/Aur963DfbVUByp3Sw/ulJwGJJufscXknAKnReYxfqUcCfIRyz7DEcQNKsbB/ygD7A4C2QoPj2VcCGONbFbWJOwLL0oQvqbErAhJz3//HiVUBzgGCOHlU2wElKehjaoVTA+u5WlugZSsBl3xXB/5xFQO6UDtb/xEHAE0NyMnEjREAofLYOjmxVwM1XycduT1FAdZSD2QRQNUCokCv1rHlUwKiMf59x4f6/5UNQNfqsUUBjZMkcy9xCQH0IqkavBUNAUG1wIvqtUUCJB5RNuS4ywBgJbTmXgUtAYTWWsDavQsDDZKpgVOhRwHkHeNLC40NABP9byY6CU0C0PXrDfXlSQMgL6fAQeUTAxTcUPlvuUEC6oSk7/RQ0QMTqjzAMoCnAMXkDzHwnJ8CAfXTqyvhAQP8/Tpgwfi9ANBMM5xpSJkDNXODyWIJAQG5qoPmcaUdAVg4tsp2pSUAGvMywUVZBQKGfqdctt0VAf4l46/y8VMC6vg8HiUBUQOMYyR6hejpAUDi7tUzgT0C8y0V8J/5LQF8lH7sLRjpA56kOuRkZTUCd2EP7WKkgQLPviuB/Zk9ASaDBps7D+T8X9N4YAgQsQGAeMuVDJUHAkUQvo1iOTcAQI4RHm69VQKZ+3lSkW0JAibZj6q4pU0B5knTN5FpDQFdfXRWobTVA+U1hpQJsUMBPrFPle9QwwPrPmh9/HUPAh/2eWKfhQUAclgZ+VExAQH/ZPXnYqlXAfcucLouwQEBe9YB5yBo5wAJHAg02LUbA7PgvEAReN0D/W8mOjR1IQMmqCDcZjkhA6Iam7HQFVMAepRKe0E9NQKZetwiMbRpAdhn+0w2rQ8D+mxcnvmItwOZ0WUxs+lVAK2wGuCAFTEDmsWZkEG5RwG5rC89LBSNAONxHbk3QNUA=",
          "dtype": "f8"
         },
         "legendgroup": "",
         "lon": {
          "bdata": "vFetTPgfYcAiqBq9GjZZQPVjk/yIwzVAFoTyPo5sWUB6ck2BTMllwM7Cnnb4p2BAKEnXTL6BUMCwWS4bne1dwPtcbcX+Hj/ALSeh9AWzYMAQ7PgvEGQmQKzGEtbGPVPAOxvyzwzDUcBuvhHds85cwLEyGvm81FVAGEM50a64VUDGounsZJpCQLuYZrrX71LAVhFuMqrcP8DvAiUFFrlSwCy5isXvtGHAgzC3e7lBX0CMZmX7kAdMQLnjTX6LOlnAw2M/i6U4UMAFpWjlXoxFQAYOaOkKEl7AoNy271G9YsB6qdiY17xjwAt8RbfesmBAfh04Z0SNUsBaZDvfTz0gwANDVrd6K1pAoMTnTjATYkCpiT4fZbQ/wHugFRgyV2JAgSbChqeYXkBh+8kYH1pFQNZyZyYYSjfAnDV4X5XtZcA5m44AbqNjwLjmjv6XyVNAJXfYRGbaPkARjln2JPZZQIpZL4ZyiGXAg1K0ci+cREB+qZ83Fc1gwKlr7X2qfkdAIhgHl45TYMCNfF7x1KZdwNBGrptS2FRAdy/3yVGvXMAYRKSmXTlYwAw89x4uVUDAQZyHE5ilWsAyqgzjbjhkQGnjiLX46DtAjgdb7HYwZUBMUMO3sHYpQN3PKcjPDFnA0a5Cyk8mMsD83qY/e6ZjwN0lcVZELFVALZj4o6g3NcC6opQQrAlQwLQB2ICIVWJAlN43vvZuXkDsFRbcD7BlQMuBHmrb2ElAibX4FACZXsAKSzygbFBHQEf/y7VocVRAIjMXuDxwQkAK9Ik8SQpHwN14d2SsBlpAgV64c+FCZkARUrezr1FTQG5uTE9YsExA4nfTLTv8UcArGJXUCe5cwBBc5QmE4l3AucfShy56TUDNd/ATB+hMwEs9C0L5z2FAEyujkc9oX8BB176AXv9iQNwpHaz/JFFAmwKZnUWvMkCpFDsahwpcQBKkUuxoYEBAU0FF1a+bYcAT1zGuuFlVQITYmUJnnmLAQfSkTGpoI0BGJ0ut95FWQJLLf0i/IlVAi4hi8gbDXsDbpQ2HpU9mwP1OkxlvHGJAtMnhk07nZEA=",
          "dtype": "f8"
         },
         "marker": {
          "color": {
           "bdata": "rkfhehQuJkB7FK5H4bo7QKRwPQrXA0lAzczMzMwMMUDhehSuR2EzQLgehetReFJArkfhehTOUEBmZmZmZiZOQM3MzMzMjDFAKVyPwvVoTUBmZmZmZqZSQHsUrkfheilA16NwPQpXV0AzMzMzM2NVQGZmZmZmBlZAKVyPwvU4UkCuR+F6FG47QOF6FK5HMVVAexSuR+F6AkAfhetRuD5YQOF6FK5H8VBAmpmZmZm5TkAUrkfhegRRQKRwPQrXE1ZAmpmZmZmZyT97FK5H4VpFQKRwPQrX01BAAAAAAABAUEApXI/C9VhVQGZmZmZmJkBA7FG4HoUbVUC4HoXrUVhEQNejcD0KVyhACtejcD3qSUBI4XoUrsdIQD0K16Nw3UlAZmZmZmZmEUBI4XoUrgdSQM3MzMzMzBJA9ihcj8L1VkAfhetRuJ5KQB+F61G4nj9AuB6F61GYQ0Bcj8L1KLxAQHE9CtejAFZA4XoUrkcxVEBSuB6F68FYQI/C9ShcjzZAzczMzMw8UUBSuB6F6/FXQM3MzMzM7FZAcT0K16OwM0D2KFyPwnVAQB+F61G4HhlApHA9CtdDT0BSuB6F61EGQLgehetRmEVAMzMzMzMzA0CuR+F6FO5TQHE9CtejYFdAMzMzMzMDVUC4HoXrUbg4QK5H4XoUrkdAuB6F61H4V0AAAAAAANBUQArXo3A9ilRAXI/C9Sj8SUDsUbgehas3QClcj8L1KB1AAAAAAAAATkDNzMzMzOxFQKRwPQrXIyNAMzMzMzNTRkD2KFyPwvUoQM3MzMzMXFhAexSuR+HqVkAfhetRuN5CQHE9CtejQFZA9ihcj8JVUUBxPQrXo5BTQM3MzMzMzBhAj8L1KFwPVEDsUbgehesVQClcj8L1iE5A16NwPQqXRUBcj8L1KFwkQFK4HoXrURZA4XoUrkfhFECPwvUoXD9VQPYoXI/CFURAPQrXo3DdTkCuR+F6FI5EQD0K16NwnVVAAAAAAACwU0AzMzMzMzNPQOxRuB6Fq0ZA9ihcj8I1R0BI4XoUrmdFQMP1KFyPAk9Aw/UoXI9CJEA=",
           "dtype": "f8"
          },
          "coloraxis": "coloraxis",
          "size": {
           "bdata": "rkfhehQuJkB7FK5H4bo7QKRwPQrXA0lAzczMzMwMMUDhehSuR2EzQLgehetReFJArkfhehTOUEBmZmZmZiZOQM3MzMzMjDFAKVyPwvVoTUBmZmZmZqZSQHsUrkfheilA16NwPQpXV0AzMzMzM2NVQGZmZmZmBlZAKVyPwvU4UkCuR+F6FG47QOF6FK5HMVVAexSuR+F6AkAfhetRuD5YQOF6FK5H8VBAmpmZmZm5TkAUrkfhegRRQKRwPQrXE1ZAmpmZmZmZyT97FK5H4VpFQKRwPQrX01BAAAAAAABAUEApXI/C9VhVQGZmZmZmJkBA7FG4HoUbVUC4HoXrUVhEQNejcD0KVyhACtejcD3qSUBI4XoUrsdIQD0K16Nw3UlAZmZmZmZmEUBI4XoUrgdSQM3MzMzMzBJA9ihcj8L1VkAfhetRuJ5KQB+F61G4nj9AuB6F61GYQ0Bcj8L1KLxAQHE9CtejAFZA4XoUrkcxVEBSuB6F68FYQI/C9ShcjzZAzczMzMw8UUBSuB6F6/FXQM3MzMzM7FZAcT0K16OwM0D2KFyPwnVAQB+F61G4HhlApHA9CtdDT0BSuB6F61EGQLgehetRmEVAMzMzMzMzA0CuR+F6FO5TQHE9CtejYFdAMzMzMzMDVUC4HoXrUbg4QK5H4XoUrkdAuB6F61H4V0AAAAAAANBUQArXo3A9ilRAXI/C9Sj8SUDsUbgehas3QClcj8L1KB1AAAAAAAAATkDNzMzMzOxFQKRwPQrXIyNAMzMzMzNTRkD2KFyPwvUoQM3MzMzMXFhAexSuR+HqVkAfhetRuN5CQHE9CtejQFZA9ihcj8JVUUBxPQrXo5BTQM3MzMzMzBhAj8L1KFwPVEDsUbgehesVQClcj8L1iE5A16NwPQqXRUBcj8L1KFwkQFK4HoXrURZA4XoUrkfhFECPwvUoXD9VQPYoXI/CFURAPQrXo3DdTkCuR+F6FI5EQD0K16NwnVVAAAAAAACwU0AzMzMzMzNPQOxRuB6Fq0ZA9ihcj8I1R0BI4XoUrmdFQMP1KFyPAk9Aw/UoXI9CJEA=",
           "dtype": "f8"
          },
          "sizemode": "area",
          "sizeref": 0.247575
         },
         "mode": "markers",
         "name": "",
         "showlegend": false,
         "subplot": "mapbox",
         "type": "scattermapbox"
        }
       ],
       "layout": {
        "coloraxis": {
         "colorbar": {
          "title": {
           "text": "Score"
          }
         },
         "colorscale": [
          [
           0,
           "#0d0887"
          ],
          [
           0.1111111111111111,
           "#46039f"
          ],
          [
           0.2222222222222222,
           "#7201a8"
          ],
          [
           0.3333333333333333,
           "#9c179e"
          ],
          [
           0.4444444444444444,
           "#bd3786"
          ],
          [
           0.5555555555555556,
           "#d8576b"
          ],
          [
           0.6666666666666666,
           "#ed7953"
          ],
          [
           0.7777777777777778,
           "#fb9f3a"
          ],
          [
           0.8888888888888888,
           "#fdca26"
          ],
          [
           1,
           "#f0f921"
          ]
         ]
        },
        "legend": {
         "itemsizing": "constant",
         "tracegroupgap": 0
        },
        "mapbox": {
         "center": {
          "lat": 6.35070314,
          "lon": -2.465976250000001
         },
         "domain": {
          "x": [
           0,
           1
          ],
          "y": [
           0,
           1
          ]
         },
         "style": "open-street-map",
         "zoom": 1
        },
        "template": {
         "data": {
          "bar": [
           {
            "error_x": {
             "color": "#2a3f5f"
            },
            "error_y": {
             "color": "#2a3f5f"
            },
            "marker": {
             "line": {
              "color": "white",
              "width": 0.5
             },
             "pattern": {
              "fillmode": "overlay",
              "size": 10,
              "solidity": 0.2
             }
            },
            "type": "bar"
           }
          ],
          "barpolar": [
           {
            "marker": {
             "line": {
              "color": "white",
              "width": 0.5
             },
             "pattern": {
              "fillmode": "overlay",
              "size": 10,
              "solidity": 0.2
             }
            },
            "type": "barpolar"
           }
          ],
          "carpet": [
           {
            "aaxis": {
             "endlinecolor": "#2a3f5f",
             "gridcolor": "#C8D4E3",
             "linecolor": "#C8D4E3",
             "minorgridcolor": "#C8D4E3",
             "startlinecolor": "#2a3f5f"
            },
            "baxis": {
             "endlinecolor": "#2a3f5f",
             "gridcolor": "#C8D4E3",
             "linecolor": "#C8D4E3",
             "minorgridcolor": "#C8D4E3",
             "startlinecolor": "#2a3f5f"
            },
            "type": "carpet"
           }
          ],
          "choropleth": [
           {
            "colorbar": {
             "outlinewidth": 0,
             "ticks": ""
            },
            "type": "choropleth"
           }
          ],
          "contour": [
           {
            "colorbar": {
             "outlinewidth": 0,
             "ticks": ""
            },
            "colorscale": [
             [
              0,
              "#0d0887"
             ],
             [
              0.1111111111111111,
              "#46039f"
             ],
             [
              0.2222222222222222,
              "#7201a8"
             ],
             [
              0.3333333333333333,
              "#9c179e"
             ],
             [
              0.4444444444444444,
              "#bd3786"
             ],
             [
              0.5555555555555556,
              "#d8576b"
             ],
             [
              0.6666666666666666,
              "#ed7953"
             ],
             [
              0.7777777777777778,
              "#fb9f3a"
             ],
             [
              0.8888888888888888,
              "#fdca26"
             ],
             [
              1,
              "#f0f921"
             ]
            ],
            "type": "contour"
           }
          ],
          "contourcarpet": [
           {
            "colorbar": {
             "outlinewidth": 0,
             "ticks": ""
            },
            "type": "contourcarpet"
           }
          ],
          "heatmap": [
           {
            "colorbar": {
             "outlinewidth": 0,
             "ticks": ""
            },
            "colorscale": [
             [
              0,
              "#0d0887"
             ],
             [
              0.1111111111111111,
              "#46039f"
             ],
             [
              0.2222222222222222,
              "#7201a8"
             ],
             [
              0.3333333333333333,
              "#9c179e"
             ],
             [
              0.4444444444444444,
              "#bd3786"
             ],
             [
              0.5555555555555556,
              "#d8576b"
             ],
             [
              0.6666666666666666,
              "#ed7953"
             ],
             [
              0.7777777777777778,
              "#fb9f3a"
             ],
             [
              0.8888888888888888,
              "#fdca26"
             ],
             [
              1,
              "#f0f921"
             ]
            ],
            "type": "heatmap"
           }
          ],
          "histogram": [
           {
            "marker": {
             "pattern": {
              "fillmode": "overlay",
              "size": 10,
              "solidity": 0.2
             }
            },
            "type": "histogram"
           }
          ],
          "histogram2d": [
           {
            "colorbar": {
             "outlinewidth": 0,
             "ticks": ""
            },
            "colorscale": [
             [
              0,
              "#0d0887"
             ],
             [
              0.1111111111111111,
              "#46039f"
             ],
             [
              0.2222222222222222,
              "#7201a8"
             ],
             [
              0.3333333333333333,
              "#9c179e"
             ],
             [
              0.4444444444444444,
              "#bd3786"
             ],
             [
              0.5555555555555556,
              "#d8576b"
             ],
             [
              0.6666666666666666,
              "#ed7953"
             ],
             [
              0.7777777777777778,
              "#fb9f3a"
             ],
             [
              0.8888888888888888,
              "#fdca26"
             ],
             [
              1,
              "#f0f921"
             ]
            ],
            "type": "histogram2d"
           }
          ],
          "histogram2dcontour": [
           {
            "colorbar": {
             "outlinewidth": 0,
             "ticks": ""
            },
            "colorscale": [
             [
              0,
              "#0d0887"
             ],
             [
              0.1111111111111111,
              "#46039f"
             ],
             [
              0.2222222222222222,
              "#7201a8"
             ],
             [
              0.3333333333333333,
              "#9c179e"
             ],
             [
              0.4444444444444444,
              "#bd3786"
             ],
             [
              0.5555555555555556,
              "#d8576b"
             ],
             [
              0.6666666666666666,
              "#ed7953"
             ],
             [
              0.7777777777777778,
              "#fb9f3a"
             ],
             [
              0.8888888888888888,
              "#fdca26"
             ],
             [
              1,
              "#f0f921"
             ]
            ],
            "type": "histogram2dcontour"
           }
          ],
          "mesh3d": [
           {
            "colorbar": {
             "outlinewidth": 0,
             "ticks": ""
            },
            "type": "mesh3d"
           }
          ],
          "parcoords": [
           {
            "line": {
             "colorbar": {
              "outlinewidth": 0,
              "ticks": ""
             }
            },
            "type": "parcoords"
           }
          ],
          "pie": [
           {
            "automargin": true,
            "type": "pie"
           }
          ],
          "scatter": [
           {
            "fillpattern": {
             "fillmode": "overlay",
             "size": 10,
             "solidity": 0.2
            },
            "type": "scatter"
           }
          ],
          "scatter3d": [
           {
            "line": {
             "colorbar": {
              "outlinewidth": 0,
              "ticks": ""
             }
            },
            "marker": {
             "colorbar": {
              "outlinewidth": 0,
              "ticks": ""
             }
            },
            "type": "scatter3d"
           }
          ],
          "scattercarpet": [
           {
            "marker": {
             "colorbar": {
              "outlinewidth": 0,
              "ticks": ""
             }
            },
            "type": "scattercarpet"
           }
          ],
          "scattergeo": [
           {
            "marker": {
             "colorbar": {
              "outlinewidth": 0,
              "ticks": ""
             }
            },
            "type": "scattergeo"
           }
          ],
          "scattergl": [
           {
            "marker": {
             "colorbar": {
              "outlinewidth": 0,
              "ticks": ""
             }
            },
            "type": "scattergl"
           }
          ],
          "scattermap": [
           {
            "marker": {
             "colorbar": {
              "outlinewidth": 0,
              "ticks": ""
             }
            },
            "type": "scattermap"
           }
          ],
          "scattermapbox": [
           {
            "marker": {
             "colorbar": {
              "outlinewidth": 0,
              "ticks": ""
             }
            },
            "type": "scattermapbox"
           }
          ],
          "scatterpolar": [
           {
            "marker": {
             "colorbar": {
              "outlinewidth": 0,
              "ticks": ""
             }
            },
            "type": "scatterpolar"
           }
          ],
          "scatterpolargl": [
           {
            "marker": {
             "colorbar": {
              "outlinewidth": 0,
              "ticks": ""
             }
            },
            "type": "scatterpolargl"
           }
          ],
          "scatterternary": [
           {
            "marker": {
             "colorbar": {
              "outlinewidth": 0,
              "ticks": ""
             }
            },
            "type": "scatterternary"
           }
          ],
          "surface": [
           {
            "colorbar": {
             "outlinewidth": 0,
             "ticks": ""
            },
            "colorscale": [
             [
              0,
              "#0d0887"
             ],
             [
              0.1111111111111111,
              "#46039f"
             ],
             [
              0.2222222222222222,
              "#7201a8"
             ],
             [
              0.3333333333333333,
              "#9c179e"
             ],
             [
              0.4444444444444444,
              "#bd3786"
             ],
             [
              0.5555555555555556,
              "#d8576b"
             ],
             [
              0.6666666666666666,
              "#ed7953"
             ],
             [
              0.7777777777777778,
              "#fb9f3a"
             ],
             [
              0.8888888888888888,
              "#fdca26"
             ],
             [
              1,
              "#f0f921"
             ]
            ],
            "type": "surface"
           }
          ],
          "table": [
           {
            "cells": {
             "fill": {
              "color": "#EBF0F8"
             },
             "line": {
              "color": "white"
             }
            },
            "header": {
             "fill": {
              "color": "#C8D4E3"
             },
             "line": {
              "color": "white"
             }
            },
            "type": "table"
           }
          ]
         },
         "layout": {
          "annotationdefaults": {
           "arrowcolor": "#2a3f5f",
           "arrowhead": 0,
           "arrowwidth": 1
          },
          "autotypenumbers": "strict",
          "coloraxis": {
           "colorbar": {
            "outlinewidth": 0,
            "ticks": ""
           }
          },
          "colorscale": {
           "diverging": [
            [
             0,
             "#8e0152"
            ],
            [
             0.1,
             "#c51b7d"
            ],
            [
             0.2,
             "#de77ae"
            ],
            [
             0.3,
             "#f1b6da"
            ],
            [
             0.4,
             "#fde0ef"
            ],
            [
             0.5,
             "#f7f7f7"
            ],
            [
             0.6,
             "#e6f5d0"
            ],
            [
             0.7,
             "#b8e186"
            ],
            [
             0.8,
             "#7fbc41"
            ],
            [
             0.9,
             "#4d9221"
            ],
            [
             1,
             "#276419"
            ]
           ],
           "sequential": [
            [
             0,
             "#0d0887"
            ],
            [
             0.1111111111111111,
             "#46039f"
            ],
            [
             0.2222222222222222,
             "#7201a8"
            ],
            [
             0.3333333333333333,
             "#9c179e"
            ],
            [
             0.4444444444444444,
             "#bd3786"
            ],
            [
             0.5555555555555556,
             "#d8576b"
            ],
            [
             0.6666666666666666,
             "#ed7953"
            ],
            [
             0.7777777777777778,
             "#fb9f3a"
            ],
            [
             0.8888888888888888,
             "#fdca26"
            ],
            [
             1,
             "#f0f921"
            ]
           ],
           "sequentialminus": [
            [
             0,
             "#0d0887"
            ],
            [
             0.1111111111111111,
             "#46039f"
            ],
            [
             0.2222222222222222,
             "#7201a8"
            ],
            [
             0.3333333333333333,
             "#9c179e"
            ],
            [
             0.4444444444444444,
             "#bd3786"
            ],
            [
             0.5555555555555556,
             "#d8576b"
            ],
            [
             0.6666666666666666,
             "#ed7953"
            ],
            [
             0.7777777777777778,
             "#fb9f3a"
            ],
            [
             0.8888888888888888,
             "#fdca26"
            ],
            [
             1,
             "#f0f921"
            ]
           ]
          },
          "colorway": [
           "#636efa",
           "#EF553B",
           "#00cc96",
           "#ab63fa",
           "#FFA15A",
           "#19d3f3",
           "#FF6692",
           "#B6E880",
           "#FF97FF",
           "#FECB52"
          ],
          "font": {
           "color": "#2a3f5f"
          },
          "geo": {
           "bgcolor": "white",
           "lakecolor": "white",
           "landcolor": "white",
           "showlakes": true,
           "showland": true,
           "subunitcolor": "#C8D4E3"
          },
          "hoverlabel": {
           "align": "left"
          },
          "hovermode": "closest",
          "mapbox": {
           "style": "light"
          },
          "paper_bgcolor": "white",
          "plot_bgcolor": "white",
          "polar": {
           "angularaxis": {
            "gridcolor": "#EBF0F8",
            "linecolor": "#EBF0F8",
            "ticks": ""
           },
           "bgcolor": "white",
           "radialaxis": {
            "gridcolor": "#EBF0F8",
            "linecolor": "#EBF0F8",
            "ticks": ""
           }
          },
          "scene": {
           "xaxis": {
            "backgroundcolor": "white",
            "gridcolor": "#DFE8F3",
            "gridwidth": 2,
            "linecolor": "#EBF0F8",
            "showbackground": true,
            "ticks": "",
            "zerolinecolor": "#EBF0F8"
           },
           "yaxis": {
            "backgroundcolor": "white",
            "gridcolor": "#DFE8F3",
            "gridwidth": 2,
            "linecolor": "#EBF0F8",
            "showbackground": true,
            "ticks": "",
            "zerolinecolor": "#EBF0F8"
           },
           "zaxis": {
            "backgroundcolor": "white",
            "gridcolor": "#DFE8F3",
            "gridwidth": 2,
            "linecolor": "#EBF0F8",
            "showbackground": true,
            "ticks": "",
            "zerolinecolor": "#EBF0F8"
           }
          },
          "shapedefaults": {
           "line": {
            "color": "#2a3f5f"
           }
          },
          "ternary": {
           "aaxis": {
            "gridcolor": "#DFE8F3",
            "linecolor": "#A2B1C6",
            "ticks": ""
           },
           "baxis": {
            "gridcolor": "#DFE8F3",
            "linecolor": "#A2B1C6",
            "ticks": ""
           },
           "bgcolor": "white",
           "caxis": {
            "gridcolor": "#DFE8F3",
            "linecolor": "#A2B1C6",
            "ticks": ""
           }
          },
          "title": {
           "x": 0.05
          },
          "xaxis": {
           "automargin": true,
           "gridcolor": "#EBF0F8",
           "linecolor": "#EBF0F8",
           "ticks": "",
           "title": {
            "standoff": 15
           },
           "zerolinecolor": "#EBF0F8",
           "zerolinewidth": 2
          },
          "yaxis": {
           "automargin": true,
           "gridcolor": "#EBF0F8",
           "linecolor": "#EBF0F8",
           "ticks": "",
           "title": {
            "standoff": 15
           },
           "zerolinecolor": "#EBF0F8",
           "zerolinewidth": 2
          }
         }
        },
        "title": {
         "text": "Global City Scores – OpenStreetMap Style"
        }
       }
      }
     },
     "metadata": {},
     "output_type": "display_data"
    }
   ],
   "source": [
    "# 🧭 Scatter Mapbox – OpenStreetMap Style (Global View)\n",
    "\n",
    "fig1 = scatter_mapbox(\n",
    "    df,\n",
    "    lat=\"Latitude\",\n",
    "    lon=\"Longitude\",\n",
    "    color=\"Score\",\n",
    "    size=\"Score\",\n",
    "    hover_name=\"City\",\n",
    "    zoom=1,\n",
    "    title=\"Global City Scores – OpenStreetMap Style\",\n",
    "    mapbox_style=\"open-street-map\"\n",
    ")\n",
    "fig1.show()\n"
   ]
  },
  {
   "cell_type": "code",
   "execution_count": 4,
   "id": "f425b113",
   "metadata": {},
   "outputs": [
    {
     "data": {
      "application/vnd.plotly.v1+json": {
       "config": {
        "plotlyServerURL": "https://plot.ly"
       },
       "data": [
        {
         "hovertemplate": "<b>%{hovertext}</b><br><br>Score=%{marker.color}<br>Latitude=%{lat}<br>Longitude=%{lon}<extra></extra>",
         "hovertext": [
          "Lake Kimberly",
          "Bestland",
          "South Jacob",
          "North Jennifer",
          "Port Herberthaven",
          "East Angelamouth",
          "Harveyshire",
          "East Sandra",
          "North Jessicastad",
          "East Sarah",
          "North Robertberg",
          "Powersside",
          "Brianside",
          "Smithburgh",
          "Christinatown",
          "Port Stevenhaven",
          "West Kennethville",
          "New Vanessa",
          "Dennischester",
          "Mistyton",
          "North Jennifer",
          "South Andrewville",
          "Lake Jamesbury",
          "Shawtown",
          "North Anitaport",
          "Gibsonfurt",
          "Gibsonland",
          "Sarahberg",
          "New Peterton",
          "Lake Timothy",
          "South Vanessa",
          "Millerville",
          "Brianport",
          "Port Kennethside",
          "Baileytown",
          "Matthewtown",
          "North Meganside",
          "East Debbie",
          "South Tammy",
          "Christopherstad",
          "Lake Sandra",
          "Lake Patrick",
          "Gregoryland",
          "New Joseshire",
          "Nathanielville",
          "Dakotabury",
          "Lake Dale",
          "New Veronica",
          "South Michaela",
          "Denniston",
          "Markberg",
          "Royfort",
          "Port Kyle",
          "Port Michellebury",
          "Kingbury",
          "Morganshire",
          "East Heathershire",
          "South Kaitlynport",
          "West Joseland",
          "South Christianshire",
          "West Samuelmouth",
          "West Victormouth",
          "Ramseyhaven",
          "Jacquelineview",
          "South Michealview",
          "Jonesview",
          "Port Ericside",
          "West Jonathan",
          "Michaelland",
          "East Lisa",
          "Jacksonland",
          "Jennifershire",
          "Kevinbury",
          "Lake Patrickberg",
          "Williamshire",
          "Port Nicole",
          "Port Rickyton",
          "East Markside",
          "East Kenneth",
          "Nicoletown",
          "West Lauraberg",
          "Nicolefurt",
          "Scottport",
          "Petermouth",
          "Lake Miranda",
          "South Kevinshire",
          "Lake Dorothymouth",
          "North Deborah",
          "South Scottfurt",
          "Trevinoview",
          "North Jasonfurt",
          "West Kathleenshire",
          "Tracyport",
          "Landryberg",
          "Christinetown",
          "New Lindseybury",
          "Jessicachester",
          "Davidtown",
          "Alexanderton",
          "Schultzborough"
         ],
         "lat": {
          "bdata": "dmwE4nVxIcBOm3EaIgNWQD2bVZ+rK0rAck7soX3MOsDElbN3Rrc1QH7Er1jDUkVAtDukGCDvUcBblNkgkwg8wDV6NUDpYFDAzSIUW0FVVkBZFHZR9Jw6wH/cfvlkGkBAvoQKDi+QHkAUWWsotcMuQN1AgXfy5k/Aur963DfbVUByp3Sw/ulJwGJJufscXknAKnReYxfqUcCfIRyz7DEcQNKsbB/ygD7A4C2QoPj2VcCGONbFbWJOwLL0oQvqbErAhJz3//HiVUBzgGCOHlU2wElKehjaoVTA+u5WlugZSsBl3xXB/5xFQO6UDtb/xEHAE0NyMnEjREAofLYOjmxVwM1XycduT1FAdZSD2QRQNUCokCv1rHlUwKiMf59x4f6/5UNQNfqsUUBjZMkcy9xCQH0IqkavBUNAUG1wIvqtUUCJB5RNuS4ywBgJbTmXgUtAYTWWsDavQsDDZKpgVOhRwHkHeNLC40NABP9byY6CU0C0PXrDfXlSQMgL6fAQeUTAxTcUPlvuUEC6oSk7/RQ0QMTqjzAMoCnAMXkDzHwnJ8CAfXTqyvhAQP8/Tpgwfi9ANBMM5xpSJkDNXODyWIJAQG5qoPmcaUdAVg4tsp2pSUAGvMywUVZBQKGfqdctt0VAf4l46/y8VMC6vg8HiUBUQOMYyR6hejpAUDi7tUzgT0C8y0V8J/5LQF8lH7sLRjpA56kOuRkZTUCd2EP7WKkgQLPviuB/Zk9ASaDBps7D+T8X9N4YAgQsQGAeMuVDJUHAkUQvo1iOTcAQI4RHm69VQKZ+3lSkW0JAibZj6q4pU0B5knTN5FpDQFdfXRWobTVA+U1hpQJsUMBPrFPle9QwwPrPmh9/HUPAh/2eWKfhQUAclgZ+VExAQH/ZPXnYqlXAfcucLouwQEBe9YB5yBo5wAJHAg02LUbA7PgvEAReN0D/W8mOjR1IQMmqCDcZjkhA6Iam7HQFVMAepRKe0E9NQKZetwiMbRpAdhn+0w2rQ8D+mxcnvmItwOZ0WUxs+lVAK2wGuCAFTEDmsWZkEG5RwG5rC89LBSNAONxHbk3QNUA=",
          "dtype": "f8"
         },
         "legendgroup": "",
         "lon": {
          "bdata": "vFetTPgfYcAiqBq9GjZZQPVjk/yIwzVAFoTyPo5sWUB6ck2BTMllwM7Cnnb4p2BAKEnXTL6BUMCwWS4bne1dwPtcbcX+Hj/ALSeh9AWzYMAQ7PgvEGQmQKzGEtbGPVPAOxvyzwzDUcBuvhHds85cwLEyGvm81FVAGEM50a64VUDGounsZJpCQLuYZrrX71LAVhFuMqrcP8DvAiUFFrlSwCy5isXvtGHAgzC3e7lBX0CMZmX7kAdMQLnjTX6LOlnAw2M/i6U4UMAFpWjlXoxFQAYOaOkKEl7AoNy271G9YsB6qdiY17xjwAt8RbfesmBAfh04Z0SNUsBaZDvfTz0gwANDVrd6K1pAoMTnTjATYkCpiT4fZbQ/wHugFRgyV2JAgSbChqeYXkBh+8kYH1pFQNZyZyYYSjfAnDV4X5XtZcA5m44AbqNjwLjmjv6XyVNAJXfYRGbaPkARjln2JPZZQIpZL4ZyiGXAg1K0ci+cREB+qZ83Fc1gwKlr7X2qfkdAIhgHl45TYMCNfF7x1KZdwNBGrptS2FRAdy/3yVGvXMAYRKSmXTlYwAw89x4uVUDAQZyHE5ilWsAyqgzjbjhkQGnjiLX46DtAjgdb7HYwZUBMUMO3sHYpQN3PKcjPDFnA0a5Cyk8mMsD83qY/e6ZjwN0lcVZELFVALZj4o6g3NcC6opQQrAlQwLQB2ICIVWJAlN43vvZuXkDsFRbcD7BlQMuBHmrb2ElAibX4FACZXsAKSzygbFBHQEf/y7VocVRAIjMXuDxwQkAK9Ik8SQpHwN14d2SsBlpAgV64c+FCZkARUrezr1FTQG5uTE9YsExA4nfTLTv8UcArGJXUCe5cwBBc5QmE4l3AucfShy56TUDNd/ATB+hMwEs9C0L5z2FAEyujkc9oX8BB176AXv9iQNwpHaz/JFFAmwKZnUWvMkCpFDsahwpcQBKkUuxoYEBAU0FF1a+bYcAT1zGuuFlVQITYmUJnnmLAQfSkTGpoI0BGJ0ut95FWQJLLf0i/IlVAi4hi8gbDXsDbpQ2HpU9mwP1OkxlvHGJAtMnhk07nZEA=",
          "dtype": "f8"
         },
         "marker": {
          "color": {
           "bdata": "rkfhehQuJkB7FK5H4bo7QKRwPQrXA0lAzczMzMwMMUDhehSuR2EzQLgehetReFJArkfhehTOUEBmZmZmZiZOQM3MzMzMjDFAKVyPwvVoTUBmZmZmZqZSQHsUrkfheilA16NwPQpXV0AzMzMzM2NVQGZmZmZmBlZAKVyPwvU4UkCuR+F6FG47QOF6FK5HMVVAexSuR+F6AkAfhetRuD5YQOF6FK5H8VBAmpmZmZm5TkAUrkfhegRRQKRwPQrXE1ZAmpmZmZmZyT97FK5H4VpFQKRwPQrX01BAAAAAAABAUEApXI/C9VhVQGZmZmZmJkBA7FG4HoUbVUC4HoXrUVhEQNejcD0KVyhACtejcD3qSUBI4XoUrsdIQD0K16Nw3UlAZmZmZmZmEUBI4XoUrgdSQM3MzMzMzBJA9ihcj8L1VkAfhetRuJ5KQB+F61G4nj9AuB6F61GYQ0Bcj8L1KLxAQHE9CtejAFZA4XoUrkcxVEBSuB6F68FYQI/C9ShcjzZAzczMzMw8UUBSuB6F6/FXQM3MzMzM7FZAcT0K16OwM0D2KFyPwnVAQB+F61G4HhlApHA9CtdDT0BSuB6F61EGQLgehetRmEVAMzMzMzMzA0CuR+F6FO5TQHE9CtejYFdAMzMzMzMDVUC4HoXrUbg4QK5H4XoUrkdAuB6F61H4V0AAAAAAANBUQArXo3A9ilRAXI/C9Sj8SUDsUbgehas3QClcj8L1KB1AAAAAAAAATkDNzMzMzOxFQKRwPQrXIyNAMzMzMzNTRkD2KFyPwvUoQM3MzMzMXFhAexSuR+HqVkAfhetRuN5CQHE9CtejQFZA9ihcj8JVUUBxPQrXo5BTQM3MzMzMzBhAj8L1KFwPVEDsUbgehesVQClcj8L1iE5A16NwPQqXRUBcj8L1KFwkQFK4HoXrURZA4XoUrkfhFECPwvUoXD9VQPYoXI/CFURAPQrXo3DdTkCuR+F6FI5EQD0K16NwnVVAAAAAAACwU0AzMzMzMzNPQOxRuB6Fq0ZA9ihcj8I1R0BI4XoUrmdFQMP1KFyPAk9Aw/UoXI9CJEA=",
           "dtype": "f8"
          },
          "coloraxis": "coloraxis",
          "size": {
           "bdata": "rkfhehQuJkB7FK5H4bo7QKRwPQrXA0lAzczMzMwMMUDhehSuR2EzQLgehetReFJArkfhehTOUEBmZmZmZiZOQM3MzMzMjDFAKVyPwvVoTUBmZmZmZqZSQHsUrkfheilA16NwPQpXV0AzMzMzM2NVQGZmZmZmBlZAKVyPwvU4UkCuR+F6FG47QOF6FK5HMVVAexSuR+F6AkAfhetRuD5YQOF6FK5H8VBAmpmZmZm5TkAUrkfhegRRQKRwPQrXE1ZAmpmZmZmZyT97FK5H4VpFQKRwPQrX01BAAAAAAABAUEApXI/C9VhVQGZmZmZmJkBA7FG4HoUbVUC4HoXrUVhEQNejcD0KVyhACtejcD3qSUBI4XoUrsdIQD0K16Nw3UlAZmZmZmZmEUBI4XoUrgdSQM3MzMzMzBJA9ihcj8L1VkAfhetRuJ5KQB+F61G4nj9AuB6F61GYQ0Bcj8L1KLxAQHE9CtejAFZA4XoUrkcxVEBSuB6F68FYQI/C9ShcjzZAzczMzMw8UUBSuB6F6/FXQM3MzMzM7FZAcT0K16OwM0D2KFyPwnVAQB+F61G4HhlApHA9CtdDT0BSuB6F61EGQLgehetRmEVAMzMzMzMzA0CuR+F6FO5TQHE9CtejYFdAMzMzMzMDVUC4HoXrUbg4QK5H4XoUrkdAuB6F61H4V0AAAAAAANBUQArXo3A9ilRAXI/C9Sj8SUDsUbgehas3QClcj8L1KB1AAAAAAAAATkDNzMzMzOxFQKRwPQrXIyNAMzMzMzNTRkD2KFyPwvUoQM3MzMzMXFhAexSuR+HqVkAfhetRuN5CQHE9CtejQFZA9ihcj8JVUUBxPQrXo5BTQM3MzMzMzBhAj8L1KFwPVEDsUbgehesVQClcj8L1iE5A16NwPQqXRUBcj8L1KFwkQFK4HoXrURZA4XoUrkfhFECPwvUoXD9VQPYoXI/CFURAPQrXo3DdTkCuR+F6FI5EQD0K16NwnVVAAAAAAACwU0AzMzMzMzNPQOxRuB6Fq0ZA9ihcj8I1R0BI4XoUrmdFQMP1KFyPAk9Aw/UoXI9CJEA=",
           "dtype": "f8"
          },
          "sizemode": "area",
          "sizeref": 0.247575
         },
         "mode": "markers",
         "name": "",
         "showlegend": false,
         "subplot": "mapbox",
         "type": "scattermapbox"
        }
       ],
       "layout": {
        "coloraxis": {
         "colorbar": {
          "title": {
           "text": "Score"
          }
         },
         "colorscale": [
          [
           0,
           "#0d0887"
          ],
          [
           0.1111111111111111,
           "#46039f"
          ],
          [
           0.2222222222222222,
           "#7201a8"
          ],
          [
           0.3333333333333333,
           "#9c179e"
          ],
          [
           0.4444444444444444,
           "#bd3786"
          ],
          [
           0.5555555555555556,
           "#d8576b"
          ],
          [
           0.6666666666666666,
           "#ed7953"
          ],
          [
           0.7777777777777778,
           "#fb9f3a"
          ],
          [
           0.8888888888888888,
           "#fdca26"
          ],
          [
           1,
           "#f0f921"
          ]
         ]
        },
        "legend": {
         "itemsizing": "constant",
         "tracegroupgap": 0
        },
        "mapbox": {
         "center": {
          "lat": 6.35070314,
          "lon": -2.465976250000001
         },
         "domain": {
          "x": [
           0,
           1
          ],
          "y": [
           0,
           1
          ]
         },
         "style": "carto-darkmatter",
         "zoom": 2
        },
        "template": {
         "data": {
          "bar": [
           {
            "error_x": {
             "color": "#2a3f5f"
            },
            "error_y": {
             "color": "#2a3f5f"
            },
            "marker": {
             "line": {
              "color": "white",
              "width": 0.5
             },
             "pattern": {
              "fillmode": "overlay",
              "size": 10,
              "solidity": 0.2
             }
            },
            "type": "bar"
           }
          ],
          "barpolar": [
           {
            "marker": {
             "line": {
              "color": "white",
              "width": 0.5
             },
             "pattern": {
              "fillmode": "overlay",
              "size": 10,
              "solidity": 0.2
             }
            },
            "type": "barpolar"
           }
          ],
          "carpet": [
           {
            "aaxis": {
             "endlinecolor": "#2a3f5f",
             "gridcolor": "#C8D4E3",
             "linecolor": "#C8D4E3",
             "minorgridcolor": "#C8D4E3",
             "startlinecolor": "#2a3f5f"
            },
            "baxis": {
             "endlinecolor": "#2a3f5f",
             "gridcolor": "#C8D4E3",
             "linecolor": "#C8D4E3",
             "minorgridcolor": "#C8D4E3",
             "startlinecolor": "#2a3f5f"
            },
            "type": "carpet"
           }
          ],
          "choropleth": [
           {
            "colorbar": {
             "outlinewidth": 0,
             "ticks": ""
            },
            "type": "choropleth"
           }
          ],
          "contour": [
           {
            "colorbar": {
             "outlinewidth": 0,
             "ticks": ""
            },
            "colorscale": [
             [
              0,
              "#0d0887"
             ],
             [
              0.1111111111111111,
              "#46039f"
             ],
             [
              0.2222222222222222,
              "#7201a8"
             ],
             [
              0.3333333333333333,
              "#9c179e"
             ],
             [
              0.4444444444444444,
              "#bd3786"
             ],
             [
              0.5555555555555556,
              "#d8576b"
             ],
             [
              0.6666666666666666,
              "#ed7953"
             ],
             [
              0.7777777777777778,
              "#fb9f3a"
             ],
             [
              0.8888888888888888,
              "#fdca26"
             ],
             [
              1,
              "#f0f921"
             ]
            ],
            "type": "contour"
           }
          ],
          "contourcarpet": [
           {
            "colorbar": {
             "outlinewidth": 0,
             "ticks": ""
            },
            "type": "contourcarpet"
           }
          ],
          "heatmap": [
           {
            "colorbar": {
             "outlinewidth": 0,
             "ticks": ""
            },
            "colorscale": [
             [
              0,
              "#0d0887"
             ],
             [
              0.1111111111111111,
              "#46039f"
             ],
             [
              0.2222222222222222,
              "#7201a8"
             ],
             [
              0.3333333333333333,
              "#9c179e"
             ],
             [
              0.4444444444444444,
              "#bd3786"
             ],
             [
              0.5555555555555556,
              "#d8576b"
             ],
             [
              0.6666666666666666,
              "#ed7953"
             ],
             [
              0.7777777777777778,
              "#fb9f3a"
             ],
             [
              0.8888888888888888,
              "#fdca26"
             ],
             [
              1,
              "#f0f921"
             ]
            ],
            "type": "heatmap"
           }
          ],
          "histogram": [
           {
            "marker": {
             "pattern": {
              "fillmode": "overlay",
              "size": 10,
              "solidity": 0.2
             }
            },
            "type": "histogram"
           }
          ],
          "histogram2d": [
           {
            "colorbar": {
             "outlinewidth": 0,
             "ticks": ""
            },
            "colorscale": [
             [
              0,
              "#0d0887"
             ],
             [
              0.1111111111111111,
              "#46039f"
             ],
             [
              0.2222222222222222,
              "#7201a8"
             ],
             [
              0.3333333333333333,
              "#9c179e"
             ],
             [
              0.4444444444444444,
              "#bd3786"
             ],
             [
              0.5555555555555556,
              "#d8576b"
             ],
             [
              0.6666666666666666,
              "#ed7953"
             ],
             [
              0.7777777777777778,
              "#fb9f3a"
             ],
             [
              0.8888888888888888,
              "#fdca26"
             ],
             [
              1,
              "#f0f921"
             ]
            ],
            "type": "histogram2d"
           }
          ],
          "histogram2dcontour": [
           {
            "colorbar": {
             "outlinewidth": 0,
             "ticks": ""
            },
            "colorscale": [
             [
              0,
              "#0d0887"
             ],
             [
              0.1111111111111111,
              "#46039f"
             ],
             [
              0.2222222222222222,
              "#7201a8"
             ],
             [
              0.3333333333333333,
              "#9c179e"
             ],
             [
              0.4444444444444444,
              "#bd3786"
             ],
             [
              0.5555555555555556,
              "#d8576b"
             ],
             [
              0.6666666666666666,
              "#ed7953"
             ],
             [
              0.7777777777777778,
              "#fb9f3a"
             ],
             [
              0.8888888888888888,
              "#fdca26"
             ],
             [
              1,
              "#f0f921"
             ]
            ],
            "type": "histogram2dcontour"
           }
          ],
          "mesh3d": [
           {
            "colorbar": {
             "outlinewidth": 0,
             "ticks": ""
            },
            "type": "mesh3d"
           }
          ],
          "parcoords": [
           {
            "line": {
             "colorbar": {
              "outlinewidth": 0,
              "ticks": ""
             }
            },
            "type": "parcoords"
           }
          ],
          "pie": [
           {
            "automargin": true,
            "type": "pie"
           }
          ],
          "scatter": [
           {
            "fillpattern": {
             "fillmode": "overlay",
             "size": 10,
             "solidity": 0.2
            },
            "type": "scatter"
           }
          ],
          "scatter3d": [
           {
            "line": {
             "colorbar": {
              "outlinewidth": 0,
              "ticks": ""
             }
            },
            "marker": {
             "colorbar": {
              "outlinewidth": 0,
              "ticks": ""
             }
            },
            "type": "scatter3d"
           }
          ],
          "scattercarpet": [
           {
            "marker": {
             "colorbar": {
              "outlinewidth": 0,
              "ticks": ""
             }
            },
            "type": "scattercarpet"
           }
          ],
          "scattergeo": [
           {
            "marker": {
             "colorbar": {
              "outlinewidth": 0,
              "ticks": ""
             }
            },
            "type": "scattergeo"
           }
          ],
          "scattergl": [
           {
            "marker": {
             "colorbar": {
              "outlinewidth": 0,
              "ticks": ""
             }
            },
            "type": "scattergl"
           }
          ],
          "scattermap": [
           {
            "marker": {
             "colorbar": {
              "outlinewidth": 0,
              "ticks": ""
             }
            },
            "type": "scattermap"
           }
          ],
          "scattermapbox": [
           {
            "marker": {
             "colorbar": {
              "outlinewidth": 0,
              "ticks": ""
             }
            },
            "type": "scattermapbox"
           }
          ],
          "scatterpolar": [
           {
            "marker": {
             "colorbar": {
              "outlinewidth": 0,
              "ticks": ""
             }
            },
            "type": "scatterpolar"
           }
          ],
          "scatterpolargl": [
           {
            "marker": {
             "colorbar": {
              "outlinewidth": 0,
              "ticks": ""
             }
            },
            "type": "scatterpolargl"
           }
          ],
          "scatterternary": [
           {
            "marker": {
             "colorbar": {
              "outlinewidth": 0,
              "ticks": ""
             }
            },
            "type": "scatterternary"
           }
          ],
          "surface": [
           {
            "colorbar": {
             "outlinewidth": 0,
             "ticks": ""
            },
            "colorscale": [
             [
              0,
              "#0d0887"
             ],
             [
              0.1111111111111111,
              "#46039f"
             ],
             [
              0.2222222222222222,
              "#7201a8"
             ],
             [
              0.3333333333333333,
              "#9c179e"
             ],
             [
              0.4444444444444444,
              "#bd3786"
             ],
             [
              0.5555555555555556,
              "#d8576b"
             ],
             [
              0.6666666666666666,
              "#ed7953"
             ],
             [
              0.7777777777777778,
              "#fb9f3a"
             ],
             [
              0.8888888888888888,
              "#fdca26"
             ],
             [
              1,
              "#f0f921"
             ]
            ],
            "type": "surface"
           }
          ],
          "table": [
           {
            "cells": {
             "fill": {
              "color": "#EBF0F8"
             },
             "line": {
              "color": "white"
             }
            },
            "header": {
             "fill": {
              "color": "#C8D4E3"
             },
             "line": {
              "color": "white"
             }
            },
            "type": "table"
           }
          ]
         },
         "layout": {
          "annotationdefaults": {
           "arrowcolor": "#2a3f5f",
           "arrowhead": 0,
           "arrowwidth": 1
          },
          "autotypenumbers": "strict",
          "coloraxis": {
           "colorbar": {
            "outlinewidth": 0,
            "ticks": ""
           }
          },
          "colorscale": {
           "diverging": [
            [
             0,
             "#8e0152"
            ],
            [
             0.1,
             "#c51b7d"
            ],
            [
             0.2,
             "#de77ae"
            ],
            [
             0.3,
             "#f1b6da"
            ],
            [
             0.4,
             "#fde0ef"
            ],
            [
             0.5,
             "#f7f7f7"
            ],
            [
             0.6,
             "#e6f5d0"
            ],
            [
             0.7,
             "#b8e186"
            ],
            [
             0.8,
             "#7fbc41"
            ],
            [
             0.9,
             "#4d9221"
            ],
            [
             1,
             "#276419"
            ]
           ],
           "sequential": [
            [
             0,
             "#0d0887"
            ],
            [
             0.1111111111111111,
             "#46039f"
            ],
            [
             0.2222222222222222,
             "#7201a8"
            ],
            [
             0.3333333333333333,
             "#9c179e"
            ],
            [
             0.4444444444444444,
             "#bd3786"
            ],
            [
             0.5555555555555556,
             "#d8576b"
            ],
            [
             0.6666666666666666,
             "#ed7953"
            ],
            [
             0.7777777777777778,
             "#fb9f3a"
            ],
            [
             0.8888888888888888,
             "#fdca26"
            ],
            [
             1,
             "#f0f921"
            ]
           ],
           "sequentialminus": [
            [
             0,
             "#0d0887"
            ],
            [
             0.1111111111111111,
             "#46039f"
            ],
            [
             0.2222222222222222,
             "#7201a8"
            ],
            [
             0.3333333333333333,
             "#9c179e"
            ],
            [
             0.4444444444444444,
             "#bd3786"
            ],
            [
             0.5555555555555556,
             "#d8576b"
            ],
            [
             0.6666666666666666,
             "#ed7953"
            ],
            [
             0.7777777777777778,
             "#fb9f3a"
            ],
            [
             0.8888888888888888,
             "#fdca26"
            ],
            [
             1,
             "#f0f921"
            ]
           ]
          },
          "colorway": [
           "#636efa",
           "#EF553B",
           "#00cc96",
           "#ab63fa",
           "#FFA15A",
           "#19d3f3",
           "#FF6692",
           "#B6E880",
           "#FF97FF",
           "#FECB52"
          ],
          "font": {
           "color": "#2a3f5f"
          },
          "geo": {
           "bgcolor": "white",
           "lakecolor": "white",
           "landcolor": "white",
           "showlakes": true,
           "showland": true,
           "subunitcolor": "#C8D4E3"
          },
          "hoverlabel": {
           "align": "left"
          },
          "hovermode": "closest",
          "mapbox": {
           "style": "light"
          },
          "paper_bgcolor": "white",
          "plot_bgcolor": "white",
          "polar": {
           "angularaxis": {
            "gridcolor": "#EBF0F8",
            "linecolor": "#EBF0F8",
            "ticks": ""
           },
           "bgcolor": "white",
           "radialaxis": {
            "gridcolor": "#EBF0F8",
            "linecolor": "#EBF0F8",
            "ticks": ""
           }
          },
          "scene": {
           "xaxis": {
            "backgroundcolor": "white",
            "gridcolor": "#DFE8F3",
            "gridwidth": 2,
            "linecolor": "#EBF0F8",
            "showbackground": true,
            "ticks": "",
            "zerolinecolor": "#EBF0F8"
           },
           "yaxis": {
            "backgroundcolor": "white",
            "gridcolor": "#DFE8F3",
            "gridwidth": 2,
            "linecolor": "#EBF0F8",
            "showbackground": true,
            "ticks": "",
            "zerolinecolor": "#EBF0F8"
           },
           "zaxis": {
            "backgroundcolor": "white",
            "gridcolor": "#DFE8F3",
            "gridwidth": 2,
            "linecolor": "#EBF0F8",
            "showbackground": true,
            "ticks": "",
            "zerolinecolor": "#EBF0F8"
           }
          },
          "shapedefaults": {
           "line": {
            "color": "#2a3f5f"
           }
          },
          "ternary": {
           "aaxis": {
            "gridcolor": "#DFE8F3",
            "linecolor": "#A2B1C6",
            "ticks": ""
           },
           "baxis": {
            "gridcolor": "#DFE8F3",
            "linecolor": "#A2B1C6",
            "ticks": ""
           },
           "bgcolor": "white",
           "caxis": {
            "gridcolor": "#DFE8F3",
            "linecolor": "#A2B1C6",
            "ticks": ""
           }
          },
          "title": {
           "x": 0.05
          },
          "xaxis": {
           "automargin": true,
           "gridcolor": "#EBF0F8",
           "linecolor": "#EBF0F8",
           "ticks": "",
           "title": {
            "standoff": 15
           },
           "zerolinecolor": "#EBF0F8",
           "zerolinewidth": 2
          },
          "yaxis": {
           "automargin": true,
           "gridcolor": "#EBF0F8",
           "linecolor": "#EBF0F8",
           "ticks": "",
           "title": {
            "standoff": 15
           },
           "zerolinecolor": "#EBF0F8",
           "zerolinewidth": 2
          }
         }
        },
        "title": {
         "text": "City Scores – Carto Dark Matter"
        }
       }
      }
     },
     "metadata": {},
     "output_type": "display_data"
    }
   ],
   "source": [
    "# 🌌 Scatter Mapbox – Dark Theme\n",
    "\n",
    "fig2 = scatter_mapbox(\n",
    "    df,\n",
    "    lat=\"Latitude\",\n",
    "    lon=\"Longitude\",\n",
    "    color=\"Score\",\n",
    "    size=\"Score\",\n",
    "    hover_name=\"City\",\n",
    "    zoom=2,\n",
    "    title=\"City Scores – Carto Dark Matter\",\n",
    "    mapbox_style=\"carto-darkmatter\"\n",
    ")\n",
    "fig2.show()"
   ]
  },
  {
   "cell_type": "code",
   "execution_count": 5,
   "id": "ad353793",
   "metadata": {},
   "outputs": [],
   "source": [
    "# 🛰️ Scatter Mapbox – Satellite \n",
    "\n",
    "# Optional: Replace YOUR_TOKEN with actual Mapbox token if needed\n",
    "# MAPBOX_TOKEN = \"YOUR_MAPBOX_ACCESS_TOKEN\"\n",
    "\n",
    "# fig3 = scatter_mapbox(\n",
    "#     df,\n",
    "#     lat=\"Latitude\",\n",
    "#     lon=\"Longitude\",\n",
    "#     color=\"Score\",\n",
    "#     size=\"Score\",\n",
    "#     hover_name=\"City\",\n",
    "#     zoom=1.5,\n",
    "#     title=\"City Scores – Satellite Style (Token)\",\n",
    "#     mapbox_style=\"satellite-streets\",\n",
    "#     token=MAPBOX_TOKEN\n",
    "# )\n",
    "# fig3.show()"
   ]
  },
  {
   "cell_type": "code",
   "execution_count": 6,
   "id": "e84abef0",
   "metadata": {},
   "outputs": [
    {
     "name": "stdout",
     "output_type": "stream",
     "text": [
      "✅ HTML saved to: /Users/satvikpraveen/Desktop/Libraries/PlotlyVizPro/exports/html/08_mapbox_geo/city_scores_openstreet.html\n",
      "✅ PNG saved to: /Users/satvikpraveen/Desktop/Libraries/PlotlyVizPro/exports/images/08_mapbox_geo/city_scores_openstreet.png\n",
      "✅ HTML saved to: /Users/satvikpraveen/Desktop/Libraries/PlotlyVizPro/exports/html/08_mapbox_geo/city_scores_dark.html\n",
      "✅ PNG saved to: /Users/satvikpraveen/Desktop/Libraries/PlotlyVizPro/exports/images/08_mapbox_geo/city_scores_dark.png\n"
     ]
    }
   ],
   "source": [
    "save_fig_as_html(fig1, \"city_scores_openstreet.html\", notebook_name=NOTEBOOK_ID)\n",
    "save_fig_as_png(fig1, \"city_scores_openstreet.png\", notebook_name=NOTEBOOK_ID)\n",
    "\n",
    "save_fig_as_html(fig2, \"city_scores_dark.html\", notebook_name=NOTEBOOK_ID)\n",
    "save_fig_as_png(fig2, \"city_scores_dark.png\", notebook_name=NOTEBOOK_ID)\n",
    "\n",
    "# Uncomment below to save satellite plot if token is used\n",
    "# save_fig_as_html(fig3, \"city_scores_satellite.html\", notebook_name=NOTEBOOK_ID)\n",
    "# save_fig_as_png(fig3, \"city_scores_satellite.png\", notebook_name=NOTEBOOK_ID)"
   ]
  },
  {
   "cell_type": "markdown",
   "id": "25579d50",
   "metadata": {},
   "source": [
    "## ✅ Summary:\n",
    "\n",
    "- Applied Plotly theme globally using `pio.templates.default`  \n",
    "- Loaded `map_data.csv` with 100 city locations  \n",
    "- Plotted Mapbox-based scatter maps using open-source tile layers  \n",
    "- Explored multiple styles: OpenStreetMap and Carto Dark  \n",
    "- Prepared utility to support token-based satellite styles  \n",
    "- Saved plots directly to `exports/html/08_mapbox_geo/` and `exports/images/08_mapbox_geo/` folders  \n",
    "\n",
    "All future notebooks will follow the same pattern for modularity and clarity.\n"
   ]
  }
 ],
 "metadata": {
  "kernelspec": {
   "display_name": "plotly_env",
   "language": "python",
   "name": "python3"
  },
  "language_info": {
   "codemirror_mode": {
    "name": "ipython",
    "version": 3
   },
   "file_extension": ".py",
   "mimetype": "text/x-python",
   "name": "python",
   "nbconvert_exporter": "python",
   "pygments_lexer": "ipython3",
   "version": "3.11.11"
  }
 },
 "nbformat": 4,
 "nbformat_minor": 5
}
