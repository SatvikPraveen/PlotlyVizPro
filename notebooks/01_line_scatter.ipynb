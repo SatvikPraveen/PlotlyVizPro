{
 "cells": [
  {
   "cell_type": "markdown",
   "id": "605dd247",
   "metadata": {},
   "source": [
    "# 🧩 Notebook 01: Setup, Styling, and First Visualizations in Plotly"
   ]
  },
  {
   "cell_type": "code",
   "execution_count": 1,
   "id": "01f6717e",
   "metadata": {},
   "outputs": [
    {
     "name": "stdout",
     "output_type": "stream",
     "text": [
      "✅ Plotly Project Utils Loaded\n"
     ]
    }
   ],
   "source": [
    "# 📦 Setup & Imports\n",
    "import pandas as pd\n",
    "import plotly.io as pio\n",
    "import sys\n",
    "from pathlib import Path\n",
    "\n",
    "# ✅ Setup path to use utils\n",
    "PROJECT_ROOT = Path.cwd().parent\n",
    "UTILS_DIR = PROJECT_ROOT / \"utils\"\n",
    "if str(UTILS_DIR) not in sys.path:\n",
    "    sys.path.insert(0, str(UTILS_DIR))\n",
    "\n",
    "# 🧰 Custom utilities\n",
    "from plot_utils import (\n",
    "    line_plot,\n",
    "    scatter_plot,\n",
    "    bubble_plot,\n",
    "    apply_dark_theme,\n",
    "    apply_custom_layout,\n",
    "    save_fig_as_html,\n",
    "    save_fig_as_png\n",
    ")\n",
    "\n",
    "# 🎨 Apply project-wide theme\n",
    "pio.templates.default = \"plotly_white\"\n",
    "\n",
    "print(\"✅ Plotly Project Utils Loaded\")"
   ]
  },
  {
   "cell_type": "code",
   "execution_count": 2,
   "id": "39829d12",
   "metadata": {},
   "outputs": [
    {
     "data": {
      "text/html": [
       "<div>\n",
       "<style scoped>\n",
       "    .dataframe tbody tr th:only-of-type {\n",
       "        vertical-align: middle;\n",
       "    }\n",
       "\n",
       "    .dataframe tbody tr th {\n",
       "        vertical-align: top;\n",
       "    }\n",
       "\n",
       "    .dataframe thead th {\n",
       "        text-align: right;\n",
       "    }\n",
       "</style>\n",
       "<table border=\"1\" class=\"dataframe\">\n",
       "  <thead>\n",
       "    <tr style=\"text-align: right;\">\n",
       "      <th></th>\n",
       "      <th>OrderID</th>\n",
       "      <th>OrderDate</th>\n",
       "      <th>Category</th>\n",
       "      <th>SubCategory</th>\n",
       "      <th>Region</th>\n",
       "      <th>Sales</th>\n",
       "      <th>Profit</th>\n",
       "    </tr>\n",
       "  </thead>\n",
       "  <tbody>\n",
       "    <tr>\n",
       "      <th>941</th>\n",
       "      <td>19e23d70-9912-41f4-811a-493fe83b4aef</td>\n",
       "      <td>2024-07-24</td>\n",
       "      <td>Technology</td>\n",
       "      <td>Accessories</td>\n",
       "      <td>West</td>\n",
       "      <td>619.04</td>\n",
       "      <td>169.61</td>\n",
       "    </tr>\n",
       "    <tr>\n",
       "      <th>39</th>\n",
       "      <td>db7f6472-80b1-4dff-8272-80565b98e288</td>\n",
       "      <td>2024-07-24</td>\n",
       "      <td>Furniture</td>\n",
       "      <td>Bookcases</td>\n",
       "      <td>West</td>\n",
       "      <td>285.69</td>\n",
       "      <td>94.17</td>\n",
       "    </tr>\n",
       "    <tr>\n",
       "      <th>747</th>\n",
       "      <td>ee427f08-2b82-4cb3-81b3-773cdf585dfa</td>\n",
       "      <td>2024-07-24</td>\n",
       "      <td>Technology</td>\n",
       "      <td>Phones</td>\n",
       "      <td>Central</td>\n",
       "      <td>729.28</td>\n",
       "      <td>-11.05</td>\n",
       "    </tr>\n",
       "    <tr>\n",
       "      <th>960</th>\n",
       "      <td>0616f3ce-ca53-4538-a7ab-321229c3c78e</td>\n",
       "      <td>2024-07-25</td>\n",
       "      <td>Office Supplies</td>\n",
       "      <td>Binders</td>\n",
       "      <td>West</td>\n",
       "      <td>210.74</td>\n",
       "      <td>-0.12</td>\n",
       "    </tr>\n",
       "    <tr>\n",
       "      <th>965</th>\n",
       "      <td>c16a86a1-1bbc-4cf1-b92c-cfa1aaed58f4</td>\n",
       "      <td>2024-07-25</td>\n",
       "      <td>Technology</td>\n",
       "      <td>Laptops</td>\n",
       "      <td>South</td>\n",
       "      <td>229.87</td>\n",
       "      <td>130.67</td>\n",
       "    </tr>\n",
       "  </tbody>\n",
       "</table>\n",
       "</div>"
      ],
      "text/plain": [
       "                                  OrderID  OrderDate         Category  \\\n",
       "941  19e23d70-9912-41f4-811a-493fe83b4aef 2024-07-24       Technology   \n",
       "39   db7f6472-80b1-4dff-8272-80565b98e288 2024-07-24        Furniture   \n",
       "747  ee427f08-2b82-4cb3-81b3-773cdf585dfa 2024-07-24       Technology   \n",
       "960  0616f3ce-ca53-4538-a7ab-321229c3c78e 2024-07-25  Office Supplies   \n",
       "965  c16a86a1-1bbc-4cf1-b92c-cfa1aaed58f4 2024-07-25       Technology   \n",
       "\n",
       "     SubCategory   Region   Sales  Profit  \n",
       "941  Accessories     West  619.04  169.61  \n",
       "39     Bookcases     West  285.69   94.17  \n",
       "747       Phones  Central  729.28  -11.05  \n",
       "960      Binders     West  210.74   -0.12  \n",
       "965      Laptops    South  229.87  130.67  "
      ]
     },
     "execution_count": 2,
     "metadata": {},
     "output_type": "execute_result"
    }
   ],
   "source": [
    "# 📊 Load Dataset\n",
    "\n",
    "df = pd.read_csv(PROJECT_ROOT / \"datasets/superstore.csv\", parse_dates=[\"OrderDate\"])\n",
    "df.sort_values(\"OrderDate\", inplace=True)\n",
    "df.head()"
   ]
  },
  {
   "cell_type": "code",
   "execution_count": 3,
   "id": "81dfe5f6",
   "metadata": {},
   "outputs": [
    {
     "data": {
      "application/vnd.plotly.v1+json": {
       "config": {
        "plotlyServerURL": "https://plot.ly"
       },
       "data": [
        {
         "hovertemplate": "OrderDate=%{x}<br>Sales=%{y}<extra></extra>",
         "legendgroup": "",
         "line": {
          "color": "#636efa",
          "dash": "solid"
         },
         "marker": {
          "symbol": "circle"
         },
         "mode": "lines+markers",
         "name": "",
         "orientation": "v",
         "showlegend": false,
         "type": "scatter",
         "x": [
          "2024-07-24T00:00:00",
          "2024-07-25T00:00:00",
          "2024-07-26T00:00:00",
          "2024-07-27T00:00:00",
          "2024-07-28T00:00:00",
          "2024-07-29T00:00:00",
          "2024-07-30T00:00:00",
          "2024-07-31T00:00:00",
          "2024-08-01T00:00:00",
          "2024-08-02T00:00:00",
          "2024-08-03T00:00:00",
          "2024-08-04T00:00:00",
          "2024-08-06T00:00:00",
          "2024-08-07T00:00:00",
          "2024-08-08T00:00:00",
          "2024-08-09T00:00:00",
          "2024-08-10T00:00:00",
          "2024-08-11T00:00:00",
          "2024-08-12T00:00:00",
          "2024-08-13T00:00:00",
          "2024-08-14T00:00:00",
          "2024-08-15T00:00:00",
          "2024-08-16T00:00:00",
          "2024-08-17T00:00:00",
          "2024-08-18T00:00:00",
          "2024-08-19T00:00:00",
          "2024-08-20T00:00:00",
          "2024-08-21T00:00:00",
          "2024-08-22T00:00:00",
          "2024-08-23T00:00:00",
          "2024-08-24T00:00:00",
          "2024-08-25T00:00:00",
          "2024-08-26T00:00:00",
          "2024-08-27T00:00:00",
          "2024-08-28T00:00:00",
          "2024-08-29T00:00:00",
          "2024-08-30T00:00:00",
          "2024-08-31T00:00:00",
          "2024-09-01T00:00:00",
          "2024-09-02T00:00:00",
          "2024-09-03T00:00:00",
          "2024-09-04T00:00:00",
          "2024-09-05T00:00:00",
          "2024-09-06T00:00:00",
          "2024-09-07T00:00:00",
          "2024-09-08T00:00:00",
          "2024-09-10T00:00:00",
          "2024-09-11T00:00:00",
          "2024-09-13T00:00:00",
          "2024-09-14T00:00:00",
          "2024-09-15T00:00:00",
          "2024-09-16T00:00:00",
          "2024-09-17T00:00:00",
          "2024-09-18T00:00:00",
          "2024-09-19T00:00:00",
          "2024-09-20T00:00:00",
          "2024-09-21T00:00:00",
          "2024-09-22T00:00:00",
          "2024-09-23T00:00:00",
          "2024-09-24T00:00:00",
          "2024-09-25T00:00:00",
          "2024-09-26T00:00:00",
          "2024-09-27T00:00:00",
          "2024-09-28T00:00:00",
          "2024-09-29T00:00:00",
          "2024-09-30T00:00:00",
          "2024-10-01T00:00:00",
          "2024-10-02T00:00:00",
          "2024-10-03T00:00:00",
          "2024-10-05T00:00:00",
          "2024-10-06T00:00:00",
          "2024-10-07T00:00:00",
          "2024-10-09T00:00:00",
          "2024-10-11T00:00:00",
          "2024-10-12T00:00:00",
          "2024-10-13T00:00:00",
          "2024-10-14T00:00:00",
          "2024-10-15T00:00:00",
          "2024-10-16T00:00:00",
          "2024-10-17T00:00:00",
          "2024-10-18T00:00:00",
          "2024-10-19T00:00:00",
          "2024-10-20T00:00:00",
          "2024-10-21T00:00:00",
          "2024-10-22T00:00:00",
          "2024-10-23T00:00:00",
          "2024-10-24T00:00:00",
          "2024-10-25T00:00:00",
          "2024-10-27T00:00:00",
          "2024-10-28T00:00:00",
          "2024-10-29T00:00:00",
          "2024-10-30T00:00:00",
          "2024-10-31T00:00:00",
          "2024-11-02T00:00:00",
          "2024-11-03T00:00:00",
          "2024-11-04T00:00:00",
          "2024-11-05T00:00:00",
          "2024-11-06T00:00:00",
          "2024-11-07T00:00:00",
          "2024-11-08T00:00:00",
          "2024-11-09T00:00:00",
          "2024-11-10T00:00:00",
          "2024-11-11T00:00:00",
          "2024-11-12T00:00:00",
          "2024-11-14T00:00:00",
          "2024-11-15T00:00:00",
          "2024-11-16T00:00:00",
          "2024-11-17T00:00:00",
          "2024-11-18T00:00:00",
          "2024-11-19T00:00:00",
          "2024-11-20T00:00:00",
          "2024-11-21T00:00:00",
          "2024-11-22T00:00:00",
          "2024-11-23T00:00:00",
          "2024-11-24T00:00:00",
          "2024-11-25T00:00:00",
          "2024-11-26T00:00:00",
          "2024-11-27T00:00:00",
          "2024-11-28T00:00:00",
          "2024-11-29T00:00:00",
          "2024-11-30T00:00:00",
          "2024-12-01T00:00:00",
          "2024-12-04T00:00:00",
          "2024-12-05T00:00:00",
          "2024-12-06T00:00:00",
          "2024-12-07T00:00:00",
          "2024-12-08T00:00:00",
          "2024-12-10T00:00:00",
          "2024-12-11T00:00:00",
          "2024-12-12T00:00:00",
          "2024-12-13T00:00:00",
          "2024-12-14T00:00:00",
          "2024-12-15T00:00:00",
          "2024-12-16T00:00:00",
          "2024-12-17T00:00:00",
          "2024-12-18T00:00:00",
          "2024-12-19T00:00:00",
          "2024-12-20T00:00:00",
          "2024-12-21T00:00:00",
          "2024-12-22T00:00:00",
          "2024-12-23T00:00:00",
          "2024-12-24T00:00:00",
          "2024-12-25T00:00:00",
          "2024-12-26T00:00:00",
          "2024-12-27T00:00:00",
          "2024-12-28T00:00:00",
          "2024-12-29T00:00:00",
          "2024-12-30T00:00:00",
          "2024-12-31T00:00:00",
          "2025-01-01T00:00:00",
          "2025-01-02T00:00:00",
          "2025-01-03T00:00:00",
          "2025-01-05T00:00:00",
          "2025-01-06T00:00:00",
          "2025-01-07T00:00:00",
          "2025-01-08T00:00:00",
          "2025-01-09T00:00:00",
          "2025-01-10T00:00:00",
          "2025-01-11T00:00:00",
          "2025-01-13T00:00:00",
          "2025-01-14T00:00:00",
          "2025-01-15T00:00:00",
          "2025-01-16T00:00:00",
          "2025-01-17T00:00:00",
          "2025-01-18T00:00:00",
          "2025-01-19T00:00:00",
          "2025-01-20T00:00:00",
          "2025-01-21T00:00:00",
          "2025-01-23T00:00:00",
          "2025-01-24T00:00:00",
          "2025-01-25T00:00:00",
          "2025-01-26T00:00:00",
          "2025-01-27T00:00:00",
          "2025-01-28T00:00:00",
          "2025-01-29T00:00:00",
          "2025-01-30T00:00:00",
          "2025-01-31T00:00:00",
          "2025-02-02T00:00:00",
          "2025-02-03T00:00:00",
          "2025-02-04T00:00:00",
          "2025-02-05T00:00:00",
          "2025-02-06T00:00:00",
          "2025-02-07T00:00:00",
          "2025-02-08T00:00:00",
          "2025-02-09T00:00:00",
          "2025-02-10T00:00:00",
          "2025-02-11T00:00:00",
          "2025-02-12T00:00:00",
          "2025-02-13T00:00:00",
          "2025-02-14T00:00:00",
          "2025-02-15T00:00:00",
          "2025-02-16T00:00:00",
          "2025-02-17T00:00:00",
          "2025-02-18T00:00:00",
          "2025-02-20T00:00:00",
          "2025-02-21T00:00:00",
          "2025-02-22T00:00:00",
          "2025-02-23T00:00:00",
          "2025-02-24T00:00:00",
          "2025-02-25T00:00:00",
          "2025-02-26T00:00:00",
          "2025-02-27T00:00:00",
          "2025-02-28T00:00:00",
          "2025-03-01T00:00:00",
          "2025-03-02T00:00:00",
          "2025-03-03T00:00:00",
          "2025-03-04T00:00:00",
          "2025-03-06T00:00:00",
          "2025-03-07T00:00:00",
          "2025-03-08T00:00:00",
          "2025-03-09T00:00:00",
          "2025-03-10T00:00:00",
          "2025-03-11T00:00:00",
          "2025-03-12T00:00:00",
          "2025-03-13T00:00:00",
          "2025-03-14T00:00:00",
          "2025-03-15T00:00:00",
          "2025-03-16T00:00:00",
          "2025-03-17T00:00:00",
          "2025-03-18T00:00:00",
          "2025-03-19T00:00:00",
          "2025-03-20T00:00:00",
          "2025-03-22T00:00:00",
          "2025-03-23T00:00:00",
          "2025-03-24T00:00:00",
          "2025-03-26T00:00:00",
          "2025-03-27T00:00:00",
          "2025-03-28T00:00:00",
          "2025-03-29T00:00:00",
          "2025-03-30T00:00:00",
          "2025-03-31T00:00:00",
          "2025-04-02T00:00:00",
          "2025-04-03T00:00:00",
          "2025-04-04T00:00:00",
          "2025-04-05T00:00:00",
          "2025-04-06T00:00:00",
          "2025-04-07T00:00:00",
          "2025-04-08T00:00:00",
          "2025-04-09T00:00:00",
          "2025-04-10T00:00:00",
          "2025-04-11T00:00:00",
          "2025-04-12T00:00:00",
          "2025-04-13T00:00:00",
          "2025-04-14T00:00:00",
          "2025-04-15T00:00:00",
          "2025-04-16T00:00:00",
          "2025-04-17T00:00:00",
          "2025-04-18T00:00:00",
          "2025-04-19T00:00:00",
          "2025-04-20T00:00:00",
          "2025-04-22T00:00:00",
          "2025-04-23T00:00:00",
          "2025-04-25T00:00:00",
          "2025-04-26T00:00:00",
          "2025-04-27T00:00:00",
          "2025-04-29T00:00:00",
          "2025-04-30T00:00:00",
          "2025-05-01T00:00:00",
          "2025-05-02T00:00:00",
          "2025-05-03T00:00:00",
          "2025-05-04T00:00:00",
          "2025-05-05T00:00:00",
          "2025-05-06T00:00:00",
          "2025-05-07T00:00:00",
          "2025-05-08T00:00:00",
          "2025-05-09T00:00:00",
          "2025-05-10T00:00:00",
          "2025-05-11T00:00:00",
          "2025-05-12T00:00:00",
          "2025-05-13T00:00:00",
          "2025-05-14T00:00:00",
          "2025-05-15T00:00:00",
          "2025-05-16T00:00:00",
          "2025-05-17T00:00:00",
          "2025-05-18T00:00:00",
          "2025-05-19T00:00:00",
          "2025-05-20T00:00:00",
          "2025-05-21T00:00:00",
          "2025-05-22T00:00:00",
          "2025-05-23T00:00:00",
          "2025-05-25T00:00:00",
          "2025-05-26T00:00:00",
          "2025-05-27T00:00:00",
          "2025-05-28T00:00:00",
          "2025-05-29T00:00:00",
          "2025-05-30T00:00:00",
          "2025-05-31T00:00:00",
          "2025-06-01T00:00:00",
          "2025-06-02T00:00:00",
          "2025-06-03T00:00:00",
          "2025-06-05T00:00:00",
          "2025-06-06T00:00:00",
          "2025-06-07T00:00:00",
          "2025-06-08T00:00:00",
          "2025-06-09T00:00:00",
          "2025-06-10T00:00:00",
          "2025-06-11T00:00:00",
          "2025-06-12T00:00:00",
          "2025-06-13T00:00:00",
          "2025-06-14T00:00:00",
          "2025-06-15T00:00:00",
          "2025-06-16T00:00:00",
          "2025-06-17T00:00:00",
          "2025-06-18T00:00:00",
          "2025-06-19T00:00:00",
          "2025-06-20T00:00:00",
          "2025-06-22T00:00:00",
          "2025-06-23T00:00:00",
          "2025-06-24T00:00:00",
          "2025-06-25T00:00:00",
          "2025-06-26T00:00:00",
          "2025-06-27T00:00:00",
          "2025-06-28T00:00:00",
          "2025-06-29T00:00:00",
          "2025-06-30T00:00:00",
          "2025-07-02T00:00:00",
          "2025-07-03T00:00:00",
          "2025-07-04T00:00:00",
          "2025-07-05T00:00:00",
          "2025-07-06T00:00:00",
          "2025-07-07T00:00:00",
          "2025-07-08T00:00:00",
          "2025-07-09T00:00:00",
          "2025-07-10T00:00:00",
          "2025-07-11T00:00:00",
          "2025-07-12T00:00:00",
          "2025-07-13T00:00:00",
          "2025-07-14T00:00:00",
          "2025-07-15T00:00:00",
          "2025-07-16T00:00:00",
          "2025-07-17T00:00:00",
          "2025-07-18T00:00:00",
          "2025-07-19T00:00:00",
          "2025-07-20T00:00:00",
          "2025-07-21T00:00:00",
          "2025-07-22T00:00:00",
          "2025-07-23T00:00:00",
          "2025-07-24T00:00:00"
         ],
         "xaxis": "x",
         "y": {
          "bdata": "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",
          "dtype": "f8"
         },
         "yaxis": "y"
        }
       ],
       "layout": {
        "legend": {
         "title": {
          "text": ""
         },
         "tracegroupgap": 0
        },
        "template": {
         "data": {
          "bar": [
           {
            "error_x": {
             "color": "#2a3f5f"
            },
            "error_y": {
             "color": "#2a3f5f"
            },
            "marker": {
             "line": {
              "color": "white",
              "width": 0.5
             },
             "pattern": {
              "fillmode": "overlay",
              "size": 10,
              "solidity": 0.2
             }
            },
            "type": "bar"
           }
          ],
          "barpolar": [
           {
            "marker": {
             "line": {
              "color": "white",
              "width": 0.5
             },
             "pattern": {
              "fillmode": "overlay",
              "size": 10,
              "solidity": 0.2
             }
            },
            "type": "barpolar"
           }
          ],
          "carpet": [
           {
            "aaxis": {
             "endlinecolor": "#2a3f5f",
             "gridcolor": "#C8D4E3",
             "linecolor": "#C8D4E3",
             "minorgridcolor": "#C8D4E3",
             "startlinecolor": "#2a3f5f"
            },
            "baxis": {
             "endlinecolor": "#2a3f5f",
             "gridcolor": "#C8D4E3",
             "linecolor": "#C8D4E3",
             "minorgridcolor": "#C8D4E3",
             "startlinecolor": "#2a3f5f"
            },
            "type": "carpet"
           }
          ],
          "choropleth": [
           {
            "colorbar": {
             "outlinewidth": 0,
             "ticks": ""
            },
            "type": "choropleth"
           }
          ],
          "contour": [
           {
            "colorbar": {
             "outlinewidth": 0,
             "ticks": ""
            },
            "colorscale": [
             [
              0,
              "#0d0887"
             ],
             [
              0.1111111111111111,
              "#46039f"
             ],
             [
              0.2222222222222222,
              "#7201a8"
             ],
             [
              0.3333333333333333,
              "#9c179e"
             ],
             [
              0.4444444444444444,
              "#bd3786"
             ],
             [
              0.5555555555555556,
              "#d8576b"
             ],
             [
              0.6666666666666666,
              "#ed7953"
             ],
             [
              0.7777777777777778,
              "#fb9f3a"
             ],
             [
              0.8888888888888888,
              "#fdca26"
             ],
             [
              1,
              "#f0f921"
             ]
            ],
            "type": "contour"
           }
          ],
          "contourcarpet": [
           {
            "colorbar": {
             "outlinewidth": 0,
             "ticks": ""
            },
            "type": "contourcarpet"
           }
          ],
          "heatmap": [
           {
            "colorbar": {
             "outlinewidth": 0,
             "ticks": ""
            },
            "colorscale": [
             [
              0,
              "#0d0887"
             ],
             [
              0.1111111111111111,
              "#46039f"
             ],
             [
              0.2222222222222222,
              "#7201a8"
             ],
             [
              0.3333333333333333,
              "#9c179e"
             ],
             [
              0.4444444444444444,
              "#bd3786"
             ],
             [
              0.5555555555555556,
              "#d8576b"
             ],
             [
              0.6666666666666666,
              "#ed7953"
             ],
             [
              0.7777777777777778,
              "#fb9f3a"
             ],
             [
              0.8888888888888888,
              "#fdca26"
             ],
             [
              1,
              "#f0f921"
             ]
            ],
            "type": "heatmap"
           }
          ],
          "histogram": [
           {
            "marker": {
             "pattern": {
              "fillmode": "overlay",
              "size": 10,
              "solidity": 0.2
             }
            },
            "type": "histogram"
           }
          ],
          "histogram2d": [
           {
            "colorbar": {
             "outlinewidth": 0,
             "ticks": ""
            },
            "colorscale": [
             [
              0,
              "#0d0887"
             ],
             [
              0.1111111111111111,
              "#46039f"
             ],
             [
              0.2222222222222222,
              "#7201a8"
             ],
             [
              0.3333333333333333,
              "#9c179e"
             ],
             [
              0.4444444444444444,
              "#bd3786"
             ],
             [
              0.5555555555555556,
              "#d8576b"
             ],
             [
              0.6666666666666666,
              "#ed7953"
             ],
             [
              0.7777777777777778,
              "#fb9f3a"
             ],
             [
              0.8888888888888888,
              "#fdca26"
             ],
             [
              1,
              "#f0f921"
             ]
            ],
            "type": "histogram2d"
           }
          ],
          "histogram2dcontour": [
           {
            "colorbar": {
             "outlinewidth": 0,
             "ticks": ""
            },
            "colorscale": [
             [
              0,
              "#0d0887"
             ],
             [
              0.1111111111111111,
              "#46039f"
             ],
             [
              0.2222222222222222,
              "#7201a8"
             ],
             [
              0.3333333333333333,
              "#9c179e"
             ],
             [
              0.4444444444444444,
              "#bd3786"
             ],
             [
              0.5555555555555556,
              "#d8576b"
             ],
             [
              0.6666666666666666,
              "#ed7953"
             ],
             [
              0.7777777777777778,
              "#fb9f3a"
             ],
             [
              0.8888888888888888,
              "#fdca26"
             ],
             [
              1,
              "#f0f921"
             ]
            ],
            "type": "histogram2dcontour"
           }
          ],
          "mesh3d": [
           {
            "colorbar": {
             "outlinewidth": 0,
             "ticks": ""
            },
            "type": "mesh3d"
           }
          ],
          "parcoords": [
           {
            "line": {
             "colorbar": {
              "outlinewidth": 0,
              "ticks": ""
             }
            },
            "type": "parcoords"
           }
          ],
          "pie": [
           {
            "automargin": true,
            "type": "pie"
           }
          ],
          "scatter": [
           {
            "fillpattern": {
             "fillmode": "overlay",
             "size": 10,
             "solidity": 0.2
            },
            "type": "scatter"
           }
          ],
          "scatter3d": [
           {
            "line": {
             "colorbar": {
              "outlinewidth": 0,
              "ticks": ""
             }
            },
            "marker": {
             "colorbar": {
              "outlinewidth": 0,
              "ticks": ""
             }
            },
            "type": "scatter3d"
           }
          ],
          "scattercarpet": [
           {
            "marker": {
             "colorbar": {
              "outlinewidth": 0,
              "ticks": ""
             }
            },
            "type": "scattercarpet"
           }
          ],
          "scattergeo": [
           {
            "marker": {
             "colorbar": {
              "outlinewidth": 0,
              "ticks": ""
             }
            },
            "type": "scattergeo"
           }
          ],
          "scattergl": [
           {
            "marker": {
             "colorbar": {
              "outlinewidth": 0,
              "ticks": ""
             }
            },
            "type": "scattergl"
           }
          ],
          "scattermap": [
           {
            "marker": {
             "colorbar": {
              "outlinewidth": 0,
              "ticks": ""
             }
            },
            "type": "scattermap"
           }
          ],
          "scattermapbox": [
           {
            "marker": {
             "colorbar": {
              "outlinewidth": 0,
              "ticks": ""
             }
            },
            "type": "scattermapbox"
           }
          ],
          "scatterpolar": [
           {
            "marker": {
             "colorbar": {
              "outlinewidth": 0,
              "ticks": ""
             }
            },
            "type": "scatterpolar"
           }
          ],
          "scatterpolargl": [
           {
            "marker": {
             "colorbar": {
              "outlinewidth": 0,
              "ticks": ""
             }
            },
            "type": "scatterpolargl"
           }
          ],
          "scatterternary": [
           {
            "marker": {
             "colorbar": {
              "outlinewidth": 0,
              "ticks": ""
             }
            },
            "type": "scatterternary"
           }
          ],
          "surface": [
           {
            "colorbar": {
             "outlinewidth": 0,
             "ticks": ""
            },
            "colorscale": [
             [
              0,
              "#0d0887"
             ],
             [
              0.1111111111111111,
              "#46039f"
             ],
             [
              0.2222222222222222,
              "#7201a8"
             ],
             [
              0.3333333333333333,
              "#9c179e"
             ],
             [
              0.4444444444444444,
              "#bd3786"
             ],
             [
              0.5555555555555556,
              "#d8576b"
             ],
             [
              0.6666666666666666,
              "#ed7953"
             ],
             [
              0.7777777777777778,
              "#fb9f3a"
             ],
             [
              0.8888888888888888,
              "#fdca26"
             ],
             [
              1,
              "#f0f921"
             ]
            ],
            "type": "surface"
           }
          ],
          "table": [
           {
            "cells": {
             "fill": {
              "color": "#EBF0F8"
             },
             "line": {
              "color": "white"
             }
            },
            "header": {
             "fill": {
              "color": "#C8D4E3"
             },
             "line": {
              "color": "white"
             }
            },
            "type": "table"
           }
          ]
         },
         "layout": {
          "annotationdefaults": {
           "arrowcolor": "#2a3f5f",
           "arrowhead": 0,
           "arrowwidth": 1
          },
          "autotypenumbers": "strict",
          "coloraxis": {
           "colorbar": {
            "outlinewidth": 0,
            "ticks": ""
           }
          },
          "colorscale": {
           "diverging": [
            [
             0,
             "#8e0152"
            ],
            [
             0.1,
             "#c51b7d"
            ],
            [
             0.2,
             "#de77ae"
            ],
            [
             0.3,
             "#f1b6da"
            ],
            [
             0.4,
             "#fde0ef"
            ],
            [
             0.5,
             "#f7f7f7"
            ],
            [
             0.6,
             "#e6f5d0"
            ],
            [
             0.7,
             "#b8e186"
            ],
            [
             0.8,
             "#7fbc41"
            ],
            [
             0.9,
             "#4d9221"
            ],
            [
             1,
             "#276419"
            ]
           ],
           "sequential": [
            [
             0,
             "#0d0887"
            ],
            [
             0.1111111111111111,
             "#46039f"
            ],
            [
             0.2222222222222222,
             "#7201a8"
            ],
            [
             0.3333333333333333,
             "#9c179e"
            ],
            [
             0.4444444444444444,
             "#bd3786"
            ],
            [
             0.5555555555555556,
             "#d8576b"
            ],
            [
             0.6666666666666666,
             "#ed7953"
            ],
            [
             0.7777777777777778,
             "#fb9f3a"
            ],
            [
             0.8888888888888888,
             "#fdca26"
            ],
            [
             1,
             "#f0f921"
            ]
           ],
           "sequentialminus": [
            [
             0,
             "#0d0887"
            ],
            [
             0.1111111111111111,
             "#46039f"
            ],
            [
             0.2222222222222222,
             "#7201a8"
            ],
            [
             0.3333333333333333,
             "#9c179e"
            ],
            [
             0.4444444444444444,
             "#bd3786"
            ],
            [
             0.5555555555555556,
             "#d8576b"
            ],
            [
             0.6666666666666666,
             "#ed7953"
            ],
            [
             0.7777777777777778,
             "#fb9f3a"
            ],
            [
             0.8888888888888888,
             "#fdca26"
            ],
            [
             1,
             "#f0f921"
            ]
           ]
          },
          "colorway": [
           "#636efa",
           "#EF553B",
           "#00cc96",
           "#ab63fa",
           "#FFA15A",
           "#19d3f3",
           "#FF6692",
           "#B6E880",
           "#FF97FF",
           "#FECB52"
          ],
          "font": {
           "color": "#2a3f5f"
          },
          "geo": {
           "bgcolor": "white",
           "lakecolor": "white",
           "landcolor": "white",
           "showlakes": true,
           "showland": true,
           "subunitcolor": "#C8D4E3"
          },
          "hoverlabel": {
           "align": "left"
          },
          "hovermode": "closest",
          "mapbox": {
           "style": "light"
          },
          "paper_bgcolor": "white",
          "plot_bgcolor": "white",
          "polar": {
           "angularaxis": {
            "gridcolor": "#EBF0F8",
            "linecolor": "#EBF0F8",
            "ticks": ""
           },
           "bgcolor": "white",
           "radialaxis": {
            "gridcolor": "#EBF0F8",
            "linecolor": "#EBF0F8",
            "ticks": ""
           }
          },
          "scene": {
           "xaxis": {
            "backgroundcolor": "white",
            "gridcolor": "#DFE8F3",
            "gridwidth": 2,
            "linecolor": "#EBF0F8",
            "showbackground": true,
            "ticks": "",
            "zerolinecolor": "#EBF0F8"
           },
           "yaxis": {
            "backgroundcolor": "white",
            "gridcolor": "#DFE8F3",
            "gridwidth": 2,
            "linecolor": "#EBF0F8",
            "showbackground": true,
            "ticks": "",
            "zerolinecolor": "#EBF0F8"
           },
           "zaxis": {
            "backgroundcolor": "white",
            "gridcolor": "#DFE8F3",
            "gridwidth": 2,
            "linecolor": "#EBF0F8",
            "showbackground": true,
            "ticks": "",
            "zerolinecolor": "#EBF0F8"
           }
          },
          "shapedefaults": {
           "line": {
            "color": "#2a3f5f"
           }
          },
          "ternary": {
           "aaxis": {
            "gridcolor": "#DFE8F3",
            "linecolor": "#A2B1C6",
            "ticks": ""
           },
           "baxis": {
            "gridcolor": "#DFE8F3",
            "linecolor": "#A2B1C6",
            "ticks": ""
           },
           "bgcolor": "white",
           "caxis": {
            "gridcolor": "#DFE8F3",
            "linecolor": "#A2B1C6",
            "ticks": ""
           }
          },
          "title": {
           "x": 0.05
          },
          "xaxis": {
           "automargin": true,
           "gridcolor": "#EBF0F8",
           "linecolor": "#EBF0F8",
           "ticks": "",
           "title": {
            "standoff": 15
           },
           "zerolinecolor": "#EBF0F8",
           "zerolinewidth": 2
          },
          "yaxis": {
           "automargin": true,
           "gridcolor": "#EBF0F8",
           "linecolor": "#EBF0F8",
           "ticks": "",
           "title": {
            "standoff": 15
           },
           "zerolinecolor": "#EBF0F8",
           "zerolinewidth": 2
          }
         }
        },
        "title": {
         "text": "Total Sales Over Time"
        },
        "xaxis": {
         "anchor": "y",
         "domain": [
          0,
          1
         ],
         "title": {
          "text": "OrderDate"
         }
        },
        "yaxis": {
         "anchor": "x",
         "domain": [
          0,
          1
         ],
         "title": {
          "text": "Sales"
         }
        }
       }
      }
     },
     "metadata": {},
     "output_type": "display_data"
    },
    {
     "data": {
      "application/vnd.plotly.v1+json": {
       "config": {
        "plotlyServerURL": "https://plot.ly"
       },
       "data": [
        {
         "hovertemplate": "Region=Central<br>OrderDate=%{x}<br>Sales=%{y}<extra></extra>",
         "legendgroup": "Central",
         "line": {
          "color": "#636efa",
          "dash": "solid"
         },
         "marker": {
          "symbol": "circle"
         },
         "mode": "lines+markers",
         "name": "Central",
         "orientation": "v",
         "showlegend": true,
         "type": "scatter",
         "x": [
          "2024-07-24T00:00:00",
          "2024-07-25T00:00:00",
          "2024-07-27T00:00:00",
          "2024-07-28T00:00:00",
          "2024-07-29T00:00:00",
          "2024-08-01T00:00:00",
          "2024-08-03T00:00:00",
          "2024-08-04T00:00:00",
          "2024-08-06T00:00:00",
          "2024-08-07T00:00:00",
          "2024-08-09T00:00:00",
          "2024-08-10T00:00:00",
          "2024-08-14T00:00:00",
          "2024-08-17T00:00:00",
          "2024-08-22T00:00:00",
          "2024-08-23T00:00:00",
          "2024-08-26T00:00:00",
          "2024-08-27T00:00:00",
          "2024-08-28T00:00:00",
          "2024-08-31T00:00:00",
          "2024-09-01T00:00:00",
          "2024-09-02T00:00:00",
          "2024-09-04T00:00:00",
          "2024-09-06T00:00:00",
          "2024-09-08T00:00:00",
          "2024-09-10T00:00:00",
          "2024-09-13T00:00:00",
          "2024-09-14T00:00:00",
          "2024-09-15T00:00:00",
          "2024-09-16T00:00:00",
          "2024-09-20T00:00:00",
          "2024-09-22T00:00:00",
          "2024-09-23T00:00:00",
          "2024-09-24T00:00:00",
          "2024-09-25T00:00:00",
          "2024-09-27T00:00:00",
          "2024-09-28T00:00:00",
          "2024-09-30T00:00:00",
          "2024-10-01T00:00:00",
          "2024-10-02T00:00:00",
          "2024-10-11T00:00:00",
          "2024-10-13T00:00:00",
          "2024-10-14T00:00:00",
          "2024-10-16T00:00:00",
          "2024-10-18T00:00:00",
          "2024-10-19T00:00:00",
          "2024-10-22T00:00:00",
          "2024-11-02T00:00:00",
          "2024-11-07T00:00:00",
          "2024-11-09T00:00:00",
          "2024-11-10T00:00:00",
          "2024-11-11T00:00:00",
          "2024-11-14T00:00:00",
          "2024-11-21T00:00:00",
          "2024-11-22T00:00:00",
          "2024-11-23T00:00:00",
          "2024-11-24T00:00:00",
          "2024-11-25T00:00:00",
          "2024-11-26T00:00:00",
          "2024-11-27T00:00:00",
          "2024-11-28T00:00:00",
          "2024-11-30T00:00:00",
          "2024-12-01T00:00:00",
          "2024-12-05T00:00:00",
          "2024-12-06T00:00:00",
          "2024-12-08T00:00:00",
          "2024-12-12T00:00:00",
          "2024-12-14T00:00:00",
          "2024-12-15T00:00:00",
          "2024-12-17T00:00:00",
          "2024-12-19T00:00:00",
          "2024-12-20T00:00:00",
          "2024-12-24T00:00:00",
          "2024-12-25T00:00:00",
          "2024-12-27T00:00:00",
          "2024-12-28T00:00:00",
          "2024-12-30T00:00:00",
          "2025-01-03T00:00:00",
          "2025-01-05T00:00:00",
          "2025-01-08T00:00:00",
          "2025-01-09T00:00:00",
          "2025-01-11T00:00:00",
          "2025-01-13T00:00:00",
          "2025-01-16T00:00:00",
          "2025-01-17T00:00:00",
          "2025-01-18T00:00:00",
          "2025-01-24T00:00:00",
          "2025-01-26T00:00:00",
          "2025-01-29T00:00:00",
          "2025-02-02T00:00:00",
          "2025-02-03T00:00:00",
          "2025-02-05T00:00:00",
          "2025-02-06T00:00:00",
          "2025-02-07T00:00:00",
          "2025-02-08T00:00:00",
          "2025-02-10T00:00:00",
          "2025-02-12T00:00:00",
          "2025-02-13T00:00:00",
          "2025-02-17T00:00:00",
          "2025-02-20T00:00:00",
          "2025-02-21T00:00:00",
          "2025-02-22T00:00:00",
          "2025-02-25T00:00:00",
          "2025-03-01T00:00:00",
          "2025-03-04T00:00:00",
          "2025-03-08T00:00:00",
          "2025-03-09T00:00:00",
          "2025-03-10T00:00:00",
          "2025-03-11T00:00:00",
          "2025-03-12T00:00:00",
          "2025-03-13T00:00:00",
          "2025-03-15T00:00:00",
          "2025-03-16T00:00:00",
          "2025-03-18T00:00:00",
          "2025-03-22T00:00:00",
          "2025-03-26T00:00:00",
          "2025-03-27T00:00:00",
          "2025-03-30T00:00:00",
          "2025-04-02T00:00:00",
          "2025-04-03T00:00:00",
          "2025-04-04T00:00:00",
          "2025-04-06T00:00:00",
          "2025-04-07T00:00:00",
          "2025-04-09T00:00:00",
          "2025-04-10T00:00:00",
          "2025-04-12T00:00:00",
          "2025-04-13T00:00:00",
          "2025-04-14T00:00:00",
          "2025-04-16T00:00:00",
          "2025-04-19T00:00:00",
          "2025-04-20T00:00:00",
          "2025-04-22T00:00:00",
          "2025-04-23T00:00:00",
          "2025-04-25T00:00:00",
          "2025-04-26T00:00:00",
          "2025-04-29T00:00:00",
          "2025-05-02T00:00:00",
          "2025-05-03T00:00:00",
          "2025-05-04T00:00:00",
          "2025-05-05T00:00:00",
          "2025-05-07T00:00:00",
          "2025-05-09T00:00:00",
          "2025-05-12T00:00:00",
          "2025-05-13T00:00:00",
          "2025-05-15T00:00:00",
          "2025-05-18T00:00:00",
          "2025-05-19T00:00:00",
          "2025-05-20T00:00:00",
          "2025-05-21T00:00:00",
          "2025-05-22T00:00:00",
          "2025-05-23T00:00:00",
          "2025-05-25T00:00:00",
          "2025-05-30T00:00:00",
          "2025-05-31T00:00:00",
          "2025-06-02T00:00:00",
          "2025-06-03T00:00:00",
          "2025-06-05T00:00:00",
          "2025-06-06T00:00:00",
          "2025-06-10T00:00:00",
          "2025-06-12T00:00:00",
          "2025-06-13T00:00:00",
          "2025-06-15T00:00:00",
          "2025-06-19T00:00:00",
          "2025-06-20T00:00:00",
          "2025-06-26T00:00:00",
          "2025-06-30T00:00:00",
          "2025-07-02T00:00:00",
          "2025-07-05T00:00:00",
          "2025-07-06T00:00:00",
          "2025-07-08T00:00:00",
          "2025-07-10T00:00:00",
          "2025-07-12T00:00:00",
          "2025-07-13T00:00:00",
          "2025-07-15T00:00:00",
          "2025-07-16T00:00:00",
          "2025-07-17T00:00:00",
          "2025-07-22T00:00:00",
          "2025-07-24T00:00:00"
         ],
         "xaxis": "x",
         "y": {
          "bdata": "CtejcD3KhkAAAAAAANaEQHE9CtejZHZAUrgehetZbECuR+F6FE50QML1KFyP4IJACtejcD0EjkDsUbgehatfQDMzMzMzo4pAPQrXo3BVekApXI/C9ZCNQIXrUbgehpFA9ihcj8Ifj0Bcj8L1KJOTQBSuR+F60oJAzczMzMyZkUCkcD0K10GAQI/C9ShcDYBAXI/C9ShMhUDNzMzMzDh8QFyPwvUogoVA9ihcj8LVg0A9CtejcGSZQMP1KFyPeIRACtejcD12gkAUrkfherxzQK5H4XoUYopACtejcD1Sg0AfhetRuN+bQPYoXI/CHWFAmpmZmZn5ZkAzMzMzM2OBQPYoXI/Cd4BAXI/C9SisVkBSuB6F6zuPQClcj8L13IdAexSuR+GtlkAAAAAAAHaGQArXo3A9wnhA7FG4HoVza0AzMzMzM6t9QLgehetRbIdAzczMzMx0Z0DD9ShcjyJ3QEjhehSupY5AXI/C9Si2lkBSuB6F6+eIQAAAAAAAyoVASOF6FK7HgEB7FK5H4TiDQFK4HoXr/XxASOF6FK5NhEDsUbgehWd2QK5H4XoUjnJAXI/C9ShVmUCkcD0K1xdzQDMzMzMzbY1Aw/UoXI8yakCF61G4HtF/QKRwPQrXqpFA7FG4HoVomkBcj8L1KKxsQAAAAAAAgHRApHA9Ctf5g0C4HoXrUTh7QD0K16Nw8YhAmpmZmZmOkkBcj8L1KOSZQKRwPQrXc45A16NwPQp3fkAfhetRuH5qQPYoXI/Cs41AehSuR+FmjUDhehSuR3V7QMP1KFyPQnxAZmZmZmYajEBmZmZmZrp4QClcj8L1dIRAKVyPwvX2ikDXo3A9CiN/QIXrUbge2XpAexSuR+FQhUB7FK5H4RyAQGZmZmZmhllA9ihcj8IHhUC4HoXrURx+QHoUrkfhWn1AFK5H4Xp0hUCPwvUoXKuHQLgehetRio5AKVyPwvWIjUCuR+F6FM5BQNejcD0KP2VAAAAAAACoeECPwvUoXPd8QEjhehSui31AmpmZmZmpikCamZmZmTF4QIXrUbgePpNAXI/C9SimiEAUrkfhegyaQHsUrkfhmoJAj8L1KFxBhEBxPQrXo1+QQHsUrkfhOo1AhetRuB7pd0CamZmZmWlgQHsUrkfhEpRAzczMzMw+jUCkcD0K14GBQFK4HoXrRX1AZmZmZmbPlUC4HoXrUSyCQAAAAAAAvIxA7FG4HoWvkED2KFyPwsuIQD4K16NwlJNApHA9Ctfth0Bcj8L1KGRsQD0K16NwaYhAwvUoXI/8lUAUrkfheuxkQClcj8L1bodAMzMzMzMve0DXo3A9CseGQM3MzMzMiHJASOF6FK7jhEAzMzMzM0OHQHE9CtejYHJAKVyPwvV0iED2KFyPwjl7QFK4HoXrAYBApHA9CtcTbUCZmZmZmSmEQPYoXI/C8YRAKVyPwvW8fECamZmZmUOGQM3MzMzMNoJA9ihcj8KlkEAAAAAAAMiCQHE9CtejY5FAUrgehesnjkDsUbgehSGEQI/C9ShcGY1AZmZmZmacjUAK16NwPQSJQClcj8L1QGxAAAAAAAAgR0AAAAAAAGaEQI/C9ShcAYpAkML1KFw2nECuR+F6FGiOQM3MzMzMHpNAj8L1KFxhjkDNzMzMzAyLQLgehetRtI1ACtejcD06XEBcj8L1KMx7QMP1KFyPwmFAUrgehetThkAUrkfhet+ZQHE9CtejKJtACtejcD0KMECuR+F6FM6FQFyPwvUoxIVAwvUoXI8Kk0A+CtejcK2bQFyPwvUoqIhApHA9CtebiEDNzMzMzB2UQJqZmZmZWWlAPgrXo3C3j0AfhetRuByOQMP1KFyP+I1AUrgehevdiUAK16NwPQJ+QFK4HoXrnZBAFK5H4XpIgUA=",
          "dtype": "f8"
         },
         "yaxis": "y"
        },
        {
         "hovertemplate": "Region=West<br>OrderDate=%{x}<br>Sales=%{y}<extra></extra>",
         "legendgroup": "West",
         "line": {
          "color": "#EF553B",
          "dash": "solid"
         },
         "marker": {
          "symbol": "circle"
         },
         "mode": "lines+markers",
         "name": "West",
         "orientation": "v",
         "showlegend": true,
         "type": "scatter",
         "x": [
          "2024-07-24T00:00:00",
          "2024-07-25T00:00:00",
          "2024-07-26T00:00:00",
          "2024-07-27T00:00:00",
          "2024-07-28T00:00:00",
          "2024-07-29T00:00:00",
          "2024-07-30T00:00:00",
          "2024-07-31T00:00:00",
          "2024-08-01T00:00:00",
          "2024-08-02T00:00:00",
          "2024-08-04T00:00:00",
          "2024-08-06T00:00:00",
          "2024-08-07T00:00:00",
          "2024-08-09T00:00:00",
          "2024-08-13T00:00:00",
          "2024-08-17T00:00:00",
          "2024-08-20T00:00:00",
          "2024-08-23T00:00:00",
          "2024-08-24T00:00:00",
          "2024-08-25T00:00:00",
          "2024-08-26T00:00:00",
          "2024-08-27T00:00:00",
          "2024-08-29T00:00:00",
          "2024-08-30T00:00:00",
          "2024-08-31T00:00:00",
          "2024-09-01T00:00:00",
          "2024-09-04T00:00:00",
          "2024-09-10T00:00:00",
          "2024-09-11T00:00:00",
          "2024-09-15T00:00:00",
          "2024-09-19T00:00:00",
          "2024-09-20T00:00:00",
          "2024-09-21T00:00:00",
          "2024-09-26T00:00:00",
          "2024-09-28T00:00:00",
          "2024-09-29T00:00:00",
          "2024-09-30T00:00:00",
          "2024-10-05T00:00:00",
          "2024-10-06T00:00:00",
          "2024-10-07T00:00:00",
          "2024-10-09T00:00:00",
          "2024-10-13T00:00:00",
          "2024-10-15T00:00:00",
          "2024-10-19T00:00:00",
          "2024-10-21T00:00:00",
          "2024-10-22T00:00:00",
          "2024-10-24T00:00:00",
          "2024-10-25T00:00:00",
          "2024-10-27T00:00:00",
          "2024-10-28T00:00:00",
          "2024-10-31T00:00:00",
          "2024-11-02T00:00:00",
          "2024-11-03T00:00:00",
          "2024-11-04T00:00:00",
          "2024-11-05T00:00:00",
          "2024-11-06T00:00:00",
          "2024-11-07T00:00:00",
          "2024-11-08T00:00:00",
          "2024-11-11T00:00:00",
          "2024-11-12T00:00:00",
          "2024-11-14T00:00:00",
          "2024-11-15T00:00:00",
          "2024-11-16T00:00:00",
          "2024-11-17T00:00:00",
          "2024-11-21T00:00:00",
          "2024-11-23T00:00:00",
          "2024-11-24T00:00:00",
          "2024-11-26T00:00:00",
          "2024-11-27T00:00:00",
          "2024-11-28T00:00:00",
          "2024-12-01T00:00:00",
          "2024-12-05T00:00:00",
          "2024-12-10T00:00:00",
          "2024-12-12T00:00:00",
          "2024-12-13T00:00:00",
          "2024-12-14T00:00:00",
          "2024-12-15T00:00:00",
          "2024-12-16T00:00:00",
          "2024-12-17T00:00:00",
          "2024-12-18T00:00:00",
          "2024-12-23T00:00:00",
          "2024-12-29T00:00:00",
          "2024-12-30T00:00:00",
          "2024-12-31T00:00:00",
          "2025-01-02T00:00:00",
          "2025-01-03T00:00:00",
          "2025-01-09T00:00:00",
          "2025-01-11T00:00:00",
          "2025-01-14T00:00:00",
          "2025-01-15T00:00:00",
          "2025-01-19T00:00:00",
          "2025-01-20T00:00:00",
          "2025-01-23T00:00:00",
          "2025-01-24T00:00:00",
          "2025-01-25T00:00:00",
          "2025-01-27T00:00:00",
          "2025-01-30T00:00:00",
          "2025-02-03T00:00:00",
          "2025-02-05T00:00:00",
          "2025-02-08T00:00:00",
          "2025-02-09T00:00:00",
          "2025-02-10T00:00:00",
          "2025-02-11T00:00:00",
          "2025-02-12T00:00:00",
          "2025-02-14T00:00:00",
          "2025-02-15T00:00:00",
          "2025-02-16T00:00:00",
          "2025-02-21T00:00:00",
          "2025-02-23T00:00:00",
          "2025-02-24T00:00:00",
          "2025-02-27T00:00:00",
          "2025-02-28T00:00:00",
          "2025-03-01T00:00:00",
          "2025-03-02T00:00:00",
          "2025-03-07T00:00:00",
          "2025-03-08T00:00:00",
          "2025-03-09T00:00:00",
          "2025-03-10T00:00:00",
          "2025-03-11T00:00:00",
          "2025-03-13T00:00:00",
          "2025-03-16T00:00:00",
          "2025-03-18T00:00:00",
          "2025-03-19T00:00:00",
          "2025-03-20T00:00:00",
          "2025-03-22T00:00:00",
          "2025-03-23T00:00:00",
          "2025-03-24T00:00:00",
          "2025-03-28T00:00:00",
          "2025-03-29T00:00:00",
          "2025-03-30T00:00:00",
          "2025-03-31T00:00:00",
          "2025-04-02T00:00:00",
          "2025-04-03T00:00:00",
          "2025-04-07T00:00:00",
          "2025-04-08T00:00:00",
          "2025-04-10T00:00:00",
          "2025-04-12T00:00:00",
          "2025-04-13T00:00:00",
          "2025-04-17T00:00:00",
          "2025-04-19T00:00:00",
          "2025-04-23T00:00:00",
          "2025-04-25T00:00:00",
          "2025-04-27T00:00:00",
          "2025-04-29T00:00:00",
          "2025-04-30T00:00:00",
          "2025-05-02T00:00:00",
          "2025-05-04T00:00:00",
          "2025-05-05T00:00:00",
          "2025-05-06T00:00:00",
          "2025-05-08T00:00:00",
          "2025-05-11T00:00:00",
          "2025-05-12T00:00:00",
          "2025-05-13T00:00:00",
          "2025-05-14T00:00:00",
          "2025-05-15T00:00:00",
          "2025-05-17T00:00:00",
          "2025-05-18T00:00:00",
          "2025-05-20T00:00:00",
          "2025-05-22T00:00:00",
          "2025-05-25T00:00:00",
          "2025-05-27T00:00:00",
          "2025-05-30T00:00:00",
          "2025-05-31T00:00:00",
          "2025-06-01T00:00:00",
          "2025-06-05T00:00:00",
          "2025-06-06T00:00:00",
          "2025-06-07T00:00:00",
          "2025-06-09T00:00:00",
          "2025-06-10T00:00:00",
          "2025-06-11T00:00:00",
          "2025-06-12T00:00:00",
          "2025-06-13T00:00:00",
          "2025-06-16T00:00:00",
          "2025-06-17T00:00:00",
          "2025-06-18T00:00:00",
          "2025-06-22T00:00:00",
          "2025-06-24T00:00:00",
          "2025-06-25T00:00:00",
          "2025-06-29T00:00:00",
          "2025-07-03T00:00:00",
          "2025-07-04T00:00:00",
          "2025-07-05T00:00:00",
          "2025-07-06T00:00:00",
          "2025-07-09T00:00:00",
          "2025-07-10T00:00:00",
          "2025-07-20T00:00:00"
         ],
         "xaxis": "x",
         "y": {
          "bdata": "pHA9CtdFjEBI4XoUrldqQAAAAAAAYEhAw/UoXI/yaUBmZmZmZjOWQDMzMzMzv4dArkfhehSgi0Bcj8L1KPxOQB+F61G4fmFA16NwPQrRgEAfhetRuCiCQPYoXI/CZWRA16NwPQrLcUCamZmZmXOQQIXrUbgeC4tAZmZmZmbIi0BSuB6F6+GHQHsUrkfh1IdAPgrXo3CilEAK16NwPepjQJqZmZmZCXdAw/UoXI+CTkBSuB6F64mKQJqZmZmZ6XBA16NwPQprf0DC9Shcj+2RQClcj8L1loZAmpmZmZlJfkApXI/C9UhtQHsUrkfhVoxAH4XrUbiVoEBSuB6F6wuEQB+F61G4blNA4XoUrkcHjkApXI/C9YKWQKRwPQrXqJlArkfhehRebEC4HoXrUZKJQD0K16NwDqFAw/UoXI8iYEAUrkfhegCKQHsUrkfhUJxAcT0K16NYhkAK16NwPdyNQPYoXI/CrWtA16NwPQpriUCamZmZmZqRQEjhehSuB1VA4XoUrkdljkAzMzMzMyN4QHE9CtejcIZAcT0K16Nih0BxPQrXoxx+QHsUrkfhMIZA7FG4HoVHekDsUbgehTOUQB+F61G4HjFAcT0K16NQaEBmZmZmZtZXQArXo3A9UoZAKVyPwvV8fUBSuB6F6xuPQNejcD0KvYdA4XoUrkcZakDXo3A9CkOJQFyPwvUo9GhAcT0K16Msi0DXo3A9Cn+MQKRwPQrX04FA4XoUrkftf0AUrkfheqSLQClcj8L185lA9ihcj8JFjkCF61G4HsVuQHsUrkfh/IZASOF6FK4fn0AAAAAAAIyUQOF6FK5HcXxA4XoUrkeJhkC4HoXr0eSiQFK4HoXrPXBAmpmZmZmbjUBI4XoUrtmFQIXrUbge/XBAH4XrUbg+h0AAAAAAAMqDQAAAAAAAaoVAmpmZmZlOk0ApXI/C9Qh2QFK4HoXryWhAZmZmZmaOYUBI4XoUrpt2QArXo3A9VIRArkfhehQkgEAfhetRuKqFQKRwPQrXu4FA9ihcj8IhjkBxPQrXozBKQOtRuB6Fg41AcT0K16NGgECamZmZmTGTQMP1KFyPQndAcT0K16N8kUC4HoXrUVBuQAAAAAAAmIhAmpmZmZnNf0AAAAAAAJuSQI/C9Shcd4lAhetRuB6dm0DNzMzMzARoQLgehetR1IpA4XoUrkeBQ0AAAAAAAHx0QD4K16NwUqJAZmZmZmY6m0AUrkfhelaEQI/C9ShcsYBAMzMzMzMbiUAehetRuGiHQK5H4XoUYZdAUrgehetDi0BI4XoUroOFQDMzMzMz1YxAj8L1KFzVgEDsUbgehaGGQLgehetReG9AXI/C9SgEZ0AzMzMzM52NQGZmZmZmI5RApHA9CteTcUAK16NwPeZ3QClcj8L1hH9AexSuR+G6PUB7FK5H4eZ3QD0K16NwWYRAFK5H4XrYh0CF61G4Hm1hQB+F61G4BoRAH4XrUbhKe0C4HoXrUVx6QMP1KFyPKI1A4XoUrkfRiEAfhetRuKaHQFyPwvUoHGpAPgrXo3Bjg0BI4XoUrvdmQML1KFyPj5BAuB6F61FEfEAUrkfheih6QHE9CtejAIpACtejcD1wg0AUrkfherRJQD4K16NwWZpA9ihcj8KNcUC4HoXrUfqLQOxRuB6F6YZAcD0K16M4fEAK16NwPepmQOF6FK5HEYlAmpmZmZkFdEB7FK5H4fKCQKRwPQrX+4RAw/UoXI9OnUCuR+F6FKWYQD4K16NwoX9AZmZmZmZmTUA9CtejcBV2QIXrUbgeT45ACtejcD3gkUBI4XoUrguDQAAAAAAARIlAFK5H4XoQjEBmZmZmZh6WQLgehetR+HVA9ihcj8JklkDNzMzMzBCIQGZmZmZmPppASOF6FK5vZkD2KFyPwmVSQB+F61G4XIpACtejcD3ogEAK16NwPeCKQAAAAAAAfoZApHA9CteVh0BmZmZmZvCWQM3MzMzM1GVA",
          "dtype": "f8"
         },
         "yaxis": "y"
        },
        {
         "hovertemplate": "Region=East<br>OrderDate=%{x}<br>Sales=%{y}<extra></extra>",
         "legendgroup": "East",
         "line": {
          "color": "#00cc96",
          "dash": "solid"
         },
         "marker": {
          "symbol": "circle"
         },
         "mode": "lines+markers",
         "name": "East",
         "orientation": "v",
         "showlegend": true,
         "type": "scatter",
         "x": [
          "2024-07-25T00:00:00",
          "2024-07-26T00:00:00",
          "2024-07-27T00:00:00",
          "2024-07-28T00:00:00",
          "2024-07-29T00:00:00",
          "2024-07-30T00:00:00",
          "2024-07-31T00:00:00",
          "2024-08-06T00:00:00",
          "2024-08-07T00:00:00",
          "2024-08-10T00:00:00",
          "2024-08-12T00:00:00",
          "2024-08-15T00:00:00",
          "2024-08-16T00:00:00",
          "2024-08-18T00:00:00",
          "2024-08-19T00:00:00",
          "2024-08-21T00:00:00",
          "2024-08-23T00:00:00",
          "2024-08-26T00:00:00",
          "2024-08-29T00:00:00",
          "2024-08-30T00:00:00",
          "2024-09-03T00:00:00",
          "2024-09-05T00:00:00",
          "2024-09-06T00:00:00",
          "2024-09-13T00:00:00",
          "2024-09-16T00:00:00",
          "2024-09-18T00:00:00",
          "2024-09-19T00:00:00",
          "2024-09-21T00:00:00",
          "2024-09-23T00:00:00",
          "2024-09-25T00:00:00",
          "2024-09-29T00:00:00",
          "2024-09-30T00:00:00",
          "2024-10-03T00:00:00",
          "2024-10-06T00:00:00",
          "2024-10-07T00:00:00",
          "2024-10-09T00:00:00",
          "2024-10-12T00:00:00",
          "2024-10-16T00:00:00",
          "2024-10-17T00:00:00",
          "2024-10-18T00:00:00",
          "2024-10-20T00:00:00",
          "2024-10-21T00:00:00",
          "2024-10-23T00:00:00",
          "2024-10-28T00:00:00",
          "2024-10-30T00:00:00",
          "2024-11-02T00:00:00",
          "2024-11-04T00:00:00",
          "2024-11-05T00:00:00",
          "2024-11-07T00:00:00",
          "2024-11-10T00:00:00",
          "2024-11-11T00:00:00",
          "2024-11-12T00:00:00",
          "2024-11-15T00:00:00",
          "2024-11-17T00:00:00",
          "2024-11-18T00:00:00",
          "2024-11-19T00:00:00",
          "2024-11-21T00:00:00",
          "2024-11-22T00:00:00",
          "2024-11-23T00:00:00",
          "2024-11-26T00:00:00",
          "2024-11-28T00:00:00",
          "2024-11-29T00:00:00",
          "2024-11-30T00:00:00",
          "2024-12-05T00:00:00",
          "2024-12-06T00:00:00",
          "2024-12-07T00:00:00",
          "2024-12-10T00:00:00",
          "2024-12-12T00:00:00",
          "2024-12-17T00:00:00",
          "2024-12-18T00:00:00",
          "2024-12-21T00:00:00",
          "2024-12-22T00:00:00",
          "2024-12-23T00:00:00",
          "2024-12-24T00:00:00",
          "2024-12-25T00:00:00",
          "2024-12-26T00:00:00",
          "2024-12-27T00:00:00",
          "2024-12-28T00:00:00",
          "2024-12-29T00:00:00",
          "2024-12-30T00:00:00",
          "2024-12-31T00:00:00",
          "2025-01-01T00:00:00",
          "2025-01-03T00:00:00",
          "2025-01-06T00:00:00",
          "2025-01-07T00:00:00",
          "2025-01-11T00:00:00",
          "2025-01-14T00:00:00",
          "2025-01-15T00:00:00",
          "2025-01-16T00:00:00",
          "2025-01-17T00:00:00",
          "2025-01-18T00:00:00",
          "2025-01-19T00:00:00",
          "2025-01-21T00:00:00",
          "2025-01-23T00:00:00",
          "2025-01-24T00:00:00",
          "2025-01-25T00:00:00",
          "2025-01-26T00:00:00",
          "2025-01-30T00:00:00",
          "2025-01-31T00:00:00",
          "2025-02-02T00:00:00",
          "2025-02-03T00:00:00",
          "2025-02-06T00:00:00",
          "2025-02-11T00:00:00",
          "2025-02-14T00:00:00",
          "2025-02-17T00:00:00",
          "2025-02-18T00:00:00",
          "2025-02-22T00:00:00",
          "2025-02-23T00:00:00",
          "2025-02-24T00:00:00",
          "2025-02-25T00:00:00",
          "2025-02-26T00:00:00",
          "2025-02-27T00:00:00",
          "2025-02-28T00:00:00",
          "2025-03-03T00:00:00",
          "2025-03-06T00:00:00",
          "2025-03-09T00:00:00",
          "2025-03-12T00:00:00",
          "2025-03-14T00:00:00",
          "2025-03-15T00:00:00",
          "2025-03-16T00:00:00",
          "2025-03-17T00:00:00",
          "2025-03-19T00:00:00",
          "2025-03-26T00:00:00",
          "2025-03-28T00:00:00",
          "2025-03-31T00:00:00",
          "2025-04-02T00:00:00",
          "2025-04-09T00:00:00",
          "2025-04-10T00:00:00",
          "2025-04-11T00:00:00",
          "2025-04-13T00:00:00",
          "2025-04-15T00:00:00",
          "2025-04-23T00:00:00",
          "2025-04-26T00:00:00",
          "2025-04-30T00:00:00",
          "2025-05-02T00:00:00",
          "2025-05-03T00:00:00",
          "2025-05-05T00:00:00",
          "2025-05-07T00:00:00",
          "2025-05-09T00:00:00",
          "2025-05-12T00:00:00",
          "2025-05-16T00:00:00",
          "2025-05-18T00:00:00",
          "2025-05-19T00:00:00",
          "2025-05-20T00:00:00",
          "2025-05-21T00:00:00",
          "2025-05-22T00:00:00",
          "2025-05-23T00:00:00",
          "2025-05-26T00:00:00",
          "2025-05-28T00:00:00",
          "2025-05-29T00:00:00",
          "2025-05-31T00:00:00",
          "2025-06-01T00:00:00",
          "2025-06-02T00:00:00",
          "2025-06-03T00:00:00",
          "2025-06-06T00:00:00",
          "2025-06-07T00:00:00",
          "2025-06-08T00:00:00",
          "2025-06-09T00:00:00",
          "2025-06-10T00:00:00",
          "2025-06-11T00:00:00",
          "2025-06-12T00:00:00",
          "2025-06-14T00:00:00",
          "2025-06-15T00:00:00",
          "2025-06-18T00:00:00",
          "2025-06-19T00:00:00",
          "2025-06-20T00:00:00",
          "2025-06-22T00:00:00",
          "2025-06-23T00:00:00",
          "2025-06-26T00:00:00",
          "2025-06-27T00:00:00",
          "2025-06-28T00:00:00",
          "2025-06-30T00:00:00",
          "2025-07-02T00:00:00",
          "2025-07-04T00:00:00",
          "2025-07-06T00:00:00",
          "2025-07-07T00:00:00",
          "2025-07-09T00:00:00",
          "2025-07-10T00:00:00",
          "2025-07-11T00:00:00",
          "2025-07-13T00:00:00",
          "2025-07-14T00:00:00",
          "2025-07-17T00:00:00",
          "2025-07-18T00:00:00",
          "2025-07-19T00:00:00",
          "2025-07-21T00:00:00",
          "2025-07-22T00:00:00",
          "2025-07-23T00:00:00"
         ],
         "xaxis": "x",
         "y": {
          "bdata": "16NwPQpPa0CPwvUoXM88QFK4HoXr4pRA4XoUrkexZ0AzMzMzMx+UQHE9CtejgFFAexSuR+HCkUCF61G4HsF9QK5H4XoUlIVA9ihcj8I1WEAzMzMzM3N1QB+F61G4yodAUrgeheuWl0BxPQrXo7KGQFK4HoXroYlAH4XrUbhqgUCF61G4Hq1/QHsUrkfhXoxAhetRuB5Zh0DD9ShcjxJ9QIXrUbge0XNA9ihcj8LLjUAAAAAAAMhxQArXo3A9ijZAcT0K16OwbUAUrkfhevOWQMP1KFyPSo1ACtejcD16c0BI4XoUrqN9QFK4HoXrR4NAcT0K16OYikDsUbgehamNQJqZmZmZ/4pAcT0K16MwXkAUrkfhesqEQOxRuB6Fa0tAFK5H4XpAhkBSuB6F6x+iQNejcD0Kv3VApHA9CtdbhUA9CtejcOmLQI/C9Shcs4NAFK5H4XqkWUCF61G4HtGEQFyPwvUo7G9AUrgehetxZ0Bcj8L1KKCMQNejcD0KQYdACtejcD1DlUAUrkfhemyBQOxRuB6FlYpA16NwPQr3ZUCkcD0K13N8QOxRuB6FKzNArkfhehTyiEAK16NwPaSRQJqZmZmZoXFAuB6F61GAeECF61G4Hol1QFK4HoXrkV1AexSuR+HKe0AfhetRuJ6OQNejcD0KGJFA16NwPQrXNkDD9Shcj8p2QFK4HoXr84lAPQrXo3B9WkApXI/C9aiOQGZmZmZmrnxA16NwPQrylEDNzMzMzJCMQLgehetRdo1AUrgeheuAl0Bcj8L1KCRlQHsUrkfheJlAPQrXo3DdT0B7FK5H4QSAQHsUrkfhVoNA16NwPQonikCuR+F6FKSLQHsUrkfhLolAMzMzMzOnfUAAAAAAAABCQClcj8L1zo1Aj8L1KFwHYkBxPQrXowhyQB+F61G4ZnZAexSuR+GSkECQwvUoXA9uQKRwPQrXg21AUrgeheu5g0BxPQrXo7A/QDQzMzMzZ5VAKVyPwvVAlEDNzMzMzCxSQOxRuB6FQ3JAPQrXo3DtjEDXo3A9Cj6aQFK4HoXr5JJArkfhehQeckD2KFyPwvmMQOF6FK5Hv5FAzczMzMysfUBcj8L1KFxvQGZmZmZm9ZpAMzMzMzPrYkDD9Shcj+KDQBSuR+F6/oVAexSuR+FihUBI4XoUrjOFQM3MzMzMuHBAAAAAAABUgkBSuB6F6zmNQBSuR+F6VF1AhetRuB7lbUAzMzMzMy9yQEjhehSuN4RArkfhehRgiEAAAAAAAHOZQM3MzMzMyHhAAAAAAADwXUAK16NwPYaEQIXrUbge2plAcT0K16O4aUBxPQrXo2aEQOF6FK5HaXlAPgrXo3Dfi0CF61G4HhGNQClcj8L1UoxA16NwPQqOlEDhehSuR/OHQMP1KFyPQnlAFK5H4XrGiECPwvUoXBOGQBSuR+F6mHxAXI/C9SgijEDhehSuR9GKQM3MzMzMXHRAFK5H4XrQgkBI4XoUroeRQClcj8L1cH9AzczMzMwMjUAUrkfhekyEQGZmZmZmjoJAhetRuB5/jkCPwvUoXGdvQM3MzMzMoI5AcT0K16MTpUDXo3A9Cs9wQK5H4XoUdmtArkfhehQmeUCkcD0K15d8QNejcD0KA4RAAAAAAABsckAUrkfhehyHQI/C9Shc2YdACtejcD1qg0CQwvUoXGKWQHsUrkfh9ndAKVyPwvWwjUCamZmZmSyYQNejcD0K13dAw/UoXI/wj0CF61G4HmWbQM3MzMzMMIZAFK5H4Xo+gUDXo3A9CueCQHoUrkfhEJRAhetRuB7dg0CamZmZmfWHQM3MzMzMDE5A4XoUrkeBeEDhehSuR4lvQGZmZmZmtldAH4XrUbiblkCuR+F6FAyJQIXrUbgeEZFApHA9Ctd3i0ApXI/C9XB9QIXrUbge3ZRAKVyPwvX+hUD2KFyPwnGLQKRwPQrXM1tASOF6FK6vZECamZmZmeWEQKRwPQrX64dAj8L1KFxDckA=",
          "dtype": "f8"
         },
         "yaxis": "y"
        },
        {
         "hovertemplate": "Region=South<br>OrderDate=%{x}<br>Sales=%{y}<extra></extra>",
         "legendgroup": "South",
         "line": {
          "color": "#ab63fa",
          "dash": "solid"
         },
         "marker": {
          "symbol": "circle"
         },
         "mode": "lines+markers",
         "name": "South",
         "orientation": "v",
         "showlegend": true,
         "type": "scatter",
         "x": [
          "2024-07-25T00:00:00",
          "2024-07-26T00:00:00",
          "2024-07-27T00:00:00",
          "2024-07-28T00:00:00",
          "2024-08-01T00:00:00",
          "2024-08-02T00:00:00",
          "2024-08-03T00:00:00",
          "2024-08-04T00:00:00",
          "2024-08-06T00:00:00",
          "2024-08-08T00:00:00",
          "2024-08-10T00:00:00",
          "2024-08-11T00:00:00",
          "2024-08-13T00:00:00",
          "2024-08-15T00:00:00",
          "2024-08-16T00:00:00",
          "2024-08-17T00:00:00",
          "2024-08-18T00:00:00",
          "2024-08-20T00:00:00",
          "2024-08-21T00:00:00",
          "2024-08-22T00:00:00",
          "2024-08-23T00:00:00",
          "2024-08-26T00:00:00",
          "2024-09-02T00:00:00",
          "2024-09-03T00:00:00",
          "2024-09-05T00:00:00",
          "2024-09-06T00:00:00",
          "2024-09-07T00:00:00",
          "2024-09-13T00:00:00",
          "2024-09-14T00:00:00",
          "2024-09-16T00:00:00",
          "2024-09-17T00:00:00",
          "2024-09-20T00:00:00",
          "2024-09-22T00:00:00",
          "2024-09-23T00:00:00",
          "2024-09-24T00:00:00",
          "2024-09-25T00:00:00",
          "2024-09-27T00:00:00",
          "2024-09-28T00:00:00",
          "2024-10-01T00:00:00",
          "2024-10-03T00:00:00",
          "2024-10-05T00:00:00",
          "2024-10-06T00:00:00",
          "2024-10-15T00:00:00",
          "2024-10-16T00:00:00",
          "2024-10-17T00:00:00",
          "2024-10-18T00:00:00",
          "2024-10-27T00:00:00",
          "2024-10-28T00:00:00",
          "2024-10-29T00:00:00",
          "2024-11-02T00:00:00",
          "2024-11-03T00:00:00",
          "2024-11-09T00:00:00",
          "2024-11-10T00:00:00",
          "2024-11-12T00:00:00",
          "2024-11-14T00:00:00",
          "2024-11-15T00:00:00",
          "2024-11-16T00:00:00",
          "2024-11-17T00:00:00",
          "2024-11-20T00:00:00",
          "2024-11-21T00:00:00",
          "2024-11-22T00:00:00",
          "2024-11-27T00:00:00",
          "2024-11-28T00:00:00",
          "2024-12-04T00:00:00",
          "2024-12-07T00:00:00",
          "2024-12-10T00:00:00",
          "2024-12-11T00:00:00",
          "2024-12-12T00:00:00",
          "2024-12-13T00:00:00",
          "2024-12-16T00:00:00",
          "2024-12-20T00:00:00",
          "2024-12-21T00:00:00",
          "2024-12-24T00:00:00",
          "2024-12-26T00:00:00",
          "2024-12-27T00:00:00",
          "2024-12-29T00:00:00",
          "2024-12-31T00:00:00",
          "2025-01-03T00:00:00",
          "2025-01-07T00:00:00",
          "2025-01-08T00:00:00",
          "2025-01-09T00:00:00",
          "2025-01-10T00:00:00",
          "2025-01-13T00:00:00",
          "2025-01-14T00:00:00",
          "2025-01-15T00:00:00",
          "2025-01-17T00:00:00",
          "2025-01-18T00:00:00",
          "2025-01-20T00:00:00",
          "2025-01-24T00:00:00",
          "2025-01-27T00:00:00",
          "2025-01-28T00:00:00",
          "2025-01-29T00:00:00",
          "2025-01-31T00:00:00",
          "2025-02-04T00:00:00",
          "2025-02-06T00:00:00",
          "2025-02-09T00:00:00",
          "2025-02-10T00:00:00",
          "2025-02-13T00:00:00",
          "2025-02-15T00:00:00",
          "2025-02-17T00:00:00",
          "2025-02-18T00:00:00",
          "2025-02-20T00:00:00",
          "2025-02-22T00:00:00",
          "2025-02-24T00:00:00",
          "2025-02-25T00:00:00",
          "2025-02-26T00:00:00",
          "2025-03-02T00:00:00",
          "2025-03-03T00:00:00",
          "2025-03-04T00:00:00",
          "2025-03-06T00:00:00",
          "2025-03-07T00:00:00",
          "2025-03-08T00:00:00",
          "2025-03-09T00:00:00",
          "2025-03-10T00:00:00",
          "2025-03-12T00:00:00",
          "2025-03-15T00:00:00",
          "2025-03-17T00:00:00",
          "2025-03-19T00:00:00",
          "2025-03-22T00:00:00",
          "2025-03-23T00:00:00",
          "2025-03-24T00:00:00",
          "2025-03-26T00:00:00",
          "2025-03-27T00:00:00",
          "2025-03-28T00:00:00",
          "2025-03-29T00:00:00",
          "2025-03-31T00:00:00",
          "2025-04-02T00:00:00",
          "2025-04-05T00:00:00",
          "2025-04-06T00:00:00",
          "2025-04-07T00:00:00",
          "2025-04-10T00:00:00",
          "2025-04-11T00:00:00",
          "2025-04-13T00:00:00",
          "2025-04-16T00:00:00",
          "2025-04-18T00:00:00",
          "2025-04-23T00:00:00",
          "2025-04-27T00:00:00",
          "2025-04-30T00:00:00",
          "2025-05-01T00:00:00",
          "2025-05-04T00:00:00",
          "2025-05-05T00:00:00",
          "2025-05-07T00:00:00",
          "2025-05-09T00:00:00",
          "2025-05-10T00:00:00",
          "2025-05-11T00:00:00",
          "2025-05-13T00:00:00",
          "2025-05-14T00:00:00",
          "2025-05-15T00:00:00",
          "2025-05-16T00:00:00",
          "2025-05-17T00:00:00",
          "2025-05-19T00:00:00",
          "2025-05-20T00:00:00",
          "2025-05-21T00:00:00",
          "2025-05-26T00:00:00",
          "2025-05-31T00:00:00",
          "2025-06-02T00:00:00",
          "2025-06-05T00:00:00",
          "2025-06-06T00:00:00",
          "2025-06-07T00:00:00",
          "2025-06-08T00:00:00",
          "2025-06-09T00:00:00",
          "2025-06-11T00:00:00",
          "2025-06-13T00:00:00",
          "2025-06-16T00:00:00",
          "2025-06-17T00:00:00",
          "2025-06-19T00:00:00",
          "2025-06-20T00:00:00",
          "2025-06-23T00:00:00",
          "2025-06-24T00:00:00",
          "2025-06-27T00:00:00",
          "2025-06-30T00:00:00",
          "2025-07-03T00:00:00",
          "2025-07-04T00:00:00",
          "2025-07-05T00:00:00",
          "2025-07-06T00:00:00",
          "2025-07-08T00:00:00",
          "2025-07-09T00:00:00",
          "2025-07-13T00:00:00",
          "2025-07-15T00:00:00",
          "2025-07-18T00:00:00",
          "2025-07-20T00:00:00",
          "2025-07-23T00:00:00",
          "2025-07-24T00:00:00"
         ],
         "xaxis": "x",
         "y": {
          "bdata": "pHA9Cte7bEDNzMzMzBR1QArXo3A9BpNA2KNwPQrdj0CamZmZmSGMQArXo3A9iohAXI/C9SgAe0BSuB6F65FZQDMzMzMzg4xA7FG4HoUVjkDhehSuR3liQNejcD0KyYlAXI/C9Sg4dEBmZmZmZuZyQEjhehSu/YhAZmZmZmZGckBxPQrXozAzQGZmZmZm7opApHA9CtfDfUBmZmZmZgZ7QIXrUbgesYBAZmZmZmauY0ApXI/C9ZxxQML1KFyPfJRA9ihcj8JVhUBI4XoUruWgQD0K16Nwl4RAMzMzMzPdikDsUbgehaGJQD0K16Nwv4RAkML1KFyBj0CuR+F6FFSTQHsUrkfhQIlAPQrXo3B1fUCF61G4HjmOQGZmZmZmtopAFK5H4XqRmEAK16NwPTp3QI/C9ShcU4JAw/UoXI9MkUDXo3A9CveNQAAAAAAAhopAZmZmZma2hEBSuB6F6xFvQEjhehSuv49AmpmZmZmtdUBmZmZmZq5nQB+F61G4PJlAKVyPwvUgaED2KFyPwnuCQOxRuB6FW3RAzczMzMw0bEBSuB6F6weCQClcj8L1UGtAuB6F61Eqj0CamZmZmel2QMzMzMzMzI5AuB6F61EwiUBmZmZmZtJ2QBSuR+F6xHNA7FG4HoXBiUCamZmZmb2GQKRwPQrX43JAKVyPwvXoUUBxPQrXo2hxQK5H4XoUZnFAAAAAAAAIf0BI4XoUrmaSQKRwPQrXSY5AhetRuB49lEA9CtejcHVyQHsUrkfhukRAmpmZmZmHg0DD9Shcj/JlQBWuR+F6cpFACtejcD2Ci0AAAAAAAM2dQHE9CtejCG1AFK5H4XoqikCkcD0K1xOTQGZmZmZmhoFAhetRuB41YUCkcD0K10t5QNejcD0Kp25AAAAAAAAshUDsUbgehUtYQPYoXI/C1VRAhetRuB7ldkBxPQrXozh+QEjhehSuQ4RA9ihcj8IVS0AK16NwPVJvQD0K16NwpWNApHA9Ctcti0AfhetRuKqNQJqZmZmZR4FAmpmZmZnDmkDsUbgehZ+PQOxRuB6FyYxA16NwPQpbi0BSuB6F6zFIQD0K16NwzWtArkfhehQciECF61G4Hi12QOF6FK5Hq4VACtejcD3KVUAUrkfhetKJQEjhehSul3dAhetRuB6DjkDXo3A9ChuNQClcj8L1zHpAzczMzMxQhECamZmZmZeLQGZmZmZmAIJAUrgehevzg0DXo3A9CtNxQMP1KFwPoaFA9ihcj8IglkApXI/C9VR9QB+F61G4VmRAFK5H4XpwdUB7FK5H4YCMQHA9CtejRJdAZmZmZmb4iUBcj8L1KDx3QEjhehSuY31A9ihcj8IMmkCPwvUoXA2CQNejcD0KWJRAexSuR+HieUBmZmZmZsp8QKRwPQrXPYhArkfhehQkjEA9CtejcJeJQGZmZmZm3ohAXI/C9SgZnkBI4XoUrg2KQK5H4XoUgoxA4XoUrkfJe0CF61G4Hn+HQHsUrkfhjolAH4XrUbicjEDhehSuR6eMQI/C9Shcz4hAFK5H4XoMjEA+CtejcEOOQFyPwvUoIJVAkML1KNxToUCF61G4Hn2FQHsUrkfhgoRAuB6F61FimEDNzMzMzHCOQM3MzMzMB5JArkfhehQCikCkcD0K12mIQK5H4XoU/mZAuB6F61GDmEDhehSuRzmDQPYoXI/C9WlAZmZmZmaajEDiehSuRyGWQLgehetRMHRAFK5H4Xouj0DXo3A9CpN8QHsUrkfhmkpAFa5H4XqKikBmZmZmZip1QFK4HoXry41AUrgeheuvjEBSuB6F65E5QKRwPQrXQYRAmpmZmZlJgkAUrkfhehqRQFK4HoXr7KJAhetRuB6ngECQwvUoXA+dQMP1KFyPomZAhetRuB7Th0CF61G4HgVMQI/C9ShcrpFAzczMzMw8akC4HoXrUV6HQHE9Ctej8HlA",
          "dtype": "f8"
         },
         "yaxis": "y"
        }
       ],
       "layout": {
        "legend": {
         "title": {
          "text": "Region"
         },
         "tracegroupgap": 0
        },
        "template": {
         "data": {
          "bar": [
           {
            "error_x": {
             "color": "#2a3f5f"
            },
            "error_y": {
             "color": "#2a3f5f"
            },
            "marker": {
             "line": {
              "color": "white",
              "width": 0.5
             },
             "pattern": {
              "fillmode": "overlay",
              "size": 10,
              "solidity": 0.2
             }
            },
            "type": "bar"
           }
          ],
          "barpolar": [
           {
            "marker": {
             "line": {
              "color": "white",
              "width": 0.5
             },
             "pattern": {
              "fillmode": "overlay",
              "size": 10,
              "solidity": 0.2
             }
            },
            "type": "barpolar"
           }
          ],
          "carpet": [
           {
            "aaxis": {
             "endlinecolor": "#2a3f5f",
             "gridcolor": "#C8D4E3",
             "linecolor": "#C8D4E3",
             "minorgridcolor": "#C8D4E3",
             "startlinecolor": "#2a3f5f"
            },
            "baxis": {
             "endlinecolor": "#2a3f5f",
             "gridcolor": "#C8D4E3",
             "linecolor": "#C8D4E3",
             "minorgridcolor": "#C8D4E3",
             "startlinecolor": "#2a3f5f"
            },
            "type": "carpet"
           }
          ],
          "choropleth": [
           {
            "colorbar": {
             "outlinewidth": 0,
             "ticks": ""
            },
            "type": "choropleth"
           }
          ],
          "contour": [
           {
            "colorbar": {
             "outlinewidth": 0,
             "ticks": ""
            },
            "colorscale": [
             [
              0,
              "#0d0887"
             ],
             [
              0.1111111111111111,
              "#46039f"
             ],
             [
              0.2222222222222222,
              "#7201a8"
             ],
             [
              0.3333333333333333,
              "#9c179e"
             ],
             [
              0.4444444444444444,
              "#bd3786"
             ],
             [
              0.5555555555555556,
              "#d8576b"
             ],
             [
              0.6666666666666666,
              "#ed7953"
             ],
             [
              0.7777777777777778,
              "#fb9f3a"
             ],
             [
              0.8888888888888888,
              "#fdca26"
             ],
             [
              1,
              "#f0f921"
             ]
            ],
            "type": "contour"
           }
          ],
          "contourcarpet": [
           {
            "colorbar": {
             "outlinewidth": 0,
             "ticks": ""
            },
            "type": "contourcarpet"
           }
          ],
          "heatmap": [
           {
            "colorbar": {
             "outlinewidth": 0,
             "ticks": ""
            },
            "colorscale": [
             [
              0,
              "#0d0887"
             ],
             [
              0.1111111111111111,
              "#46039f"
             ],
             [
              0.2222222222222222,
              "#7201a8"
             ],
             [
              0.3333333333333333,
              "#9c179e"
             ],
             [
              0.4444444444444444,
              "#bd3786"
             ],
             [
              0.5555555555555556,
              "#d8576b"
             ],
             [
              0.6666666666666666,
              "#ed7953"
             ],
             [
              0.7777777777777778,
              "#fb9f3a"
             ],
             [
              0.8888888888888888,
              "#fdca26"
             ],
             [
              1,
              "#f0f921"
             ]
            ],
            "type": "heatmap"
           }
          ],
          "histogram": [
           {
            "marker": {
             "pattern": {
              "fillmode": "overlay",
              "size": 10,
              "solidity": 0.2
             }
            },
            "type": "histogram"
           }
          ],
          "histogram2d": [
           {
            "colorbar": {
             "outlinewidth": 0,
             "ticks": ""
            },
            "colorscale": [
             [
              0,
              "#0d0887"
             ],
             [
              0.1111111111111111,
              "#46039f"
             ],
             [
              0.2222222222222222,
              "#7201a8"
             ],
             [
              0.3333333333333333,
              "#9c179e"
             ],
             [
              0.4444444444444444,
              "#bd3786"
             ],
             [
              0.5555555555555556,
              "#d8576b"
             ],
             [
              0.6666666666666666,
              "#ed7953"
             ],
             [
              0.7777777777777778,
              "#fb9f3a"
             ],
             [
              0.8888888888888888,
              "#fdca26"
             ],
             [
              1,
              "#f0f921"
             ]
            ],
            "type": "histogram2d"
           }
          ],
          "histogram2dcontour": [
           {
            "colorbar": {
             "outlinewidth": 0,
             "ticks": ""
            },
            "colorscale": [
             [
              0,
              "#0d0887"
             ],
             [
              0.1111111111111111,
              "#46039f"
             ],
             [
              0.2222222222222222,
              "#7201a8"
             ],
             [
              0.3333333333333333,
              "#9c179e"
             ],
             [
              0.4444444444444444,
              "#bd3786"
             ],
             [
              0.5555555555555556,
              "#d8576b"
             ],
             [
              0.6666666666666666,
              "#ed7953"
             ],
             [
              0.7777777777777778,
              "#fb9f3a"
             ],
             [
              0.8888888888888888,
              "#fdca26"
             ],
             [
              1,
              "#f0f921"
             ]
            ],
            "type": "histogram2dcontour"
           }
          ],
          "mesh3d": [
           {
            "colorbar": {
             "outlinewidth": 0,
             "ticks": ""
            },
            "type": "mesh3d"
           }
          ],
          "parcoords": [
           {
            "line": {
             "colorbar": {
              "outlinewidth": 0,
              "ticks": ""
             }
            },
            "type": "parcoords"
           }
          ],
          "pie": [
           {
            "automargin": true,
            "type": "pie"
           }
          ],
          "scatter": [
           {
            "fillpattern": {
             "fillmode": "overlay",
             "size": 10,
             "solidity": 0.2
            },
            "type": "scatter"
           }
          ],
          "scatter3d": [
           {
            "line": {
             "colorbar": {
              "outlinewidth": 0,
              "ticks": ""
             }
            },
            "marker": {
             "colorbar": {
              "outlinewidth": 0,
              "ticks": ""
             }
            },
            "type": "scatter3d"
           }
          ],
          "scattercarpet": [
           {
            "marker": {
             "colorbar": {
              "outlinewidth": 0,
              "ticks": ""
             }
            },
            "type": "scattercarpet"
           }
          ],
          "scattergeo": [
           {
            "marker": {
             "colorbar": {
              "outlinewidth": 0,
              "ticks": ""
             }
            },
            "type": "scattergeo"
           }
          ],
          "scattergl": [
           {
            "marker": {
             "colorbar": {
              "outlinewidth": 0,
              "ticks": ""
             }
            },
            "type": "scattergl"
           }
          ],
          "scattermap": [
           {
            "marker": {
             "colorbar": {
              "outlinewidth": 0,
              "ticks": ""
             }
            },
            "type": "scattermap"
           }
          ],
          "scattermapbox": [
           {
            "marker": {
             "colorbar": {
              "outlinewidth": 0,
              "ticks": ""
             }
            },
            "type": "scattermapbox"
           }
          ],
          "scatterpolar": [
           {
            "marker": {
             "colorbar": {
              "outlinewidth": 0,
              "ticks": ""
             }
            },
            "type": "scatterpolar"
           }
          ],
          "scatterpolargl": [
           {
            "marker": {
             "colorbar": {
              "outlinewidth": 0,
              "ticks": ""
             }
            },
            "type": "scatterpolargl"
           }
          ],
          "scatterternary": [
           {
            "marker": {
             "colorbar": {
              "outlinewidth": 0,
              "ticks": ""
             }
            },
            "type": "scatterternary"
           }
          ],
          "surface": [
           {
            "colorbar": {
             "outlinewidth": 0,
             "ticks": ""
            },
            "colorscale": [
             [
              0,
              "#0d0887"
             ],
             [
              0.1111111111111111,
              "#46039f"
             ],
             [
              0.2222222222222222,
              "#7201a8"
             ],
             [
              0.3333333333333333,
              "#9c179e"
             ],
             [
              0.4444444444444444,
              "#bd3786"
             ],
             [
              0.5555555555555556,
              "#d8576b"
             ],
             [
              0.6666666666666666,
              "#ed7953"
             ],
             [
              0.7777777777777778,
              "#fb9f3a"
             ],
             [
              0.8888888888888888,
              "#fdca26"
             ],
             [
              1,
              "#f0f921"
             ]
            ],
            "type": "surface"
           }
          ],
          "table": [
           {
            "cells": {
             "fill": {
              "color": "#EBF0F8"
             },
             "line": {
              "color": "white"
             }
            },
            "header": {
             "fill": {
              "color": "#C8D4E3"
             },
             "line": {
              "color": "white"
             }
            },
            "type": "table"
           }
          ]
         },
         "layout": {
          "annotationdefaults": {
           "arrowcolor": "#2a3f5f",
           "arrowhead": 0,
           "arrowwidth": 1
          },
          "autotypenumbers": "strict",
          "coloraxis": {
           "colorbar": {
            "outlinewidth": 0,
            "ticks": ""
           }
          },
          "colorscale": {
           "diverging": [
            [
             0,
             "#8e0152"
            ],
            [
             0.1,
             "#c51b7d"
            ],
            [
             0.2,
             "#de77ae"
            ],
            [
             0.3,
             "#f1b6da"
            ],
            [
             0.4,
             "#fde0ef"
            ],
            [
             0.5,
             "#f7f7f7"
            ],
            [
             0.6,
             "#e6f5d0"
            ],
            [
             0.7,
             "#b8e186"
            ],
            [
             0.8,
             "#7fbc41"
            ],
            [
             0.9,
             "#4d9221"
            ],
            [
             1,
             "#276419"
            ]
           ],
           "sequential": [
            [
             0,
             "#0d0887"
            ],
            [
             0.1111111111111111,
             "#46039f"
            ],
            [
             0.2222222222222222,
             "#7201a8"
            ],
            [
             0.3333333333333333,
             "#9c179e"
            ],
            [
             0.4444444444444444,
             "#bd3786"
            ],
            [
             0.5555555555555556,
             "#d8576b"
            ],
            [
             0.6666666666666666,
             "#ed7953"
            ],
            [
             0.7777777777777778,
             "#fb9f3a"
            ],
            [
             0.8888888888888888,
             "#fdca26"
            ],
            [
             1,
             "#f0f921"
            ]
           ],
           "sequentialminus": [
            [
             0,
             "#0d0887"
            ],
            [
             0.1111111111111111,
             "#46039f"
            ],
            [
             0.2222222222222222,
             "#7201a8"
            ],
            [
             0.3333333333333333,
             "#9c179e"
            ],
            [
             0.4444444444444444,
             "#bd3786"
            ],
            [
             0.5555555555555556,
             "#d8576b"
            ],
            [
             0.6666666666666666,
             "#ed7953"
            ],
            [
             0.7777777777777778,
             "#fb9f3a"
            ],
            [
             0.8888888888888888,
             "#fdca26"
            ],
            [
             1,
             "#f0f921"
            ]
           ]
          },
          "colorway": [
           "#636efa",
           "#EF553B",
           "#00cc96",
           "#ab63fa",
           "#FFA15A",
           "#19d3f3",
           "#FF6692",
           "#B6E880",
           "#FF97FF",
           "#FECB52"
          ],
          "font": {
           "color": "#2a3f5f"
          },
          "geo": {
           "bgcolor": "white",
           "lakecolor": "white",
           "landcolor": "white",
           "showlakes": true,
           "showland": true,
           "subunitcolor": "#C8D4E3"
          },
          "hoverlabel": {
           "align": "left"
          },
          "hovermode": "closest",
          "mapbox": {
           "style": "light"
          },
          "paper_bgcolor": "white",
          "plot_bgcolor": "white",
          "polar": {
           "angularaxis": {
            "gridcolor": "#EBF0F8",
            "linecolor": "#EBF0F8",
            "ticks": ""
           },
           "bgcolor": "white",
           "radialaxis": {
            "gridcolor": "#EBF0F8",
            "linecolor": "#EBF0F8",
            "ticks": ""
           }
          },
          "scene": {
           "xaxis": {
            "backgroundcolor": "white",
            "gridcolor": "#DFE8F3",
            "gridwidth": 2,
            "linecolor": "#EBF0F8",
            "showbackground": true,
            "ticks": "",
            "zerolinecolor": "#EBF0F8"
           },
           "yaxis": {
            "backgroundcolor": "white",
            "gridcolor": "#DFE8F3",
            "gridwidth": 2,
            "linecolor": "#EBF0F8",
            "showbackground": true,
            "ticks": "",
            "zerolinecolor": "#EBF0F8"
           },
           "zaxis": {
            "backgroundcolor": "white",
            "gridcolor": "#DFE8F3",
            "gridwidth": 2,
            "linecolor": "#EBF0F8",
            "showbackground": true,
            "ticks": "",
            "zerolinecolor": "#EBF0F8"
           }
          },
          "shapedefaults": {
           "line": {
            "color": "#2a3f5f"
           }
          },
          "ternary": {
           "aaxis": {
            "gridcolor": "#DFE8F3",
            "linecolor": "#A2B1C6",
            "ticks": ""
           },
           "baxis": {
            "gridcolor": "#DFE8F3",
            "linecolor": "#A2B1C6",
            "ticks": ""
           },
           "bgcolor": "white",
           "caxis": {
            "gridcolor": "#DFE8F3",
            "linecolor": "#A2B1C6",
            "ticks": ""
           }
          },
          "title": {
           "x": 0.05
          },
          "xaxis": {
           "automargin": true,
           "gridcolor": "#EBF0F8",
           "linecolor": "#EBF0F8",
           "ticks": "",
           "title": {
            "standoff": 15
           },
           "zerolinecolor": "#EBF0F8",
           "zerolinewidth": 2
          },
          "yaxis": {
           "automargin": true,
           "gridcolor": "#EBF0F8",
           "linecolor": "#EBF0F8",
           "ticks": "",
           "title": {
            "standoff": 15
           },
           "zerolinecolor": "#EBF0F8",
           "zerolinewidth": 2
          }
         }
        },
        "title": {
         "text": "Regional Sales Trends"
        },
        "xaxis": {
         "anchor": "y",
         "domain": [
          0,
          1
         ],
         "title": {
          "text": "OrderDate"
         }
        },
        "yaxis": {
         "anchor": "x",
         "domain": [
          0,
          1
         ],
         "title": {
          "text": "Sales"
         }
        }
       }
      }
     },
     "metadata": {},
     "output_type": "display_data"
    }
   ],
   "source": [
    "# 📈 Line Plot Examples\n",
    "\n",
    "# Total Sales Over Time\n",
    "line_df = df.groupby(\"OrderDate\")[\"Sales\"].sum().reset_index()\n",
    "fig1 = line_plot(line_df, x=\"OrderDate\", y=\"Sales\", title=\"Total Sales Over Time\")\n",
    "fig1.show()\n",
    "\n",
    "# Regional Sales Trends\n",
    "region_df = df.groupby([\"OrderDate\", \"Region\"])[\"Sales\"].sum().reset_index()\n",
    "fig2 = line_plot(region_df, x=\"OrderDate\", y=\"Sales\", color=\"Region\", title=\"Regional Sales Trends\")\n",
    "fig2.show()"
   ]
  },
  {
   "cell_type": "code",
   "execution_count": 4,
   "id": "a1bf1c7d",
   "metadata": {},
   "outputs": [
    {
     "data": {
      "application/vnd.plotly.v1+json": {
       "config": {
        "plotlyServerURL": "https://plot.ly"
       },
       "data": [
        {
         "hovertemplate": "<b>%{hovertext}</b><br><br>Sales=%{x}<br>Profit=%{y}<extra></extra>",
         "hovertext": [
          "Accessories",
          "Binders",
          "Bookcases",
          "Chairs",
          "Laptops",
          "Paper",
          "Pens",
          "Phones",
          "Tables"
         ],
         "legendgroup": "",
         "marker": {
          "color": "#636efa",
          "symbol": "circle"
         },
         "mode": "markers",
         "name": "",
         "orientation": "v",
         "showlegend": false,
         "type": "scatter",
         "x": {
          "bdata": "CtejcAGD8EBcj8L14FboQBSuR+Gy3OhA4XoUrhe06EDsUbgelVXxQM3MzMy0GepAXI/C9dD77EDsUbgeDVfsQGZmZmam4OtA",
          "dtype": "f8"
         },
         "xaxis": "x",
         "y": {
          "bdata": "16NwPequyEBmZmZm5qzDQD0K16PwZ8dAcT0K1wPfw0AAAAAAQIbLQD4K16NwtMVAcT0K18OBxkAVrkfhelDFQMP1KFyPIcVA",
          "dtype": "f8"
         },
         "yaxis": "y"
        }
       ],
       "layout": {
        "legend": {
         "title": {
          "text": ""
         },
         "tracegroupgap": 0
        },
        "template": {
         "data": {
          "bar": [
           {
            "error_x": {
             "color": "#2a3f5f"
            },
            "error_y": {
             "color": "#2a3f5f"
            },
            "marker": {
             "line": {
              "color": "white",
              "width": 0.5
             },
             "pattern": {
              "fillmode": "overlay",
              "size": 10,
              "solidity": 0.2
             }
            },
            "type": "bar"
           }
          ],
          "barpolar": [
           {
            "marker": {
             "line": {
              "color": "white",
              "width": 0.5
             },
             "pattern": {
              "fillmode": "overlay",
              "size": 10,
              "solidity": 0.2
             }
            },
            "type": "barpolar"
           }
          ],
          "carpet": [
           {
            "aaxis": {
             "endlinecolor": "#2a3f5f",
             "gridcolor": "#C8D4E3",
             "linecolor": "#C8D4E3",
             "minorgridcolor": "#C8D4E3",
             "startlinecolor": "#2a3f5f"
            },
            "baxis": {
             "endlinecolor": "#2a3f5f",
             "gridcolor": "#C8D4E3",
             "linecolor": "#C8D4E3",
             "minorgridcolor": "#C8D4E3",
             "startlinecolor": "#2a3f5f"
            },
            "type": "carpet"
           }
          ],
          "choropleth": [
           {
            "colorbar": {
             "outlinewidth": 0,
             "ticks": ""
            },
            "type": "choropleth"
           }
          ],
          "contour": [
           {
            "colorbar": {
             "outlinewidth": 0,
             "ticks": ""
            },
            "colorscale": [
             [
              0,
              "#0d0887"
             ],
             [
              0.1111111111111111,
              "#46039f"
             ],
             [
              0.2222222222222222,
              "#7201a8"
             ],
             [
              0.3333333333333333,
              "#9c179e"
             ],
             [
              0.4444444444444444,
              "#bd3786"
             ],
             [
              0.5555555555555556,
              "#d8576b"
             ],
             [
              0.6666666666666666,
              "#ed7953"
             ],
             [
              0.7777777777777778,
              "#fb9f3a"
             ],
             [
              0.8888888888888888,
              "#fdca26"
             ],
             [
              1,
              "#f0f921"
             ]
            ],
            "type": "contour"
           }
          ],
          "contourcarpet": [
           {
            "colorbar": {
             "outlinewidth": 0,
             "ticks": ""
            },
            "type": "contourcarpet"
           }
          ],
          "heatmap": [
           {
            "colorbar": {
             "outlinewidth": 0,
             "ticks": ""
            },
            "colorscale": [
             [
              0,
              "#0d0887"
             ],
             [
              0.1111111111111111,
              "#46039f"
             ],
             [
              0.2222222222222222,
              "#7201a8"
             ],
             [
              0.3333333333333333,
              "#9c179e"
             ],
             [
              0.4444444444444444,
              "#bd3786"
             ],
             [
              0.5555555555555556,
              "#d8576b"
             ],
             [
              0.6666666666666666,
              "#ed7953"
             ],
             [
              0.7777777777777778,
              "#fb9f3a"
             ],
             [
              0.8888888888888888,
              "#fdca26"
             ],
             [
              1,
              "#f0f921"
             ]
            ],
            "type": "heatmap"
           }
          ],
          "histogram": [
           {
            "marker": {
             "pattern": {
              "fillmode": "overlay",
              "size": 10,
              "solidity": 0.2
             }
            },
            "type": "histogram"
           }
          ],
          "histogram2d": [
           {
            "colorbar": {
             "outlinewidth": 0,
             "ticks": ""
            },
            "colorscale": [
             [
              0,
              "#0d0887"
             ],
             [
              0.1111111111111111,
              "#46039f"
             ],
             [
              0.2222222222222222,
              "#7201a8"
             ],
             [
              0.3333333333333333,
              "#9c179e"
             ],
             [
              0.4444444444444444,
              "#bd3786"
             ],
             [
              0.5555555555555556,
              "#d8576b"
             ],
             [
              0.6666666666666666,
              "#ed7953"
             ],
             [
              0.7777777777777778,
              "#fb9f3a"
             ],
             [
              0.8888888888888888,
              "#fdca26"
             ],
             [
              1,
              "#f0f921"
             ]
            ],
            "type": "histogram2d"
           }
          ],
          "histogram2dcontour": [
           {
            "colorbar": {
             "outlinewidth": 0,
             "ticks": ""
            },
            "colorscale": [
             [
              0,
              "#0d0887"
             ],
             [
              0.1111111111111111,
              "#46039f"
             ],
             [
              0.2222222222222222,
              "#7201a8"
             ],
             [
              0.3333333333333333,
              "#9c179e"
             ],
             [
              0.4444444444444444,
              "#bd3786"
             ],
             [
              0.5555555555555556,
              "#d8576b"
             ],
             [
              0.6666666666666666,
              "#ed7953"
             ],
             [
              0.7777777777777778,
              "#fb9f3a"
             ],
             [
              0.8888888888888888,
              "#fdca26"
             ],
             [
              1,
              "#f0f921"
             ]
            ],
            "type": "histogram2dcontour"
           }
          ],
          "mesh3d": [
           {
            "colorbar": {
             "outlinewidth": 0,
             "ticks": ""
            },
            "type": "mesh3d"
           }
          ],
          "parcoords": [
           {
            "line": {
             "colorbar": {
              "outlinewidth": 0,
              "ticks": ""
             }
            },
            "type": "parcoords"
           }
          ],
          "pie": [
           {
            "automargin": true,
            "type": "pie"
           }
          ],
          "scatter": [
           {
            "fillpattern": {
             "fillmode": "overlay",
             "size": 10,
             "solidity": 0.2
            },
            "type": "scatter"
           }
          ],
          "scatter3d": [
           {
            "line": {
             "colorbar": {
              "outlinewidth": 0,
              "ticks": ""
             }
            },
            "marker": {
             "colorbar": {
              "outlinewidth": 0,
              "ticks": ""
             }
            },
            "type": "scatter3d"
           }
          ],
          "scattercarpet": [
           {
            "marker": {
             "colorbar": {
              "outlinewidth": 0,
              "ticks": ""
             }
            },
            "type": "scattercarpet"
           }
          ],
          "scattergeo": [
           {
            "marker": {
             "colorbar": {
              "outlinewidth": 0,
              "ticks": ""
             }
            },
            "type": "scattergeo"
           }
          ],
          "scattergl": [
           {
            "marker": {
             "colorbar": {
              "outlinewidth": 0,
              "ticks": ""
             }
            },
            "type": "scattergl"
           }
          ],
          "scattermap": [
           {
            "marker": {
             "colorbar": {
              "outlinewidth": 0,
              "ticks": ""
             }
            },
            "type": "scattermap"
           }
          ],
          "scattermapbox": [
           {
            "marker": {
             "colorbar": {
              "outlinewidth": 0,
              "ticks": ""
             }
            },
            "type": "scattermapbox"
           }
          ],
          "scatterpolar": [
           {
            "marker": {
             "colorbar": {
              "outlinewidth": 0,
              "ticks": ""
             }
            },
            "type": "scatterpolar"
           }
          ],
          "scatterpolargl": [
           {
            "marker": {
             "colorbar": {
              "outlinewidth": 0,
              "ticks": ""
             }
            },
            "type": "scatterpolargl"
           }
          ],
          "scatterternary": [
           {
            "marker": {
             "colorbar": {
              "outlinewidth": 0,
              "ticks": ""
             }
            },
            "type": "scatterternary"
           }
          ],
          "surface": [
           {
            "colorbar": {
             "outlinewidth": 0,
             "ticks": ""
            },
            "colorscale": [
             [
              0,
              "#0d0887"
             ],
             [
              0.1111111111111111,
              "#46039f"
             ],
             [
              0.2222222222222222,
              "#7201a8"
             ],
             [
              0.3333333333333333,
              "#9c179e"
             ],
             [
              0.4444444444444444,
              "#bd3786"
             ],
             [
              0.5555555555555556,
              "#d8576b"
             ],
             [
              0.6666666666666666,
              "#ed7953"
             ],
             [
              0.7777777777777778,
              "#fb9f3a"
             ],
             [
              0.8888888888888888,
              "#fdca26"
             ],
             [
              1,
              "#f0f921"
             ]
            ],
            "type": "surface"
           }
          ],
          "table": [
           {
            "cells": {
             "fill": {
              "color": "#EBF0F8"
             },
             "line": {
              "color": "white"
             }
            },
            "header": {
             "fill": {
              "color": "#C8D4E3"
             },
             "line": {
              "color": "white"
             }
            },
            "type": "table"
           }
          ]
         },
         "layout": {
          "annotationdefaults": {
           "arrowcolor": "#2a3f5f",
           "arrowhead": 0,
           "arrowwidth": 1
          },
          "autotypenumbers": "strict",
          "coloraxis": {
           "colorbar": {
            "outlinewidth": 0,
            "ticks": ""
           }
          },
          "colorscale": {
           "diverging": [
            [
             0,
             "#8e0152"
            ],
            [
             0.1,
             "#c51b7d"
            ],
            [
             0.2,
             "#de77ae"
            ],
            [
             0.3,
             "#f1b6da"
            ],
            [
             0.4,
             "#fde0ef"
            ],
            [
             0.5,
             "#f7f7f7"
            ],
            [
             0.6,
             "#e6f5d0"
            ],
            [
             0.7,
             "#b8e186"
            ],
            [
             0.8,
             "#7fbc41"
            ],
            [
             0.9,
             "#4d9221"
            ],
            [
             1,
             "#276419"
            ]
           ],
           "sequential": [
            [
             0,
             "#0d0887"
            ],
            [
             0.1111111111111111,
             "#46039f"
            ],
            [
             0.2222222222222222,
             "#7201a8"
            ],
            [
             0.3333333333333333,
             "#9c179e"
            ],
            [
             0.4444444444444444,
             "#bd3786"
            ],
            [
             0.5555555555555556,
             "#d8576b"
            ],
            [
             0.6666666666666666,
             "#ed7953"
            ],
            [
             0.7777777777777778,
             "#fb9f3a"
            ],
            [
             0.8888888888888888,
             "#fdca26"
            ],
            [
             1,
             "#f0f921"
            ]
           ],
           "sequentialminus": [
            [
             0,
             "#0d0887"
            ],
            [
             0.1111111111111111,
             "#46039f"
            ],
            [
             0.2222222222222222,
             "#7201a8"
            ],
            [
             0.3333333333333333,
             "#9c179e"
            ],
            [
             0.4444444444444444,
             "#bd3786"
            ],
            [
             0.5555555555555556,
             "#d8576b"
            ],
            [
             0.6666666666666666,
             "#ed7953"
            ],
            [
             0.7777777777777778,
             "#fb9f3a"
            ],
            [
             0.8888888888888888,
             "#fdca26"
            ],
            [
             1,
             "#f0f921"
            ]
           ]
          },
          "colorway": [
           "#636efa",
           "#EF553B",
           "#00cc96",
           "#ab63fa",
           "#FFA15A",
           "#19d3f3",
           "#FF6692",
           "#B6E880",
           "#FF97FF",
           "#FECB52"
          ],
          "font": {
           "color": "#2a3f5f"
          },
          "geo": {
           "bgcolor": "white",
           "lakecolor": "white",
           "landcolor": "white",
           "showlakes": true,
           "showland": true,
           "subunitcolor": "#C8D4E3"
          },
          "hoverlabel": {
           "align": "left"
          },
          "hovermode": "closest",
          "mapbox": {
           "style": "light"
          },
          "paper_bgcolor": "white",
          "plot_bgcolor": "white",
          "polar": {
           "angularaxis": {
            "gridcolor": "#EBF0F8",
            "linecolor": "#EBF0F8",
            "ticks": ""
           },
           "bgcolor": "white",
           "radialaxis": {
            "gridcolor": "#EBF0F8",
            "linecolor": "#EBF0F8",
            "ticks": ""
           }
          },
          "scene": {
           "xaxis": {
            "backgroundcolor": "white",
            "gridcolor": "#DFE8F3",
            "gridwidth": 2,
            "linecolor": "#EBF0F8",
            "showbackground": true,
            "ticks": "",
            "zerolinecolor": "#EBF0F8"
           },
           "yaxis": {
            "backgroundcolor": "white",
            "gridcolor": "#DFE8F3",
            "gridwidth": 2,
            "linecolor": "#EBF0F8",
            "showbackground": true,
            "ticks": "",
            "zerolinecolor": "#EBF0F8"
           },
           "zaxis": {
            "backgroundcolor": "white",
            "gridcolor": "#DFE8F3",
            "gridwidth": 2,
            "linecolor": "#EBF0F8",
            "showbackground": true,
            "ticks": "",
            "zerolinecolor": "#EBF0F8"
           }
          },
          "shapedefaults": {
           "line": {
            "color": "#2a3f5f"
           }
          },
          "ternary": {
           "aaxis": {
            "gridcolor": "#DFE8F3",
            "linecolor": "#A2B1C6",
            "ticks": ""
           },
           "baxis": {
            "gridcolor": "#DFE8F3",
            "linecolor": "#A2B1C6",
            "ticks": ""
           },
           "bgcolor": "white",
           "caxis": {
            "gridcolor": "#DFE8F3",
            "linecolor": "#A2B1C6",
            "ticks": ""
           }
          },
          "title": {
           "x": 0.05
          },
          "xaxis": {
           "automargin": true,
           "gridcolor": "#EBF0F8",
           "linecolor": "#EBF0F8",
           "ticks": "",
           "title": {
            "standoff": 15
           },
           "zerolinecolor": "#EBF0F8",
           "zerolinewidth": 2
          },
          "yaxis": {
           "automargin": true,
           "gridcolor": "#EBF0F8",
           "linecolor": "#EBF0F8",
           "ticks": "",
           "title": {
            "standoff": 15
           },
           "zerolinecolor": "#EBF0F8",
           "zerolinewidth": 2
          }
         }
        },
        "title": {
         "text": "Profit vs Sales by SubCategory"
        },
        "xaxis": {
         "anchor": "y",
         "domain": [
          0,
          1
         ],
         "title": {
          "text": "Sales"
         }
        },
        "yaxis": {
         "anchor": "x",
         "domain": [
          0,
          1
         ],
         "title": {
          "text": "Profit"
         }
        }
       }
      }
     },
     "metadata": {},
     "output_type": "display_data"
    }
   ],
   "source": [
    "# 📌 Scatter Plot Examples\n",
    "\n",
    "agg_df = df.groupby(\"SubCategory\")[[\"Sales\", \"Profit\"]].sum().reset_index()\n",
    "fig3 = scatter_plot(\n",
    "    agg_df,\n",
    "    x=\"Sales\",\n",
    "    y=\"Profit\",\n",
    "    hover_name=\"SubCategory\",\n",
    "    title=\"Profit vs Sales by SubCategory\"\n",
    ")\n",
    "fig3.show()"
   ]
  },
  {
   "cell_type": "code",
   "execution_count": 5,
   "id": "4752270c",
   "metadata": {},
   "outputs": [
    {
     "data": {
      "application/vnd.plotly.v1+json": {
       "config": {
        "plotlyServerURL": "https://plot.ly"
       },
       "data": [
        {
         "hovertemplate": "SubCategory=Accessories<br>Sales=%{x}<br>Profit=%{y}<br>Orders=%{marker.size}<extra></extra>",
         "legendgroup": "Accessories",
         "marker": {
          "color": "#636efa",
          "size": {
           "bdata": "ew==",
           "dtype": "i1"
          },
          "sizemode": "area",
          "sizeref": 0.335,
          "symbol": "circle"
         },
         "mode": "markers",
         "name": "Accessories",
         "orientation": "v",
         "showlegend": true,
         "type": "scatter",
         "x": {
          "bdata": "CtejcAGD8EA=",
          "dtype": "f8"
         },
         "xaxis": "x",
         "y": {
          "bdata": "16NwPequyEA=",
          "dtype": "f8"
         },
         "yaxis": "y"
        },
        {
         "hovertemplate": "SubCategory=Binders<br>Sales=%{x}<br>Profit=%{y}<br>Orders=%{marker.size}<extra></extra>",
         "legendgroup": "Binders",
         "marker": {
          "color": "#EF553B",
          "size": {
           "bdata": "Yg==",
           "dtype": "i1"
          },
          "sizemode": "area",
          "sizeref": 0.335,
          "symbol": "circle"
         },
         "mode": "markers",
         "name": "Binders",
         "orientation": "v",
         "showlegend": true,
         "type": "scatter",
         "x": {
          "bdata": "XI/C9eBW6EA=",
          "dtype": "f8"
         },
         "xaxis": "x",
         "y": {
          "bdata": "ZmZmZuasw0A=",
          "dtype": "f8"
         },
         "yaxis": "y"
        },
        {
         "hovertemplate": "SubCategory=Bookcases<br>Sales=%{x}<br>Profit=%{y}<br>Orders=%{marker.size}<extra></extra>",
         "legendgroup": "Bookcases",
         "marker": {
          "color": "#00cc96",
          "size": {
           "bdata": "aw==",
           "dtype": "i1"
          },
          "sizemode": "area",
          "sizeref": 0.335,
          "symbol": "circle"
         },
         "mode": "markers",
         "name": "Bookcases",
         "orientation": "v",
         "showlegend": true,
         "type": "scatter",
         "x": {
          "bdata": "FK5H4bLc6EA=",
          "dtype": "f8"
         },
         "xaxis": "x",
         "y": {
          "bdata": "PQrXo/Bnx0A=",
          "dtype": "f8"
         },
         "yaxis": "y"
        },
        {
         "hovertemplate": "SubCategory=Chairs<br>Sales=%{x}<br>Profit=%{y}<br>Orders=%{marker.size}<extra></extra>",
         "legendgroup": "Chairs",
         "marker": {
          "color": "#ab63fa",
          "size": {
           "bdata": "YA==",
           "dtype": "i1"
          },
          "sizemode": "area",
          "sizeref": 0.335,
          "symbol": "circle"
         },
         "mode": "markers",
         "name": "Chairs",
         "orientation": "v",
         "showlegend": true,
         "type": "scatter",
         "x": {
          "bdata": "4XoUrhe06EA=",
          "dtype": "f8"
         },
         "xaxis": "x",
         "y": {
          "bdata": "cT0K1wPfw0A=",
          "dtype": "f8"
         },
         "yaxis": "y"
        },
        {
         "hovertemplate": "SubCategory=Laptops<br>Sales=%{x}<br>Profit=%{y}<br>Orders=%{marker.size}<extra></extra>",
         "legendgroup": "Laptops",
         "marker": {
          "color": "#FFA15A",
          "size": {
           "bdata": "hgA=",
           "dtype": "i2"
          },
          "sizemode": "area",
          "sizeref": 0.335,
          "symbol": "circle"
         },
         "mode": "markers",
         "name": "Laptops",
         "orientation": "v",
         "showlegend": true,
         "type": "scatter",
         "x": {
          "bdata": "7FG4HpVV8UA=",
          "dtype": "f8"
         },
         "xaxis": "x",
         "y": {
          "bdata": "AAAAAECGy0A=",
          "dtype": "f8"
         },
         "yaxis": "y"
        },
        {
         "hovertemplate": "SubCategory=Paper<br>Sales=%{x}<br>Profit=%{y}<br>Orders=%{marker.size}<extra></extra>",
         "legendgroup": "Paper",
         "marker": {
          "color": "#19d3f3",
          "size": {
           "bdata": "bA==",
           "dtype": "i1"
          },
          "sizemode": "area",
          "sizeref": 0.335,
          "symbol": "circle"
         },
         "mode": "markers",
         "name": "Paper",
         "orientation": "v",
         "showlegend": true,
         "type": "scatter",
         "x": {
          "bdata": "zczMzLQZ6kA=",
          "dtype": "f8"
         },
         "xaxis": "x",
         "y": {
          "bdata": "PgrXo3C0xUA=",
          "dtype": "f8"
         },
         "yaxis": "y"
        },
        {
         "hovertemplate": "SubCategory=Pens<br>Sales=%{x}<br>Profit=%{y}<br>Orders=%{marker.size}<extra></extra>",
         "legendgroup": "Pens",
         "marker": {
          "color": "#FF6692",
          "size": {
           "bdata": "bw==",
           "dtype": "i1"
          },
          "sizemode": "area",
          "sizeref": 0.335,
          "symbol": "circle"
         },
         "mode": "markers",
         "name": "Pens",
         "orientation": "v",
         "showlegend": true,
         "type": "scatter",
         "x": {
          "bdata": "XI/C9dD77EA=",
          "dtype": "f8"
         },
         "xaxis": "x",
         "y": {
          "bdata": "cT0K18OBxkA=",
          "dtype": "f8"
         },
         "yaxis": "y"
        },
        {
         "hovertemplate": "SubCategory=Phones<br>Sales=%{x}<br>Profit=%{y}<br>Orders=%{marker.size}<extra></extra>",
         "legendgroup": "Phones",
         "marker": {
          "color": "#B6E880",
          "size": {
           "bdata": "cg==",
           "dtype": "i1"
          },
          "sizemode": "area",
          "sizeref": 0.335,
          "symbol": "circle"
         },
         "mode": "markers",
         "name": "Phones",
         "orientation": "v",
         "showlegend": true,
         "type": "scatter",
         "x": {
          "bdata": "7FG4Hg1X7EA=",
          "dtype": "f8"
         },
         "xaxis": "x",
         "y": {
          "bdata": "Fa5H4XpQxUA=",
          "dtype": "f8"
         },
         "yaxis": "y"
        },
        {
         "hovertemplate": "SubCategory=Tables<br>Sales=%{x}<br>Profit=%{y}<br>Orders=%{marker.size}<extra></extra>",
         "legendgroup": "Tables",
         "marker": {
          "color": "#FF97FF",
          "size": {
           "bdata": "bQ==",
           "dtype": "i1"
          },
          "sizemode": "area",
          "sizeref": 0.335,
          "symbol": "circle"
         },
         "mode": "markers",
         "name": "Tables",
         "orientation": "v",
         "showlegend": true,
         "type": "scatter",
         "x": {
          "bdata": "ZmZmZqbg60A=",
          "dtype": "f8"
         },
         "xaxis": "x",
         "y": {
          "bdata": "w/UoXI8hxUA=",
          "dtype": "f8"
         },
         "yaxis": "y"
        }
       ],
       "layout": {
        "legend": {
         "itemsizing": "constant",
         "title": {
          "text": "SubCategory"
         },
         "tracegroupgap": 0
        },
        "template": {
         "data": {
          "bar": [
           {
            "error_x": {
             "color": "#2a3f5f"
            },
            "error_y": {
             "color": "#2a3f5f"
            },
            "marker": {
             "line": {
              "color": "white",
              "width": 0.5
             },
             "pattern": {
              "fillmode": "overlay",
              "size": 10,
              "solidity": 0.2
             }
            },
            "type": "bar"
           }
          ],
          "barpolar": [
           {
            "marker": {
             "line": {
              "color": "white",
              "width": 0.5
             },
             "pattern": {
              "fillmode": "overlay",
              "size": 10,
              "solidity": 0.2
             }
            },
            "type": "barpolar"
           }
          ],
          "carpet": [
           {
            "aaxis": {
             "endlinecolor": "#2a3f5f",
             "gridcolor": "#C8D4E3",
             "linecolor": "#C8D4E3",
             "minorgridcolor": "#C8D4E3",
             "startlinecolor": "#2a3f5f"
            },
            "baxis": {
             "endlinecolor": "#2a3f5f",
             "gridcolor": "#C8D4E3",
             "linecolor": "#C8D4E3",
             "minorgridcolor": "#C8D4E3",
             "startlinecolor": "#2a3f5f"
            },
            "type": "carpet"
           }
          ],
          "choropleth": [
           {
            "colorbar": {
             "outlinewidth": 0,
             "ticks": ""
            },
            "type": "choropleth"
           }
          ],
          "contour": [
           {
            "colorbar": {
             "outlinewidth": 0,
             "ticks": ""
            },
            "colorscale": [
             [
              0,
              "#0d0887"
             ],
             [
              0.1111111111111111,
              "#46039f"
             ],
             [
              0.2222222222222222,
              "#7201a8"
             ],
             [
              0.3333333333333333,
              "#9c179e"
             ],
             [
              0.4444444444444444,
              "#bd3786"
             ],
             [
              0.5555555555555556,
              "#d8576b"
             ],
             [
              0.6666666666666666,
              "#ed7953"
             ],
             [
              0.7777777777777778,
              "#fb9f3a"
             ],
             [
              0.8888888888888888,
              "#fdca26"
             ],
             [
              1,
              "#f0f921"
             ]
            ],
            "type": "contour"
           }
          ],
          "contourcarpet": [
           {
            "colorbar": {
             "outlinewidth": 0,
             "ticks": ""
            },
            "type": "contourcarpet"
           }
          ],
          "heatmap": [
           {
            "colorbar": {
             "outlinewidth": 0,
             "ticks": ""
            },
            "colorscale": [
             [
              0,
              "#0d0887"
             ],
             [
              0.1111111111111111,
              "#46039f"
             ],
             [
              0.2222222222222222,
              "#7201a8"
             ],
             [
              0.3333333333333333,
              "#9c179e"
             ],
             [
              0.4444444444444444,
              "#bd3786"
             ],
             [
              0.5555555555555556,
              "#d8576b"
             ],
             [
              0.6666666666666666,
              "#ed7953"
             ],
             [
              0.7777777777777778,
              "#fb9f3a"
             ],
             [
              0.8888888888888888,
              "#fdca26"
             ],
             [
              1,
              "#f0f921"
             ]
            ],
            "type": "heatmap"
           }
          ],
          "histogram": [
           {
            "marker": {
             "pattern": {
              "fillmode": "overlay",
              "size": 10,
              "solidity": 0.2
             }
            },
            "type": "histogram"
           }
          ],
          "histogram2d": [
           {
            "colorbar": {
             "outlinewidth": 0,
             "ticks": ""
            },
            "colorscale": [
             [
              0,
              "#0d0887"
             ],
             [
              0.1111111111111111,
              "#46039f"
             ],
             [
              0.2222222222222222,
              "#7201a8"
             ],
             [
              0.3333333333333333,
              "#9c179e"
             ],
             [
              0.4444444444444444,
              "#bd3786"
             ],
             [
              0.5555555555555556,
              "#d8576b"
             ],
             [
              0.6666666666666666,
              "#ed7953"
             ],
             [
              0.7777777777777778,
              "#fb9f3a"
             ],
             [
              0.8888888888888888,
              "#fdca26"
             ],
             [
              1,
              "#f0f921"
             ]
            ],
            "type": "histogram2d"
           }
          ],
          "histogram2dcontour": [
           {
            "colorbar": {
             "outlinewidth": 0,
             "ticks": ""
            },
            "colorscale": [
             [
              0,
              "#0d0887"
             ],
             [
              0.1111111111111111,
              "#46039f"
             ],
             [
              0.2222222222222222,
              "#7201a8"
             ],
             [
              0.3333333333333333,
              "#9c179e"
             ],
             [
              0.4444444444444444,
              "#bd3786"
             ],
             [
              0.5555555555555556,
              "#d8576b"
             ],
             [
              0.6666666666666666,
              "#ed7953"
             ],
             [
              0.7777777777777778,
              "#fb9f3a"
             ],
             [
              0.8888888888888888,
              "#fdca26"
             ],
             [
              1,
              "#f0f921"
             ]
            ],
            "type": "histogram2dcontour"
           }
          ],
          "mesh3d": [
           {
            "colorbar": {
             "outlinewidth": 0,
             "ticks": ""
            },
            "type": "mesh3d"
           }
          ],
          "parcoords": [
           {
            "line": {
             "colorbar": {
              "outlinewidth": 0,
              "ticks": ""
             }
            },
            "type": "parcoords"
           }
          ],
          "pie": [
           {
            "automargin": true,
            "type": "pie"
           }
          ],
          "scatter": [
           {
            "fillpattern": {
             "fillmode": "overlay",
             "size": 10,
             "solidity": 0.2
            },
            "type": "scatter"
           }
          ],
          "scatter3d": [
           {
            "line": {
             "colorbar": {
              "outlinewidth": 0,
              "ticks": ""
             }
            },
            "marker": {
             "colorbar": {
              "outlinewidth": 0,
              "ticks": ""
             }
            },
            "type": "scatter3d"
           }
          ],
          "scattercarpet": [
           {
            "marker": {
             "colorbar": {
              "outlinewidth": 0,
              "ticks": ""
             }
            },
            "type": "scattercarpet"
           }
          ],
          "scattergeo": [
           {
            "marker": {
             "colorbar": {
              "outlinewidth": 0,
              "ticks": ""
             }
            },
            "type": "scattergeo"
           }
          ],
          "scattergl": [
           {
            "marker": {
             "colorbar": {
              "outlinewidth": 0,
              "ticks": ""
             }
            },
            "type": "scattergl"
           }
          ],
          "scattermap": [
           {
            "marker": {
             "colorbar": {
              "outlinewidth": 0,
              "ticks": ""
             }
            },
            "type": "scattermap"
           }
          ],
          "scattermapbox": [
           {
            "marker": {
             "colorbar": {
              "outlinewidth": 0,
              "ticks": ""
             }
            },
            "type": "scattermapbox"
           }
          ],
          "scatterpolar": [
           {
            "marker": {
             "colorbar": {
              "outlinewidth": 0,
              "ticks": ""
             }
            },
            "type": "scatterpolar"
           }
          ],
          "scatterpolargl": [
           {
            "marker": {
             "colorbar": {
              "outlinewidth": 0,
              "ticks": ""
             }
            },
            "type": "scatterpolargl"
           }
          ],
          "scatterternary": [
           {
            "marker": {
             "colorbar": {
              "outlinewidth": 0,
              "ticks": ""
             }
            },
            "type": "scatterternary"
           }
          ],
          "surface": [
           {
            "colorbar": {
             "outlinewidth": 0,
             "ticks": ""
            },
            "colorscale": [
             [
              0,
              "#0d0887"
             ],
             [
              0.1111111111111111,
              "#46039f"
             ],
             [
              0.2222222222222222,
              "#7201a8"
             ],
             [
              0.3333333333333333,
              "#9c179e"
             ],
             [
              0.4444444444444444,
              "#bd3786"
             ],
             [
              0.5555555555555556,
              "#d8576b"
             ],
             [
              0.6666666666666666,
              "#ed7953"
             ],
             [
              0.7777777777777778,
              "#fb9f3a"
             ],
             [
              0.8888888888888888,
              "#fdca26"
             ],
             [
              1,
              "#f0f921"
             ]
            ],
            "type": "surface"
           }
          ],
          "table": [
           {
            "cells": {
             "fill": {
              "color": "#EBF0F8"
             },
             "line": {
              "color": "white"
             }
            },
            "header": {
             "fill": {
              "color": "#C8D4E3"
             },
             "line": {
              "color": "white"
             }
            },
            "type": "table"
           }
          ]
         },
         "layout": {
          "annotationdefaults": {
           "arrowcolor": "#2a3f5f",
           "arrowhead": 0,
           "arrowwidth": 1
          },
          "autotypenumbers": "strict",
          "coloraxis": {
           "colorbar": {
            "outlinewidth": 0,
            "ticks": ""
           }
          },
          "colorscale": {
           "diverging": [
            [
             0,
             "#8e0152"
            ],
            [
             0.1,
             "#c51b7d"
            ],
            [
             0.2,
             "#de77ae"
            ],
            [
             0.3,
             "#f1b6da"
            ],
            [
             0.4,
             "#fde0ef"
            ],
            [
             0.5,
             "#f7f7f7"
            ],
            [
             0.6,
             "#e6f5d0"
            ],
            [
             0.7,
             "#b8e186"
            ],
            [
             0.8,
             "#7fbc41"
            ],
            [
             0.9,
             "#4d9221"
            ],
            [
             1,
             "#276419"
            ]
           ],
           "sequential": [
            [
             0,
             "#0d0887"
            ],
            [
             0.1111111111111111,
             "#46039f"
            ],
            [
             0.2222222222222222,
             "#7201a8"
            ],
            [
             0.3333333333333333,
             "#9c179e"
            ],
            [
             0.4444444444444444,
             "#bd3786"
            ],
            [
             0.5555555555555556,
             "#d8576b"
            ],
            [
             0.6666666666666666,
             "#ed7953"
            ],
            [
             0.7777777777777778,
             "#fb9f3a"
            ],
            [
             0.8888888888888888,
             "#fdca26"
            ],
            [
             1,
             "#f0f921"
            ]
           ],
           "sequentialminus": [
            [
             0,
             "#0d0887"
            ],
            [
             0.1111111111111111,
             "#46039f"
            ],
            [
             0.2222222222222222,
             "#7201a8"
            ],
            [
             0.3333333333333333,
             "#9c179e"
            ],
            [
             0.4444444444444444,
             "#bd3786"
            ],
            [
             0.5555555555555556,
             "#d8576b"
            ],
            [
             0.6666666666666666,
             "#ed7953"
            ],
            [
             0.7777777777777778,
             "#fb9f3a"
            ],
            [
             0.8888888888888888,
             "#fdca26"
            ],
            [
             1,
             "#f0f921"
            ]
           ]
          },
          "colorway": [
           "#636efa",
           "#EF553B",
           "#00cc96",
           "#ab63fa",
           "#FFA15A",
           "#19d3f3",
           "#FF6692",
           "#B6E880",
           "#FF97FF",
           "#FECB52"
          ],
          "font": {
           "color": "#2a3f5f"
          },
          "geo": {
           "bgcolor": "white",
           "lakecolor": "white",
           "landcolor": "white",
           "showlakes": true,
           "showland": true,
           "subunitcolor": "#C8D4E3"
          },
          "hoverlabel": {
           "align": "left"
          },
          "hovermode": "closest",
          "mapbox": {
           "style": "light"
          },
          "paper_bgcolor": "white",
          "plot_bgcolor": "white",
          "polar": {
           "angularaxis": {
            "gridcolor": "#EBF0F8",
            "linecolor": "#EBF0F8",
            "ticks": ""
           },
           "bgcolor": "white",
           "radialaxis": {
            "gridcolor": "#EBF0F8",
            "linecolor": "#EBF0F8",
            "ticks": ""
           }
          },
          "scene": {
           "xaxis": {
            "backgroundcolor": "white",
            "gridcolor": "#DFE8F3",
            "gridwidth": 2,
            "linecolor": "#EBF0F8",
            "showbackground": true,
            "ticks": "",
            "zerolinecolor": "#EBF0F8"
           },
           "yaxis": {
            "backgroundcolor": "white",
            "gridcolor": "#DFE8F3",
            "gridwidth": 2,
            "linecolor": "#EBF0F8",
            "showbackground": true,
            "ticks": "",
            "zerolinecolor": "#EBF0F8"
           },
           "zaxis": {
            "backgroundcolor": "white",
            "gridcolor": "#DFE8F3",
            "gridwidth": 2,
            "linecolor": "#EBF0F8",
            "showbackground": true,
            "ticks": "",
            "zerolinecolor": "#EBF0F8"
           }
          },
          "shapedefaults": {
           "line": {
            "color": "#2a3f5f"
           }
          },
          "ternary": {
           "aaxis": {
            "gridcolor": "#DFE8F3",
            "linecolor": "#A2B1C6",
            "ticks": ""
           },
           "baxis": {
            "gridcolor": "#DFE8F3",
            "linecolor": "#A2B1C6",
            "ticks": ""
           },
           "bgcolor": "white",
           "caxis": {
            "gridcolor": "#DFE8F3",
            "linecolor": "#A2B1C6",
            "ticks": ""
           }
          },
          "title": {
           "x": 0.05
          },
          "xaxis": {
           "automargin": true,
           "gridcolor": "#EBF0F8",
           "linecolor": "#EBF0F8",
           "ticks": "",
           "title": {
            "standoff": 15
           },
           "zerolinecolor": "#EBF0F8",
           "zerolinewidth": 2
          },
          "yaxis": {
           "automargin": true,
           "gridcolor": "#EBF0F8",
           "linecolor": "#EBF0F8",
           "ticks": "",
           "title": {
            "standoff": 15
           },
           "zerolinecolor": "#EBF0F8",
           "zerolinewidth": 2
          }
         }
        },
        "title": {
         "text": "Sales vs Profit by SubCategory with Order Volume"
        },
        "xaxis": {
         "anchor": "y",
         "domain": [
          0,
          1
         ],
         "title": {
          "text": "Sales"
         }
        },
        "yaxis": {
         "anchor": "x",
         "domain": [
          0,
          1
         ],
         "title": {
          "text": "Profit"
         }
        }
       }
      }
     },
     "metadata": {},
     "output_type": "display_data"
    }
   ],
   "source": [
    "# 🔵 Bubble Plot\n",
    "\n",
    "df_count = df.groupby(\"SubCategory\").agg({\n",
    "    \"Sales\": \"sum\",\n",
    "    \"Profit\": \"sum\",\n",
    "    \"OrderID\": \"count\"\n",
    "}).reset_index().rename(columns={\"OrderID\": \"Orders\"})\n",
    "\n",
    "fig4 = bubble_plot(\n",
    "    df_count,\n",
    "    x=\"Sales\",\n",
    "    y=\"Profit\",\n",
    "    size=\"Orders\",\n",
    "    color=\"SubCategory\",\n",
    "    title=\"Sales vs Profit by SubCategory with Order Volume\"\n",
    ")\n",
    "fig4.show()"
   ]
  },
  {
   "cell_type": "code",
   "execution_count": 6,
   "id": "107bc914",
   "metadata": {},
   "outputs": [
    {
     "data": {
      "application/vnd.plotly.v1+json": {
       "config": {
        "plotlyServerURL": "https://plot.ly"
       },
       "data": [
        {
         "hovertemplate": "Region=Central<br>OrderDate=%{x}<br>Sales=%{y}<extra></extra>",
         "legendgroup": "Central",
         "line": {
          "color": "#636efa",
          "dash": "solid"
         },
         "marker": {
          "symbol": "circle"
         },
         "mode": "lines+markers",
         "name": "Central",
         "orientation": "v",
         "showlegend": true,
         "type": "scatter",
         "x": [
          "2024-07-24T00:00:00",
          "2024-07-25T00:00:00",
          "2024-07-27T00:00:00",
          "2024-07-28T00:00:00",
          "2024-07-29T00:00:00",
          "2024-08-01T00:00:00",
          "2024-08-03T00:00:00",
          "2024-08-04T00:00:00",
          "2024-08-06T00:00:00",
          "2024-08-07T00:00:00",
          "2024-08-09T00:00:00",
          "2024-08-10T00:00:00",
          "2024-08-14T00:00:00",
          "2024-08-17T00:00:00",
          "2024-08-22T00:00:00",
          "2024-08-23T00:00:00",
          "2024-08-26T00:00:00",
          "2024-08-27T00:00:00",
          "2024-08-28T00:00:00",
          "2024-08-31T00:00:00",
          "2024-09-01T00:00:00",
          "2024-09-02T00:00:00",
          "2024-09-04T00:00:00",
          "2024-09-06T00:00:00",
          "2024-09-08T00:00:00",
          "2024-09-10T00:00:00",
          "2024-09-13T00:00:00",
          "2024-09-14T00:00:00",
          "2024-09-15T00:00:00",
          "2024-09-16T00:00:00",
          "2024-09-20T00:00:00",
          "2024-09-22T00:00:00",
          "2024-09-23T00:00:00",
          "2024-09-24T00:00:00",
          "2024-09-25T00:00:00",
          "2024-09-27T00:00:00",
          "2024-09-28T00:00:00",
          "2024-09-30T00:00:00",
          "2024-10-01T00:00:00",
          "2024-10-02T00:00:00",
          "2024-10-11T00:00:00",
          "2024-10-13T00:00:00",
          "2024-10-14T00:00:00",
          "2024-10-16T00:00:00",
          "2024-10-18T00:00:00",
          "2024-10-19T00:00:00",
          "2024-10-22T00:00:00",
          "2024-11-02T00:00:00",
          "2024-11-07T00:00:00",
          "2024-11-09T00:00:00",
          "2024-11-10T00:00:00",
          "2024-11-11T00:00:00",
          "2024-11-14T00:00:00",
          "2024-11-21T00:00:00",
          "2024-11-22T00:00:00",
          "2024-11-23T00:00:00",
          "2024-11-24T00:00:00",
          "2024-11-25T00:00:00",
          "2024-11-26T00:00:00",
          "2024-11-27T00:00:00",
          "2024-11-28T00:00:00",
          "2024-11-30T00:00:00",
          "2024-12-01T00:00:00",
          "2024-12-05T00:00:00",
          "2024-12-06T00:00:00",
          "2024-12-08T00:00:00",
          "2024-12-12T00:00:00",
          "2024-12-14T00:00:00",
          "2024-12-15T00:00:00",
          "2024-12-17T00:00:00",
          "2024-12-19T00:00:00",
          "2024-12-20T00:00:00",
          "2024-12-24T00:00:00",
          "2024-12-25T00:00:00",
          "2024-12-27T00:00:00",
          "2024-12-28T00:00:00",
          "2024-12-30T00:00:00",
          "2025-01-03T00:00:00",
          "2025-01-05T00:00:00",
          "2025-01-08T00:00:00",
          "2025-01-09T00:00:00",
          "2025-01-11T00:00:00",
          "2025-01-13T00:00:00",
          "2025-01-16T00:00:00",
          "2025-01-17T00:00:00",
          "2025-01-18T00:00:00",
          "2025-01-24T00:00:00",
          "2025-01-26T00:00:00",
          "2025-01-29T00:00:00",
          "2025-02-02T00:00:00",
          "2025-02-03T00:00:00",
          "2025-02-05T00:00:00",
          "2025-02-06T00:00:00",
          "2025-02-07T00:00:00",
          "2025-02-08T00:00:00",
          "2025-02-10T00:00:00",
          "2025-02-12T00:00:00",
          "2025-02-13T00:00:00",
          "2025-02-17T00:00:00",
          "2025-02-20T00:00:00",
          "2025-02-21T00:00:00",
          "2025-02-22T00:00:00",
          "2025-02-25T00:00:00",
          "2025-03-01T00:00:00",
          "2025-03-04T00:00:00",
          "2025-03-08T00:00:00",
          "2025-03-09T00:00:00",
          "2025-03-10T00:00:00",
          "2025-03-11T00:00:00",
          "2025-03-12T00:00:00",
          "2025-03-13T00:00:00",
          "2025-03-15T00:00:00",
          "2025-03-16T00:00:00",
          "2025-03-18T00:00:00",
          "2025-03-22T00:00:00",
          "2025-03-26T00:00:00",
          "2025-03-27T00:00:00",
          "2025-03-30T00:00:00",
          "2025-04-02T00:00:00",
          "2025-04-03T00:00:00",
          "2025-04-04T00:00:00",
          "2025-04-06T00:00:00",
          "2025-04-07T00:00:00",
          "2025-04-09T00:00:00",
          "2025-04-10T00:00:00",
          "2025-04-12T00:00:00",
          "2025-04-13T00:00:00",
          "2025-04-14T00:00:00",
          "2025-04-16T00:00:00",
          "2025-04-19T00:00:00",
          "2025-04-20T00:00:00",
          "2025-04-22T00:00:00",
          "2025-04-23T00:00:00",
          "2025-04-25T00:00:00",
          "2025-04-26T00:00:00",
          "2025-04-29T00:00:00",
          "2025-05-02T00:00:00",
          "2025-05-03T00:00:00",
          "2025-05-04T00:00:00",
          "2025-05-05T00:00:00",
          "2025-05-07T00:00:00",
          "2025-05-09T00:00:00",
          "2025-05-12T00:00:00",
          "2025-05-13T00:00:00",
          "2025-05-15T00:00:00",
          "2025-05-18T00:00:00",
          "2025-05-19T00:00:00",
          "2025-05-20T00:00:00",
          "2025-05-21T00:00:00",
          "2025-05-22T00:00:00",
          "2025-05-23T00:00:00",
          "2025-05-25T00:00:00",
          "2025-05-30T00:00:00",
          "2025-05-31T00:00:00",
          "2025-06-02T00:00:00",
          "2025-06-03T00:00:00",
          "2025-06-05T00:00:00",
          "2025-06-06T00:00:00",
          "2025-06-10T00:00:00",
          "2025-06-12T00:00:00",
          "2025-06-13T00:00:00",
          "2025-06-15T00:00:00",
          "2025-06-19T00:00:00",
          "2025-06-20T00:00:00",
          "2025-06-26T00:00:00",
          "2025-06-30T00:00:00",
          "2025-07-02T00:00:00",
          "2025-07-05T00:00:00",
          "2025-07-06T00:00:00",
          "2025-07-08T00:00:00",
          "2025-07-10T00:00:00",
          "2025-07-12T00:00:00",
          "2025-07-13T00:00:00",
          "2025-07-15T00:00:00",
          "2025-07-16T00:00:00",
          "2025-07-17T00:00:00",
          "2025-07-22T00:00:00",
          "2025-07-24T00:00:00"
         ],
         "xaxis": "x",
         "y": {
          "bdata": "CtejcD3KhkAAAAAAANaEQHE9CtejZHZAUrgehetZbECuR+F6FE50QML1KFyP4IJACtejcD0EjkDsUbgehatfQDMzMzMzo4pAPQrXo3BVekApXI/C9ZCNQIXrUbgehpFA9ihcj8Ifj0Bcj8L1KJOTQBSuR+F60oJAzczMzMyZkUCkcD0K10GAQI/C9ShcDYBAXI/C9ShMhUDNzMzMzDh8QFyPwvUogoVA9ihcj8LVg0A9CtejcGSZQMP1KFyPeIRACtejcD12gkAUrkfherxzQK5H4XoUYopACtejcD1Sg0AfhetRuN+bQPYoXI/CHWFAmpmZmZn5ZkAzMzMzM2OBQPYoXI/Cd4BAXI/C9SisVkBSuB6F6zuPQClcj8L13IdAexSuR+GtlkAAAAAAAHaGQArXo3A9wnhA7FG4HoVza0AzMzMzM6t9QLgehetRbIdAzczMzMx0Z0DD9ShcjyJ3QEjhehSupY5AXI/C9Si2lkBSuB6F6+eIQAAAAAAAyoVASOF6FK7HgEB7FK5H4TiDQFK4HoXr/XxASOF6FK5NhEDsUbgehWd2QK5H4XoUjnJAXI/C9ShVmUCkcD0K1xdzQDMzMzMzbY1Aw/UoXI8yakCF61G4HtF/QKRwPQrXqpFA7FG4HoVomkBcj8L1KKxsQAAAAAAAgHRApHA9Ctf5g0C4HoXrUTh7QD0K16Nw8YhAmpmZmZmOkkBcj8L1KOSZQKRwPQrXc45A16NwPQp3fkAfhetRuH5qQPYoXI/Cs41AehSuR+FmjUDhehSuR3V7QMP1KFyPQnxAZmZmZmYajEBmZmZmZrp4QClcj8L1dIRAKVyPwvX2ikDXo3A9CiN/QIXrUbge2XpAexSuR+FQhUB7FK5H4RyAQGZmZmZmhllA9ihcj8IHhUC4HoXrURx+QHoUrkfhWn1AFK5H4Xp0hUCPwvUoXKuHQLgehetRio5AKVyPwvWIjUCuR+F6FM5BQNejcD0KP2VAAAAAAACoeECPwvUoXPd8QEjhehSui31AmpmZmZmpikCamZmZmTF4QIXrUbgePpNAXI/C9SimiEAUrkfhegyaQHsUrkfhmoJAj8L1KFxBhEBxPQrXo1+QQHsUrkfhOo1AhetRuB7pd0CamZmZmWlgQHsUrkfhEpRAzczMzMw+jUCkcD0K14GBQFK4HoXrRX1AZmZmZmbPlUC4HoXrUSyCQAAAAAAAvIxA7FG4HoWvkED2KFyPwsuIQD4K16NwlJNApHA9Ctfth0Bcj8L1KGRsQD0K16NwaYhAwvUoXI/8lUAUrkfheuxkQClcj8L1bodAMzMzMzMve0DXo3A9CseGQM3MzMzMiHJASOF6FK7jhEAzMzMzM0OHQHE9CtejYHJAKVyPwvV0iED2KFyPwjl7QFK4HoXrAYBApHA9CtcTbUCZmZmZmSmEQPYoXI/C8YRAKVyPwvW8fECamZmZmUOGQM3MzMzMNoJA9ihcj8KlkEAAAAAAAMiCQHE9CtejY5FAUrgehesnjkDsUbgehSGEQI/C9ShcGY1AZmZmZmacjUAK16NwPQSJQClcj8L1QGxAAAAAAAAgR0AAAAAAAGaEQI/C9ShcAYpAkML1KFw2nECuR+F6FGiOQM3MzMzMHpNAj8L1KFxhjkDNzMzMzAyLQLgehetRtI1ACtejcD06XEBcj8L1KMx7QMP1KFyPwmFAUrgehetThkAUrkfhet+ZQHE9CtejKJtACtejcD0KMECuR+F6FM6FQFyPwvUoxIVAwvUoXI8Kk0A+CtejcK2bQFyPwvUoqIhApHA9CtebiEDNzMzMzB2UQJqZmZmZWWlAPgrXo3C3j0AfhetRuByOQMP1KFyP+I1AUrgehevdiUAK16NwPQJ+QFK4HoXrnZBAFK5H4XpIgUA=",
          "dtype": "f8"
         },
         "yaxis": "y"
        },
        {
         "hovertemplate": "Region=West<br>OrderDate=%{x}<br>Sales=%{y}<extra></extra>",
         "legendgroup": "West",
         "line": {
          "color": "#EF553B",
          "dash": "solid"
         },
         "marker": {
          "symbol": "circle"
         },
         "mode": "lines+markers",
         "name": "West",
         "orientation": "v",
         "showlegend": true,
         "type": "scatter",
         "x": [
          "2024-07-24T00:00:00",
          "2024-07-25T00:00:00",
          "2024-07-26T00:00:00",
          "2024-07-27T00:00:00",
          "2024-07-28T00:00:00",
          "2024-07-29T00:00:00",
          "2024-07-30T00:00:00",
          "2024-07-31T00:00:00",
          "2024-08-01T00:00:00",
          "2024-08-02T00:00:00",
          "2024-08-04T00:00:00",
          "2024-08-06T00:00:00",
          "2024-08-07T00:00:00",
          "2024-08-09T00:00:00",
          "2024-08-13T00:00:00",
          "2024-08-17T00:00:00",
          "2024-08-20T00:00:00",
          "2024-08-23T00:00:00",
          "2024-08-24T00:00:00",
          "2024-08-25T00:00:00",
          "2024-08-26T00:00:00",
          "2024-08-27T00:00:00",
          "2024-08-29T00:00:00",
          "2024-08-30T00:00:00",
          "2024-08-31T00:00:00",
          "2024-09-01T00:00:00",
          "2024-09-04T00:00:00",
          "2024-09-10T00:00:00",
          "2024-09-11T00:00:00",
          "2024-09-15T00:00:00",
          "2024-09-19T00:00:00",
          "2024-09-20T00:00:00",
          "2024-09-21T00:00:00",
          "2024-09-26T00:00:00",
          "2024-09-28T00:00:00",
          "2024-09-29T00:00:00",
          "2024-09-30T00:00:00",
          "2024-10-05T00:00:00",
          "2024-10-06T00:00:00",
          "2024-10-07T00:00:00",
          "2024-10-09T00:00:00",
          "2024-10-13T00:00:00",
          "2024-10-15T00:00:00",
          "2024-10-19T00:00:00",
          "2024-10-21T00:00:00",
          "2024-10-22T00:00:00",
          "2024-10-24T00:00:00",
          "2024-10-25T00:00:00",
          "2024-10-27T00:00:00",
          "2024-10-28T00:00:00",
          "2024-10-31T00:00:00",
          "2024-11-02T00:00:00",
          "2024-11-03T00:00:00",
          "2024-11-04T00:00:00",
          "2024-11-05T00:00:00",
          "2024-11-06T00:00:00",
          "2024-11-07T00:00:00",
          "2024-11-08T00:00:00",
          "2024-11-11T00:00:00",
          "2024-11-12T00:00:00",
          "2024-11-14T00:00:00",
          "2024-11-15T00:00:00",
          "2024-11-16T00:00:00",
          "2024-11-17T00:00:00",
          "2024-11-21T00:00:00",
          "2024-11-23T00:00:00",
          "2024-11-24T00:00:00",
          "2024-11-26T00:00:00",
          "2024-11-27T00:00:00",
          "2024-11-28T00:00:00",
          "2024-12-01T00:00:00",
          "2024-12-05T00:00:00",
          "2024-12-10T00:00:00",
          "2024-12-12T00:00:00",
          "2024-12-13T00:00:00",
          "2024-12-14T00:00:00",
          "2024-12-15T00:00:00",
          "2024-12-16T00:00:00",
          "2024-12-17T00:00:00",
          "2024-12-18T00:00:00",
          "2024-12-23T00:00:00",
          "2024-12-29T00:00:00",
          "2024-12-30T00:00:00",
          "2024-12-31T00:00:00",
          "2025-01-02T00:00:00",
          "2025-01-03T00:00:00",
          "2025-01-09T00:00:00",
          "2025-01-11T00:00:00",
          "2025-01-14T00:00:00",
          "2025-01-15T00:00:00",
          "2025-01-19T00:00:00",
          "2025-01-20T00:00:00",
          "2025-01-23T00:00:00",
          "2025-01-24T00:00:00",
          "2025-01-25T00:00:00",
          "2025-01-27T00:00:00",
          "2025-01-30T00:00:00",
          "2025-02-03T00:00:00",
          "2025-02-05T00:00:00",
          "2025-02-08T00:00:00",
          "2025-02-09T00:00:00",
          "2025-02-10T00:00:00",
          "2025-02-11T00:00:00",
          "2025-02-12T00:00:00",
          "2025-02-14T00:00:00",
          "2025-02-15T00:00:00",
          "2025-02-16T00:00:00",
          "2025-02-21T00:00:00",
          "2025-02-23T00:00:00",
          "2025-02-24T00:00:00",
          "2025-02-27T00:00:00",
          "2025-02-28T00:00:00",
          "2025-03-01T00:00:00",
          "2025-03-02T00:00:00",
          "2025-03-07T00:00:00",
          "2025-03-08T00:00:00",
          "2025-03-09T00:00:00",
          "2025-03-10T00:00:00",
          "2025-03-11T00:00:00",
          "2025-03-13T00:00:00",
          "2025-03-16T00:00:00",
          "2025-03-18T00:00:00",
          "2025-03-19T00:00:00",
          "2025-03-20T00:00:00",
          "2025-03-22T00:00:00",
          "2025-03-23T00:00:00",
          "2025-03-24T00:00:00",
          "2025-03-28T00:00:00",
          "2025-03-29T00:00:00",
          "2025-03-30T00:00:00",
          "2025-03-31T00:00:00",
          "2025-04-02T00:00:00",
          "2025-04-03T00:00:00",
          "2025-04-07T00:00:00",
          "2025-04-08T00:00:00",
          "2025-04-10T00:00:00",
          "2025-04-12T00:00:00",
          "2025-04-13T00:00:00",
          "2025-04-17T00:00:00",
          "2025-04-19T00:00:00",
          "2025-04-23T00:00:00",
          "2025-04-25T00:00:00",
          "2025-04-27T00:00:00",
          "2025-04-29T00:00:00",
          "2025-04-30T00:00:00",
          "2025-05-02T00:00:00",
          "2025-05-04T00:00:00",
          "2025-05-05T00:00:00",
          "2025-05-06T00:00:00",
          "2025-05-08T00:00:00",
          "2025-05-11T00:00:00",
          "2025-05-12T00:00:00",
          "2025-05-13T00:00:00",
          "2025-05-14T00:00:00",
          "2025-05-15T00:00:00",
          "2025-05-17T00:00:00",
          "2025-05-18T00:00:00",
          "2025-05-20T00:00:00",
          "2025-05-22T00:00:00",
          "2025-05-25T00:00:00",
          "2025-05-27T00:00:00",
          "2025-05-30T00:00:00",
          "2025-05-31T00:00:00",
          "2025-06-01T00:00:00",
          "2025-06-05T00:00:00",
          "2025-06-06T00:00:00",
          "2025-06-07T00:00:00",
          "2025-06-09T00:00:00",
          "2025-06-10T00:00:00",
          "2025-06-11T00:00:00",
          "2025-06-12T00:00:00",
          "2025-06-13T00:00:00",
          "2025-06-16T00:00:00",
          "2025-06-17T00:00:00",
          "2025-06-18T00:00:00",
          "2025-06-22T00:00:00",
          "2025-06-24T00:00:00",
          "2025-06-25T00:00:00",
          "2025-06-29T00:00:00",
          "2025-07-03T00:00:00",
          "2025-07-04T00:00:00",
          "2025-07-05T00:00:00",
          "2025-07-06T00:00:00",
          "2025-07-09T00:00:00",
          "2025-07-10T00:00:00",
          "2025-07-20T00:00:00"
         ],
         "xaxis": "x",
         "y": {
          "bdata": "pHA9CtdFjEBI4XoUrldqQAAAAAAAYEhAw/UoXI/yaUBmZmZmZjOWQDMzMzMzv4dArkfhehSgi0Bcj8L1KPxOQB+F61G4fmFA16NwPQrRgEAfhetRuCiCQPYoXI/CZWRA16NwPQrLcUCamZmZmXOQQIXrUbgeC4tAZmZmZmbIi0BSuB6F6+GHQHsUrkfh1IdAPgrXo3CilEAK16NwPepjQJqZmZmZCXdAw/UoXI+CTkBSuB6F64mKQJqZmZmZ6XBA16NwPQprf0DC9Shcj+2RQClcj8L1loZAmpmZmZlJfkApXI/C9UhtQHsUrkfhVoxAH4XrUbiVoEBSuB6F6wuEQB+F61G4blNA4XoUrkcHjkApXI/C9YKWQKRwPQrXqJlArkfhehRebEC4HoXrUZKJQD0K16NwDqFAw/UoXI8iYEAUrkfhegCKQHsUrkfhUJxAcT0K16NYhkAK16NwPdyNQPYoXI/CrWtA16NwPQpriUCamZmZmZqRQEjhehSuB1VA4XoUrkdljkAzMzMzMyN4QHE9CtejcIZAcT0K16Nih0BxPQrXoxx+QHsUrkfhMIZA7FG4HoVHekDsUbgehTOUQB+F61G4HjFAcT0K16NQaEBmZmZmZtZXQArXo3A9UoZAKVyPwvV8fUBSuB6F6xuPQNejcD0KvYdA4XoUrkcZakDXo3A9CkOJQFyPwvUo9GhAcT0K16Msi0DXo3A9Cn+MQKRwPQrX04FA4XoUrkftf0AUrkfheqSLQClcj8L185lA9ihcj8JFjkCF61G4HsVuQHsUrkfh/IZASOF6FK4fn0AAAAAAAIyUQOF6FK5HcXxA4XoUrkeJhkC4HoXr0eSiQFK4HoXrPXBAmpmZmZmbjUBI4XoUrtmFQIXrUbge/XBAH4XrUbg+h0AAAAAAAMqDQAAAAAAAaoVAmpmZmZlOk0ApXI/C9Qh2QFK4HoXryWhAZmZmZmaOYUBI4XoUrpt2QArXo3A9VIRArkfhehQkgEAfhetRuKqFQKRwPQrXu4FA9ihcj8IhjkBxPQrXozBKQOtRuB6Fg41AcT0K16NGgECamZmZmTGTQMP1KFyPQndAcT0K16N8kUC4HoXrUVBuQAAAAAAAmIhAmpmZmZnNf0AAAAAAAJuSQI/C9Shcd4lAhetRuB6dm0DNzMzMzARoQLgehetR1IpA4XoUrkeBQ0AAAAAAAHx0QD4K16NwUqJAZmZmZmY6m0AUrkfhelaEQI/C9ShcsYBAMzMzMzMbiUAehetRuGiHQK5H4XoUYZdAUrgehetDi0BI4XoUroOFQDMzMzMz1YxAj8L1KFzVgEDsUbgehaGGQLgehetReG9AXI/C9SgEZ0AzMzMzM52NQGZmZmZmI5RApHA9CteTcUAK16NwPeZ3QClcj8L1hH9AexSuR+G6PUB7FK5H4eZ3QD0K16NwWYRAFK5H4XrYh0CF61G4Hm1hQB+F61G4BoRAH4XrUbhKe0C4HoXrUVx6QMP1KFyPKI1A4XoUrkfRiEAfhetRuKaHQFyPwvUoHGpAPgrXo3Bjg0BI4XoUrvdmQML1KFyPj5BAuB6F61FEfEAUrkfheih6QHE9CtejAIpACtejcD1wg0AUrkfherRJQD4K16NwWZpA9ihcj8KNcUC4HoXrUfqLQOxRuB6F6YZAcD0K16M4fEAK16NwPepmQOF6FK5HEYlAmpmZmZkFdEB7FK5H4fKCQKRwPQrX+4RAw/UoXI9OnUCuR+F6FKWYQD4K16NwoX9AZmZmZmZmTUA9CtejcBV2QIXrUbgeT45ACtejcD3gkUBI4XoUrguDQAAAAAAARIlAFK5H4XoQjEBmZmZmZh6WQLgehetR+HVA9ihcj8JklkDNzMzMzBCIQGZmZmZmPppASOF6FK5vZkD2KFyPwmVSQB+F61G4XIpACtejcD3ogEAK16NwPeCKQAAAAAAAfoZApHA9CteVh0BmZmZmZvCWQM3MzMzM1GVA",
          "dtype": "f8"
         },
         "yaxis": "y"
        },
        {
         "hovertemplate": "Region=East<br>OrderDate=%{x}<br>Sales=%{y}<extra></extra>",
         "legendgroup": "East",
         "line": {
          "color": "#00cc96",
          "dash": "solid"
         },
         "marker": {
          "symbol": "circle"
         },
         "mode": "lines+markers",
         "name": "East",
         "orientation": "v",
         "showlegend": true,
         "type": "scatter",
         "x": [
          "2024-07-25T00:00:00",
          "2024-07-26T00:00:00",
          "2024-07-27T00:00:00",
          "2024-07-28T00:00:00",
          "2024-07-29T00:00:00",
          "2024-07-30T00:00:00",
          "2024-07-31T00:00:00",
          "2024-08-06T00:00:00",
          "2024-08-07T00:00:00",
          "2024-08-10T00:00:00",
          "2024-08-12T00:00:00",
          "2024-08-15T00:00:00",
          "2024-08-16T00:00:00",
          "2024-08-18T00:00:00",
          "2024-08-19T00:00:00",
          "2024-08-21T00:00:00",
          "2024-08-23T00:00:00",
          "2024-08-26T00:00:00",
          "2024-08-29T00:00:00",
          "2024-08-30T00:00:00",
          "2024-09-03T00:00:00",
          "2024-09-05T00:00:00",
          "2024-09-06T00:00:00",
          "2024-09-13T00:00:00",
          "2024-09-16T00:00:00",
          "2024-09-18T00:00:00",
          "2024-09-19T00:00:00",
          "2024-09-21T00:00:00",
          "2024-09-23T00:00:00",
          "2024-09-25T00:00:00",
          "2024-09-29T00:00:00",
          "2024-09-30T00:00:00",
          "2024-10-03T00:00:00",
          "2024-10-06T00:00:00",
          "2024-10-07T00:00:00",
          "2024-10-09T00:00:00",
          "2024-10-12T00:00:00",
          "2024-10-16T00:00:00",
          "2024-10-17T00:00:00",
          "2024-10-18T00:00:00",
          "2024-10-20T00:00:00",
          "2024-10-21T00:00:00",
          "2024-10-23T00:00:00",
          "2024-10-28T00:00:00",
          "2024-10-30T00:00:00",
          "2024-11-02T00:00:00",
          "2024-11-04T00:00:00",
          "2024-11-05T00:00:00",
          "2024-11-07T00:00:00",
          "2024-11-10T00:00:00",
          "2024-11-11T00:00:00",
          "2024-11-12T00:00:00",
          "2024-11-15T00:00:00",
          "2024-11-17T00:00:00",
          "2024-11-18T00:00:00",
          "2024-11-19T00:00:00",
          "2024-11-21T00:00:00",
          "2024-11-22T00:00:00",
          "2024-11-23T00:00:00",
          "2024-11-26T00:00:00",
          "2024-11-28T00:00:00",
          "2024-11-29T00:00:00",
          "2024-11-30T00:00:00",
          "2024-12-05T00:00:00",
          "2024-12-06T00:00:00",
          "2024-12-07T00:00:00",
          "2024-12-10T00:00:00",
          "2024-12-12T00:00:00",
          "2024-12-17T00:00:00",
          "2024-12-18T00:00:00",
          "2024-12-21T00:00:00",
          "2024-12-22T00:00:00",
          "2024-12-23T00:00:00",
          "2024-12-24T00:00:00",
          "2024-12-25T00:00:00",
          "2024-12-26T00:00:00",
          "2024-12-27T00:00:00",
          "2024-12-28T00:00:00",
          "2024-12-29T00:00:00",
          "2024-12-30T00:00:00",
          "2024-12-31T00:00:00",
          "2025-01-01T00:00:00",
          "2025-01-03T00:00:00",
          "2025-01-06T00:00:00",
          "2025-01-07T00:00:00",
          "2025-01-11T00:00:00",
          "2025-01-14T00:00:00",
          "2025-01-15T00:00:00",
          "2025-01-16T00:00:00",
          "2025-01-17T00:00:00",
          "2025-01-18T00:00:00",
          "2025-01-19T00:00:00",
          "2025-01-21T00:00:00",
          "2025-01-23T00:00:00",
          "2025-01-24T00:00:00",
          "2025-01-25T00:00:00",
          "2025-01-26T00:00:00",
          "2025-01-30T00:00:00",
          "2025-01-31T00:00:00",
          "2025-02-02T00:00:00",
          "2025-02-03T00:00:00",
          "2025-02-06T00:00:00",
          "2025-02-11T00:00:00",
          "2025-02-14T00:00:00",
          "2025-02-17T00:00:00",
          "2025-02-18T00:00:00",
          "2025-02-22T00:00:00",
          "2025-02-23T00:00:00",
          "2025-02-24T00:00:00",
          "2025-02-25T00:00:00",
          "2025-02-26T00:00:00",
          "2025-02-27T00:00:00",
          "2025-02-28T00:00:00",
          "2025-03-03T00:00:00",
          "2025-03-06T00:00:00",
          "2025-03-09T00:00:00",
          "2025-03-12T00:00:00",
          "2025-03-14T00:00:00",
          "2025-03-15T00:00:00",
          "2025-03-16T00:00:00",
          "2025-03-17T00:00:00",
          "2025-03-19T00:00:00",
          "2025-03-26T00:00:00",
          "2025-03-28T00:00:00",
          "2025-03-31T00:00:00",
          "2025-04-02T00:00:00",
          "2025-04-09T00:00:00",
          "2025-04-10T00:00:00",
          "2025-04-11T00:00:00",
          "2025-04-13T00:00:00",
          "2025-04-15T00:00:00",
          "2025-04-23T00:00:00",
          "2025-04-26T00:00:00",
          "2025-04-30T00:00:00",
          "2025-05-02T00:00:00",
          "2025-05-03T00:00:00",
          "2025-05-05T00:00:00",
          "2025-05-07T00:00:00",
          "2025-05-09T00:00:00",
          "2025-05-12T00:00:00",
          "2025-05-16T00:00:00",
          "2025-05-18T00:00:00",
          "2025-05-19T00:00:00",
          "2025-05-20T00:00:00",
          "2025-05-21T00:00:00",
          "2025-05-22T00:00:00",
          "2025-05-23T00:00:00",
          "2025-05-26T00:00:00",
          "2025-05-28T00:00:00",
          "2025-05-29T00:00:00",
          "2025-05-31T00:00:00",
          "2025-06-01T00:00:00",
          "2025-06-02T00:00:00",
          "2025-06-03T00:00:00",
          "2025-06-06T00:00:00",
          "2025-06-07T00:00:00",
          "2025-06-08T00:00:00",
          "2025-06-09T00:00:00",
          "2025-06-10T00:00:00",
          "2025-06-11T00:00:00",
          "2025-06-12T00:00:00",
          "2025-06-14T00:00:00",
          "2025-06-15T00:00:00",
          "2025-06-18T00:00:00",
          "2025-06-19T00:00:00",
          "2025-06-20T00:00:00",
          "2025-06-22T00:00:00",
          "2025-06-23T00:00:00",
          "2025-06-26T00:00:00",
          "2025-06-27T00:00:00",
          "2025-06-28T00:00:00",
          "2025-06-30T00:00:00",
          "2025-07-02T00:00:00",
          "2025-07-04T00:00:00",
          "2025-07-06T00:00:00",
          "2025-07-07T00:00:00",
          "2025-07-09T00:00:00",
          "2025-07-10T00:00:00",
          "2025-07-11T00:00:00",
          "2025-07-13T00:00:00",
          "2025-07-14T00:00:00",
          "2025-07-17T00:00:00",
          "2025-07-18T00:00:00",
          "2025-07-19T00:00:00",
          "2025-07-21T00:00:00",
          "2025-07-22T00:00:00",
          "2025-07-23T00:00:00"
         ],
         "xaxis": "x",
         "y": {
          "bdata": "16NwPQpPa0CPwvUoXM88QFK4HoXr4pRA4XoUrkexZ0AzMzMzMx+UQHE9CtejgFFAexSuR+HCkUCF61G4HsF9QK5H4XoUlIVA9ihcj8I1WEAzMzMzM3N1QB+F61G4yodAUrgeheuWl0BxPQrXo7KGQFK4HoXroYlAH4XrUbhqgUCF61G4Hq1/QHsUrkfhXoxAhetRuB5Zh0DD9ShcjxJ9QIXrUbge0XNA9ihcj8LLjUAAAAAAAMhxQArXo3A9ijZAcT0K16OwbUAUrkfhevOWQMP1KFyPSo1ACtejcD16c0BI4XoUrqN9QFK4HoXrR4NAcT0K16OYikDsUbgehamNQJqZmZmZ/4pAcT0K16MwXkAUrkfhesqEQOxRuB6Fa0tAFK5H4XpAhkBSuB6F6x+iQNejcD0Kv3VApHA9CtdbhUA9CtejcOmLQI/C9Shcs4NAFK5H4XqkWUCF61G4HtGEQFyPwvUo7G9AUrgehetxZ0Bcj8L1KKCMQNejcD0KQYdACtejcD1DlUAUrkfhemyBQOxRuB6FlYpA16NwPQr3ZUCkcD0K13N8QOxRuB6FKzNArkfhehTyiEAK16NwPaSRQJqZmZmZoXFAuB6F61GAeECF61G4Hol1QFK4HoXrkV1AexSuR+HKe0AfhetRuJ6OQNejcD0KGJFA16NwPQrXNkDD9Shcj8p2QFK4HoXr84lAPQrXo3B9WkApXI/C9aiOQGZmZmZmrnxA16NwPQrylEDNzMzMzJCMQLgehetRdo1AUrgeheuAl0Bcj8L1KCRlQHsUrkfheJlAPQrXo3DdT0B7FK5H4QSAQHsUrkfhVoNA16NwPQonikCuR+F6FKSLQHsUrkfhLolAMzMzMzOnfUAAAAAAAABCQClcj8L1zo1Aj8L1KFwHYkBxPQrXowhyQB+F61G4ZnZAexSuR+GSkECQwvUoXA9uQKRwPQrXg21AUrgeheu5g0BxPQrXo7A/QDQzMzMzZ5VAKVyPwvVAlEDNzMzMzCxSQOxRuB6FQ3JAPQrXo3DtjEDXo3A9Cj6aQFK4HoXr5JJArkfhehQeckD2KFyPwvmMQOF6FK5Hv5FAzczMzMysfUBcj8L1KFxvQGZmZmZm9ZpAMzMzMzPrYkDD9Shcj+KDQBSuR+F6/oVAexSuR+FihUBI4XoUrjOFQM3MzMzMuHBAAAAAAABUgkBSuB6F6zmNQBSuR+F6VF1AhetRuB7lbUAzMzMzMy9yQEjhehSuN4RArkfhehRgiEAAAAAAAHOZQM3MzMzMyHhAAAAAAADwXUAK16NwPYaEQIXrUbge2plAcT0K16O4aUBxPQrXo2aEQOF6FK5HaXlAPgrXo3Dfi0CF61G4HhGNQClcj8L1UoxA16NwPQqOlEDhehSuR/OHQMP1KFyPQnlAFK5H4XrGiECPwvUoXBOGQBSuR+F6mHxAXI/C9SgijEDhehSuR9GKQM3MzMzMXHRAFK5H4XrQgkBI4XoUroeRQClcj8L1cH9AzczMzMwMjUAUrkfhekyEQGZmZmZmjoJAhetRuB5/jkCPwvUoXGdvQM3MzMzMoI5AcT0K16MTpUDXo3A9Cs9wQK5H4XoUdmtArkfhehQmeUCkcD0K15d8QNejcD0KA4RAAAAAAABsckAUrkfhehyHQI/C9Shc2YdACtejcD1qg0CQwvUoXGKWQHsUrkfh9ndAKVyPwvWwjUCamZmZmSyYQNejcD0K13dAw/UoXI/wj0CF61G4HmWbQM3MzMzMMIZAFK5H4Xo+gUDXo3A9CueCQHoUrkfhEJRAhetRuB7dg0CamZmZmfWHQM3MzMzMDE5A4XoUrkeBeEDhehSuR4lvQGZmZmZmtldAH4XrUbiblkCuR+F6FAyJQIXrUbgeEZFApHA9Ctd3i0ApXI/C9XB9QIXrUbge3ZRAKVyPwvX+hUD2KFyPwnGLQKRwPQrXM1tASOF6FK6vZECamZmZmeWEQKRwPQrX64dAj8L1KFxDckA=",
          "dtype": "f8"
         },
         "yaxis": "y"
        },
        {
         "hovertemplate": "Region=South<br>OrderDate=%{x}<br>Sales=%{y}<extra></extra>",
         "legendgroup": "South",
         "line": {
          "color": "#ab63fa",
          "dash": "solid"
         },
         "marker": {
          "symbol": "circle"
         },
         "mode": "lines+markers",
         "name": "South",
         "orientation": "v",
         "showlegend": true,
         "type": "scatter",
         "x": [
          "2024-07-25T00:00:00",
          "2024-07-26T00:00:00",
          "2024-07-27T00:00:00",
          "2024-07-28T00:00:00",
          "2024-08-01T00:00:00",
          "2024-08-02T00:00:00",
          "2024-08-03T00:00:00",
          "2024-08-04T00:00:00",
          "2024-08-06T00:00:00",
          "2024-08-08T00:00:00",
          "2024-08-10T00:00:00",
          "2024-08-11T00:00:00",
          "2024-08-13T00:00:00",
          "2024-08-15T00:00:00",
          "2024-08-16T00:00:00",
          "2024-08-17T00:00:00",
          "2024-08-18T00:00:00",
          "2024-08-20T00:00:00",
          "2024-08-21T00:00:00",
          "2024-08-22T00:00:00",
          "2024-08-23T00:00:00",
          "2024-08-26T00:00:00",
          "2024-09-02T00:00:00",
          "2024-09-03T00:00:00",
          "2024-09-05T00:00:00",
          "2024-09-06T00:00:00",
          "2024-09-07T00:00:00",
          "2024-09-13T00:00:00",
          "2024-09-14T00:00:00",
          "2024-09-16T00:00:00",
          "2024-09-17T00:00:00",
          "2024-09-20T00:00:00",
          "2024-09-22T00:00:00",
          "2024-09-23T00:00:00",
          "2024-09-24T00:00:00",
          "2024-09-25T00:00:00",
          "2024-09-27T00:00:00",
          "2024-09-28T00:00:00",
          "2024-10-01T00:00:00",
          "2024-10-03T00:00:00",
          "2024-10-05T00:00:00",
          "2024-10-06T00:00:00",
          "2024-10-15T00:00:00",
          "2024-10-16T00:00:00",
          "2024-10-17T00:00:00",
          "2024-10-18T00:00:00",
          "2024-10-27T00:00:00",
          "2024-10-28T00:00:00",
          "2024-10-29T00:00:00",
          "2024-11-02T00:00:00",
          "2024-11-03T00:00:00",
          "2024-11-09T00:00:00",
          "2024-11-10T00:00:00",
          "2024-11-12T00:00:00",
          "2024-11-14T00:00:00",
          "2024-11-15T00:00:00",
          "2024-11-16T00:00:00",
          "2024-11-17T00:00:00",
          "2024-11-20T00:00:00",
          "2024-11-21T00:00:00",
          "2024-11-22T00:00:00",
          "2024-11-27T00:00:00",
          "2024-11-28T00:00:00",
          "2024-12-04T00:00:00",
          "2024-12-07T00:00:00",
          "2024-12-10T00:00:00",
          "2024-12-11T00:00:00",
          "2024-12-12T00:00:00",
          "2024-12-13T00:00:00",
          "2024-12-16T00:00:00",
          "2024-12-20T00:00:00",
          "2024-12-21T00:00:00",
          "2024-12-24T00:00:00",
          "2024-12-26T00:00:00",
          "2024-12-27T00:00:00",
          "2024-12-29T00:00:00",
          "2024-12-31T00:00:00",
          "2025-01-03T00:00:00",
          "2025-01-07T00:00:00",
          "2025-01-08T00:00:00",
          "2025-01-09T00:00:00",
          "2025-01-10T00:00:00",
          "2025-01-13T00:00:00",
          "2025-01-14T00:00:00",
          "2025-01-15T00:00:00",
          "2025-01-17T00:00:00",
          "2025-01-18T00:00:00",
          "2025-01-20T00:00:00",
          "2025-01-24T00:00:00",
          "2025-01-27T00:00:00",
          "2025-01-28T00:00:00",
          "2025-01-29T00:00:00",
          "2025-01-31T00:00:00",
          "2025-02-04T00:00:00",
          "2025-02-06T00:00:00",
          "2025-02-09T00:00:00",
          "2025-02-10T00:00:00",
          "2025-02-13T00:00:00",
          "2025-02-15T00:00:00",
          "2025-02-17T00:00:00",
          "2025-02-18T00:00:00",
          "2025-02-20T00:00:00",
          "2025-02-22T00:00:00",
          "2025-02-24T00:00:00",
          "2025-02-25T00:00:00",
          "2025-02-26T00:00:00",
          "2025-03-02T00:00:00",
          "2025-03-03T00:00:00",
          "2025-03-04T00:00:00",
          "2025-03-06T00:00:00",
          "2025-03-07T00:00:00",
          "2025-03-08T00:00:00",
          "2025-03-09T00:00:00",
          "2025-03-10T00:00:00",
          "2025-03-12T00:00:00",
          "2025-03-15T00:00:00",
          "2025-03-17T00:00:00",
          "2025-03-19T00:00:00",
          "2025-03-22T00:00:00",
          "2025-03-23T00:00:00",
          "2025-03-24T00:00:00",
          "2025-03-26T00:00:00",
          "2025-03-27T00:00:00",
          "2025-03-28T00:00:00",
          "2025-03-29T00:00:00",
          "2025-03-31T00:00:00",
          "2025-04-02T00:00:00",
          "2025-04-05T00:00:00",
          "2025-04-06T00:00:00",
          "2025-04-07T00:00:00",
          "2025-04-10T00:00:00",
          "2025-04-11T00:00:00",
          "2025-04-13T00:00:00",
          "2025-04-16T00:00:00",
          "2025-04-18T00:00:00",
          "2025-04-23T00:00:00",
          "2025-04-27T00:00:00",
          "2025-04-30T00:00:00",
          "2025-05-01T00:00:00",
          "2025-05-04T00:00:00",
          "2025-05-05T00:00:00",
          "2025-05-07T00:00:00",
          "2025-05-09T00:00:00",
          "2025-05-10T00:00:00",
          "2025-05-11T00:00:00",
          "2025-05-13T00:00:00",
          "2025-05-14T00:00:00",
          "2025-05-15T00:00:00",
          "2025-05-16T00:00:00",
          "2025-05-17T00:00:00",
          "2025-05-19T00:00:00",
          "2025-05-20T00:00:00",
          "2025-05-21T00:00:00",
          "2025-05-26T00:00:00",
          "2025-05-31T00:00:00",
          "2025-06-02T00:00:00",
          "2025-06-05T00:00:00",
          "2025-06-06T00:00:00",
          "2025-06-07T00:00:00",
          "2025-06-08T00:00:00",
          "2025-06-09T00:00:00",
          "2025-06-11T00:00:00",
          "2025-06-13T00:00:00",
          "2025-06-16T00:00:00",
          "2025-06-17T00:00:00",
          "2025-06-19T00:00:00",
          "2025-06-20T00:00:00",
          "2025-06-23T00:00:00",
          "2025-06-24T00:00:00",
          "2025-06-27T00:00:00",
          "2025-06-30T00:00:00",
          "2025-07-03T00:00:00",
          "2025-07-04T00:00:00",
          "2025-07-05T00:00:00",
          "2025-07-06T00:00:00",
          "2025-07-08T00:00:00",
          "2025-07-09T00:00:00",
          "2025-07-13T00:00:00",
          "2025-07-15T00:00:00",
          "2025-07-18T00:00:00",
          "2025-07-20T00:00:00",
          "2025-07-23T00:00:00",
          "2025-07-24T00:00:00"
         ],
         "xaxis": "x",
         "y": {
          "bdata": "pHA9Cte7bEDNzMzMzBR1QArXo3A9BpNA2KNwPQrdj0CamZmZmSGMQArXo3A9iohAXI/C9SgAe0BSuB6F65FZQDMzMzMzg4xA7FG4HoUVjkDhehSuR3liQNejcD0KyYlAXI/C9Sg4dEBmZmZmZuZyQEjhehSu/YhAZmZmZmZGckBxPQrXozAzQGZmZmZm7opApHA9CtfDfUBmZmZmZgZ7QIXrUbgesYBAZmZmZmauY0ApXI/C9ZxxQML1KFyPfJRA9ihcj8JVhUBI4XoUruWgQD0K16Nwl4RAMzMzMzPdikDsUbgehaGJQD0K16Nwv4RAkML1KFyBj0CuR+F6FFSTQHsUrkfhQIlAPQrXo3B1fUCF61G4HjmOQGZmZmZmtopAFK5H4XqRmEAK16NwPTp3QI/C9ShcU4JAw/UoXI9MkUDXo3A9CveNQAAAAAAAhopAZmZmZma2hEBSuB6F6xFvQEjhehSuv49AmpmZmZmtdUBmZmZmZq5nQB+F61G4PJlAKVyPwvUgaED2KFyPwnuCQOxRuB6FW3RAzczMzMw0bEBSuB6F6weCQClcj8L1UGtAuB6F61Eqj0CamZmZmel2QMzMzMzMzI5AuB6F61EwiUBmZmZmZtJ2QBSuR+F6xHNA7FG4HoXBiUCamZmZmb2GQKRwPQrX43JAKVyPwvXoUUBxPQrXo2hxQK5H4XoUZnFAAAAAAAAIf0BI4XoUrmaSQKRwPQrXSY5AhetRuB49lEA9CtejcHVyQHsUrkfhukRAmpmZmZmHg0DD9Shcj/JlQBWuR+F6cpFACtejcD2Ci0AAAAAAAM2dQHE9CtejCG1AFK5H4XoqikCkcD0K1xOTQGZmZmZmhoFAhetRuB41YUCkcD0K10t5QNejcD0Kp25AAAAAAAAshUDsUbgehUtYQPYoXI/C1VRAhetRuB7ldkBxPQrXozh+QEjhehSuQ4RA9ihcj8IVS0AK16NwPVJvQD0K16NwpWNApHA9Ctcti0AfhetRuKqNQJqZmZmZR4FAmpmZmZnDmkDsUbgehZ+PQOxRuB6FyYxA16NwPQpbi0BSuB6F6zFIQD0K16NwzWtArkfhehQciECF61G4Hi12QOF6FK5Hq4VACtejcD3KVUAUrkfhetKJQEjhehSul3dAhetRuB6DjkDXo3A9ChuNQClcj8L1zHpAzczMzMxQhECamZmZmZeLQGZmZmZmAIJAUrgehevzg0DXo3A9CtNxQMP1KFwPoaFA9ihcj8IglkApXI/C9VR9QB+F61G4VmRAFK5H4XpwdUB7FK5H4YCMQHA9CtejRJdAZmZmZmb4iUBcj8L1KDx3QEjhehSuY31A9ihcj8IMmkCPwvUoXA2CQNejcD0KWJRAexSuR+HieUBmZmZmZsp8QKRwPQrXPYhArkfhehQkjEA9CtejcJeJQGZmZmZm3ohAXI/C9SgZnkBI4XoUrg2KQK5H4XoUgoxA4XoUrkfJe0CF61G4Hn+HQHsUrkfhjolAH4XrUbicjEDhehSuR6eMQI/C9Shcz4hAFK5H4XoMjEA+CtejcEOOQFyPwvUoIJVAkML1KNxToUCF61G4Hn2FQHsUrkfhgoRAuB6F61FimEDNzMzMzHCOQM3MzMzMB5JArkfhehQCikCkcD0K12mIQK5H4XoU/mZAuB6F61GDmEDhehSuRzmDQPYoXI/C9WlAZmZmZmaajEDiehSuRyGWQLgehetRMHRAFK5H4Xouj0DXo3A9CpN8QHsUrkfhmkpAFa5H4XqKikBmZmZmZip1QFK4HoXry41AUrgeheuvjEBSuB6F65E5QKRwPQrXQYRAmpmZmZlJgkAUrkfhehqRQFK4HoXr7KJAhetRuB6ngECQwvUoXA+dQMP1KFyPomZAhetRuB7Th0CF61G4HgVMQI/C9ShcrpFAzczMzMw8akC4HoXrUV6HQHE9Ctej8HlA",
          "dtype": "f8"
         },
         "yaxis": "y"
        }
       ],
       "layout": {
        "font": {
         "color": "white"
        },
        "legend": {
         "title": {
          "text": "Region"
         },
         "tracegroupgap": 0
        },
        "margin": {
         "t": 60
        },
        "paper_bgcolor": "#111",
        "plot_bgcolor": "#222",
        "template": {
         "data": {
          "bar": [
           {
            "error_x": {
             "color": "#2a3f5f"
            },
            "error_y": {
             "color": "#2a3f5f"
            },
            "marker": {
             "line": {
              "color": "white",
              "width": 0.5
             },
             "pattern": {
              "fillmode": "overlay",
              "size": 10,
              "solidity": 0.2
             }
            },
            "type": "bar"
           }
          ],
          "barpolar": [
           {
            "marker": {
             "line": {
              "color": "white",
              "width": 0.5
             },
             "pattern": {
              "fillmode": "overlay",
              "size": 10,
              "solidity": 0.2
             }
            },
            "type": "barpolar"
           }
          ],
          "carpet": [
           {
            "aaxis": {
             "endlinecolor": "#2a3f5f",
             "gridcolor": "#C8D4E3",
             "linecolor": "#C8D4E3",
             "minorgridcolor": "#C8D4E3",
             "startlinecolor": "#2a3f5f"
            },
            "baxis": {
             "endlinecolor": "#2a3f5f",
             "gridcolor": "#C8D4E3",
             "linecolor": "#C8D4E3",
             "minorgridcolor": "#C8D4E3",
             "startlinecolor": "#2a3f5f"
            },
            "type": "carpet"
           }
          ],
          "choropleth": [
           {
            "colorbar": {
             "outlinewidth": 0,
             "ticks": ""
            },
            "type": "choropleth"
           }
          ],
          "contour": [
           {
            "colorbar": {
             "outlinewidth": 0,
             "ticks": ""
            },
            "colorscale": [
             [
              0,
              "#0d0887"
             ],
             [
              0.1111111111111111,
              "#46039f"
             ],
             [
              0.2222222222222222,
              "#7201a8"
             ],
             [
              0.3333333333333333,
              "#9c179e"
             ],
             [
              0.4444444444444444,
              "#bd3786"
             ],
             [
              0.5555555555555556,
              "#d8576b"
             ],
             [
              0.6666666666666666,
              "#ed7953"
             ],
             [
              0.7777777777777778,
              "#fb9f3a"
             ],
             [
              0.8888888888888888,
              "#fdca26"
             ],
             [
              1,
              "#f0f921"
             ]
            ],
            "type": "contour"
           }
          ],
          "contourcarpet": [
           {
            "colorbar": {
             "outlinewidth": 0,
             "ticks": ""
            },
            "type": "contourcarpet"
           }
          ],
          "heatmap": [
           {
            "colorbar": {
             "outlinewidth": 0,
             "ticks": ""
            },
            "colorscale": [
             [
              0,
              "#0d0887"
             ],
             [
              0.1111111111111111,
              "#46039f"
             ],
             [
              0.2222222222222222,
              "#7201a8"
             ],
             [
              0.3333333333333333,
              "#9c179e"
             ],
             [
              0.4444444444444444,
              "#bd3786"
             ],
             [
              0.5555555555555556,
              "#d8576b"
             ],
             [
              0.6666666666666666,
              "#ed7953"
             ],
             [
              0.7777777777777778,
              "#fb9f3a"
             ],
             [
              0.8888888888888888,
              "#fdca26"
             ],
             [
              1,
              "#f0f921"
             ]
            ],
            "type": "heatmap"
           }
          ],
          "histogram": [
           {
            "marker": {
             "pattern": {
              "fillmode": "overlay",
              "size": 10,
              "solidity": 0.2
             }
            },
            "type": "histogram"
           }
          ],
          "histogram2d": [
           {
            "colorbar": {
             "outlinewidth": 0,
             "ticks": ""
            },
            "colorscale": [
             [
              0,
              "#0d0887"
             ],
             [
              0.1111111111111111,
              "#46039f"
             ],
             [
              0.2222222222222222,
              "#7201a8"
             ],
             [
              0.3333333333333333,
              "#9c179e"
             ],
             [
              0.4444444444444444,
              "#bd3786"
             ],
             [
              0.5555555555555556,
              "#d8576b"
             ],
             [
              0.6666666666666666,
              "#ed7953"
             ],
             [
              0.7777777777777778,
              "#fb9f3a"
             ],
             [
              0.8888888888888888,
              "#fdca26"
             ],
             [
              1,
              "#f0f921"
             ]
            ],
            "type": "histogram2d"
           }
          ],
          "histogram2dcontour": [
           {
            "colorbar": {
             "outlinewidth": 0,
             "ticks": ""
            },
            "colorscale": [
             [
              0,
              "#0d0887"
             ],
             [
              0.1111111111111111,
              "#46039f"
             ],
             [
              0.2222222222222222,
              "#7201a8"
             ],
             [
              0.3333333333333333,
              "#9c179e"
             ],
             [
              0.4444444444444444,
              "#bd3786"
             ],
             [
              0.5555555555555556,
              "#d8576b"
             ],
             [
              0.6666666666666666,
              "#ed7953"
             ],
             [
              0.7777777777777778,
              "#fb9f3a"
             ],
             [
              0.8888888888888888,
              "#fdca26"
             ],
             [
              1,
              "#f0f921"
             ]
            ],
            "type": "histogram2dcontour"
           }
          ],
          "mesh3d": [
           {
            "colorbar": {
             "outlinewidth": 0,
             "ticks": ""
            },
            "type": "mesh3d"
           }
          ],
          "parcoords": [
           {
            "line": {
             "colorbar": {
              "outlinewidth": 0,
              "ticks": ""
             }
            },
            "type": "parcoords"
           }
          ],
          "pie": [
           {
            "automargin": true,
            "type": "pie"
           }
          ],
          "scatter": [
           {
            "fillpattern": {
             "fillmode": "overlay",
             "size": 10,
             "solidity": 0.2
            },
            "type": "scatter"
           }
          ],
          "scatter3d": [
           {
            "line": {
             "colorbar": {
              "outlinewidth": 0,
              "ticks": ""
             }
            },
            "marker": {
             "colorbar": {
              "outlinewidth": 0,
              "ticks": ""
             }
            },
            "type": "scatter3d"
           }
          ],
          "scattercarpet": [
           {
            "marker": {
             "colorbar": {
              "outlinewidth": 0,
              "ticks": ""
             }
            },
            "type": "scattercarpet"
           }
          ],
          "scattergeo": [
           {
            "marker": {
             "colorbar": {
              "outlinewidth": 0,
              "ticks": ""
             }
            },
            "type": "scattergeo"
           }
          ],
          "scattergl": [
           {
            "marker": {
             "colorbar": {
              "outlinewidth": 0,
              "ticks": ""
             }
            },
            "type": "scattergl"
           }
          ],
          "scattermap": [
           {
            "marker": {
             "colorbar": {
              "outlinewidth": 0,
              "ticks": ""
             }
            },
            "type": "scattermap"
           }
          ],
          "scattermapbox": [
           {
            "marker": {
             "colorbar": {
              "outlinewidth": 0,
              "ticks": ""
             }
            },
            "type": "scattermapbox"
           }
          ],
          "scatterpolar": [
           {
            "marker": {
             "colorbar": {
              "outlinewidth": 0,
              "ticks": ""
             }
            },
            "type": "scatterpolar"
           }
          ],
          "scatterpolargl": [
           {
            "marker": {
             "colorbar": {
              "outlinewidth": 0,
              "ticks": ""
             }
            },
            "type": "scatterpolargl"
           }
          ],
          "scatterternary": [
           {
            "marker": {
             "colorbar": {
              "outlinewidth": 0,
              "ticks": ""
             }
            },
            "type": "scatterternary"
           }
          ],
          "surface": [
           {
            "colorbar": {
             "outlinewidth": 0,
             "ticks": ""
            },
            "colorscale": [
             [
              0,
              "#0d0887"
             ],
             [
              0.1111111111111111,
              "#46039f"
             ],
             [
              0.2222222222222222,
              "#7201a8"
             ],
             [
              0.3333333333333333,
              "#9c179e"
             ],
             [
              0.4444444444444444,
              "#bd3786"
             ],
             [
              0.5555555555555556,
              "#d8576b"
             ],
             [
              0.6666666666666666,
              "#ed7953"
             ],
             [
              0.7777777777777778,
              "#fb9f3a"
             ],
             [
              0.8888888888888888,
              "#fdca26"
             ],
             [
              1,
              "#f0f921"
             ]
            ],
            "type": "surface"
           }
          ],
          "table": [
           {
            "cells": {
             "fill": {
              "color": "#EBF0F8"
             },
             "line": {
              "color": "white"
             }
            },
            "header": {
             "fill": {
              "color": "#C8D4E3"
             },
             "line": {
              "color": "white"
             }
            },
            "type": "table"
           }
          ]
         },
         "layout": {
          "annotationdefaults": {
           "arrowcolor": "#2a3f5f",
           "arrowhead": 0,
           "arrowwidth": 1
          },
          "autotypenumbers": "strict",
          "coloraxis": {
           "colorbar": {
            "outlinewidth": 0,
            "ticks": ""
           }
          },
          "colorscale": {
           "diverging": [
            [
             0,
             "#8e0152"
            ],
            [
             0.1,
             "#c51b7d"
            ],
            [
             0.2,
             "#de77ae"
            ],
            [
             0.3,
             "#f1b6da"
            ],
            [
             0.4,
             "#fde0ef"
            ],
            [
             0.5,
             "#f7f7f7"
            ],
            [
             0.6,
             "#e6f5d0"
            ],
            [
             0.7,
             "#b8e186"
            ],
            [
             0.8,
             "#7fbc41"
            ],
            [
             0.9,
             "#4d9221"
            ],
            [
             1,
             "#276419"
            ]
           ],
           "sequential": [
            [
             0,
             "#0d0887"
            ],
            [
             0.1111111111111111,
             "#46039f"
            ],
            [
             0.2222222222222222,
             "#7201a8"
            ],
            [
             0.3333333333333333,
             "#9c179e"
            ],
            [
             0.4444444444444444,
             "#bd3786"
            ],
            [
             0.5555555555555556,
             "#d8576b"
            ],
            [
             0.6666666666666666,
             "#ed7953"
            ],
            [
             0.7777777777777778,
             "#fb9f3a"
            ],
            [
             0.8888888888888888,
             "#fdca26"
            ],
            [
             1,
             "#f0f921"
            ]
           ],
           "sequentialminus": [
            [
             0,
             "#0d0887"
            ],
            [
             0.1111111111111111,
             "#46039f"
            ],
            [
             0.2222222222222222,
             "#7201a8"
            ],
            [
             0.3333333333333333,
             "#9c179e"
            ],
            [
             0.4444444444444444,
             "#bd3786"
            ],
            [
             0.5555555555555556,
             "#d8576b"
            ],
            [
             0.6666666666666666,
             "#ed7953"
            ],
            [
             0.7777777777777778,
             "#fb9f3a"
            ],
            [
             0.8888888888888888,
             "#fdca26"
            ],
            [
             1,
             "#f0f921"
            ]
           ]
          },
          "colorway": [
           "#636efa",
           "#EF553B",
           "#00cc96",
           "#ab63fa",
           "#FFA15A",
           "#19d3f3",
           "#FF6692",
           "#B6E880",
           "#FF97FF",
           "#FECB52"
          ],
          "font": {
           "color": "#2a3f5f"
          },
          "geo": {
           "bgcolor": "white",
           "lakecolor": "white",
           "landcolor": "white",
           "showlakes": true,
           "showland": true,
           "subunitcolor": "#C8D4E3"
          },
          "hoverlabel": {
           "align": "left"
          },
          "hovermode": "closest",
          "mapbox": {
           "style": "light"
          },
          "paper_bgcolor": "white",
          "plot_bgcolor": "white",
          "polar": {
           "angularaxis": {
            "gridcolor": "#EBF0F8",
            "linecolor": "#EBF0F8",
            "ticks": ""
           },
           "bgcolor": "white",
           "radialaxis": {
            "gridcolor": "#EBF0F8",
            "linecolor": "#EBF0F8",
            "ticks": ""
           }
          },
          "scene": {
           "xaxis": {
            "backgroundcolor": "white",
            "gridcolor": "#DFE8F3",
            "gridwidth": 2,
            "linecolor": "#EBF0F8",
            "showbackground": true,
            "ticks": "",
            "zerolinecolor": "#EBF0F8"
           },
           "yaxis": {
            "backgroundcolor": "white",
            "gridcolor": "#DFE8F3",
            "gridwidth": 2,
            "linecolor": "#EBF0F8",
            "showbackground": true,
            "ticks": "",
            "zerolinecolor": "#EBF0F8"
           },
           "zaxis": {
            "backgroundcolor": "white",
            "gridcolor": "#DFE8F3",
            "gridwidth": 2,
            "linecolor": "#EBF0F8",
            "showbackground": true,
            "ticks": "",
            "zerolinecolor": "#EBF0F8"
           }
          },
          "shapedefaults": {
           "line": {
            "color": "#2a3f5f"
           }
          },
          "ternary": {
           "aaxis": {
            "gridcolor": "#DFE8F3",
            "linecolor": "#A2B1C6",
            "ticks": ""
           },
           "baxis": {
            "gridcolor": "#DFE8F3",
            "linecolor": "#A2B1C6",
            "ticks": ""
           },
           "bgcolor": "white",
           "caxis": {
            "gridcolor": "#DFE8F3",
            "linecolor": "#A2B1C6",
            "ticks": ""
           }
          },
          "title": {
           "x": 0.05
          },
          "xaxis": {
           "automargin": true,
           "gridcolor": "#EBF0F8",
           "linecolor": "#EBF0F8",
           "ticks": "",
           "title": {
            "standoff": 15
           },
           "zerolinecolor": "#EBF0F8",
           "zerolinewidth": 2
          },
          "yaxis": {
           "automargin": true,
           "gridcolor": "#EBF0F8",
           "linecolor": "#EBF0F8",
           "ticks": "",
           "title": {
            "standoff": 15
           },
           "zerolinecolor": "#EBF0F8",
           "zerolinewidth": 2
          }
         }
        },
        "title": {
         "text": "💰 Regional Sales Trend Over Time"
        },
        "xaxis": {
         "anchor": "y",
         "domain": [
          0,
          1
         ],
         "title": {
          "text": "Date"
         }
        },
        "yaxis": {
         "anchor": "x",
         "domain": [
          0,
          1
         ],
         "title": {
          "text": "Sales in USD"
         }
        }
       }
      }
     },
     "metadata": {},
     "output_type": "display_data"
    }
   ],
   "source": [
    "# 🎨 Custom Styling & Dark Theme\n",
    "\n",
    "fig5 = line_plot(region_df, x=\"OrderDate\", y=\"Sales\", color=\"Region\")\n",
    "fig5 = apply_custom_layout(\n",
    "    fig5,\n",
    "    title=\"💰 Regional Sales Trend Over Time\",\n",
    "    xaxis_title=\"Date\",\n",
    "    yaxis_title=\"Sales in USD\",\n",
    "    legend_title=\"Region\"\n",
    ")\n",
    "fig5 = apply_dark_theme(fig5)\n",
    "fig5.show()"
   ]
  },
  {
   "cell_type": "code",
   "execution_count": 7,
   "id": "deb0ea33",
   "metadata": {},
   "outputs": [
    {
     "name": "stdout",
     "output_type": "stream",
     "text": [
      "✅ HTML saved to: /Users/satvikpraveen/Desktop/Libraries/PlotlyVizPro/exports/html/01_line_scatter/total_sales_over_time.html\n",
      "✅ PNG saved to: /Users/satvikpraveen/Desktop/Libraries/PlotlyVizPro/exports/images/01_line_scatter/total_sales_over_time.png\n",
      "✅ HTML saved to: /Users/satvikpraveen/Desktop/Libraries/PlotlyVizPro/exports/html/01_line_scatter/regional_sales_trend.html\n",
      "✅ PNG saved to: /Users/satvikpraveen/Desktop/Libraries/PlotlyVizPro/exports/images/01_line_scatter/regional_sales_trend.png\n",
      "✅ HTML saved to: /Users/satvikpraveen/Desktop/Libraries/PlotlyVizPro/exports/html/01_line_scatter/profit_vs_sales_scatter.html\n",
      "✅ PNG saved to: /Users/satvikpraveen/Desktop/Libraries/PlotlyVizPro/exports/images/01_line_scatter/profit_vs_sales_scatter.png\n",
      "✅ HTML saved to: /Users/satvikpraveen/Desktop/Libraries/PlotlyVizPro/exports/html/01_line_scatter/bubble_sales_profit_orders.html\n",
      "✅ PNG saved to: /Users/satvikpraveen/Desktop/Libraries/PlotlyVizPro/exports/images/01_line_scatter/bubble_sales_profit_orders.png\n",
      "✅ HTML saved to: /Users/satvikpraveen/Desktop/Libraries/PlotlyVizPro/exports/html/01_line_scatter/regional_sales_dark.html\n",
      "✅ PNG saved to: /Users/satvikpraveen/Desktop/Libraries/PlotlyVizPro/exports/images/01_line_scatter/regional_sales_dark.png\n"
     ]
    }
   ],
   "source": [
    "# 💾 Save all major plots in both HTML and PNG formats\n",
    "\n",
    "NOTEBOOK_ID = \"01_line_scatter\"\n",
    "\n",
    "# 📁 Ensure export folders exist for this notebook\n",
    "EXPORT_BASE = PROJECT_ROOT / \"exports\"\n",
    "EXPORT_HTML = EXPORT_BASE / \"html\" / NOTEBOOK_ID\n",
    "EXPORT_IMG = EXPORT_BASE / \"images\" / NOTEBOOK_ID\n",
    "\n",
    "EXPORT_HTML.mkdir(parents=True, exist_ok=True)\n",
    "EXPORT_IMG.mkdir(parents=True, exist_ok=True)\n",
    "\n",
    "\n",
    "save_fig_as_html(fig1, \"total_sales_over_time.html\", notebook_name=NOTEBOOK_ID)\n",
    "save_fig_as_png(fig1, \"total_sales_over_time.png\", notebook_name=NOTEBOOK_ID)\n",
    "\n",
    "save_fig_as_html(fig2, \"regional_sales_trend.html\", notebook_name=NOTEBOOK_ID)\n",
    "save_fig_as_png(fig2, \"regional_sales_trend.png\", notebook_name=NOTEBOOK_ID)\n",
    "\n",
    "save_fig_as_html(fig3, \"profit_vs_sales_scatter.html\", notebook_name=NOTEBOOK_ID)\n",
    "save_fig_as_png(fig3, \"profit_vs_sales_scatter.png\", notebook_name=NOTEBOOK_ID)\n",
    "\n",
    "save_fig_as_html(fig4, \"bubble_sales_profit_orders.html\", notebook_name=NOTEBOOK_ID)\n",
    "save_fig_as_png(fig4, \"bubble_sales_profit_orders.png\", notebook_name=NOTEBOOK_ID)\n",
    "\n",
    "save_fig_as_html(fig5, \"regional_sales_dark.html\", notebook_name=NOTEBOOK_ID)\n",
    "save_fig_as_png(fig5, \"regional_sales_dark.png\", notebook_name=NOTEBOOK_ID)\n"
   ]
  },
  {
   "cell_type": "markdown",
   "id": "c2ef5527",
   "metadata": {},
   "source": [
    "## ✅ Summary:\n",
    "- Applied Plotly theme globally using `pio.templates.default`  \n",
    "- Loaded the `superstore.csv` dataset with parsed dates  \n",
    "Plotted line, scatter, and bubble charts using utility functions  \n",
    "- Saved plots directly to the project’s `exports/html/` folder  \n",
    "\n",
    "All future notebooks will follow the same pattern for modularity and clarity."
   ]
  }
 ],
 "metadata": {
  "kernelspec": {
   "display_name": "plotly_env",
   "language": "python",
   "name": "python3"
  },
  "language_info": {
   "codemirror_mode": {
    "name": "ipython",
    "version": 3
   },
   "file_extension": ".py",
   "mimetype": "text/x-python",
   "name": "python",
   "nbconvert_exporter": "python",
   "pygments_lexer": "ipython3",
   "version": "3.11.11"
  }
 },
 "nbformat": 4,
 "nbformat_minor": 5
}
