{
 "cells": [
  {
   "cell_type": "markdown",
   "id": "53c8e04a",
   "metadata": {},
   "source": [
    "# 🧩 Notebook 07: Graph Objects Deep Dive in Plotly"
   ]
  },
  {
   "cell_type": "code",
   "execution_count": 1,
   "id": "3ed67f76",
   "metadata": {},
   "outputs": [
    {
     "name": "stdout",
     "output_type": "stream",
     "text": [
      "✅ Plotly Project Utils Loaded\n"
     ]
    }
   ],
   "source": [
    "# 📦 Setup & Imports\n",
    "import pandas as pd\n",
    "import sys\n",
    "from pathlib import Path\n",
    "import plotly.graph_objects as go\n",
    "import plotly.io as pio\n",
    "\n",
    "# ✅ Setup path to use utils\n",
    "PROJECT_ROOT = Path.cwd().parent\n",
    "UTILS_DIR = PROJECT_ROOT / \"utils\"\n",
    "if str(UTILS_DIR) not in sys.path:\n",
    "    sys.path.insert(0, str(UTILS_DIR))\n",
    "\n",
    "# 🧰 Custom utilities\n",
    "from plot_utils import (\n",
    "    create_go_figure,\n",
    "    add_trace_go,\n",
    "    update_go_layout,\n",
    "    add_annotation_go,\n",
    "    add_shape_go,\n",
    "    save_fig_as_html,\n",
    "    save_fig_as_png\n",
    ")\n",
    "\n",
    "# 🎨 Apply project-wide theme\n",
    "pio.templates.default = \"plotly_white\"\n",
    "\n",
    "NOTEBOOK_ID = \"07_graph_objects\"\n",
    "\n",
    "# 📁 Ensure export folders exist for this notebook\n",
    "EXPORT_BASE = PROJECT_ROOT / \"exports\"\n",
    "EXPORT_HTML = EXPORT_BASE / \"html\" / NOTEBOOK_ID\n",
    "EXPORT_IMG = EXPORT_BASE / \"images\" / NOTEBOOK_ID\n",
    "\n",
    "EXPORT_HTML.mkdir(parents=True, exist_ok=True)\n",
    "EXPORT_IMG.mkdir(parents=True, exist_ok=True)\n",
    "\n",
    "print(\"✅ Plotly Project Utils Loaded\")\n"
   ]
  },
  {
   "cell_type": "code",
   "execution_count": 2,
   "id": "0761df3f",
   "metadata": {},
   "outputs": [
    {
     "data": {
      "text/html": [
       "<div>\n",
       "<style scoped>\n",
       "    .dataframe tbody tr th:only-of-type {\n",
       "        vertical-align: middle;\n",
       "    }\n",
       "\n",
       "    .dataframe tbody tr th {\n",
       "        vertical-align: top;\n",
       "    }\n",
       "\n",
       "    .dataframe thead th {\n",
       "        text-align: right;\n",
       "    }\n",
       "</style>\n",
       "<table border=\"1\" class=\"dataframe\">\n",
       "  <thead>\n",
       "    <tr style=\"text-align: right;\">\n",
       "      <th></th>\n",
       "      <th>OrderID</th>\n",
       "      <th>OrderDate</th>\n",
       "      <th>Category</th>\n",
       "      <th>SubCategory</th>\n",
       "      <th>Region</th>\n",
       "      <th>Sales</th>\n",
       "      <th>Profit</th>\n",
       "    </tr>\n",
       "  </thead>\n",
       "  <tbody>\n",
       "    <tr>\n",
       "      <th>0</th>\n",
       "      <td>56bf2d38-cc21-4993-b86a-6715422b9b46</td>\n",
       "      <td>2024-11-05</td>\n",
       "      <td>Technology</td>\n",
       "      <td>Phones</td>\n",
       "      <td>East</td>\n",
       "      <td>744.13</td>\n",
       "      <td>-2.04</td>\n",
       "    </tr>\n",
       "    <tr>\n",
       "      <th>1</th>\n",
       "      <td>8dd59406-ef89-4f24-a639-9a1634c23673</td>\n",
       "      <td>2025-01-30</td>\n",
       "      <td>Furniture</td>\n",
       "      <td>Bookcases</td>\n",
       "      <td>East</td>\n",
       "      <td>679.93</td>\n",
       "      <td>256.87</td>\n",
       "    </tr>\n",
       "    <tr>\n",
       "      <th>2</th>\n",
       "      <td>4a444c57-04f3-417e-b016-f32e17731401</td>\n",
       "      <td>2024-12-21</td>\n",
       "      <td>Furniture</td>\n",
       "      <td>Bookcases</td>\n",
       "      <td>South</td>\n",
       "      <td>41.46</td>\n",
       "      <td>-62.52</td>\n",
       "    </tr>\n",
       "    <tr>\n",
       "      <th>3</th>\n",
       "      <td>3eab8292-a2e8-4bf9-9e1d-45fd2e608a12</td>\n",
       "      <td>2024-09-25</td>\n",
       "      <td>Furniture</td>\n",
       "      <td>Bookcases</td>\n",
       "      <td>East</td>\n",
       "      <td>565.63</td>\n",
       "      <td>186.41</td>\n",
       "    </tr>\n",
       "    <tr>\n",
       "      <th>4</th>\n",
       "      <td>a8e906c3-07c6-4109-a477-9bbae9de08cc</td>\n",
       "      <td>2025-05-19</td>\n",
       "      <td>Technology</td>\n",
       "      <td>Accessories</td>\n",
       "      <td>South</td>\n",
       "      <td>228.24</td>\n",
       "      <td>135.71</td>\n",
       "    </tr>\n",
       "  </tbody>\n",
       "</table>\n",
       "</div>"
      ],
      "text/plain": [
       "                                OrderID   OrderDate    Category  SubCategory  \\\n",
       "0  56bf2d38-cc21-4993-b86a-6715422b9b46  2024-11-05  Technology       Phones   \n",
       "1  8dd59406-ef89-4f24-a639-9a1634c23673  2025-01-30   Furniture    Bookcases   \n",
       "2  4a444c57-04f3-417e-b016-f32e17731401  2024-12-21   Furniture    Bookcases   \n",
       "3  3eab8292-a2e8-4bf9-9e1d-45fd2e608a12  2024-09-25   Furniture    Bookcases   \n",
       "4  a8e906c3-07c6-4109-a477-9bbae9de08cc  2025-05-19  Technology  Accessories   \n",
       "\n",
       "  Region   Sales  Profit  \n",
       "0   East  744.13   -2.04  \n",
       "1   East  679.93  256.87  \n",
       "2  South   41.46  -62.52  \n",
       "3   East  565.63  186.41  \n",
       "4  South  228.24  135.71  "
      ]
     },
     "execution_count": 2,
     "metadata": {},
     "output_type": "execute_result"
    }
   ],
   "source": [
    "# 📊 Load Dataset\n",
    "\n",
    "df = pd.read_csv(PROJECT_ROOT / \"datasets/superstore.csv\")\n",
    "df.head()"
   ]
  },
  {
   "cell_type": "code",
   "execution_count": 3,
   "id": "4e15b039",
   "metadata": {},
   "outputs": [
    {
     "data": {
      "application/vnd.plotly.v1+json": {
       "config": {
        "plotlyServerURL": "https://plot.ly"
       },
       "data": [
        {
         "type": "bar",
         "x": [
          "Laptops",
          "Accessories",
          "Pens",
          "Phones",
          "Tables",
          "Paper",
          "Bookcases",
          "Chairs",
          "Binders"
         ],
         "y": {
          "bdata": "7FG4HpVV8UAK16NwAYPwQFyPwvXQ++xA7FG4Hg1X7EBmZmZmpuDrQM3MzMy0GepAFK5H4bLc6EDhehSuF7ToQFyPwvXgVuhA",
          "dtype": "f8"
         }
        }
       ],
       "layout": {
        "showlegend": true,
        "template": {
         "data": {
          "bar": [
           {
            "error_x": {
             "color": "#2a3f5f"
            },
            "error_y": {
             "color": "#2a3f5f"
            },
            "marker": {
             "line": {
              "color": "white",
              "width": 0.5
             },
             "pattern": {
              "fillmode": "overlay",
              "size": 10,
              "solidity": 0.2
             }
            },
            "type": "bar"
           }
          ],
          "barpolar": [
           {
            "marker": {
             "line": {
              "color": "white",
              "width": 0.5
             },
             "pattern": {
              "fillmode": "overlay",
              "size": 10,
              "solidity": 0.2
             }
            },
            "type": "barpolar"
           }
          ],
          "carpet": [
           {
            "aaxis": {
             "endlinecolor": "#2a3f5f",
             "gridcolor": "#C8D4E3",
             "linecolor": "#C8D4E3",
             "minorgridcolor": "#C8D4E3",
             "startlinecolor": "#2a3f5f"
            },
            "baxis": {
             "endlinecolor": "#2a3f5f",
             "gridcolor": "#C8D4E3",
             "linecolor": "#C8D4E3",
             "minorgridcolor": "#C8D4E3",
             "startlinecolor": "#2a3f5f"
            },
            "type": "carpet"
           }
          ],
          "choropleth": [
           {
            "colorbar": {
             "outlinewidth": 0,
             "ticks": ""
            },
            "type": "choropleth"
           }
          ],
          "contour": [
           {
            "colorbar": {
             "outlinewidth": 0,
             "ticks": ""
            },
            "colorscale": [
             [
              0,
              "#0d0887"
             ],
             [
              0.1111111111111111,
              "#46039f"
             ],
             [
              0.2222222222222222,
              "#7201a8"
             ],
             [
              0.3333333333333333,
              "#9c179e"
             ],
             [
              0.4444444444444444,
              "#bd3786"
             ],
             [
              0.5555555555555556,
              "#d8576b"
             ],
             [
              0.6666666666666666,
              "#ed7953"
             ],
             [
              0.7777777777777778,
              "#fb9f3a"
             ],
             [
              0.8888888888888888,
              "#fdca26"
             ],
             [
              1,
              "#f0f921"
             ]
            ],
            "type": "contour"
           }
          ],
          "contourcarpet": [
           {
            "colorbar": {
             "outlinewidth": 0,
             "ticks": ""
            },
            "type": "contourcarpet"
           }
          ],
          "heatmap": [
           {
            "colorbar": {
             "outlinewidth": 0,
             "ticks": ""
            },
            "colorscale": [
             [
              0,
              "#0d0887"
             ],
             [
              0.1111111111111111,
              "#46039f"
             ],
             [
              0.2222222222222222,
              "#7201a8"
             ],
             [
              0.3333333333333333,
              "#9c179e"
             ],
             [
              0.4444444444444444,
              "#bd3786"
             ],
             [
              0.5555555555555556,
              "#d8576b"
             ],
             [
              0.6666666666666666,
              "#ed7953"
             ],
             [
              0.7777777777777778,
              "#fb9f3a"
             ],
             [
              0.8888888888888888,
              "#fdca26"
             ],
             [
              1,
              "#f0f921"
             ]
            ],
            "type": "heatmap"
           }
          ],
          "histogram": [
           {
            "marker": {
             "pattern": {
              "fillmode": "overlay",
              "size": 10,
              "solidity": 0.2
             }
            },
            "type": "histogram"
           }
          ],
          "histogram2d": [
           {
            "colorbar": {
             "outlinewidth": 0,
             "ticks": ""
            },
            "colorscale": [
             [
              0,
              "#0d0887"
             ],
             [
              0.1111111111111111,
              "#46039f"
             ],
             [
              0.2222222222222222,
              "#7201a8"
             ],
             [
              0.3333333333333333,
              "#9c179e"
             ],
             [
              0.4444444444444444,
              "#bd3786"
             ],
             [
              0.5555555555555556,
              "#d8576b"
             ],
             [
              0.6666666666666666,
              "#ed7953"
             ],
             [
              0.7777777777777778,
              "#fb9f3a"
             ],
             [
              0.8888888888888888,
              "#fdca26"
             ],
             [
              1,
              "#f0f921"
             ]
            ],
            "type": "histogram2d"
           }
          ],
          "histogram2dcontour": [
           {
            "colorbar": {
             "outlinewidth": 0,
             "ticks": ""
            },
            "colorscale": [
             [
              0,
              "#0d0887"
             ],
             [
              0.1111111111111111,
              "#46039f"
             ],
             [
              0.2222222222222222,
              "#7201a8"
             ],
             [
              0.3333333333333333,
              "#9c179e"
             ],
             [
              0.4444444444444444,
              "#bd3786"
             ],
             [
              0.5555555555555556,
              "#d8576b"
             ],
             [
              0.6666666666666666,
              "#ed7953"
             ],
             [
              0.7777777777777778,
              "#fb9f3a"
             ],
             [
              0.8888888888888888,
              "#fdca26"
             ],
             [
              1,
              "#f0f921"
             ]
            ],
            "type": "histogram2dcontour"
           }
          ],
          "mesh3d": [
           {
            "colorbar": {
             "outlinewidth": 0,
             "ticks": ""
            },
            "type": "mesh3d"
           }
          ],
          "parcoords": [
           {
            "line": {
             "colorbar": {
              "outlinewidth": 0,
              "ticks": ""
             }
            },
            "type": "parcoords"
           }
          ],
          "pie": [
           {
            "automargin": true,
            "type": "pie"
           }
          ],
          "scatter": [
           {
            "fillpattern": {
             "fillmode": "overlay",
             "size": 10,
             "solidity": 0.2
            },
            "type": "scatter"
           }
          ],
          "scatter3d": [
           {
            "line": {
             "colorbar": {
              "outlinewidth": 0,
              "ticks": ""
             }
            },
            "marker": {
             "colorbar": {
              "outlinewidth": 0,
              "ticks": ""
             }
            },
            "type": "scatter3d"
           }
          ],
          "scattercarpet": [
           {
            "marker": {
             "colorbar": {
              "outlinewidth": 0,
              "ticks": ""
             }
            },
            "type": "scattercarpet"
           }
          ],
          "scattergeo": [
           {
            "marker": {
             "colorbar": {
              "outlinewidth": 0,
              "ticks": ""
             }
            },
            "type": "scattergeo"
           }
          ],
          "scattergl": [
           {
            "marker": {
             "colorbar": {
              "outlinewidth": 0,
              "ticks": ""
             }
            },
            "type": "scattergl"
           }
          ],
          "scattermap": [
           {
            "marker": {
             "colorbar": {
              "outlinewidth": 0,
              "ticks": ""
             }
            },
            "type": "scattermap"
           }
          ],
          "scattermapbox": [
           {
            "marker": {
             "colorbar": {
              "outlinewidth": 0,
              "ticks": ""
             }
            },
            "type": "scattermapbox"
           }
          ],
          "scatterpolar": [
           {
            "marker": {
             "colorbar": {
              "outlinewidth": 0,
              "ticks": ""
             }
            },
            "type": "scatterpolar"
           }
          ],
          "scatterpolargl": [
           {
            "marker": {
             "colorbar": {
              "outlinewidth": 0,
              "ticks": ""
             }
            },
            "type": "scatterpolargl"
           }
          ],
          "scatterternary": [
           {
            "marker": {
             "colorbar": {
              "outlinewidth": 0,
              "ticks": ""
             }
            },
            "type": "scatterternary"
           }
          ],
          "surface": [
           {
            "colorbar": {
             "outlinewidth": 0,
             "ticks": ""
            },
            "colorscale": [
             [
              0,
              "#0d0887"
             ],
             [
              0.1111111111111111,
              "#46039f"
             ],
             [
              0.2222222222222222,
              "#7201a8"
             ],
             [
              0.3333333333333333,
              "#9c179e"
             ],
             [
              0.4444444444444444,
              "#bd3786"
             ],
             [
              0.5555555555555556,
              "#d8576b"
             ],
             [
              0.6666666666666666,
              "#ed7953"
             ],
             [
              0.7777777777777778,
              "#fb9f3a"
             ],
             [
              0.8888888888888888,
              "#fdca26"
             ],
             [
              1,
              "#f0f921"
             ]
            ],
            "type": "surface"
           }
          ],
          "table": [
           {
            "cells": {
             "fill": {
              "color": "#EBF0F8"
             },
             "line": {
              "color": "white"
             }
            },
            "header": {
             "fill": {
              "color": "#C8D4E3"
             },
             "line": {
              "color": "white"
             }
            },
            "type": "table"
           }
          ]
         },
         "layout": {
          "annotationdefaults": {
           "arrowcolor": "#2a3f5f",
           "arrowhead": 0,
           "arrowwidth": 1
          },
          "autotypenumbers": "strict",
          "coloraxis": {
           "colorbar": {
            "outlinewidth": 0,
            "ticks": ""
           }
          },
          "colorscale": {
           "diverging": [
            [
             0,
             "#8e0152"
            ],
            [
             0.1,
             "#c51b7d"
            ],
            [
             0.2,
             "#de77ae"
            ],
            [
             0.3,
             "#f1b6da"
            ],
            [
             0.4,
             "#fde0ef"
            ],
            [
             0.5,
             "#f7f7f7"
            ],
            [
             0.6,
             "#e6f5d0"
            ],
            [
             0.7,
             "#b8e186"
            ],
            [
             0.8,
             "#7fbc41"
            ],
            [
             0.9,
             "#4d9221"
            ],
            [
             1,
             "#276419"
            ]
           ],
           "sequential": [
            [
             0,
             "#0d0887"
            ],
            [
             0.1111111111111111,
             "#46039f"
            ],
            [
             0.2222222222222222,
             "#7201a8"
            ],
            [
             0.3333333333333333,
             "#9c179e"
            ],
            [
             0.4444444444444444,
             "#bd3786"
            ],
            [
             0.5555555555555556,
             "#d8576b"
            ],
            [
             0.6666666666666666,
             "#ed7953"
            ],
            [
             0.7777777777777778,
             "#fb9f3a"
            ],
            [
             0.8888888888888888,
             "#fdca26"
            ],
            [
             1,
             "#f0f921"
            ]
           ],
           "sequentialminus": [
            [
             0,
             "#0d0887"
            ],
            [
             0.1111111111111111,
             "#46039f"
            ],
            [
             0.2222222222222222,
             "#7201a8"
            ],
            [
             0.3333333333333333,
             "#9c179e"
            ],
            [
             0.4444444444444444,
             "#bd3786"
            ],
            [
             0.5555555555555556,
             "#d8576b"
            ],
            [
             0.6666666666666666,
             "#ed7953"
            ],
            [
             0.7777777777777778,
             "#fb9f3a"
            ],
            [
             0.8888888888888888,
             "#fdca26"
            ],
            [
             1,
             "#f0f921"
            ]
           ]
          },
          "colorway": [
           "#636efa",
           "#EF553B",
           "#00cc96",
           "#ab63fa",
           "#FFA15A",
           "#19d3f3",
           "#FF6692",
           "#B6E880",
           "#FF97FF",
           "#FECB52"
          ],
          "font": {
           "color": "#2a3f5f"
          },
          "geo": {
           "bgcolor": "white",
           "lakecolor": "white",
           "landcolor": "white",
           "showlakes": true,
           "showland": true,
           "subunitcolor": "#C8D4E3"
          },
          "hoverlabel": {
           "align": "left"
          },
          "hovermode": "closest",
          "mapbox": {
           "style": "light"
          },
          "paper_bgcolor": "white",
          "plot_bgcolor": "white",
          "polar": {
           "angularaxis": {
            "gridcolor": "#EBF0F8",
            "linecolor": "#EBF0F8",
            "ticks": ""
           },
           "bgcolor": "white",
           "radialaxis": {
            "gridcolor": "#EBF0F8",
            "linecolor": "#EBF0F8",
            "ticks": ""
           }
          },
          "scene": {
           "xaxis": {
            "backgroundcolor": "white",
            "gridcolor": "#DFE8F3",
            "gridwidth": 2,
            "linecolor": "#EBF0F8",
            "showbackground": true,
            "ticks": "",
            "zerolinecolor": "#EBF0F8"
           },
           "yaxis": {
            "backgroundcolor": "white",
            "gridcolor": "#DFE8F3",
            "gridwidth": 2,
            "linecolor": "#EBF0F8",
            "showbackground": true,
            "ticks": "",
            "zerolinecolor": "#EBF0F8"
           },
           "zaxis": {
            "backgroundcolor": "white",
            "gridcolor": "#DFE8F3",
            "gridwidth": 2,
            "linecolor": "#EBF0F8",
            "showbackground": true,
            "ticks": "",
            "zerolinecolor": "#EBF0F8"
           }
          },
          "shapedefaults": {
           "line": {
            "color": "#2a3f5f"
           }
          },
          "ternary": {
           "aaxis": {
            "gridcolor": "#DFE8F3",
            "linecolor": "#A2B1C6",
            "ticks": ""
           },
           "baxis": {
            "gridcolor": "#DFE8F3",
            "linecolor": "#A2B1C6",
            "ticks": ""
           },
           "bgcolor": "white",
           "caxis": {
            "gridcolor": "#DFE8F3",
            "linecolor": "#A2B1C6",
            "ticks": ""
           }
          },
          "title": {
           "x": 0.05
          },
          "xaxis": {
           "automargin": true,
           "gridcolor": "#EBF0F8",
           "linecolor": "#EBF0F8",
           "ticks": "",
           "title": {
            "standoff": 15
           },
           "zerolinecolor": "#EBF0F8",
           "zerolinewidth": 2
          },
          "yaxis": {
           "automargin": true,
           "gridcolor": "#EBF0F8",
           "linecolor": "#EBF0F8",
           "ticks": "",
           "title": {
            "standoff": 15
           },
           "zerolinecolor": "#EBF0F8",
           "zerolinewidth": 2
          }
         }
        },
        "title": {},
        "xaxis": {
         "title": {
          "text": "SubCategory"
         }
        },
        "yaxis": {
         "title": {
          "text": "Sales"
         }
        }
       }
      }
     },
     "metadata": {},
     "output_type": "display_data"
    }
   ],
   "source": [
    "# 📘 Manual Bar Chart using go.Bar\n",
    "\n",
    "sales_df = df.groupby(\"SubCategory\")[\"Sales\"].sum().sort_values(ascending=False).reset_index()\n",
    "\n",
    "fig1 = create_go_figure(title=\"Total Sales by SubCategory (go.Bar)\")\n",
    "trace = go.Bar(x=sales_df[\"SubCategory\"], y=sales_df[\"Sales\"])\n",
    "add_trace_go(fig1, trace)\n",
    "update_go_layout(fig1, xaxis_title=\"SubCategory\", yaxis_title=\"Sales\")\n",
    "fig1.show()"
   ]
  },
  {
   "cell_type": "code",
   "execution_count": 4,
   "id": "87f9aefc",
   "metadata": {},
   "outputs": [
    {
     "data": {
      "application/vnd.plotly.v1+json": {
       "config": {
        "plotlyServerURL": "https://plot.ly"
       },
       "data": [
        {
         "mode": "markers+text",
         "text": [
          "Accessories",
          "Binders",
          "Bookcases",
          "Chairs",
          "Laptops",
          "Paper",
          "Pens",
          "Phones",
          "Tables"
         ],
         "textposition": "top center",
         "type": "scatter",
         "x": {
          "bdata": "CtejcAGD8EBcj8L14FboQBSuR+Gy3OhA4XoUrhe06EDsUbgelVXxQM3MzMy0GepAXI/C9dD77EDsUbgeDVfsQGZmZmam4OtA",
          "dtype": "f8"
         },
         "y": {
          "bdata": "16NwPequyEBmZmZm5qzDQD0K16PwZ8dAcT0K1wPfw0AAAAAAQIbLQD0K16NwtMVAcT0K18OBxkAUrkfhelDFQMP1KFyPIcVA",
          "dtype": "f8"
         }
        }
       ],
       "layout": {
        "annotations": [
         {
          "showarrow": true,
          "text": "High Profit Zone",
          "x": 1000,
          "xref": "x",
          "y": 200,
          "yref": "y"
         }
        ],
        "showlegend": true,
        "template": {
         "data": {
          "bar": [
           {
            "error_x": {
             "color": "#2a3f5f"
            },
            "error_y": {
             "color": "#2a3f5f"
            },
            "marker": {
             "line": {
              "color": "white",
              "width": 0.5
             },
             "pattern": {
              "fillmode": "overlay",
              "size": 10,
              "solidity": 0.2
             }
            },
            "type": "bar"
           }
          ],
          "barpolar": [
           {
            "marker": {
             "line": {
              "color": "white",
              "width": 0.5
             },
             "pattern": {
              "fillmode": "overlay",
              "size": 10,
              "solidity": 0.2
             }
            },
            "type": "barpolar"
           }
          ],
          "carpet": [
           {
            "aaxis": {
             "endlinecolor": "#2a3f5f",
             "gridcolor": "#C8D4E3",
             "linecolor": "#C8D4E3",
             "minorgridcolor": "#C8D4E3",
             "startlinecolor": "#2a3f5f"
            },
            "baxis": {
             "endlinecolor": "#2a3f5f",
             "gridcolor": "#C8D4E3",
             "linecolor": "#C8D4E3",
             "minorgridcolor": "#C8D4E3",
             "startlinecolor": "#2a3f5f"
            },
            "type": "carpet"
           }
          ],
          "choropleth": [
           {
            "colorbar": {
             "outlinewidth": 0,
             "ticks": ""
            },
            "type": "choropleth"
           }
          ],
          "contour": [
           {
            "colorbar": {
             "outlinewidth": 0,
             "ticks": ""
            },
            "colorscale": [
             [
              0,
              "#0d0887"
             ],
             [
              0.1111111111111111,
              "#46039f"
             ],
             [
              0.2222222222222222,
              "#7201a8"
             ],
             [
              0.3333333333333333,
              "#9c179e"
             ],
             [
              0.4444444444444444,
              "#bd3786"
             ],
             [
              0.5555555555555556,
              "#d8576b"
             ],
             [
              0.6666666666666666,
              "#ed7953"
             ],
             [
              0.7777777777777778,
              "#fb9f3a"
             ],
             [
              0.8888888888888888,
              "#fdca26"
             ],
             [
              1,
              "#f0f921"
             ]
            ],
            "type": "contour"
           }
          ],
          "contourcarpet": [
           {
            "colorbar": {
             "outlinewidth": 0,
             "ticks": ""
            },
            "type": "contourcarpet"
           }
          ],
          "heatmap": [
           {
            "colorbar": {
             "outlinewidth": 0,
             "ticks": ""
            },
            "colorscale": [
             [
              0,
              "#0d0887"
             ],
             [
              0.1111111111111111,
              "#46039f"
             ],
             [
              0.2222222222222222,
              "#7201a8"
             ],
             [
              0.3333333333333333,
              "#9c179e"
             ],
             [
              0.4444444444444444,
              "#bd3786"
             ],
             [
              0.5555555555555556,
              "#d8576b"
             ],
             [
              0.6666666666666666,
              "#ed7953"
             ],
             [
              0.7777777777777778,
              "#fb9f3a"
             ],
             [
              0.8888888888888888,
              "#fdca26"
             ],
             [
              1,
              "#f0f921"
             ]
            ],
            "type": "heatmap"
           }
          ],
          "histogram": [
           {
            "marker": {
             "pattern": {
              "fillmode": "overlay",
              "size": 10,
              "solidity": 0.2
             }
            },
            "type": "histogram"
           }
          ],
          "histogram2d": [
           {
            "colorbar": {
             "outlinewidth": 0,
             "ticks": ""
            },
            "colorscale": [
             [
              0,
              "#0d0887"
             ],
             [
              0.1111111111111111,
              "#46039f"
             ],
             [
              0.2222222222222222,
              "#7201a8"
             ],
             [
              0.3333333333333333,
              "#9c179e"
             ],
             [
              0.4444444444444444,
              "#bd3786"
             ],
             [
              0.5555555555555556,
              "#d8576b"
             ],
             [
              0.6666666666666666,
              "#ed7953"
             ],
             [
              0.7777777777777778,
              "#fb9f3a"
             ],
             [
              0.8888888888888888,
              "#fdca26"
             ],
             [
              1,
              "#f0f921"
             ]
            ],
            "type": "histogram2d"
           }
          ],
          "histogram2dcontour": [
           {
            "colorbar": {
             "outlinewidth": 0,
             "ticks": ""
            },
            "colorscale": [
             [
              0,
              "#0d0887"
             ],
             [
              0.1111111111111111,
              "#46039f"
             ],
             [
              0.2222222222222222,
              "#7201a8"
             ],
             [
              0.3333333333333333,
              "#9c179e"
             ],
             [
              0.4444444444444444,
              "#bd3786"
             ],
             [
              0.5555555555555556,
              "#d8576b"
             ],
             [
              0.6666666666666666,
              "#ed7953"
             ],
             [
              0.7777777777777778,
              "#fb9f3a"
             ],
             [
              0.8888888888888888,
              "#fdca26"
             ],
             [
              1,
              "#f0f921"
             ]
            ],
            "type": "histogram2dcontour"
           }
          ],
          "mesh3d": [
           {
            "colorbar": {
             "outlinewidth": 0,
             "ticks": ""
            },
            "type": "mesh3d"
           }
          ],
          "parcoords": [
           {
            "line": {
             "colorbar": {
              "outlinewidth": 0,
              "ticks": ""
             }
            },
            "type": "parcoords"
           }
          ],
          "pie": [
           {
            "automargin": true,
            "type": "pie"
           }
          ],
          "scatter": [
           {
            "fillpattern": {
             "fillmode": "overlay",
             "size": 10,
             "solidity": 0.2
            },
            "type": "scatter"
           }
          ],
          "scatter3d": [
           {
            "line": {
             "colorbar": {
              "outlinewidth": 0,
              "ticks": ""
             }
            },
            "marker": {
             "colorbar": {
              "outlinewidth": 0,
              "ticks": ""
             }
            },
            "type": "scatter3d"
           }
          ],
          "scattercarpet": [
           {
            "marker": {
             "colorbar": {
              "outlinewidth": 0,
              "ticks": ""
             }
            },
            "type": "scattercarpet"
           }
          ],
          "scattergeo": [
           {
            "marker": {
             "colorbar": {
              "outlinewidth": 0,
              "ticks": ""
             }
            },
            "type": "scattergeo"
           }
          ],
          "scattergl": [
           {
            "marker": {
             "colorbar": {
              "outlinewidth": 0,
              "ticks": ""
             }
            },
            "type": "scattergl"
           }
          ],
          "scattermap": [
           {
            "marker": {
             "colorbar": {
              "outlinewidth": 0,
              "ticks": ""
             }
            },
            "type": "scattermap"
           }
          ],
          "scattermapbox": [
           {
            "marker": {
             "colorbar": {
              "outlinewidth": 0,
              "ticks": ""
             }
            },
            "type": "scattermapbox"
           }
          ],
          "scatterpolar": [
           {
            "marker": {
             "colorbar": {
              "outlinewidth": 0,
              "ticks": ""
             }
            },
            "type": "scatterpolar"
           }
          ],
          "scatterpolargl": [
           {
            "marker": {
             "colorbar": {
              "outlinewidth": 0,
              "ticks": ""
             }
            },
            "type": "scatterpolargl"
           }
          ],
          "scatterternary": [
           {
            "marker": {
             "colorbar": {
              "outlinewidth": 0,
              "ticks": ""
             }
            },
            "type": "scatterternary"
           }
          ],
          "surface": [
           {
            "colorbar": {
             "outlinewidth": 0,
             "ticks": ""
            },
            "colorscale": [
             [
              0,
              "#0d0887"
             ],
             [
              0.1111111111111111,
              "#46039f"
             ],
             [
              0.2222222222222222,
              "#7201a8"
             ],
             [
              0.3333333333333333,
              "#9c179e"
             ],
             [
              0.4444444444444444,
              "#bd3786"
             ],
             [
              0.5555555555555556,
              "#d8576b"
             ],
             [
              0.6666666666666666,
              "#ed7953"
             ],
             [
              0.7777777777777778,
              "#fb9f3a"
             ],
             [
              0.8888888888888888,
              "#fdca26"
             ],
             [
              1,
              "#f0f921"
             ]
            ],
            "type": "surface"
           }
          ],
          "table": [
           {
            "cells": {
             "fill": {
              "color": "#EBF0F8"
             },
             "line": {
              "color": "white"
             }
            },
            "header": {
             "fill": {
              "color": "#C8D4E3"
             },
             "line": {
              "color": "white"
             }
            },
            "type": "table"
           }
          ]
         },
         "layout": {
          "annotationdefaults": {
           "arrowcolor": "#2a3f5f",
           "arrowhead": 0,
           "arrowwidth": 1
          },
          "autotypenumbers": "strict",
          "coloraxis": {
           "colorbar": {
            "outlinewidth": 0,
            "ticks": ""
           }
          },
          "colorscale": {
           "diverging": [
            [
             0,
             "#8e0152"
            ],
            [
             0.1,
             "#c51b7d"
            ],
            [
             0.2,
             "#de77ae"
            ],
            [
             0.3,
             "#f1b6da"
            ],
            [
             0.4,
             "#fde0ef"
            ],
            [
             0.5,
             "#f7f7f7"
            ],
            [
             0.6,
             "#e6f5d0"
            ],
            [
             0.7,
             "#b8e186"
            ],
            [
             0.8,
             "#7fbc41"
            ],
            [
             0.9,
             "#4d9221"
            ],
            [
             1,
             "#276419"
            ]
           ],
           "sequential": [
            [
             0,
             "#0d0887"
            ],
            [
             0.1111111111111111,
             "#46039f"
            ],
            [
             0.2222222222222222,
             "#7201a8"
            ],
            [
             0.3333333333333333,
             "#9c179e"
            ],
            [
             0.4444444444444444,
             "#bd3786"
            ],
            [
             0.5555555555555556,
             "#d8576b"
            ],
            [
             0.6666666666666666,
             "#ed7953"
            ],
            [
             0.7777777777777778,
             "#fb9f3a"
            ],
            [
             0.8888888888888888,
             "#fdca26"
            ],
            [
             1,
             "#f0f921"
            ]
           ],
           "sequentialminus": [
            [
             0,
             "#0d0887"
            ],
            [
             0.1111111111111111,
             "#46039f"
            ],
            [
             0.2222222222222222,
             "#7201a8"
            ],
            [
             0.3333333333333333,
             "#9c179e"
            ],
            [
             0.4444444444444444,
             "#bd3786"
            ],
            [
             0.5555555555555556,
             "#d8576b"
            ],
            [
             0.6666666666666666,
             "#ed7953"
            ],
            [
             0.7777777777777778,
             "#fb9f3a"
            ],
            [
             0.8888888888888888,
             "#fdca26"
            ],
            [
             1,
             "#f0f921"
            ]
           ]
          },
          "colorway": [
           "#636efa",
           "#EF553B",
           "#00cc96",
           "#ab63fa",
           "#FFA15A",
           "#19d3f3",
           "#FF6692",
           "#B6E880",
           "#FF97FF",
           "#FECB52"
          ],
          "font": {
           "color": "#2a3f5f"
          },
          "geo": {
           "bgcolor": "white",
           "lakecolor": "white",
           "landcolor": "white",
           "showlakes": true,
           "showland": true,
           "subunitcolor": "#C8D4E3"
          },
          "hoverlabel": {
           "align": "left"
          },
          "hovermode": "closest",
          "mapbox": {
           "style": "light"
          },
          "paper_bgcolor": "white",
          "plot_bgcolor": "white",
          "polar": {
           "angularaxis": {
            "gridcolor": "#EBF0F8",
            "linecolor": "#EBF0F8",
            "ticks": ""
           },
           "bgcolor": "white",
           "radialaxis": {
            "gridcolor": "#EBF0F8",
            "linecolor": "#EBF0F8",
            "ticks": ""
           }
          },
          "scene": {
           "xaxis": {
            "backgroundcolor": "white",
            "gridcolor": "#DFE8F3",
            "gridwidth": 2,
            "linecolor": "#EBF0F8",
            "showbackground": true,
            "ticks": "",
            "zerolinecolor": "#EBF0F8"
           },
           "yaxis": {
            "backgroundcolor": "white",
            "gridcolor": "#DFE8F3",
            "gridwidth": 2,
            "linecolor": "#EBF0F8",
            "showbackground": true,
            "ticks": "",
            "zerolinecolor": "#EBF0F8"
           },
           "zaxis": {
            "backgroundcolor": "white",
            "gridcolor": "#DFE8F3",
            "gridwidth": 2,
            "linecolor": "#EBF0F8",
            "showbackground": true,
            "ticks": "",
            "zerolinecolor": "#EBF0F8"
           }
          },
          "shapedefaults": {
           "line": {
            "color": "#2a3f5f"
           }
          },
          "ternary": {
           "aaxis": {
            "gridcolor": "#DFE8F3",
            "linecolor": "#A2B1C6",
            "ticks": ""
           },
           "baxis": {
            "gridcolor": "#DFE8F3",
            "linecolor": "#A2B1C6",
            "ticks": ""
           },
           "bgcolor": "white",
           "caxis": {
            "gridcolor": "#DFE8F3",
            "linecolor": "#A2B1C6",
            "ticks": ""
           }
          },
          "title": {
           "x": 0.05
          },
          "xaxis": {
           "automargin": true,
           "gridcolor": "#EBF0F8",
           "linecolor": "#EBF0F8",
           "ticks": "",
           "title": {
            "standoff": 15
           },
           "zerolinecolor": "#EBF0F8",
           "zerolinewidth": 2
          },
          "yaxis": {
           "automargin": true,
           "gridcolor": "#EBF0F8",
           "linecolor": "#EBF0F8",
           "ticks": "",
           "title": {
            "standoff": 15
           },
           "zerolinecolor": "#EBF0F8",
           "zerolinewidth": 2
          }
         }
        },
        "title": {},
        "xaxis": {
         "title": {
          "text": "Sales"
         }
        },
        "yaxis": {
         "title": {
          "text": "Profit"
         }
        }
       }
      }
     },
     "metadata": {},
     "output_type": "display_data"
    }
   ],
   "source": [
    "# 📘 Scatter with Annotation\n",
    "\n",
    "agg_df = df.groupby(\"SubCategory\")[[\"Sales\", \"Profit\"]].sum().reset_index()\n",
    "\n",
    "fig2 = create_go_figure(\"Sales vs Profit with Annotation\")\n",
    "trace = go.Scatter(\n",
    "    x=agg_df[\"Sales\"], y=agg_df[\"Profit\"],\n",
    "    mode=\"markers+text\",\n",
    "    text=agg_df[\"SubCategory\"],\n",
    "    textposition=\"top center\"\n",
    ")\n",
    "add_trace_go(fig2, trace)\n",
    "\n",
    "# Annotate a point manually\n",
    "fig2 = add_annotation_go(fig2, text=\"High Profit Zone\", x=1000, y=200, showarrow=True)\n",
    "update_go_layout(fig2, xaxis_title=\"Sales\", yaxis_title=\"Profit\")\n",
    "fig2.show()"
   ]
  },
  {
   "cell_type": "code",
   "execution_count": 5,
   "id": "2f7c6c17",
   "metadata": {},
   "outputs": [
    {
     "data": {
      "application/vnd.plotly.v1+json": {
       "config": {
        "plotlyServerURL": "https://plot.ly"
       },
       "data": [
        {
         "name": "Profit",
         "type": "box",
         "y": {
          "bdata": "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",
          "dtype": "f8"
         }
        }
       ],
       "layout": {
        "shapes": [
         {
          "line": {
           "color": "red",
           "dash": "dash",
           "width": 2
          },
          "type": "line",
          "x0": 0,
          "x1": 1,
          "xref": "paper",
          "y0": 100,
          "y1": 100,
          "yref": "y"
         }
        ],
        "showlegend": true,
        "template": {
         "data": {
          "bar": [
           {
            "error_x": {
             "color": "#2a3f5f"
            },
            "error_y": {
             "color": "#2a3f5f"
            },
            "marker": {
             "line": {
              "color": "white",
              "width": 0.5
             },
             "pattern": {
              "fillmode": "overlay",
              "size": 10,
              "solidity": 0.2
             }
            },
            "type": "bar"
           }
          ],
          "barpolar": [
           {
            "marker": {
             "line": {
              "color": "white",
              "width": 0.5
             },
             "pattern": {
              "fillmode": "overlay",
              "size": 10,
              "solidity": 0.2
             }
            },
            "type": "barpolar"
           }
          ],
          "carpet": [
           {
            "aaxis": {
             "endlinecolor": "#2a3f5f",
             "gridcolor": "#C8D4E3",
             "linecolor": "#C8D4E3",
             "minorgridcolor": "#C8D4E3",
             "startlinecolor": "#2a3f5f"
            },
            "baxis": {
             "endlinecolor": "#2a3f5f",
             "gridcolor": "#C8D4E3",
             "linecolor": "#C8D4E3",
             "minorgridcolor": "#C8D4E3",
             "startlinecolor": "#2a3f5f"
            },
            "type": "carpet"
           }
          ],
          "choropleth": [
           {
            "colorbar": {
             "outlinewidth": 0,
             "ticks": ""
            },
            "type": "choropleth"
           }
          ],
          "contour": [
           {
            "colorbar": {
             "outlinewidth": 0,
             "ticks": ""
            },
            "colorscale": [
             [
              0,
              "#0d0887"
             ],
             [
              0.1111111111111111,
              "#46039f"
             ],
             [
              0.2222222222222222,
              "#7201a8"
             ],
             [
              0.3333333333333333,
              "#9c179e"
             ],
             [
              0.4444444444444444,
              "#bd3786"
             ],
             [
              0.5555555555555556,
              "#d8576b"
             ],
             [
              0.6666666666666666,
              "#ed7953"
             ],
             [
              0.7777777777777778,
              "#fb9f3a"
             ],
             [
              0.8888888888888888,
              "#fdca26"
             ],
             [
              1,
              "#f0f921"
             ]
            ],
            "type": "contour"
           }
          ],
          "contourcarpet": [
           {
            "colorbar": {
             "outlinewidth": 0,
             "ticks": ""
            },
            "type": "contourcarpet"
           }
          ],
          "heatmap": [
           {
            "colorbar": {
             "outlinewidth": 0,
             "ticks": ""
            },
            "colorscale": [
             [
              0,
              "#0d0887"
             ],
             [
              0.1111111111111111,
              "#46039f"
             ],
             [
              0.2222222222222222,
              "#7201a8"
             ],
             [
              0.3333333333333333,
              "#9c179e"
             ],
             [
              0.4444444444444444,
              "#bd3786"
             ],
             [
              0.5555555555555556,
              "#d8576b"
             ],
             [
              0.6666666666666666,
              "#ed7953"
             ],
             [
              0.7777777777777778,
              "#fb9f3a"
             ],
             [
              0.8888888888888888,
              "#fdca26"
             ],
             [
              1,
              "#f0f921"
             ]
            ],
            "type": "heatmap"
           }
          ],
          "histogram": [
           {
            "marker": {
             "pattern": {
              "fillmode": "overlay",
              "size": 10,
              "solidity": 0.2
             }
            },
            "type": "histogram"
           }
          ],
          "histogram2d": [
           {
            "colorbar": {
             "outlinewidth": 0,
             "ticks": ""
            },
            "colorscale": [
             [
              0,
              "#0d0887"
             ],
             [
              0.1111111111111111,
              "#46039f"
             ],
             [
              0.2222222222222222,
              "#7201a8"
             ],
             [
              0.3333333333333333,
              "#9c179e"
             ],
             [
              0.4444444444444444,
              "#bd3786"
             ],
             [
              0.5555555555555556,
              "#d8576b"
             ],
             [
              0.6666666666666666,
              "#ed7953"
             ],
             [
              0.7777777777777778,
              "#fb9f3a"
             ],
             [
              0.8888888888888888,
              "#fdca26"
             ],
             [
              1,
              "#f0f921"
             ]
            ],
            "type": "histogram2d"
           }
          ],
          "histogram2dcontour": [
           {
            "colorbar": {
             "outlinewidth": 0,
             "ticks": ""
            },
            "colorscale": [
             [
              0,
              "#0d0887"
             ],
             [
              0.1111111111111111,
              "#46039f"
             ],
             [
              0.2222222222222222,
              "#7201a8"
             ],
             [
              0.3333333333333333,
              "#9c179e"
             ],
             [
              0.4444444444444444,
              "#bd3786"
             ],
             [
              0.5555555555555556,
              "#d8576b"
             ],
             [
              0.6666666666666666,
              "#ed7953"
             ],
             [
              0.7777777777777778,
              "#fb9f3a"
             ],
             [
              0.8888888888888888,
              "#fdca26"
             ],
             [
              1,
              "#f0f921"
             ]
            ],
            "type": "histogram2dcontour"
           }
          ],
          "mesh3d": [
           {
            "colorbar": {
             "outlinewidth": 0,
             "ticks": ""
            },
            "type": "mesh3d"
           }
          ],
          "parcoords": [
           {
            "line": {
             "colorbar": {
              "outlinewidth": 0,
              "ticks": ""
             }
            },
            "type": "parcoords"
           }
          ],
          "pie": [
           {
            "automargin": true,
            "type": "pie"
           }
          ],
          "scatter": [
           {
            "fillpattern": {
             "fillmode": "overlay",
             "size": 10,
             "solidity": 0.2
            },
            "type": "scatter"
           }
          ],
          "scatter3d": [
           {
            "line": {
             "colorbar": {
              "outlinewidth": 0,
              "ticks": ""
             }
            },
            "marker": {
             "colorbar": {
              "outlinewidth": 0,
              "ticks": ""
             }
            },
            "type": "scatter3d"
           }
          ],
          "scattercarpet": [
           {
            "marker": {
             "colorbar": {
              "outlinewidth": 0,
              "ticks": ""
             }
            },
            "type": "scattercarpet"
           }
          ],
          "scattergeo": [
           {
            "marker": {
             "colorbar": {
              "outlinewidth": 0,
              "ticks": ""
             }
            },
            "type": "scattergeo"
           }
          ],
          "scattergl": [
           {
            "marker": {
             "colorbar": {
              "outlinewidth": 0,
              "ticks": ""
             }
            },
            "type": "scattergl"
           }
          ],
          "scattermap": [
           {
            "marker": {
             "colorbar": {
              "outlinewidth": 0,
              "ticks": ""
             }
            },
            "type": "scattermap"
           }
          ],
          "scattermapbox": [
           {
            "marker": {
             "colorbar": {
              "outlinewidth": 0,
              "ticks": ""
             }
            },
            "type": "scattermapbox"
           }
          ],
          "scatterpolar": [
           {
            "marker": {
             "colorbar": {
              "outlinewidth": 0,
              "ticks": ""
             }
            },
            "type": "scatterpolar"
           }
          ],
          "scatterpolargl": [
           {
            "marker": {
             "colorbar": {
              "outlinewidth": 0,
              "ticks": ""
             }
            },
            "type": "scatterpolargl"
           }
          ],
          "scatterternary": [
           {
            "marker": {
             "colorbar": {
              "outlinewidth": 0,
              "ticks": ""
             }
            },
            "type": "scatterternary"
           }
          ],
          "surface": [
           {
            "colorbar": {
             "outlinewidth": 0,
             "ticks": ""
            },
            "colorscale": [
             [
              0,
              "#0d0887"
             ],
             [
              0.1111111111111111,
              "#46039f"
             ],
             [
              0.2222222222222222,
              "#7201a8"
             ],
             [
              0.3333333333333333,
              "#9c179e"
             ],
             [
              0.4444444444444444,
              "#bd3786"
             ],
             [
              0.5555555555555556,
              "#d8576b"
             ],
             [
              0.6666666666666666,
              "#ed7953"
             ],
             [
              0.7777777777777778,
              "#fb9f3a"
             ],
             [
              0.8888888888888888,
              "#fdca26"
             ],
             [
              1,
              "#f0f921"
             ]
            ],
            "type": "surface"
           }
          ],
          "table": [
           {
            "cells": {
             "fill": {
              "color": "#EBF0F8"
             },
             "line": {
              "color": "white"
             }
            },
            "header": {
             "fill": {
              "color": "#C8D4E3"
             },
             "line": {
              "color": "white"
             }
            },
            "type": "table"
           }
          ]
         },
         "layout": {
          "annotationdefaults": {
           "arrowcolor": "#2a3f5f",
           "arrowhead": 0,
           "arrowwidth": 1
          },
          "autotypenumbers": "strict",
          "coloraxis": {
           "colorbar": {
            "outlinewidth": 0,
            "ticks": ""
           }
          },
          "colorscale": {
           "diverging": [
            [
             0,
             "#8e0152"
            ],
            [
             0.1,
             "#c51b7d"
            ],
            [
             0.2,
             "#de77ae"
            ],
            [
             0.3,
             "#f1b6da"
            ],
            [
             0.4,
             "#fde0ef"
            ],
            [
             0.5,
             "#f7f7f7"
            ],
            [
             0.6,
             "#e6f5d0"
            ],
            [
             0.7,
             "#b8e186"
            ],
            [
             0.8,
             "#7fbc41"
            ],
            [
             0.9,
             "#4d9221"
            ],
            [
             1,
             "#276419"
            ]
           ],
           "sequential": [
            [
             0,
             "#0d0887"
            ],
            [
             0.1111111111111111,
             "#46039f"
            ],
            [
             0.2222222222222222,
             "#7201a8"
            ],
            [
             0.3333333333333333,
             "#9c179e"
            ],
            [
             0.4444444444444444,
             "#bd3786"
            ],
            [
             0.5555555555555556,
             "#d8576b"
            ],
            [
             0.6666666666666666,
             "#ed7953"
            ],
            [
             0.7777777777777778,
             "#fb9f3a"
            ],
            [
             0.8888888888888888,
             "#fdca26"
            ],
            [
             1,
             "#f0f921"
            ]
           ],
           "sequentialminus": [
            [
             0,
             "#0d0887"
            ],
            [
             0.1111111111111111,
             "#46039f"
            ],
            [
             0.2222222222222222,
             "#7201a8"
            ],
            [
             0.3333333333333333,
             "#9c179e"
            ],
            [
             0.4444444444444444,
             "#bd3786"
            ],
            [
             0.5555555555555556,
             "#d8576b"
            ],
            [
             0.6666666666666666,
             "#ed7953"
            ],
            [
             0.7777777777777778,
             "#fb9f3a"
            ],
            [
             0.8888888888888888,
             "#fdca26"
            ],
            [
             1,
             "#f0f921"
            ]
           ]
          },
          "colorway": [
           "#636efa",
           "#EF553B",
           "#00cc96",
           "#ab63fa",
           "#FFA15A",
           "#19d3f3",
           "#FF6692",
           "#B6E880",
           "#FF97FF",
           "#FECB52"
          ],
          "font": {
           "color": "#2a3f5f"
          },
          "geo": {
           "bgcolor": "white",
           "lakecolor": "white",
           "landcolor": "white",
           "showlakes": true,
           "showland": true,
           "subunitcolor": "#C8D4E3"
          },
          "hoverlabel": {
           "align": "left"
          },
          "hovermode": "closest",
          "mapbox": {
           "style": "light"
          },
          "paper_bgcolor": "white",
          "plot_bgcolor": "white",
          "polar": {
           "angularaxis": {
            "gridcolor": "#EBF0F8",
            "linecolor": "#EBF0F8",
            "ticks": ""
           },
           "bgcolor": "white",
           "radialaxis": {
            "gridcolor": "#EBF0F8",
            "linecolor": "#EBF0F8",
            "ticks": ""
           }
          },
          "scene": {
           "xaxis": {
            "backgroundcolor": "white",
            "gridcolor": "#DFE8F3",
            "gridwidth": 2,
            "linecolor": "#EBF0F8",
            "showbackground": true,
            "ticks": "",
            "zerolinecolor": "#EBF0F8"
           },
           "yaxis": {
            "backgroundcolor": "white",
            "gridcolor": "#DFE8F3",
            "gridwidth": 2,
            "linecolor": "#EBF0F8",
            "showbackground": true,
            "ticks": "",
            "zerolinecolor": "#EBF0F8"
           },
           "zaxis": {
            "backgroundcolor": "white",
            "gridcolor": "#DFE8F3",
            "gridwidth": 2,
            "linecolor": "#EBF0F8",
            "showbackground": true,
            "ticks": "",
            "zerolinecolor": "#EBF0F8"
           }
          },
          "shapedefaults": {
           "line": {
            "color": "#2a3f5f"
           }
          },
          "ternary": {
           "aaxis": {
            "gridcolor": "#DFE8F3",
            "linecolor": "#A2B1C6",
            "ticks": ""
           },
           "baxis": {
            "gridcolor": "#DFE8F3",
            "linecolor": "#A2B1C6",
            "ticks": ""
           },
           "bgcolor": "white",
           "caxis": {
            "gridcolor": "#DFE8F3",
            "linecolor": "#A2B1C6",
            "ticks": ""
           }
          },
          "title": {
           "x": 0.05
          },
          "xaxis": {
           "automargin": true,
           "gridcolor": "#EBF0F8",
           "linecolor": "#EBF0F8",
           "ticks": "",
           "title": {
            "standoff": 15
           },
           "zerolinecolor": "#EBF0F8",
           "zerolinewidth": 2
          },
          "yaxis": {
           "automargin": true,
           "gridcolor": "#EBF0F8",
           "linecolor": "#EBF0F8",
           "ticks": "",
           "title": {
            "standoff": 15
           },
           "zerolinecolor": "#EBF0F8",
           "zerolinewidth": 2
          }
         }
        },
        "title": {},
        "xaxis": {
         "title": {}
        },
        "yaxis": {
         "title": {
          "text": "Profit"
         }
        }
       }
      }
     },
     "metadata": {},
     "output_type": "display_data"
    }
   ],
   "source": [
    "# 📘 Box Plot with Shape Overlay\n",
    "\n",
    "fig3 = create_go_figure(\"Profit Distribution with Profit Threshold Line\")\n",
    "trace = go.Box(y=df[\"Profit\"], name=\"Profit\")\n",
    "add_trace_go(fig3, trace)\n",
    "\n",
    "# Add a horizontal threshold line at y = 100\n",
    "shape = dict(type=\"line\", x0=0, x1=1, y0=100, y1=100, xref='paper', yref='y',\n",
    "             line=dict(color=\"red\", width=2, dash=\"dash\"))\n",
    "fig3 = add_shape_go(fig3, shape)\n",
    "update_go_layout(fig3, yaxis_title=\"Profit\")\n",
    "fig3.show()"
   ]
  },
  {
   "cell_type": "code",
   "execution_count": 6,
   "id": "96f0b79b",
   "metadata": {},
   "outputs": [
    {
     "name": "stdout",
     "output_type": "stream",
     "text": [
      "✅ HTML saved to: /Users/satvikpraveen/Desktop/Libraries/PlotlyVizPro/exports/html/07_graph_objects/bar_sales_subcategory.html\n",
      "✅ PNG saved to: /Users/satvikpraveen/Desktop/Libraries/PlotlyVizPro/exports/images/07_graph_objects/bar_sales_subcategory.png\n",
      "✅ HTML saved to: /Users/satvikpraveen/Desktop/Libraries/PlotlyVizPro/exports/html/07_graph_objects/scatter_sales_profit_annotated.html\n",
      "✅ PNG saved to: /Users/satvikpraveen/Desktop/Libraries/PlotlyVizPro/exports/images/07_graph_objects/scatter_sales_profit_annotated.png\n",
      "✅ HTML saved to: /Users/satvikpraveen/Desktop/Libraries/PlotlyVizPro/exports/html/07_graph_objects/box_profit_threshold.html\n",
      "✅ PNG saved to: /Users/satvikpraveen/Desktop/Libraries/PlotlyVizPro/exports/images/07_graph_objects/box_profit_threshold.png\n"
     ]
    }
   ],
   "source": [
    "# 💾 Save All Plots\n",
    "\n",
    "save_fig_as_html(fig1, \"bar_sales_subcategory.html\", notebook_name=NOTEBOOK_ID)\n",
    "save_fig_as_png(fig1, \"bar_sales_subcategory.png\", notebook_name=NOTEBOOK_ID)\n",
    "\n",
    "save_fig_as_html(fig2, \"scatter_sales_profit_annotated.html\", notebook_name=NOTEBOOK_ID)\n",
    "save_fig_as_png(fig2, \"scatter_sales_profit_annotated.png\", notebook_name=NOTEBOOK_ID)\n",
    "\n",
    "save_fig_as_html(fig3, \"box_profit_threshold.html\", notebook_name=NOTEBOOK_ID)\n",
    "save_fig_as_png(fig3, \"box_profit_threshold.png\", notebook_name=NOTEBOOK_ID)"
   ]
  },
  {
   "cell_type": "markdown",
   "id": "dfd48cba",
   "metadata": {},
   "source": [
    "## ✅ Summary:\n",
    "- Applied Plotly theme globally using `pio.templates.default`  \n",
    "- Loaded the `superstore.csv` dataset  \n",
    "- Built low-level bar, scatter, and box plots using `plotly.graph_objects`  \n",
    "- Added annotations and shapes (e.g., threshold lines, callouts)  \n",
    "- Saved visualizations to `exports/html/07_graph_objects/` and `exports/images/07_graph_objects/`  \n",
    "\n",
    "All future notebooks will follow the same pattern for modularity and clarity."
   ]
  }
 ],
 "metadata": {
  "kernelspec": {
   "display_name": "plotly_env",
   "language": "python",
   "name": "python3"
  },
  "language_info": {
   "codemirror_mode": {
    "name": "ipython",
    "version": 3
   },
   "file_extension": ".py",
   "mimetype": "text/x-python",
   "name": "python",
   "nbconvert_exporter": "python",
   "pygments_lexer": "ipython3",
   "version": "3.11.11"
  }
 },
 "nbformat": 4,
 "nbformat_minor": 5
}
