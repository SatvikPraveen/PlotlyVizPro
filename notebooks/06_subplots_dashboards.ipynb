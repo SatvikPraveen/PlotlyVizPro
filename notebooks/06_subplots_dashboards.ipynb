{
 "cells": [
  {
   "cell_type": "markdown",
   "id": "94b9c245",
   "metadata": {},
   "source": [
    "# 🧩 Notebook 06: Subplots and Dashboards in Plotly"
   ]
  },
  {
   "cell_type": "code",
   "execution_count": 1,
   "id": "5fa02012",
   "metadata": {},
   "outputs": [
    {
     "name": "stdout",
     "output_type": "stream",
     "text": [
      "✅ Plotly Project Utils Loaded\n"
     ]
    }
   ],
   "source": [
    "# 📦 Setup & Imports\n",
    "import pandas as pd\n",
    "import sys\n",
    "from pathlib import Path\n",
    "import plotly.graph_objects as go\n",
    "import plotly.io as pio\n",
    "\n",
    "# ✅ Setup path to use utils\n",
    "PROJECT_ROOT = Path.cwd().parent\n",
    "UTILS_DIR = PROJECT_ROOT / \"utils\"\n",
    "if str(UTILS_DIR) not in sys.path:\n",
    "    sys.path.insert(0, str(UTILS_DIR))\n",
    "\n",
    "# 🧰 Custom utilities\n",
    "from plot_utils import (\n",
    "    create_subplots,\n",
    "    add_trace_to_subplot,\n",
    "    update_subplot_layout,\n",
    "    apply_dashboard_margins,\n",
    "    save_fig_as_html,\n",
    "    save_fig_as_png\n",
    ")\n",
    "\n",
    "# 🎨 Apply project-wide theme\n",
    "pio.templates.default = \"plotly_white\"\n",
    "\n",
    "NOTEBOOK_ID = \"06_subplots_dashboards\"\n",
    "\n",
    "# 📁 Ensure export folders exist for this notebook\n",
    "EXPORT_BASE = PROJECT_ROOT / \"exports\"\n",
    "EXPORT_HTML = EXPORT_BASE / \"html\" / NOTEBOOK_ID\n",
    "EXPORT_IMG = EXPORT_BASE / \"images\" / NOTEBOOK_ID\n",
    "\n",
    "EXPORT_HTML.mkdir(parents=True, exist_ok=True)\n",
    "EXPORT_IMG.mkdir(parents=True, exist_ok=True)\n",
    "\n",
    "print(\"✅ Plotly Project Utils Loaded\")"
   ]
  },
  {
   "cell_type": "code",
   "execution_count": 2,
   "id": "65f7a3f7",
   "metadata": {},
   "outputs": [],
   "source": [
    "# 📊 Load Datasets\n",
    "\n",
    "store_df = pd.read_csv(PROJECT_ROOT / \"datasets/superstore.csv\")\n",
    "world_df = pd.read_csv(PROJECT_ROOT / \"datasets/world_population.csv\")"
   ]
  },
  {
   "cell_type": "code",
   "execution_count": 3,
   "id": "91e857a6",
   "metadata": {},
   "outputs": [
    {
     "data": {
      "application/vnd.plotly.v1+json": {
       "config": {
        "plotlyServerURL": "https://plot.ly"
       },
       "data": [
        {
         "name": "Sales",
         "type": "bar",
         "x": [
          "Furniture",
          "Office Supplies",
          "Technology"
         ],
         "xaxis": "x",
         "y": {
          "bdata": "16NwPVxcA0HhehSuGdsDQfYoXI8OAghB",
          "dtype": "f8"
         },
         "yaxis": "y"
        },
        {
         "name": "Profit",
         "type": "box",
         "x": [
          "Technology",
          "Furniture",
          "Furniture",
          "Furniture",
          "Technology",
          "Furniture",
          "Office Supplies",
          "Office Supplies",
          "Technology",
          "Technology",
          "Furniture",
          "Furniture",
          "Office Supplies",
          "Technology",
          "Technology",
          "Technology",
          "Furniture",
          "Furniture",
          "Technology",
          "Technology",
          "Technology",
          "Technology",
          "Furniture",
          "Furniture",
          "Office Supplies",
          "Technology",
          "Office Supplies",
          "Technology",
          "Furniture",
          "Technology",
          "Office Supplies",
          "Furniture",
          "Technology",
          "Furniture",
          "Technology",
          "Technology",
          "Furniture",
          "Technology",
          "Furniture",
          "Furniture",
          "Technology",
          "Office Supplies",
          "Office Supplies",
          "Technology",
          "Furniture",
          "Office Supplies",
          "Furniture",
          "Furniture",
          "Furniture",
          "Office Supplies",
          "Technology",
          "Furniture",
          "Technology",
          "Furniture",
          "Furniture",
          "Furniture",
          "Technology",
          "Technology",
          "Furniture",
          "Furniture",
          "Office Supplies",
          "Technology",
          "Technology",
          "Technology",
          "Technology",
          "Technology",
          "Technology",
          "Furniture",
          "Office Supplies",
          "Technology",
          "Technology",
          "Furniture",
          "Furniture",
          "Office Supplies",
          "Furniture",
          "Technology",
          "Furniture",
          "Furniture",
          "Office Supplies",
          "Office Supplies",
          "Office Supplies",
          "Office Supplies",
          "Technology",
          "Technology",
          "Office Supplies",
          "Furniture",
          "Technology",
          "Office Supplies",
          "Technology",
          "Office Supplies",
          "Technology",
          "Technology",
          "Furniture",
          "Technology",
          "Technology",
          "Technology",
          "Furniture",
          "Office Supplies",
          "Office Supplies",
          "Furniture",
          "Technology",
          "Furniture",
          "Technology",
          "Technology",
          "Furniture",
          "Technology",
          "Furniture",
          "Technology",
          "Furniture",
          "Technology",
          "Office Supplies",
          "Office Supplies",
          "Office Supplies",
          "Office Supplies",
          "Office Supplies",
          "Technology",
          "Technology",
          "Office Supplies",
          "Office Supplies",
          "Office Supplies",
          "Furniture",
          "Technology",
          "Furniture",
          "Furniture",
          "Office Supplies",
          "Office Supplies",
          "Office Supplies",
          "Technology",
          "Technology",
          "Furniture",
          "Technology",
          "Furniture",
          "Technology",
          "Technology",
          "Technology",
          "Furniture",
          "Technology",
          "Office Supplies",
          "Office Supplies",
          "Furniture",
          "Furniture",
          "Furniture",
          "Office Supplies",
          "Office Supplies",
          "Office Supplies",
          "Furniture",
          "Office Supplies",
          "Office Supplies",
          "Technology",
          "Office Supplies",
          "Furniture",
          "Furniture",
          "Furniture",
          "Furniture",
          "Furniture",
          "Technology",
          "Office Supplies",
          "Technology",
          "Furniture",
          "Furniture",
          "Office Supplies",
          "Technology",
          "Technology",
          "Technology",
          "Furniture",
          "Office Supplies",
          "Office Supplies",
          "Technology",
          "Technology",
          "Office Supplies",
          "Technology",
          "Technology",
          "Office Supplies",
          "Office Supplies",
          "Technology",
          "Furniture",
          "Office Supplies",
          "Office Supplies",
          "Technology",
          "Furniture",
          "Furniture",
          "Furniture",
          "Technology",
          "Office Supplies",
          "Technology",
          "Office Supplies",
          "Office Supplies",
          "Office Supplies",
          "Office Supplies",
          "Office Supplies",
          "Technology",
          "Technology",
          "Technology",
          "Technology",
          "Technology",
          "Office Supplies",
          "Technology",
          "Office Supplies",
          "Technology",
          "Furniture",
          "Furniture",
          "Office Supplies",
          "Technology",
          "Office Supplies",
          "Furniture",
          "Office Supplies",
          "Technology",
          "Office Supplies",
          "Office Supplies",
          "Office Supplies",
          "Technology",
          "Office Supplies",
          "Office Supplies",
          "Technology",
          "Office Supplies",
          "Technology",
          "Office Supplies",
          "Office Supplies",
          "Furniture",
          "Office Supplies",
          "Office Supplies",
          "Technology",
          "Furniture",
          "Technology",
          "Office Supplies",
          "Furniture",
          "Furniture",
          "Technology",
          "Office Supplies",
          "Office Supplies",
          "Furniture",
          "Technology",
          "Furniture",
          "Technology",
          "Furniture",
          "Furniture",
          "Furniture",
          "Furniture",
          "Furniture",
          "Technology",
          "Technology",
          "Office Supplies",
          "Technology",
          "Furniture",
          "Technology",
          "Furniture",
          "Technology",
          "Office Supplies",
          "Technology",
          "Office Supplies",
          "Office Supplies",
          "Furniture",
          "Furniture",
          "Furniture",
          "Office Supplies",
          "Office Supplies",
          "Office Supplies",
          "Furniture",
          "Furniture",
          "Technology",
          "Office Supplies",
          "Technology",
          "Furniture",
          "Furniture",
          "Technology",
          "Technology",
          "Office Supplies",
          "Technology",
          "Technology",
          "Furniture",
          "Furniture",
          "Office Supplies",
          "Technology",
          "Furniture",
          "Office Supplies",
          "Office Supplies",
          "Furniture",
          "Furniture",
          "Technology",
          "Furniture",
          "Technology",
          "Technology",
          "Furniture",
          "Furniture",
          "Technology",
          "Furniture",
          "Office Supplies",
          "Office Supplies",
          "Furniture",
          "Office Supplies",
          "Technology",
          "Furniture",
          "Technology",
          "Office Supplies",
          "Office Supplies",
          "Technology",
          "Technology",
          "Technology",
          "Office Supplies",
          "Furniture",
          "Furniture",
          "Office Supplies",
          "Office Supplies",
          "Furniture",
          "Technology",
          "Technology",
          "Technology",
          "Office Supplies",
          "Technology",
          "Office Supplies",
          "Office Supplies",
          "Office Supplies",
          "Office Supplies",
          "Furniture",
          "Office Supplies",
          "Furniture",
          "Office Supplies",
          "Office Supplies",
          "Technology",
          "Office Supplies",
          "Technology",
          "Furniture",
          "Office Supplies",
          "Technology",
          "Technology",
          "Technology",
          "Furniture",
          "Technology",
          "Technology",
          "Technology",
          "Furniture",
          "Technology",
          "Office Supplies",
          "Technology",
          "Office Supplies",
          "Furniture",
          "Technology",
          "Office Supplies",
          "Furniture",
          "Office Supplies",
          "Technology",
          "Technology",
          "Technology",
          "Furniture",
          "Office Supplies",
          "Furniture",
          "Technology",
          "Office Supplies",
          "Office Supplies",
          "Furniture",
          "Furniture",
          "Technology",
          "Furniture",
          "Office Supplies",
          "Technology",
          "Office Supplies",
          "Office Supplies",
          "Office Supplies",
          "Technology",
          "Furniture",
          "Technology",
          "Furniture",
          "Technology",
          "Technology",
          "Office Supplies",
          "Technology",
          "Technology",
          "Furniture",
          "Office Supplies",
          "Office Supplies",
          "Technology",
          "Technology",
          "Furniture",
          "Office Supplies",
          "Office Supplies",
          "Technology",
          "Furniture",
          "Technology",
          "Office Supplies",
          "Furniture",
          "Furniture",
          "Technology",
          "Office Supplies",
          "Technology",
          "Furniture",
          "Office Supplies",
          "Technology",
          "Furniture",
          "Office Supplies",
          "Furniture",
          "Technology",
          "Office Supplies",
          "Technology",
          "Office Supplies",
          "Furniture",
          "Technology",
          "Office Supplies",
          "Office Supplies",
          "Technology",
          "Technology",
          "Furniture",
          "Furniture",
          "Office Supplies",
          "Technology",
          "Technology",
          "Furniture",
          "Technology",
          "Furniture",
          "Office Supplies",
          "Office Supplies",
          "Technology",
          "Furniture",
          "Office Supplies",
          "Technology",
          "Technology",
          "Furniture",
          "Technology",
          "Technology",
          "Office Supplies",
          "Office Supplies",
          "Technology",
          "Furniture",
          "Technology",
          "Furniture",
          "Technology",
          "Furniture",
          "Office Supplies",
          "Office Supplies",
          "Office Supplies",
          "Furniture",
          "Office Supplies",
          "Office Supplies",
          "Furniture",
          "Technology",
          "Office Supplies",
          "Furniture",
          "Office Supplies",
          "Technology",
          "Technology",
          "Furniture",
          "Office Supplies",
          "Technology",
          "Office Supplies",
          "Office Supplies",
          "Technology",
          "Furniture",
          "Office Supplies",
          "Technology",
          "Office Supplies",
          "Technology",
          "Office Supplies",
          "Furniture",
          "Office Supplies",
          "Office Supplies",
          "Furniture",
          "Furniture",
          "Office Supplies",
          "Office Supplies",
          "Furniture",
          "Technology",
          "Technology",
          "Technology",
          "Office Supplies",
          "Technology",
          "Furniture",
          "Technology",
          "Office Supplies",
          "Office Supplies",
          "Furniture",
          "Technology",
          "Technology",
          "Office Supplies",
          "Technology",
          "Technology",
          "Office Supplies",
          "Office Supplies",
          "Technology",
          "Office Supplies",
          "Technology",
          "Furniture",
          "Technology",
          "Technology",
          "Office Supplies",
          "Technology",
          "Furniture",
          "Technology",
          "Technology",
          "Technology",
          "Office Supplies",
          "Office Supplies",
          "Furniture",
          "Office Supplies",
          "Office Supplies",
          "Technology",
          "Technology",
          "Furniture",
          "Furniture",
          "Technology",
          "Technology",
          "Furniture",
          "Office Supplies",
          "Office Supplies",
          "Technology",
          "Furniture",
          "Technology",
          "Technology",
          "Office Supplies",
          "Furniture",
          "Furniture",
          "Furniture",
          "Furniture",
          "Furniture",
          "Technology",
          "Furniture",
          "Office Supplies",
          "Furniture",
          "Office Supplies",
          "Office Supplies",
          "Office Supplies",
          "Technology",
          "Office Supplies",
          "Office Supplies",
          "Technology",
          "Office Supplies",
          "Office Supplies",
          "Furniture",
          "Technology",
          "Technology",
          "Furniture",
          "Office Supplies",
          "Furniture",
          "Technology",
          "Technology",
          "Technology",
          "Technology",
          "Office Supplies",
          "Technology",
          "Technology",
          "Furniture",
          "Technology",
          "Furniture",
          "Technology",
          "Technology",
          "Technology",
          "Office Supplies",
          "Office Supplies",
          "Office Supplies",
          "Furniture",
          "Furniture",
          "Office Supplies",
          "Office Supplies",
          "Technology",
          "Furniture",
          "Technology",
          "Furniture",
          "Furniture",
          "Technology",
          "Furniture",
          "Office Supplies",
          "Technology",
          "Technology",
          "Furniture",
          "Furniture",
          "Furniture",
          "Technology",
          "Technology",
          "Office Supplies",
          "Furniture",
          "Office Supplies",
          "Furniture",
          "Furniture",
          "Technology",
          "Office Supplies",
          "Furniture",
          "Technology",
          "Technology",
          "Furniture",
          "Office Supplies",
          "Technology",
          "Furniture",
          "Furniture",
          "Technology",
          "Office Supplies",
          "Office Supplies",
          "Office Supplies",
          "Furniture",
          "Office Supplies",
          "Technology",
          "Technology",
          "Furniture",
          "Technology",
          "Furniture",
          "Furniture",
          "Office Supplies",
          "Furniture",
          "Technology",
          "Technology",
          "Office Supplies",
          "Furniture",
          "Furniture",
          "Technology",
          "Technology",
          "Technology",
          "Furniture",
          "Technology",
          "Furniture",
          "Office Supplies",
          "Furniture",
          "Office Supplies",
          "Technology",
          "Technology",
          "Technology",
          "Furniture",
          "Office Supplies",
          "Technology",
          "Furniture",
          "Technology",
          "Office Supplies",
          "Office Supplies",
          "Technology",
          "Office Supplies",
          "Furniture",
          "Furniture",
          "Furniture",
          "Technology",
          "Technology",
          "Furniture",
          "Furniture",
          "Office Supplies",
          "Furniture",
          "Office Supplies",
          "Technology",
          "Furniture",
          "Furniture",
          "Technology",
          "Furniture",
          "Furniture",
          "Technology",
          "Technology",
          "Technology",
          "Furniture",
          "Office Supplies",
          "Furniture",
          "Furniture",
          "Furniture",
          "Office Supplies",
          "Technology",
          "Furniture",
          "Furniture",
          "Furniture",
          "Furniture",
          "Furniture",
          "Office Supplies",
          "Furniture",
          "Furniture",
          "Furniture",
          "Furniture",
          "Furniture",
          "Technology",
          "Technology",
          "Office Supplies",
          "Furniture",
          "Office Supplies",
          "Office Supplies",
          "Office Supplies",
          "Furniture",
          "Technology",
          "Technology",
          "Furniture",
          "Technology",
          "Technology",
          "Office Supplies",
          "Furniture",
          "Office Supplies",
          "Furniture",
          "Furniture",
          "Technology",
          "Furniture",
          "Technology",
          "Technology",
          "Office Supplies",
          "Technology",
          "Technology",
          "Technology",
          "Technology",
          "Technology",
          "Furniture",
          "Technology",
          "Furniture",
          "Office Supplies",
          "Technology",
          "Furniture",
          "Furniture",
          "Furniture",
          "Office Supplies",
          "Technology",
          "Furniture",
          "Furniture",
          "Furniture",
          "Technology",
          "Furniture",
          "Furniture",
          "Office Supplies",
          "Office Supplies",
          "Office Supplies",
          "Technology",
          "Technology",
          "Technology",
          "Office Supplies",
          "Technology",
          "Furniture",
          "Office Supplies",
          "Furniture",
          "Furniture",
          "Office Supplies",
          "Technology",
          "Technology",
          "Furniture",
          "Technology",
          "Furniture",
          "Office Supplies",
          "Office Supplies",
          "Office Supplies",
          "Furniture",
          "Office Supplies",
          "Office Supplies",
          "Office Supplies",
          "Office Supplies",
          "Furniture",
          "Office Supplies",
          "Technology",
          "Office Supplies",
          "Technology",
          "Office Supplies",
          "Furniture",
          "Technology",
          "Technology",
          "Technology",
          "Office Supplies",
          "Office Supplies",
          "Technology",
          "Technology",
          "Furniture",
          "Office Supplies",
          "Furniture",
          "Technology",
          "Office Supplies",
          "Technology",
          "Technology",
          "Technology",
          "Furniture",
          "Technology",
          "Technology",
          "Office Supplies",
          "Office Supplies",
          "Technology",
          "Furniture",
          "Furniture",
          "Office Supplies",
          "Furniture",
          "Technology",
          "Furniture",
          "Furniture",
          "Office Supplies",
          "Office Supplies",
          "Furniture",
          "Technology",
          "Technology",
          "Office Supplies",
          "Furniture",
          "Office Supplies",
          "Furniture",
          "Office Supplies",
          "Technology",
          "Furniture",
          "Office Supplies",
          "Furniture",
          "Technology",
          "Office Supplies",
          "Office Supplies",
          "Furniture",
          "Office Supplies",
          "Technology",
          "Furniture",
          "Office Supplies",
          "Office Supplies",
          "Furniture",
          "Technology",
          "Furniture",
          "Technology",
          "Furniture",
          "Office Supplies",
          "Furniture",
          "Furniture",
          "Technology",
          "Office Supplies",
          "Technology",
          "Office Supplies",
          "Furniture",
          "Office Supplies",
          "Office Supplies",
          "Technology",
          "Office Supplies",
          "Furniture",
          "Technology",
          "Office Supplies",
          "Office Supplies",
          "Office Supplies",
          "Furniture",
          "Technology",
          "Furniture",
          "Technology",
          "Technology",
          "Office Supplies",
          "Furniture",
          "Office Supplies",
          "Office Supplies",
          "Office Supplies",
          "Technology",
          "Technology",
          "Technology",
          "Technology",
          "Office Supplies",
          "Technology",
          "Office Supplies",
          "Technology",
          "Office Supplies",
          "Office Supplies",
          "Technology",
          "Office Supplies",
          "Technology",
          "Technology",
          "Furniture",
          "Office Supplies",
          "Furniture",
          "Office Supplies",
          "Technology",
          "Technology",
          "Technology",
          "Technology",
          "Technology",
          "Office Supplies",
          "Furniture",
          "Technology",
          "Furniture",
          "Furniture",
          "Technology",
          "Furniture",
          "Technology",
          "Furniture",
          "Office Supplies",
          "Technology",
          "Furniture",
          "Office Supplies",
          "Office Supplies",
          "Office Supplies",
          "Technology",
          "Technology",
          "Technology",
          "Technology",
          "Technology",
          "Furniture",
          "Technology",
          "Office Supplies",
          "Technology",
          "Technology",
          "Technology",
          "Furniture",
          "Furniture",
          "Office Supplies",
          "Technology",
          "Technology",
          "Office Supplies",
          "Technology",
          "Technology",
          "Office Supplies",
          "Furniture",
          "Technology",
          "Office Supplies",
          "Furniture",
          "Office Supplies",
          "Technology",
          "Office Supplies",
          "Office Supplies",
          "Office Supplies",
          "Technology",
          "Office Supplies",
          "Furniture",
          "Technology",
          "Furniture",
          "Office Supplies",
          "Technology",
          "Furniture",
          "Technology",
          "Furniture",
          "Office Supplies",
          "Office Supplies",
          "Office Supplies",
          "Furniture",
          "Technology",
          "Office Supplies",
          "Furniture",
          "Technology",
          "Office Supplies",
          "Furniture",
          "Furniture",
          "Furniture",
          "Furniture",
          "Technology",
          "Technology",
          "Technology",
          "Technology",
          "Office Supplies",
          "Office Supplies",
          "Technology",
          "Office Supplies",
          "Furniture",
          "Technology",
          "Technology",
          "Furniture",
          "Technology",
          "Furniture",
          "Office Supplies",
          "Furniture",
          "Office Supplies",
          "Technology",
          "Furniture",
          "Office Supplies",
          "Technology",
          "Furniture",
          "Office Supplies",
          "Office Supplies",
          "Technology",
          "Furniture",
          "Technology",
          "Furniture",
          "Furniture",
          "Furniture",
          "Technology",
          "Furniture",
          "Technology",
          "Technology",
          "Office Supplies",
          "Office Supplies",
          "Furniture",
          "Furniture",
          "Technology",
          "Technology",
          "Office Supplies",
          "Technology",
          "Office Supplies",
          "Technology",
          "Office Supplies",
          "Office Supplies",
          "Furniture",
          "Office Supplies",
          "Office Supplies",
          "Furniture",
          "Technology",
          "Furniture",
          "Office Supplies",
          "Technology",
          "Furniture",
          "Technology",
          "Technology",
          "Technology",
          "Furniture",
          "Technology",
          "Office Supplies",
          "Technology",
          "Technology",
          "Office Supplies",
          "Furniture",
          "Office Supplies",
          "Furniture",
          "Office Supplies",
          "Office Supplies",
          "Technology",
          "Technology",
          "Furniture",
          "Office Supplies",
          "Technology",
          "Technology",
          "Technology",
          "Office Supplies",
          "Office Supplies",
          "Office Supplies",
          "Furniture",
          "Technology",
          "Office Supplies",
          "Furniture",
          "Technology",
          "Furniture",
          "Office Supplies",
          "Furniture",
          "Office Supplies",
          "Furniture",
          "Office Supplies",
          "Technology",
          "Technology"
         ],
         "xaxis": "x2",
         "y": {
          "bdata": "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",
          "dtype": "f8"
         },
         "yaxis": "y2"
        },
        {
         "name": "GDP",
         "nbinsx": 20,
         "type": "histogram",
         "x": {
          "bdata": "7FG4HsUP0UAK16NwndXTQFyPwvXwz+pAUrgehetGqkDXo3A9CoHZQK5H4Xp0g91ArkfheuyR5UBcj8L16ATSQI/C9SjMntxACtejcD0E5kA9CtejSLnmQOxRuB41PudApHA9CtfhkEAK16NwXSjUQOF6FK4nmeRA16NwPTou50DNzMzMXKLeQOF6FK4He71AzczMzCwK1kDD9Shcl6TgQNejcD2qc81AAAAAAJiV6UDD9Shcf0zVQHE9CtcjdbBAcT0K12Pe3UBI4XoUhgfkQHE9CteDYOJAexSuR8ku6kC4HoXrWVvqQBSuR+Ga8MRAuB6F67FLw0DXo3A96vnYQHE9CtfT89RA16NwPUq9x0DNzMzMdA/jQD0K16OgGeNAZmZmZl6Q5ECkcD0KN3/SQHsUrkfZOedAw/UoXOep5kAUrkfh6j7bQDMzMzNjadFArkfhejRezUAfhetR+IbAQAAAAABYseBAFK5H4VoAw0C4HoXrAVrSQNejcD3SoOZAPQrXo3CVk0CuR+F6bCLjQI/C9ShMs+NACtejcHVX5EDhehSuTwXkQJqZmZk5R+JA4XoUrufH00BmZmZm5k7fQArXo3C9NKJA7FG4Hr3V40BmZmZmRlzIQMP1KFyXqutA",
          "dtype": "f8"
         },
         "xaxis": "x3",
         "yaxis": "y3"
        },
        {
         "box": {
          "visible": true
         },
         "meanline": {
          "visible": true
         },
         "name": "Life Exp",
         "type": "violin",
         "xaxis": "x4",
         "y": {
          "bdata": "MzMzMzPjUkBSuB6F65FRQFyPwvUoXFRArkfhehSeUEBmZmZmZuZPQBSuR+F6dEpAAAAAAADQVEB7FK5H4SpSQPYoXI/CVU5AzczMzMxsSUBmZmZmZiZUQHsUrkfhek9APQrXo3D9UUBSuB6F65FJQFyPwvUo3FFACtejcD1qSkBmZmZmZnZUQGZmZmZmZk9AcT0K16MQTECF61G4HkVTQFyPwvUo/EpAZmZmZmamUkCuR+F6FK5NQGZmZmZmhk9AUrgehevBU0CamZmZmSlRQAAAAAAAgFNAUrgeheuBUEDsUbgehQtOQPYoXI/C9UpAMzMzMzOTTEC4HoXrUXhSQMP1KFyPYlBAw/UoXI9iSUAK16NwPRpQQPYoXI/CtU5ArkfhehTeU0CPwvUoXE9LQLgehetR+ExAFK5H4XrUSUApXI/C9ehLQKRwPQrXA1VAuB6F61G4SUCuR+F6FI5NQHsUrkfhmklAzczMzMxsUECuR+F6FI5UQHsUrkfhylRAZmZmZmb2UkDsUbgehStOQI/C9Shcf1NA16NwPQrnUkDsUbgehQtLQHsUrkfh2kxAw/UoXI/SUUD2KFyPwlVTQPYoXI/CNVFASOF6FK6HSkCPwvUoXI9OQDMzMzMzc1RA",
          "dtype": "f8"
         },
         "yaxis": "y4"
        }
       ],
       "layout": {
        "annotations": [
         {
          "font": {
           "size": 16
          },
          "showarrow": false,
          "text": "Sales by Category",
          "x": 0.225,
          "xanchor": "center",
          "xref": "paper",
          "y": 1,
          "yanchor": "bottom",
          "yref": "paper"
         },
         {
          "font": {
           "size": 16
          },
          "showarrow": false,
          "text": "Profit Distribution (Box)",
          "x": 0.775,
          "xanchor": "center",
          "xref": "paper",
          "y": 1,
          "yanchor": "bottom",
          "yref": "paper"
         },
         {
          "font": {
           "size": 16
          },
          "showarrow": false,
          "text": "GDP per Capita by Country",
          "x": 0.225,
          "xanchor": "center",
          "xref": "paper",
          "y": 0.45,
          "yanchor": "bottom",
          "yref": "paper"
         },
         {
          "font": {
           "size": 16
          },
          "showarrow": false,
          "text": "Life Expectancy Distribution",
          "x": 0.775,
          "xanchor": "center",
          "xref": "paper",
          "y": 0.45,
          "yanchor": "bottom",
          "yref": "paper"
         }
        ],
        "height": 800,
        "margin": {
         "b": 40,
         "l": 40,
         "r": 40,
         "t": 60
        },
        "showlegend": true,
        "template": {
         "data": {
          "bar": [
           {
            "error_x": {
             "color": "#2a3f5f"
            },
            "error_y": {
             "color": "#2a3f5f"
            },
            "marker": {
             "line": {
              "color": "white",
              "width": 0.5
             },
             "pattern": {
              "fillmode": "overlay",
              "size": 10,
              "solidity": 0.2
             }
            },
            "type": "bar"
           }
          ],
          "barpolar": [
           {
            "marker": {
             "line": {
              "color": "white",
              "width": 0.5
             },
             "pattern": {
              "fillmode": "overlay",
              "size": 10,
              "solidity": 0.2
             }
            },
            "type": "barpolar"
           }
          ],
          "carpet": [
           {
            "aaxis": {
             "endlinecolor": "#2a3f5f",
             "gridcolor": "#C8D4E3",
             "linecolor": "#C8D4E3",
             "minorgridcolor": "#C8D4E3",
             "startlinecolor": "#2a3f5f"
            },
            "baxis": {
             "endlinecolor": "#2a3f5f",
             "gridcolor": "#C8D4E3",
             "linecolor": "#C8D4E3",
             "minorgridcolor": "#C8D4E3",
             "startlinecolor": "#2a3f5f"
            },
            "type": "carpet"
           }
          ],
          "choropleth": [
           {
            "colorbar": {
             "outlinewidth": 0,
             "ticks": ""
            },
            "type": "choropleth"
           }
          ],
          "contour": [
           {
            "colorbar": {
             "outlinewidth": 0,
             "ticks": ""
            },
            "colorscale": [
             [
              0,
              "#0d0887"
             ],
             [
              0.1111111111111111,
              "#46039f"
             ],
             [
              0.2222222222222222,
              "#7201a8"
             ],
             [
              0.3333333333333333,
              "#9c179e"
             ],
             [
              0.4444444444444444,
              "#bd3786"
             ],
             [
              0.5555555555555556,
              "#d8576b"
             ],
             [
              0.6666666666666666,
              "#ed7953"
             ],
             [
              0.7777777777777778,
              "#fb9f3a"
             ],
             [
              0.8888888888888888,
              "#fdca26"
             ],
             [
              1,
              "#f0f921"
             ]
            ],
            "type": "contour"
           }
          ],
          "contourcarpet": [
           {
            "colorbar": {
             "outlinewidth": 0,
             "ticks": ""
            },
            "type": "contourcarpet"
           }
          ],
          "heatmap": [
           {
            "colorbar": {
             "outlinewidth": 0,
             "ticks": ""
            },
            "colorscale": [
             [
              0,
              "#0d0887"
             ],
             [
              0.1111111111111111,
              "#46039f"
             ],
             [
              0.2222222222222222,
              "#7201a8"
             ],
             [
              0.3333333333333333,
              "#9c179e"
             ],
             [
              0.4444444444444444,
              "#bd3786"
             ],
             [
              0.5555555555555556,
              "#d8576b"
             ],
             [
              0.6666666666666666,
              "#ed7953"
             ],
             [
              0.7777777777777778,
              "#fb9f3a"
             ],
             [
              0.8888888888888888,
              "#fdca26"
             ],
             [
              1,
              "#f0f921"
             ]
            ],
            "type": "heatmap"
           }
          ],
          "histogram": [
           {
            "marker": {
             "pattern": {
              "fillmode": "overlay",
              "size": 10,
              "solidity": 0.2
             }
            },
            "type": "histogram"
           }
          ],
          "histogram2d": [
           {
            "colorbar": {
             "outlinewidth": 0,
             "ticks": ""
            },
            "colorscale": [
             [
              0,
              "#0d0887"
             ],
             [
              0.1111111111111111,
              "#46039f"
             ],
             [
              0.2222222222222222,
              "#7201a8"
             ],
             [
              0.3333333333333333,
              "#9c179e"
             ],
             [
              0.4444444444444444,
              "#bd3786"
             ],
             [
              0.5555555555555556,
              "#d8576b"
             ],
             [
              0.6666666666666666,
              "#ed7953"
             ],
             [
              0.7777777777777778,
              "#fb9f3a"
             ],
             [
              0.8888888888888888,
              "#fdca26"
             ],
             [
              1,
              "#f0f921"
             ]
            ],
            "type": "histogram2d"
           }
          ],
          "histogram2dcontour": [
           {
            "colorbar": {
             "outlinewidth": 0,
             "ticks": ""
            },
            "colorscale": [
             [
              0,
              "#0d0887"
             ],
             [
              0.1111111111111111,
              "#46039f"
             ],
             [
              0.2222222222222222,
              "#7201a8"
             ],
             [
              0.3333333333333333,
              "#9c179e"
             ],
             [
              0.4444444444444444,
              "#bd3786"
             ],
             [
              0.5555555555555556,
              "#d8576b"
             ],
             [
              0.6666666666666666,
              "#ed7953"
             ],
             [
              0.7777777777777778,
              "#fb9f3a"
             ],
             [
              0.8888888888888888,
              "#fdca26"
             ],
             [
              1,
              "#f0f921"
             ]
            ],
            "type": "histogram2dcontour"
           }
          ],
          "mesh3d": [
           {
            "colorbar": {
             "outlinewidth": 0,
             "ticks": ""
            },
            "type": "mesh3d"
           }
          ],
          "parcoords": [
           {
            "line": {
             "colorbar": {
              "outlinewidth": 0,
              "ticks": ""
             }
            },
            "type": "parcoords"
           }
          ],
          "pie": [
           {
            "automargin": true,
            "type": "pie"
           }
          ],
          "scatter": [
           {
            "fillpattern": {
             "fillmode": "overlay",
             "size": 10,
             "solidity": 0.2
            },
            "type": "scatter"
           }
          ],
          "scatter3d": [
           {
            "line": {
             "colorbar": {
              "outlinewidth": 0,
              "ticks": ""
             }
            },
            "marker": {
             "colorbar": {
              "outlinewidth": 0,
              "ticks": ""
             }
            },
            "type": "scatter3d"
           }
          ],
          "scattercarpet": [
           {
            "marker": {
             "colorbar": {
              "outlinewidth": 0,
              "ticks": ""
             }
            },
            "type": "scattercarpet"
           }
          ],
          "scattergeo": [
           {
            "marker": {
             "colorbar": {
              "outlinewidth": 0,
              "ticks": ""
             }
            },
            "type": "scattergeo"
           }
          ],
          "scattergl": [
           {
            "marker": {
             "colorbar": {
              "outlinewidth": 0,
              "ticks": ""
             }
            },
            "type": "scattergl"
           }
          ],
          "scattermap": [
           {
            "marker": {
             "colorbar": {
              "outlinewidth": 0,
              "ticks": ""
             }
            },
            "type": "scattermap"
           }
          ],
          "scattermapbox": [
           {
            "marker": {
             "colorbar": {
              "outlinewidth": 0,
              "ticks": ""
             }
            },
            "type": "scattermapbox"
           }
          ],
          "scatterpolar": [
           {
            "marker": {
             "colorbar": {
              "outlinewidth": 0,
              "ticks": ""
             }
            },
            "type": "scatterpolar"
           }
          ],
          "scatterpolargl": [
           {
            "marker": {
             "colorbar": {
              "outlinewidth": 0,
              "ticks": ""
             }
            },
            "type": "scatterpolargl"
           }
          ],
          "scatterternary": [
           {
            "marker": {
             "colorbar": {
              "outlinewidth": 0,
              "ticks": ""
             }
            },
            "type": "scatterternary"
           }
          ],
          "surface": [
           {
            "colorbar": {
             "outlinewidth": 0,
             "ticks": ""
            },
            "colorscale": [
             [
              0,
              "#0d0887"
             ],
             [
              0.1111111111111111,
              "#46039f"
             ],
             [
              0.2222222222222222,
              "#7201a8"
             ],
             [
              0.3333333333333333,
              "#9c179e"
             ],
             [
              0.4444444444444444,
              "#bd3786"
             ],
             [
              0.5555555555555556,
              "#d8576b"
             ],
             [
              0.6666666666666666,
              "#ed7953"
             ],
             [
              0.7777777777777778,
              "#fb9f3a"
             ],
             [
              0.8888888888888888,
              "#fdca26"
             ],
             [
              1,
              "#f0f921"
             ]
            ],
            "type": "surface"
           }
          ],
          "table": [
           {
            "cells": {
             "fill": {
              "color": "#EBF0F8"
             },
             "line": {
              "color": "white"
             }
            },
            "header": {
             "fill": {
              "color": "#C8D4E3"
             },
             "line": {
              "color": "white"
             }
            },
            "type": "table"
           }
          ]
         },
         "layout": {
          "annotationdefaults": {
           "arrowcolor": "#2a3f5f",
           "arrowhead": 0,
           "arrowwidth": 1
          },
          "autotypenumbers": "strict",
          "coloraxis": {
           "colorbar": {
            "outlinewidth": 0,
            "ticks": ""
           }
          },
          "colorscale": {
           "diverging": [
            [
             0,
             "#8e0152"
            ],
            [
             0.1,
             "#c51b7d"
            ],
            [
             0.2,
             "#de77ae"
            ],
            [
             0.3,
             "#f1b6da"
            ],
            [
             0.4,
             "#fde0ef"
            ],
            [
             0.5,
             "#f7f7f7"
            ],
            [
             0.6,
             "#e6f5d0"
            ],
            [
             0.7,
             "#b8e186"
            ],
            [
             0.8,
             "#7fbc41"
            ],
            [
             0.9,
             "#4d9221"
            ],
            [
             1,
             "#276419"
            ]
           ],
           "sequential": [
            [
             0,
             "#0d0887"
            ],
            [
             0.1111111111111111,
             "#46039f"
            ],
            [
             0.2222222222222222,
             "#7201a8"
            ],
            [
             0.3333333333333333,
             "#9c179e"
            ],
            [
             0.4444444444444444,
             "#bd3786"
            ],
            [
             0.5555555555555556,
             "#d8576b"
            ],
            [
             0.6666666666666666,
             "#ed7953"
            ],
            [
             0.7777777777777778,
             "#fb9f3a"
            ],
            [
             0.8888888888888888,
             "#fdca26"
            ],
            [
             1,
             "#f0f921"
            ]
           ],
           "sequentialminus": [
            [
             0,
             "#0d0887"
            ],
            [
             0.1111111111111111,
             "#46039f"
            ],
            [
             0.2222222222222222,
             "#7201a8"
            ],
            [
             0.3333333333333333,
             "#9c179e"
            ],
            [
             0.4444444444444444,
             "#bd3786"
            ],
            [
             0.5555555555555556,
             "#d8576b"
            ],
            [
             0.6666666666666666,
             "#ed7953"
            ],
            [
             0.7777777777777778,
             "#fb9f3a"
            ],
            [
             0.8888888888888888,
             "#fdca26"
            ],
            [
             1,
             "#f0f921"
            ]
           ]
          },
          "colorway": [
           "#636efa",
           "#EF553B",
           "#00cc96",
           "#ab63fa",
           "#FFA15A",
           "#19d3f3",
           "#FF6692",
           "#B6E880",
           "#FF97FF",
           "#FECB52"
          ],
          "font": {
           "color": "#2a3f5f"
          },
          "geo": {
           "bgcolor": "white",
           "lakecolor": "white",
           "landcolor": "white",
           "showlakes": true,
           "showland": true,
           "subunitcolor": "#C8D4E3"
          },
          "hoverlabel": {
           "align": "left"
          },
          "hovermode": "closest",
          "mapbox": {
           "style": "light"
          },
          "paper_bgcolor": "white",
          "plot_bgcolor": "white",
          "polar": {
           "angularaxis": {
            "gridcolor": "#EBF0F8",
            "linecolor": "#EBF0F8",
            "ticks": ""
           },
           "bgcolor": "white",
           "radialaxis": {
            "gridcolor": "#EBF0F8",
            "linecolor": "#EBF0F8",
            "ticks": ""
           }
          },
          "scene": {
           "xaxis": {
            "backgroundcolor": "white",
            "gridcolor": "#DFE8F3",
            "gridwidth": 2,
            "linecolor": "#EBF0F8",
            "showbackground": true,
            "ticks": "",
            "zerolinecolor": "#EBF0F8"
           },
           "yaxis": {
            "backgroundcolor": "white",
            "gridcolor": "#DFE8F3",
            "gridwidth": 2,
            "linecolor": "#EBF0F8",
            "showbackground": true,
            "ticks": "",
            "zerolinecolor": "#EBF0F8"
           },
           "zaxis": {
            "backgroundcolor": "white",
            "gridcolor": "#DFE8F3",
            "gridwidth": 2,
            "linecolor": "#EBF0F8",
            "showbackground": true,
            "ticks": "",
            "zerolinecolor": "#EBF0F8"
           }
          },
          "shapedefaults": {
           "line": {
            "color": "#2a3f5f"
           }
          },
          "ternary": {
           "aaxis": {
            "gridcolor": "#DFE8F3",
            "linecolor": "#A2B1C6",
            "ticks": ""
           },
           "baxis": {
            "gridcolor": "#DFE8F3",
            "linecolor": "#A2B1C6",
            "ticks": ""
           },
           "bgcolor": "white",
           "caxis": {
            "gridcolor": "#DFE8F3",
            "linecolor": "#A2B1C6",
            "ticks": ""
           }
          },
          "title": {
           "x": 0.05
          },
          "xaxis": {
           "automargin": true,
           "gridcolor": "#EBF0F8",
           "linecolor": "#EBF0F8",
           "ticks": "",
           "title": {
            "standoff": 15
           },
           "zerolinecolor": "#EBF0F8",
           "zerolinewidth": 2
          },
          "yaxis": {
           "automargin": true,
           "gridcolor": "#EBF0F8",
           "linecolor": "#EBF0F8",
           "ticks": "",
           "title": {
            "standoff": 15
           },
           "zerolinecolor": "#EBF0F8",
           "zerolinewidth": 2
          }
         }
        },
        "title": {
         "text": "📊 Dashboard: Sales, Profit, and Global Metrics"
        },
        "width": 1000,
        "xaxis": {
         "anchor": "y",
         "domain": [
          0,
          0.45
         ]
        },
        "xaxis2": {
         "anchor": "y2",
         "domain": [
          0.55,
          1
         ]
        },
        "xaxis3": {
         "anchor": "y3",
         "domain": [
          0,
          0.45
         ]
        },
        "xaxis4": {
         "anchor": "y4",
         "domain": [
          0.55,
          1
         ]
        },
        "yaxis": {
         "anchor": "x",
         "domain": [
          0.55,
          1
         ]
        },
        "yaxis2": {
         "anchor": "x2",
         "domain": [
          0.55,
          1
         ]
        },
        "yaxis3": {
         "anchor": "x3",
         "domain": [
          0,
          0.45
         ]
        },
        "yaxis4": {
         "anchor": "x4",
         "domain": [
          0,
          0.45
         ]
        }
       }
      }
     },
     "metadata": {},
     "output_type": "display_data"
    }
   ],
   "source": [
    "# 🧱 Create 2×2 Subplot Dashboard\n",
    "\n",
    "fig = create_subplots(\n",
    "    rows=2,\n",
    "    cols=2,\n",
    "    subplot_titles=[\n",
    "        \"Sales by Category\",\n",
    "        \"Profit Distribution (Box)\",\n",
    "        \"GDP per Capita by Country\",\n",
    "        \"Life Expectancy Distribution\"\n",
    "    ]\n",
    ")\n",
    "\n",
    "# Top-left: Sales by Category\n",
    "bar_data = store_df.groupby(\"Category\")[\"Sales\"].sum().reset_index()\n",
    "trace1 = go.Bar(x=bar_data[\"Category\"], y=bar_data[\"Sales\"], name=\"Sales\")\n",
    "add_trace_to_subplot(fig, trace1, row=1, col=1)\n",
    "\n",
    "# Top-right: Profit Box\n",
    "trace2 = go.Box(x=store_df[\"Category\"], y=store_df[\"Profit\"], name=\"Profit\")\n",
    "add_trace_to_subplot(fig, trace2, row=1, col=2)\n",
    "\n",
    "# Bottom-left: GDP Histogram\n",
    "trace3 = go.Histogram(x=world_df[\"GDP_per_capita\"], nbinsx=20, name=\"GDP\")\n",
    "add_trace_to_subplot(fig, trace3, row=2, col=1)\n",
    "\n",
    "# Bottom-right: Life Expectancy Violin Plot\n",
    "trace4 = go.Violin(y=world_df[\"Life_Expectancy\"], box_visible=True, meanline_visible=True, name=\"Life Exp\")\n",
    "add_trace_to_subplot(fig, trace4, row=2, col=2)\n",
    "\n",
    "# Layout tweaks\n",
    "fig = update_subplot_layout(fig, title=\"📊 Dashboard: Sales, Profit, and Global Metrics\", height=800)\n",
    "fig = apply_dashboard_margins(fig)\n",
    "fig.show()\n"
   ]
  },
  {
   "cell_type": "code",
   "execution_count": 4,
   "id": "f62a0a10",
   "metadata": {},
   "outputs": [
    {
     "data": {
      "application/vnd.plotly.v1+json": {
       "config": {
        "plotlyServerURL": "https://plot.ly"
       },
       "data": [
        {
         "name": "Sales",
         "type": "bar",
         "x": [
          "Accessories",
          "Binders",
          "Bookcases",
          "Chairs",
          "Laptops",
          "Paper",
          "Pens",
          "Phones",
          "Tables"
         ],
         "xaxis": "x",
         "y": {
          "bdata": "CtejcAGD8EBcj8L14FboQBSuR+Gy3OhA4XoUrhe06EDsUbgelVXxQM3MzMy0GepAXI/C9dD77EDsUbgeDVfsQGZmZmam4OtA",
          "dtype": "f8"
         },
         "yaxis": "y"
        },
        {
         "marker": {
          "color": "green"
         },
         "name": "Profit",
         "type": "bar",
         "x": [
          "Accessories",
          "Binders",
          "Bookcases",
          "Chairs",
          "Laptops",
          "Paper",
          "Pens",
          "Phones",
          "Tables"
         ],
         "xaxis": "x2",
         "y": {
          "bdata": "16NwPequyEBmZmZm5qzDQD0K16PwZ8dAcT0K1wPfw0AAAAAAQIbLQD0K16NwtMVAcT0K18OBxkAUrkfhelDFQMP1KFyPIcVA",
          "dtype": "f8"
         },
         "yaxis": "y2"
        }
       ],
       "layout": {
        "annotations": [
         {
          "font": {
           "size": 16
          },
          "showarrow": false,
          "text": "Sales by SubCategory",
          "x": 0.2125,
          "xanchor": "center",
          "xref": "paper",
          "y": 1,
          "yanchor": "bottom",
          "yref": "paper"
         },
         {
          "font": {
           "size": 16
          },
          "showarrow": false,
          "text": "Profit by SubCategory",
          "x": 0.7875,
          "xanchor": "center",
          "xref": "paper",
          "y": 1,
          "yanchor": "bottom",
          "yref": "paper"
         }
        ],
        "height": 600,
        "margin": {
         "b": 40,
         "l": 30,
         "r": 30,
         "t": 60
        },
        "showlegend": true,
        "template": {
         "data": {
          "bar": [
           {
            "error_x": {
             "color": "#2a3f5f"
            },
            "error_y": {
             "color": "#2a3f5f"
            },
            "marker": {
             "line": {
              "color": "white",
              "width": 0.5
             },
             "pattern": {
              "fillmode": "overlay",
              "size": 10,
              "solidity": 0.2
             }
            },
            "type": "bar"
           }
          ],
          "barpolar": [
           {
            "marker": {
             "line": {
              "color": "white",
              "width": 0.5
             },
             "pattern": {
              "fillmode": "overlay",
              "size": 10,
              "solidity": 0.2
             }
            },
            "type": "barpolar"
           }
          ],
          "carpet": [
           {
            "aaxis": {
             "endlinecolor": "#2a3f5f",
             "gridcolor": "#C8D4E3",
             "linecolor": "#C8D4E3",
             "minorgridcolor": "#C8D4E3",
             "startlinecolor": "#2a3f5f"
            },
            "baxis": {
             "endlinecolor": "#2a3f5f",
             "gridcolor": "#C8D4E3",
             "linecolor": "#C8D4E3",
             "minorgridcolor": "#C8D4E3",
             "startlinecolor": "#2a3f5f"
            },
            "type": "carpet"
           }
          ],
          "choropleth": [
           {
            "colorbar": {
             "outlinewidth": 0,
             "ticks": ""
            },
            "type": "choropleth"
           }
          ],
          "contour": [
           {
            "colorbar": {
             "outlinewidth": 0,
             "ticks": ""
            },
            "colorscale": [
             [
              0,
              "#0d0887"
             ],
             [
              0.1111111111111111,
              "#46039f"
             ],
             [
              0.2222222222222222,
              "#7201a8"
             ],
             [
              0.3333333333333333,
              "#9c179e"
             ],
             [
              0.4444444444444444,
              "#bd3786"
             ],
             [
              0.5555555555555556,
              "#d8576b"
             ],
             [
              0.6666666666666666,
              "#ed7953"
             ],
             [
              0.7777777777777778,
              "#fb9f3a"
             ],
             [
              0.8888888888888888,
              "#fdca26"
             ],
             [
              1,
              "#f0f921"
             ]
            ],
            "type": "contour"
           }
          ],
          "contourcarpet": [
           {
            "colorbar": {
             "outlinewidth": 0,
             "ticks": ""
            },
            "type": "contourcarpet"
           }
          ],
          "heatmap": [
           {
            "colorbar": {
             "outlinewidth": 0,
             "ticks": ""
            },
            "colorscale": [
             [
              0,
              "#0d0887"
             ],
             [
              0.1111111111111111,
              "#46039f"
             ],
             [
              0.2222222222222222,
              "#7201a8"
             ],
             [
              0.3333333333333333,
              "#9c179e"
             ],
             [
              0.4444444444444444,
              "#bd3786"
             ],
             [
              0.5555555555555556,
              "#d8576b"
             ],
             [
              0.6666666666666666,
              "#ed7953"
             ],
             [
              0.7777777777777778,
              "#fb9f3a"
             ],
             [
              0.8888888888888888,
              "#fdca26"
             ],
             [
              1,
              "#f0f921"
             ]
            ],
            "type": "heatmap"
           }
          ],
          "histogram": [
           {
            "marker": {
             "pattern": {
              "fillmode": "overlay",
              "size": 10,
              "solidity": 0.2
             }
            },
            "type": "histogram"
           }
          ],
          "histogram2d": [
           {
            "colorbar": {
             "outlinewidth": 0,
             "ticks": ""
            },
            "colorscale": [
             [
              0,
              "#0d0887"
             ],
             [
              0.1111111111111111,
              "#46039f"
             ],
             [
              0.2222222222222222,
              "#7201a8"
             ],
             [
              0.3333333333333333,
              "#9c179e"
             ],
             [
              0.4444444444444444,
              "#bd3786"
             ],
             [
              0.5555555555555556,
              "#d8576b"
             ],
             [
              0.6666666666666666,
              "#ed7953"
             ],
             [
              0.7777777777777778,
              "#fb9f3a"
             ],
             [
              0.8888888888888888,
              "#fdca26"
             ],
             [
              1,
              "#f0f921"
             ]
            ],
            "type": "histogram2d"
           }
          ],
          "histogram2dcontour": [
           {
            "colorbar": {
             "outlinewidth": 0,
             "ticks": ""
            },
            "colorscale": [
             [
              0,
              "#0d0887"
             ],
             [
              0.1111111111111111,
              "#46039f"
             ],
             [
              0.2222222222222222,
              "#7201a8"
             ],
             [
              0.3333333333333333,
              "#9c179e"
             ],
             [
              0.4444444444444444,
              "#bd3786"
             ],
             [
              0.5555555555555556,
              "#d8576b"
             ],
             [
              0.6666666666666666,
              "#ed7953"
             ],
             [
              0.7777777777777778,
              "#fb9f3a"
             ],
             [
              0.8888888888888888,
              "#fdca26"
             ],
             [
              1,
              "#f0f921"
             ]
            ],
            "type": "histogram2dcontour"
           }
          ],
          "mesh3d": [
           {
            "colorbar": {
             "outlinewidth": 0,
             "ticks": ""
            },
            "type": "mesh3d"
           }
          ],
          "parcoords": [
           {
            "line": {
             "colorbar": {
              "outlinewidth": 0,
              "ticks": ""
             }
            },
            "type": "parcoords"
           }
          ],
          "pie": [
           {
            "automargin": true,
            "type": "pie"
           }
          ],
          "scatter": [
           {
            "fillpattern": {
             "fillmode": "overlay",
             "size": 10,
             "solidity": 0.2
            },
            "type": "scatter"
           }
          ],
          "scatter3d": [
           {
            "line": {
             "colorbar": {
              "outlinewidth": 0,
              "ticks": ""
             }
            },
            "marker": {
             "colorbar": {
              "outlinewidth": 0,
              "ticks": ""
             }
            },
            "type": "scatter3d"
           }
          ],
          "scattercarpet": [
           {
            "marker": {
             "colorbar": {
              "outlinewidth": 0,
              "ticks": ""
             }
            },
            "type": "scattercarpet"
           }
          ],
          "scattergeo": [
           {
            "marker": {
             "colorbar": {
              "outlinewidth": 0,
              "ticks": ""
             }
            },
            "type": "scattergeo"
           }
          ],
          "scattergl": [
           {
            "marker": {
             "colorbar": {
              "outlinewidth": 0,
              "ticks": ""
             }
            },
            "type": "scattergl"
           }
          ],
          "scattermap": [
           {
            "marker": {
             "colorbar": {
              "outlinewidth": 0,
              "ticks": ""
             }
            },
            "type": "scattermap"
           }
          ],
          "scattermapbox": [
           {
            "marker": {
             "colorbar": {
              "outlinewidth": 0,
              "ticks": ""
             }
            },
            "type": "scattermapbox"
           }
          ],
          "scatterpolar": [
           {
            "marker": {
             "colorbar": {
              "outlinewidth": 0,
              "ticks": ""
             }
            },
            "type": "scatterpolar"
           }
          ],
          "scatterpolargl": [
           {
            "marker": {
             "colorbar": {
              "outlinewidth": 0,
              "ticks": ""
             }
            },
            "type": "scatterpolargl"
           }
          ],
          "scatterternary": [
           {
            "marker": {
             "colorbar": {
              "outlinewidth": 0,
              "ticks": ""
             }
            },
            "type": "scatterternary"
           }
          ],
          "surface": [
           {
            "colorbar": {
             "outlinewidth": 0,
             "ticks": ""
            },
            "colorscale": [
             [
              0,
              "#0d0887"
             ],
             [
              0.1111111111111111,
              "#46039f"
             ],
             [
              0.2222222222222222,
              "#7201a8"
             ],
             [
              0.3333333333333333,
              "#9c179e"
             ],
             [
              0.4444444444444444,
              "#bd3786"
             ],
             [
              0.5555555555555556,
              "#d8576b"
             ],
             [
              0.6666666666666666,
              "#ed7953"
             ],
             [
              0.7777777777777778,
              "#fb9f3a"
             ],
             [
              0.8888888888888888,
              "#fdca26"
             ],
             [
              1,
              "#f0f921"
             ]
            ],
            "type": "surface"
           }
          ],
          "table": [
           {
            "cells": {
             "fill": {
              "color": "#EBF0F8"
             },
             "line": {
              "color": "white"
             }
            },
            "header": {
             "fill": {
              "color": "#C8D4E3"
             },
             "line": {
              "color": "white"
             }
            },
            "type": "table"
           }
          ]
         },
         "layout": {
          "annotationdefaults": {
           "arrowcolor": "#2a3f5f",
           "arrowhead": 0,
           "arrowwidth": 1
          },
          "autotypenumbers": "strict",
          "coloraxis": {
           "colorbar": {
            "outlinewidth": 0,
            "ticks": ""
           }
          },
          "colorscale": {
           "diverging": [
            [
             0,
             "#8e0152"
            ],
            [
             0.1,
             "#c51b7d"
            ],
            [
             0.2,
             "#de77ae"
            ],
            [
             0.3,
             "#f1b6da"
            ],
            [
             0.4,
             "#fde0ef"
            ],
            [
             0.5,
             "#f7f7f7"
            ],
            [
             0.6,
             "#e6f5d0"
            ],
            [
             0.7,
             "#b8e186"
            ],
            [
             0.8,
             "#7fbc41"
            ],
            [
             0.9,
             "#4d9221"
            ],
            [
             1,
             "#276419"
            ]
           ],
           "sequential": [
            [
             0,
             "#0d0887"
            ],
            [
             0.1111111111111111,
             "#46039f"
            ],
            [
             0.2222222222222222,
             "#7201a8"
            ],
            [
             0.3333333333333333,
             "#9c179e"
            ],
            [
             0.4444444444444444,
             "#bd3786"
            ],
            [
             0.5555555555555556,
             "#d8576b"
            ],
            [
             0.6666666666666666,
             "#ed7953"
            ],
            [
             0.7777777777777778,
             "#fb9f3a"
            ],
            [
             0.8888888888888888,
             "#fdca26"
            ],
            [
             1,
             "#f0f921"
            ]
           ],
           "sequentialminus": [
            [
             0,
             "#0d0887"
            ],
            [
             0.1111111111111111,
             "#46039f"
            ],
            [
             0.2222222222222222,
             "#7201a8"
            ],
            [
             0.3333333333333333,
             "#9c179e"
            ],
            [
             0.4444444444444444,
             "#bd3786"
            ],
            [
             0.5555555555555556,
             "#d8576b"
            ],
            [
             0.6666666666666666,
             "#ed7953"
            ],
            [
             0.7777777777777778,
             "#fb9f3a"
            ],
            [
             0.8888888888888888,
             "#fdca26"
            ],
            [
             1,
             "#f0f921"
            ]
           ]
          },
          "colorway": [
           "#636efa",
           "#EF553B",
           "#00cc96",
           "#ab63fa",
           "#FFA15A",
           "#19d3f3",
           "#FF6692",
           "#B6E880",
           "#FF97FF",
           "#FECB52"
          ],
          "font": {
           "color": "#2a3f5f"
          },
          "geo": {
           "bgcolor": "white",
           "lakecolor": "white",
           "landcolor": "white",
           "showlakes": true,
           "showland": true,
           "subunitcolor": "#C8D4E3"
          },
          "hoverlabel": {
           "align": "left"
          },
          "hovermode": "closest",
          "mapbox": {
           "style": "light"
          },
          "paper_bgcolor": "white",
          "plot_bgcolor": "white",
          "polar": {
           "angularaxis": {
            "gridcolor": "#EBF0F8",
            "linecolor": "#EBF0F8",
            "ticks": ""
           },
           "bgcolor": "white",
           "radialaxis": {
            "gridcolor": "#EBF0F8",
            "linecolor": "#EBF0F8",
            "ticks": ""
           }
          },
          "scene": {
           "xaxis": {
            "backgroundcolor": "white",
            "gridcolor": "#DFE8F3",
            "gridwidth": 2,
            "linecolor": "#EBF0F8",
            "showbackground": true,
            "ticks": "",
            "zerolinecolor": "#EBF0F8"
           },
           "yaxis": {
            "backgroundcolor": "white",
            "gridcolor": "#DFE8F3",
            "gridwidth": 2,
            "linecolor": "#EBF0F8",
            "showbackground": true,
            "ticks": "",
            "zerolinecolor": "#EBF0F8"
           },
           "zaxis": {
            "backgroundcolor": "white",
            "gridcolor": "#DFE8F3",
            "gridwidth": 2,
            "linecolor": "#EBF0F8",
            "showbackground": true,
            "ticks": "",
            "zerolinecolor": "#EBF0F8"
           }
          },
          "shapedefaults": {
           "line": {
            "color": "#2a3f5f"
           }
          },
          "ternary": {
           "aaxis": {
            "gridcolor": "#DFE8F3",
            "linecolor": "#A2B1C6",
            "ticks": ""
           },
           "baxis": {
            "gridcolor": "#DFE8F3",
            "linecolor": "#A2B1C6",
            "ticks": ""
           },
           "bgcolor": "white",
           "caxis": {
            "gridcolor": "#DFE8F3",
            "linecolor": "#A2B1C6",
            "ticks": ""
           }
          },
          "title": {
           "x": 0.05
          },
          "xaxis": {
           "automargin": true,
           "gridcolor": "#EBF0F8",
           "linecolor": "#EBF0F8",
           "ticks": "",
           "title": {
            "standoff": 15
           },
           "zerolinecolor": "#EBF0F8",
           "zerolinewidth": 2
          },
          "yaxis": {
           "automargin": true,
           "gridcolor": "#EBF0F8",
           "linecolor": "#EBF0F8",
           "ticks": "",
           "title": {
            "standoff": 15
           },
           "zerolinecolor": "#EBF0F8",
           "zerolinewidth": 2
          }
         }
        },
        "title": {
         "text": "📈 SubCategory KPIs – Shared X & Custom Spacing"
        },
        "width": 1000,
        "xaxis": {
         "anchor": "y",
         "domain": [
          0,
          0.425
         ]
        },
        "xaxis2": {
         "anchor": "y2",
         "domain": [
          0.575,
          1
         ]
        },
        "yaxis": {
         "anchor": "x",
         "domain": [
          0,
          1
         ]
        },
        "yaxis2": {
         "anchor": "x2",
         "domain": [
          0,
          1
         ]
        }
       }
      }
     },
     "metadata": {},
     "output_type": "display_data"
    }
   ],
   "source": [
    "# 📘 1×2 Subplot: Shared X-Axis with Custom Spacing\n",
    "\n",
    "fig2 = create_subplots(\n",
    "    rows=1,\n",
    "    cols=2,\n",
    "    subplot_titles=[\"Sales by SubCategory\", \"Profit by SubCategory\"],\n",
    "    shared_x=True,\n",
    "    vertical_spacing=0.05,\n",
    "    horizontal_spacing=0.15\n",
    ")\n",
    "\n",
    "bar_data = store_df.groupby(\"SubCategory\")[[\"Sales\", \"Profit\"]].sum().reset_index()\n",
    "\n",
    "trace1 = go.Bar(x=bar_data[\"SubCategory\"], y=bar_data[\"Sales\"], name=\"Sales\")\n",
    "trace2 = go.Bar(x=bar_data[\"SubCategory\"], y=bar_data[\"Profit\"], name=\"Profit\", marker_color=\"green\")\n",
    "\n",
    "add_trace_to_subplot(fig2, trace1, row=1, col=1)\n",
    "add_trace_to_subplot(fig2, trace2, row=1, col=2)\n",
    "\n",
    "fig2 = update_subplot_layout(fig2, title=\"📈 SubCategory KPIs – Shared X & Custom Spacing\", width=1000)\n",
    "fig2 = apply_dashboard_margins(fig2, l=30, r=30, t=60, b=40)\n",
    "fig2.show()"
   ]
  },
  {
   "cell_type": "code",
   "execution_count": 5,
   "id": "39f9ab1d",
   "metadata": {},
   "outputs": [
    {
     "name": "stdout",
     "output_type": "stream",
     "text": [
      "✅ HTML saved to: /Users/satvikpraveen/Desktop/Libraries/PlotlyVizPro/exports/html/06_subplots_dashboards/dashboard_sales_global.html\n",
      "✅ PNG saved to: /Users/satvikpraveen/Desktop/Libraries/PlotlyVizPro/exports/images/06_subplots_dashboards/dashboard_sales_global.png\n",
      "✅ HTML saved to: /Users/satvikpraveen/Desktop/Libraries/PlotlyVizPro/exports/html/06_subplots_dashboards/subcategory_kpis_sharedx.html\n",
      "✅ PNG saved to: /Users/satvikpraveen/Desktop/Libraries/PlotlyVizPro/exports/images/06_subplots_dashboards/subcategory_kpis_sharedx.png\n"
     ]
    }
   ],
   "source": [
    "# 💾 Save Dashboard\n",
    "\n",
    "save_fig_as_html(fig, \"dashboard_sales_global.html\", notebook_name=NOTEBOOK_ID)\n",
    "save_fig_as_png(fig, \"dashboard_sales_global.png\", notebook_name=NOTEBOOK_ID)\n",
    "\n",
    "save_fig_as_html(fig2, \"subcategory_kpis_sharedx.html\", notebook_name=NOTEBOOK_ID)\n",
    "save_fig_as_png(fig2, \"subcategory_kpis_sharedx.png\", notebook_name=NOTEBOOK_ID)"
   ]
  },
  {
   "cell_type": "markdown",
   "id": "cd0f90e8",
   "metadata": {},
   "source": [
    "## ✅ Summary:\n",
    "- Applied Plotly theme globally using `pio.templates.default`  \n",
    "- Loaded datasets: `superstore.csv` and `world_population.csv`  \n",
    "- Created a 2x2 multi-panel dashboard using bar, box, histogram, and violin plots  \n",
    "- Used subplot utilities to simplify layout and trace management  \n",
    "- Saved dashboard to `exports/html/06_subplots_dashboards/` and `exports/images/06_subplots_dashboards/`  \n",
    "\n",
    "All future notebooks will follow the same pattern for modularity and clarity.\n"
   ]
  }
 ],
 "metadata": {
  "kernelspec": {
   "display_name": "plotly_env",
   "language": "python",
   "name": "python3"
  },
  "language_info": {
   "codemirror_mode": {
    "name": "ipython",
    "version": 3
   },
   "file_extension": ".py",
   "mimetype": "text/x-python",
   "name": "python",
   "nbconvert_exporter": "python",
   "pygments_lexer": "ipython3",
   "version": "3.11.11"
  }
 },
 "nbformat": 4,
 "nbformat_minor": 5
}
